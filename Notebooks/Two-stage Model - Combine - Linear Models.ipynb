{
 "cells": [
  {
   "cell_type": "code",
   "execution_count": 1,
   "metadata": {
    "collapsed": true
   },
   "outputs": [],
   "source": [
    "import pandas as pd\n",
    "from pandas import DataFrame,Series\n",
    "import numpy as np\n",
    "import os\n",
    "import datetime\n",
    "\n",
    "#Plotting\n",
    "import matplotlib.pyplot as plt\n",
    "import matplotlib.gridspec as gridspec\n",
    "%matplotlib inline\n",
    "\n",
    "# sklearn stuff\n",
    "from sklearn.model_selection import GridSearchCV, cross_val_score\n",
    "from sklearn.metrics import confusion_matrix, mean_squared_error, precision_score\n",
    "from sklearn.preprocessing import StandardScaler, OneHotEncoder, LabelEncoder, Imputer \n",
    "from sklearn.pipeline import Pipeline, FeatureUnion\n",
    "from sklearn.base import BaseEstimator, TransformerMixin\n",
    "\n",
    "import feature_pipelines as pipes"
   ]
  },
  {
   "cell_type": "markdown",
   "metadata": {},
   "source": [
    "### Reading in data"
   ]
  },
  {
   "cell_type": "code",
   "execution_count": 2,
   "metadata": {
    "collapsed": false
   },
   "outputs": [],
   "source": [
    "maindir = \"/home/anerdi/Desktop/Zillow\"\n",
    "\n",
    "logerror = pd.read_csv(maindir + \"/data/train_2016_v2.csv/train_2016_v2.csv\")\n",
    "logerror['weeknumber'] = logerror['transactiondate'].apply(lambda x: datetime.datetime.strptime(x,'%Y-%m-%d').isocalendar()[1])\n",
    "logerror['month'] = logerror['transactiondate'].apply(lambda x: datetime.datetime.strptime(x,'%Y-%m-%d').month)\n",
    "properties = pd.read_csv(maindir + \"/data/properties_2016.csv/properties_2016.csv\", usecols=['parcelid'])"
   ]
  },
  {
   "cell_type": "code",
   "execution_count": 3,
   "metadata": {
    "collapsed": true
   },
   "outputs": [],
   "source": [
    "# join on parcel id\n",
    "data = pd.merge(properties,logerror[['parcelid','logerror','month']], on='parcelid')"
   ]
  },
  {
   "cell_type": "code",
   "execution_count": 4,
   "metadata": {
    "collapsed": true
   },
   "outputs": [],
   "source": [
    "def mean_absolute_errors(submission_df, comparison_df):\n",
    "    \"\"\"\n",
    "    This function takes a submission entry for public leaderboard, and returns\n",
    "    the training error for each month.\n",
    "    \"\"\"\n",
    "    # training error\n",
    "    trainresults = pd.merge(submission_df[['ParcelId','201610','201611','201612']], comparison_df[['parcelid','logerror','month']],\n",
    "                           left_on='ParcelId', right_on='parcelid')\n",
    "    oct_error = abs(trainresults[trainresults['month'] == 10]['201610'] \n",
    "                    - trainresults[trainresults['month'] == 10]['logerror']).mean()\n",
    "    nov_error = abs(trainresults[trainresults['month'] == 11]['201611'] \n",
    "                    - trainresults[trainresults['month'] == 11]['logerror']).mean()\n",
    "    dec_error = abs(trainresults[trainresults['month'] == 12]['201612'] \n",
    "                    - trainresults[trainresults['month'] == 12]['logerror']).mean()\n",
    "    overall_mae = (oct_error*(trainresults['month'] == 10).sum() + nov_error*(trainresults['month'] == 11).sum() \n",
    "                        + dec_error*(trainresults['month'] == 12).sum()) / (trainresults['month'].isin([10,11,12])).sum()\n",
    "    return (oct_error, nov_error, dec_error, overall_mae)"
   ]
  },
  {
   "cell_type": "markdown",
   "metadata": {},
   "source": [
    "### Readin stage 1 classification results "
   ]
  },
  {
   "cell_type": "code",
   "execution_count": 5,
   "metadata": {
    "collapsed": false
   },
   "outputs": [
    {
     "data": {
      "text/html": [
       "<div>\n",
       "<style>\n",
       "    .dataframe thead tr:only-child th {\n",
       "        text-align: right;\n",
       "    }\n",
       "\n",
       "    .dataframe thead th {\n",
       "        text-align: left;\n",
       "    }\n",
       "\n",
       "    .dataframe tbody tr th {\n",
       "        vertical-align: top;\n",
       "    }\n",
       "</style>\n",
       "<table border=\"1\" class=\"dataframe\">\n",
       "  <thead>\n",
       "    <tr style=\"text-align: right;\">\n",
       "      <th></th>\n",
       "      <th>parcelid</th>\n",
       "      <th>ann_overestimate_prob</th>\n",
       "      <th>rf2_overestimate_prob</th>\n",
       "      <th>rf3_overestimate_prob</th>\n",
       "      <th>overestimate_prob</th>\n",
       "    </tr>\n",
       "  </thead>\n",
       "  <tbody>\n",
       "    <tr>\n",
       "      <th>0</th>\n",
       "      <td>10754147</td>\n",
       "      <td>0.469632</td>\n",
       "      <td>0.466012</td>\n",
       "      <td>0.495383</td>\n",
       "      <td>0.479207</td>\n",
       "    </tr>\n",
       "    <tr>\n",
       "      <th>1</th>\n",
       "      <td>10759547</td>\n",
       "      <td>0.406392</td>\n",
       "      <td>0.555562</td>\n",
       "      <td>0.524675</td>\n",
       "      <td>0.475759</td>\n",
       "    </tr>\n",
       "    <tr>\n",
       "      <th>2</th>\n",
       "      <td>10843547</td>\n",
       "      <td>0.880731</td>\n",
       "      <td>0.548264</td>\n",
       "      <td>0.548752</td>\n",
       "      <td>0.732975</td>\n",
       "    </tr>\n",
       "    <tr>\n",
       "      <th>3</th>\n",
       "      <td>10859147</td>\n",
       "      <td>0.569588</td>\n",
       "      <td>0.663067</td>\n",
       "      <td>0.543329</td>\n",
       "      <td>0.602100</td>\n",
       "    </tr>\n",
       "    <tr>\n",
       "      <th>4</th>\n",
       "      <td>10879947</td>\n",
       "      <td>0.540791</td>\n",
       "      <td>0.519636</td>\n",
       "      <td>0.485341</td>\n",
       "      <td>0.531297</td>\n",
       "    </tr>\n",
       "  </tbody>\n",
       "</table>\n",
       "</div>"
      ],
      "text/plain": [
       "   parcelid  ann_overestimate_prob  rf2_overestimate_prob  \\\n",
       "0  10754147               0.469632               0.466012   \n",
       "1  10759547               0.406392               0.555562   \n",
       "2  10843547               0.880731               0.548264   \n",
       "3  10859147               0.569588               0.663067   \n",
       "4  10879947               0.540791               0.519636   \n",
       "\n",
       "   rf3_overestimate_prob  overestimate_prob  \n",
       "0               0.495383           0.479207  \n",
       "1               0.524675           0.475759  \n",
       "2               0.548752           0.732975  \n",
       "3               0.543329           0.602100  \n",
       "4               0.485341           0.531297  "
      ]
     },
     "execution_count": 5,
     "metadata": {},
     "output_type": "execute_result"
    }
   ],
   "source": [
    "overestimate_probabilities = pd.read_csv(\"/home/anerdi/Desktop/Zillow/twostagemodel/overestimate_probs_stacked_ann_rfs.csv.gz\",\n",
    "                                        compression='gzip')\n",
    "overestimate_probabilities.rename(columns={'stacked_pred':'overestimate_prob'},inplace=True)\n",
    "overestimate_probabilities.head()"
   ]
  },
  {
   "cell_type": "markdown",
   "metadata": {},
   "source": [
    "### Readin two-stage linear model predictions "
   ]
  },
  {
   "cell_type": "code",
   "execution_count": 6,
   "metadata": {
    "collapsed": false
   },
   "outputs": [
    {
     "data": {
      "text/html": [
       "<div>\n",
       "<style>\n",
       "    .dataframe thead tr:only-child th {\n",
       "        text-align: right;\n",
       "    }\n",
       "\n",
       "    .dataframe thead th {\n",
       "        text-align: left;\n",
       "    }\n",
       "\n",
       "    .dataframe tbody tr th {\n",
       "        vertical-align: top;\n",
       "    }\n",
       "</style>\n",
       "<table border=\"1\" class=\"dataframe\">\n",
       "  <thead>\n",
       "    <tr style=\"text-align: right;\">\n",
       "      <th></th>\n",
       "      <th>parcelid</th>\n",
       "      <th>ridge_under</th>\n",
       "      <th>ridge_over</th>\n",
       "      <th>enet_under</th>\n",
       "      <th>enet_over</th>\n",
       "      <th>lasso_under</th>\n",
       "      <th>lasso_over</th>\n",
       "      <th>larm_under</th>\n",
       "      <th>larm_over</th>\n",
       "      <th>huber_under</th>\n",
       "      <th>huber_over</th>\n",
       "    </tr>\n",
       "  </thead>\n",
       "  <tbody>\n",
       "    <tr>\n",
       "      <th>0</th>\n",
       "      <td>10754147</td>\n",
       "      <td>0.027747</td>\n",
       "      <td>5.170251</td>\n",
       "      <td>-0.068398</td>\n",
       "      <td>0.073391</td>\n",
       "      <td>-0.068158</td>\n",
       "      <td>0.073282</td>\n",
       "      <td>-0.064499</td>\n",
       "      <td>0.071395</td>\n",
       "      <td>-0.062325</td>\n",
       "      <td>0.062914</td>\n",
       "    </tr>\n",
       "    <tr>\n",
       "      <th>1</th>\n",
       "      <td>10759547</td>\n",
       "      <td>-0.083810</td>\n",
       "      <td>0.085823</td>\n",
       "      <td>-0.068398</td>\n",
       "      <td>0.073391</td>\n",
       "      <td>-0.068158</td>\n",
       "      <td>0.073282</td>\n",
       "      <td>-0.064499</td>\n",
       "      <td>0.071395</td>\n",
       "      <td>-0.061620</td>\n",
       "      <td>0.062129</td>\n",
       "    </tr>\n",
       "    <tr>\n",
       "      <th>2</th>\n",
       "      <td>10843547</td>\n",
       "      <td>-0.874368</td>\n",
       "      <td>0.932315</td>\n",
       "      <td>-0.413808</td>\n",
       "      <td>0.560253</td>\n",
       "      <td>-0.300357</td>\n",
       "      <td>0.458923</td>\n",
       "      <td>-0.064499</td>\n",
       "      <td>0.071395</td>\n",
       "      <td>-2.651445</td>\n",
       "      <td>2.897989</td>\n",
       "    </tr>\n",
       "    <tr>\n",
       "      <th>3</th>\n",
       "      <td>10859147</td>\n",
       "      <td>-0.124433</td>\n",
       "      <td>0.121149</td>\n",
       "      <td>-0.091428</td>\n",
       "      <td>0.098976</td>\n",
       "      <td>-0.087674</td>\n",
       "      <td>0.095881</td>\n",
       "      <td>-0.064499</td>\n",
       "      <td>0.071395</td>\n",
       "      <td>-0.171291</td>\n",
       "      <td>0.169300</td>\n",
       "    </tr>\n",
       "    <tr>\n",
       "      <th>4</th>\n",
       "      <td>10879947</td>\n",
       "      <td>-0.084294</td>\n",
       "      <td>0.083876</td>\n",
       "      <td>-0.068759</td>\n",
       "      <td>0.073458</td>\n",
       "      <td>-0.068661</td>\n",
       "      <td>0.073484</td>\n",
       "      <td>-0.064499</td>\n",
       "      <td>0.071395</td>\n",
       "      <td>-0.060274</td>\n",
       "      <td>0.059823</td>\n",
       "    </tr>\n",
       "  </tbody>\n",
       "</table>\n",
       "</div>"
      ],
      "text/plain": [
       "   parcelid  ridge_under  ridge_over  enet_under  enet_over  lasso_under  \\\n",
       "0  10754147     0.027747    5.170251   -0.068398   0.073391    -0.068158   \n",
       "1  10759547    -0.083810    0.085823   -0.068398   0.073391    -0.068158   \n",
       "2  10843547    -0.874368    0.932315   -0.413808   0.560253    -0.300357   \n",
       "3  10859147    -0.124433    0.121149   -0.091428   0.098976    -0.087674   \n",
       "4  10879947    -0.084294    0.083876   -0.068759   0.073458    -0.068661   \n",
       "\n",
       "   lasso_over  larm_under  larm_over  huber_under  huber_over  \n",
       "0    0.073282   -0.064499   0.071395    -0.062325    0.062914  \n",
       "1    0.073282   -0.064499   0.071395    -0.061620    0.062129  \n",
       "2    0.458923   -0.064499   0.071395    -2.651445    2.897989  \n",
       "3    0.095881   -0.064499   0.071395    -0.171291    0.169300  \n",
       "4    0.073484   -0.064499   0.071395    -0.060274    0.059823  "
      ]
     },
     "execution_count": 6,
     "metadata": {},
     "output_type": "execute_result"
    }
   ],
   "source": [
    "two_stage_linear_models = pd.read_csv(\"/home/anerdi/Desktop/Zillow/twostagemodel/two_stage_preds_linear_models.csv.gz\",\n",
    "                       compression='gzip')\n",
    "two_stage_linear_models.head()"
   ]
  },
  {
   "cell_type": "markdown",
   "metadata": {},
   "source": [
    "### Readin original linear models (i.e., one stage models) "
   ]
  },
  {
   "cell_type": "code",
   "execution_count": 7,
   "metadata": {
    "collapsed": false
   },
   "outputs": [],
   "source": [
    "ridge = pd.read_csv(\"/home/anerdi/Desktop/Zillow/submissions/Ridge.gz\")\n",
    "lasso = pd.read_csv(\"/home/anerdi/Desktop/Zillow/submissions/Lasso.gz\")\n",
    "enet = pd.read_csv(\"/home/anerdi/Desktop/Zillow/submissions/ElasticNet.gz\")\n",
    "larm = pd.read_csv(\"/home/anerdi/Desktop/Zillow/submissions/LARM.gz\")\n",
    "huber = pd.read_csv(\"/home/anerdi/Desktop/Zillow/submissions/Huber_noweight.gz\")"
   ]
  },
  {
   "cell_type": "code",
   "execution_count": 8,
   "metadata": {
    "collapsed": true
   },
   "outputs": [],
   "source": [
    "models = [\n",
    "    ('ridge', ridge),\n",
    "    ('lasso', lasso),\n",
    "    ('enet', enet),\n",
    "    ('larm', larm),\n",
    "    ('huber', huber)\n",
    "         ]"
   ]
  },
  {
   "cell_type": "markdown",
   "metadata": {},
   "source": [
    "### Combine preds & overestimate probabilities to generate one prediction "
   ]
  },
  {
   "cell_type": "code",
   "execution_count": 9,
   "metadata": {
    "collapsed": false
   },
   "outputs": [
    {
     "data": {
      "text/plain": [
       "count    2.985217e+06\n",
       "mean     5.628201e-01\n",
       "std      6.665927e-02\n",
       "min      2.171894e-01\n",
       "25%      5.216461e-01\n",
       "50%      5.640104e-01\n",
       "75%      6.057195e-01\n",
       "max      8.389546e-01\n",
       "Name: overestimate_prob, dtype: float64"
      ]
     },
     "execution_count": 9,
     "metadata": {},
     "output_type": "execute_result"
    }
   ],
   "source": [
    "overestimate_probabilities.overestimate_prob.describe()"
   ]
  },
  {
   "cell_type": "code",
   "execution_count": 10,
   "metadata": {
    "collapsed": true
   },
   "outputs": [],
   "source": [
    "# set cutoffs for when to use over/under estimate models\n",
    "underestimate_cutoff = 0.20\n",
    "overestimate_cutoff = 0.80"
   ]
  },
  {
   "cell_type": "code",
   "execution_count": 11,
   "metadata": {
    "collapsed": true
   },
   "outputs": [],
   "source": [
    "test_predictions = pd.merge(two_stage_linear_models, overestimate_probabilities, on='parcelid')"
   ]
  },
  {
   "cell_type": "code",
   "execution_count": 12,
   "metadata": {
    "collapsed": false
   },
   "outputs": [],
   "source": [
    "for model_pair in models:\n",
    "    model_name, single_stage_model_results = model_pair\n",
    "    \n",
    "    # combine over and under to get prediction (method 1 (M1): use only under/over models and estimated probs)\n",
    "    test_predictions[\"m1_%s\" % model_name] = (test_predictions['%s_over' % model_name]*test_predictions['overestimate_prob'] +\n",
    "                    test_predictions['%s_under' % model_name]*(1 - test_predictions['overestimate_prob']))\n",
    "    \n",
    "    # combine over and under to get prediction (method 2 (M2): use only under/over models and estimated probs)\n",
    "    test_predictions[\"m2_%s\" % model_name] = np.where(((test_predictions['overestimate_prob'] < underestimate_cutoff) | \n",
    "                                                      (test_predictions['overestimate_prob'] > overestimate_cutoff)),\n",
    "        test_predictions['m1_%s' % model_name],single_stage_model_results['201610'])\n",
    "    \n",
    "    \n",
    "#     # combine over and under to get prediction (method 2 (M2): use under/over models, estimated probs, and single-stage models)\n",
    "#     test_predictions[\"m2_%s\" % model_name] = ((test_predictions['overestimate_prob'] < underestimate_cutoff)*test_predictions['%s_under' % model_name] \n",
    "#         + (test_predictions['overestimate_prob'] > overestimate_cutoff)*test_predictions['%s_over' % model_name]\n",
    "#         + ((test_predictions['overestimate_prob'] >= underestimate_cutoff) | (test_predictions['overestimate_prob'] <= overestimate_cutoff))*single_stage_model_results['201610']\n",
    "#     )"
   ]
  },
  {
   "cell_type": "code",
   "execution_count": 13,
   "metadata": {
    "collapsed": false
   },
   "outputs": [
    {
     "data": {
      "text/html": [
       "<div>\n",
       "<style>\n",
       "    .dataframe thead tr:only-child th {\n",
       "        text-align: right;\n",
       "    }\n",
       "\n",
       "    .dataframe thead th {\n",
       "        text-align: left;\n",
       "    }\n",
       "\n",
       "    .dataframe tbody tr th {\n",
       "        vertical-align: top;\n",
       "    }\n",
       "</style>\n",
       "<table border=\"1\" class=\"dataframe\">\n",
       "  <thead>\n",
       "    <tr style=\"text-align: right;\">\n",
       "      <th></th>\n",
       "      <th>parcelid</th>\n",
       "      <th>ridge_under</th>\n",
       "      <th>ridge_over</th>\n",
       "      <th>enet_under</th>\n",
       "      <th>enet_over</th>\n",
       "      <th>lasso_under</th>\n",
       "      <th>lasso_over</th>\n",
       "      <th>larm_under</th>\n",
       "      <th>larm_over</th>\n",
       "      <th>huber_under</th>\n",
       "      <th>...</th>\n",
       "      <th>m1_ridge</th>\n",
       "      <th>m2_ridge</th>\n",
       "      <th>m1_lasso</th>\n",
       "      <th>m2_lasso</th>\n",
       "      <th>m1_enet</th>\n",
       "      <th>m2_enet</th>\n",
       "      <th>m1_larm</th>\n",
       "      <th>m2_larm</th>\n",
       "      <th>m1_huber</th>\n",
       "      <th>m2_huber</th>\n",
       "    </tr>\n",
       "  </thead>\n",
       "  <tbody>\n",
       "    <tr>\n",
       "      <th>0</th>\n",
       "      <td>10754147</td>\n",
       "      <td>0.027747</td>\n",
       "      <td>5.170251</td>\n",
       "      <td>-0.068398</td>\n",
       "      <td>0.073391</td>\n",
       "      <td>-0.068158</td>\n",
       "      <td>0.073282</td>\n",
       "      <td>-0.064499</td>\n",
       "      <td>0.071395</td>\n",
       "      <td>-0.062325</td>\n",
       "      <td>...</td>\n",
       "      <td>2.492070</td>\n",
       "      <td>0.01341</td>\n",
       "      <td>-0.000379</td>\n",
       "      <td>0.01227</td>\n",
       "      <td>-0.000451</td>\n",
       "      <td>0.01243</td>\n",
       "      <td>0.000622</td>\n",
       "      <td>0.01146</td>\n",
       "      <td>-0.002310</td>\n",
       "      <td>0.01112</td>\n",
       "    </tr>\n",
       "    <tr>\n",
       "      <th>1</th>\n",
       "      <td>10759547</td>\n",
       "      <td>-0.083810</td>\n",
       "      <td>0.085823</td>\n",
       "      <td>-0.068398</td>\n",
       "      <td>0.073391</td>\n",
       "      <td>-0.068158</td>\n",
       "      <td>0.073282</td>\n",
       "      <td>-0.064499</td>\n",
       "      <td>0.071395</td>\n",
       "      <td>-0.061620</td>\n",
       "      <td>...</td>\n",
       "      <td>-0.003106</td>\n",
       "      <td>0.01338</td>\n",
       "      <td>-0.000867</td>\n",
       "      <td>0.01223</td>\n",
       "      <td>-0.000940</td>\n",
       "      <td>0.01240</td>\n",
       "      <td>0.000154</td>\n",
       "      <td>0.01146</td>\n",
       "      <td>-0.002745</td>\n",
       "      <td>0.01112</td>\n",
       "    </tr>\n",
       "    <tr>\n",
       "      <th>2</th>\n",
       "      <td>10843547</td>\n",
       "      <td>-0.874368</td>\n",
       "      <td>0.932315</td>\n",
       "      <td>-0.413808</td>\n",
       "      <td>0.560253</td>\n",
       "      <td>-0.300357</td>\n",
       "      <td>0.458923</td>\n",
       "      <td>-0.064499</td>\n",
       "      <td>0.071395</td>\n",
       "      <td>-2.651445</td>\n",
       "      <td>...</td>\n",
       "      <td>0.449886</td>\n",
       "      <td>0.60960</td>\n",
       "      <td>0.256176</td>\n",
       "      <td>0.37170</td>\n",
       "      <td>0.300154</td>\n",
       "      <td>0.48170</td>\n",
       "      <td>0.035108</td>\n",
       "      <td>0.01146</td>\n",
       "      <td>1.416152</td>\n",
       "      <td>0.01105</td>\n",
       "    </tr>\n",
       "    <tr>\n",
       "      <th>3</th>\n",
       "      <td>10859147</td>\n",
       "      <td>-0.124433</td>\n",
       "      <td>0.121149</td>\n",
       "      <td>-0.091428</td>\n",
       "      <td>0.098976</td>\n",
       "      <td>-0.087674</td>\n",
       "      <td>0.095881</td>\n",
       "      <td>-0.064499</td>\n",
       "      <td>0.071395</td>\n",
       "      <td>-0.171291</td>\n",
       "      <td>...</td>\n",
       "      <td>0.023432</td>\n",
       "      <td>0.03578</td>\n",
       "      <td>0.022844</td>\n",
       "      <td>0.02874</td>\n",
       "      <td>0.023215</td>\n",
       "      <td>0.03203</td>\n",
       "      <td>0.017323</td>\n",
       "      <td>0.01146</td>\n",
       "      <td>0.033779</td>\n",
       "      <td>0.01111</td>\n",
       "    </tr>\n",
       "    <tr>\n",
       "      <th>4</th>\n",
       "      <td>10879947</td>\n",
       "      <td>-0.084294</td>\n",
       "      <td>0.083876</td>\n",
       "      <td>-0.068759</td>\n",
       "      <td>0.073458</td>\n",
       "      <td>-0.068661</td>\n",
       "      <td>0.073484</td>\n",
       "      <td>-0.064499</td>\n",
       "      <td>0.071395</td>\n",
       "      <td>-0.060274</td>\n",
       "      <td>...</td>\n",
       "      <td>0.005054</td>\n",
       "      <td>0.01138</td>\n",
       "      <td>0.006860</td>\n",
       "      <td>0.01171</td>\n",
       "      <td>0.006800</td>\n",
       "      <td>0.01166</td>\n",
       "      <td>0.007701</td>\n",
       "      <td>0.01146</td>\n",
       "      <td>0.003534</td>\n",
       "      <td>0.01111</td>\n",
       "    </tr>\n",
       "  </tbody>\n",
       "</table>\n",
       "<p>5 rows × 25 columns</p>\n",
       "</div>"
      ],
      "text/plain": [
       "   parcelid  ridge_under  ridge_over  enet_under  enet_over  lasso_under  \\\n",
       "0  10754147     0.027747    5.170251   -0.068398   0.073391    -0.068158   \n",
       "1  10759547    -0.083810    0.085823   -0.068398   0.073391    -0.068158   \n",
       "2  10843547    -0.874368    0.932315   -0.413808   0.560253    -0.300357   \n",
       "3  10859147    -0.124433    0.121149   -0.091428   0.098976    -0.087674   \n",
       "4  10879947    -0.084294    0.083876   -0.068759   0.073458    -0.068661   \n",
       "\n",
       "   lasso_over  larm_under  larm_over  huber_under    ...     m1_ridge  \\\n",
       "0    0.073282   -0.064499   0.071395    -0.062325    ...     2.492070   \n",
       "1    0.073282   -0.064499   0.071395    -0.061620    ...    -0.003106   \n",
       "2    0.458923   -0.064499   0.071395    -2.651445    ...     0.449886   \n",
       "3    0.095881   -0.064499   0.071395    -0.171291    ...     0.023432   \n",
       "4    0.073484   -0.064499   0.071395    -0.060274    ...     0.005054   \n",
       "\n",
       "   m2_ridge  m1_lasso  m2_lasso   m1_enet  m2_enet   m1_larm  m2_larm  \\\n",
       "0   0.01341 -0.000379   0.01227 -0.000451  0.01243  0.000622  0.01146   \n",
       "1   0.01338 -0.000867   0.01223 -0.000940  0.01240  0.000154  0.01146   \n",
       "2   0.60960  0.256176   0.37170  0.300154  0.48170  0.035108  0.01146   \n",
       "3   0.03578  0.022844   0.02874  0.023215  0.03203  0.017323  0.01146   \n",
       "4   0.01138  0.006860   0.01171  0.006800  0.01166  0.007701  0.01146   \n",
       "\n",
       "   m1_huber  m2_huber  \n",
       "0 -0.002310   0.01112  \n",
       "1 -0.002745   0.01112  \n",
       "2  1.416152   0.01105  \n",
       "3  0.033779   0.01111  \n",
       "4  0.003534   0.01111  \n",
       "\n",
       "[5 rows x 25 columns]"
      ]
     },
     "execution_count": 13,
     "metadata": {},
     "output_type": "execute_result"
    }
   ],
   "source": [
    "test_predictions.head()"
   ]
  },
  {
   "cell_type": "code",
   "execution_count": 14,
   "metadata": {
    "collapsed": false
   },
   "outputs": [
    {
     "name": "stdout",
     "output_type": "stream",
     "text": [
      "ridge using m1:\n",
      "(0.06211662330266915, 0.06122311707674782, 0.07381781199062934, 0.064307775814941501)\n",
      "\n",
      "ridge using single-stage model:\n",
      "(0.06332056539983931, 0.06250535370657166, 0.07484831374353078, 0.065493145336361525)\n",
      "\n",
      "lasso using m1:\n",
      "(0.062133533239734355, 0.0611860000097644, 0.07377258721151689, 0.064300487018592312)\n",
      "\n",
      "lasso using single-stage model:\n",
      "(0.06333524733775354, 0.06244184118291356, 0.07476208625646924, 0.065470568485132233)\n",
      "\n",
      "enet using m1:\n",
      "(0.06213008492740844, 0.061190336988136564, 0.07377312088293247, 0.064299513607992118)\n",
      "\n",
      "enet using single-stage model:\n",
      "(0.06332380630902144, 0.06246366413472067, 0.07474843300747566, 0.0654657878377429)\n",
      "\n",
      "larm using m1:\n",
      "(0.06218541582658408, 0.061202278146372975, 0.07380443048359252, 0.064340678889622277)\n",
      "\n",
      "larm using single-stage model:\n",
      "(0.06345773598553339, 0.06251769879518071, 0.07483130304772855, 0.065572243736829725)\n",
      "\n",
      "huber using m1:\n",
      "(0.0623504836252892, 0.06162000539505469, 0.07401439467636677, 0.064568897119718568)\n",
      "\n",
      "huber using single-stage model:\n",
      "(0.06360898332328704, 0.06264495071193858, 0.07490205865439907, 0.065701974947319067)\n",
      "\n"
     ]
    }
   ],
   "source": [
    "for model_pair in models:\n",
    "    model_name, single_stage_model = model_pair\n",
    "    \n",
    "    for method in ['m1']:\n",
    "        new_submission = DataFrame({'ParcelId': test_predictions['parcelid'],\n",
    "                                   '201610':test_predictions[\"%s_%s\" % (method,model_name)],\n",
    "                                   '201611':test_predictions[\"%s_%s\" % (method,model_name)],\n",
    "                                   '201612':test_predictions[\"%s_%s\" % (method,model_name)],\n",
    "                                   '201710':test_predictions[\"%s_%s\" % (method,model_name)],\n",
    "                                   '201711':test_predictions[\"%s_%s\" % (method,model_name)],\n",
    "                                   '201712':test_predictions[\"%s_%s\" % (method,model_name)]})\n",
    "\n",
    "        print(\"%s using %s:\" % (model_name, method))\n",
    "        print(mean_absolute_errors(new_submission, data))\n",
    "        print(\"\")\n",
    "        new_submission.round(4).to_csv(\"/home/anerdi/Desktop/Zillow/submissions/two_stage_stage1_stacked_annrfs_stage2_%s_imputebycounty.csv.gz\" % model_name, index=False,\n",
    "                     compression='gzip')\n",
    "        \n",
    "    print(\"%s using single-stage model:\" % (model_name))\n",
    "    print(mean_absolute_errors(single_stage_model, data))\n",
    "    print(\"\")"
   ]
  },
  {
   "cell_type": "code",
   "execution_count": 15,
   "metadata": {
    "collapsed": false
   },
   "outputs": [],
   "source": [
    "method, model_name = 'm1', 'ridge'\n",
    "new_submission = DataFrame({'ParcelId': test_predictions['parcelid'],\n",
    "                                   '201610':test_predictions[\"%s_%s\" % (method,model_name)],\n",
    "                                   '201611':test_predictions[\"%s_%s\" % (method,model_name)],\n",
    "                                   '201612':test_predictions[\"%s_%s\" % (method,model_name)],\n",
    "                                   '201710':test_predictions[\"%s_%s\" % (method,model_name)],\n",
    "                                   '201711':test_predictions[\"%s_%s\" % (method,model_name)],\n",
    "                                   '201712':test_predictions[\"%s_%s\" % (method,model_name)]})"
   ]
  },
  {
   "cell_type": "code",
   "execution_count": 16,
   "metadata": {
    "collapsed": false
   },
   "outputs": [
    {
     "data": {
      "text/plain": [
       "(0.06211394414305826,\n",
       " 0.061221522453450215,\n",
       " 0.07382415181138596,\n",
       " 0.064307164598454841)"
      ]
     },
     "execution_count": 16,
     "metadata": {},
     "output_type": "execute_result"
    }
   ],
   "source": [
    "mean_absolute_errors(new_submission.round(4), data)"
   ]
  },
  {
   "cell_type": "code",
   "execution_count": 17,
   "metadata": {
    "collapsed": true
   },
   "outputs": [],
   "source": [
    "new_submission.round(4).to_csv(\"/home/anerdi/Desktop/Zillow/submissions/two_stage_stage1_stacked_annrfs_stage2_ridge.csv.gz\", index=False,\n",
    "                     compression='gzip')"
   ]
  },
  {
   "cell_type": "code",
   "execution_count": null,
   "metadata": {
    "collapsed": true
   },
   "outputs": [],
   "source": []
  }
 ],
 "metadata": {
  "kernelspec": {
   "display_name": "Python 3",
   "language": "python",
   "name": "python3"
  },
  "language_info": {
   "codemirror_mode": {
    "name": "ipython",
    "version": 3
   },
   "file_extension": ".py",
   "mimetype": "text/x-python",
   "name": "python",
   "nbconvert_exporter": "python",
   "pygments_lexer": "ipython3",
   "version": "3.5.4"
  }
 },
 "nbformat": 4,
 "nbformat_minor": 0
}
