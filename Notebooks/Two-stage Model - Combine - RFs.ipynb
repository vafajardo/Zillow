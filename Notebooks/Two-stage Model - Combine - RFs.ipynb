{
 "cells": [
  {
   "cell_type": "code",
   "execution_count": 1,
   "metadata": {
    "collapsed": true
   },
   "outputs": [],
   "source": [
    "import pandas as pd\n",
    "from pandas import DataFrame,Series\n",
    "import numpy as np\n",
    "import os\n",
    "import datetime\n",
    "\n",
    "#Plotting\n",
    "import matplotlib.pyplot as plt\n",
    "import matplotlib.gridspec as gridspec\n",
    "%matplotlib inline\n",
    "\n",
    "# sklearn stuff\n",
    "from sklearn.model_selection import GridSearchCV, cross_val_score\n",
    "from sklearn.metrics import confusion_matrix, mean_squared_error, precision_score\n",
    "from sklearn.preprocessing import StandardScaler, OneHotEncoder, LabelEncoder, Imputer \n",
    "from sklearn.pipeline import Pipeline, FeatureUnion\n",
    "from sklearn.base import BaseEstimator, TransformerMixin\n",
    "\n",
    "import feature_pipelines as pipes"
   ]
  },
  {
   "cell_type": "markdown",
   "metadata": {},
   "source": [
    "### Reading in data"
   ]
  },
  {
   "cell_type": "code",
   "execution_count": 2,
   "metadata": {
    "collapsed": false
   },
   "outputs": [],
   "source": [
    "maindir = \"/home/anerdi/Desktop/Zillow\"\n",
    "\n",
    "logerror = pd.read_csv(maindir + \"/data/train_2016_v2.csv/train_2016_v2.csv\")\n",
    "logerror['weeknumber'] = logerror['transactiondate'].apply(lambda x: datetime.datetime.strptime(x,'%Y-%m-%d').isocalendar()[1])\n",
    "logerror['month'] = logerror['transactiondate'].apply(lambda x: datetime.datetime.strptime(x,'%Y-%m-%d').month)\n",
    "properties = pd.read_csv(maindir + \"/data/properties_2016.csv/properties_2016.csv\", usecols=['parcelid'])"
   ]
  },
  {
   "cell_type": "code",
   "execution_count": 3,
   "metadata": {
    "collapsed": true
   },
   "outputs": [],
   "source": [
    "# join on parcel id\n",
    "data = pd.merge(properties,logerror[['parcelid','logerror','month']], on='parcelid')"
   ]
  },
  {
   "cell_type": "code",
   "execution_count": 4,
   "metadata": {
    "collapsed": true
   },
   "outputs": [],
   "source": [
    "def mean_absolute_errors(submission_df, comparison_df):\n",
    "    \"\"\"\n",
    "    This function takes a submission entry for public leaderboard, and returns\n",
    "    the training error for each month.\n",
    "    \"\"\"\n",
    "    # training error\n",
    "    trainresults = pd.merge(submission_df[['ParcelId','201610','201611','201612']], comparison_df[['parcelid','logerror','month']],\n",
    "                           left_on='ParcelId', right_on='parcelid')\n",
    "    oct_error = abs(trainresults[trainresults['month'] == 10]['201610'] \n",
    "                    - trainresults[trainresults['month'] == 10]['logerror']).mean()\n",
    "    nov_error = abs(trainresults[trainresults['month'] == 11]['201611'] \n",
    "                    - trainresults[trainresults['month'] == 11]['logerror']).mean()\n",
    "    dec_error = abs(trainresults[trainresults['month'] == 12]['201612'] \n",
    "                    - trainresults[trainresults['month'] == 12]['logerror']).mean()\n",
    "    overall_mae = (oct_error*(trainresults['month'] == 10).sum() + nov_error*(trainresults['month'] == 11).sum() \n",
    "                        + dec_error*(trainresults['month'] == 12).sum()) / (trainresults['month'].isin([10,11,12])).sum()\n",
    "    return (oct_error, nov_error, dec_error, overall_mae)"
   ]
  },
  {
   "cell_type": "markdown",
   "metadata": {},
   "source": [
    "### Readin stage 1 classification results "
   ]
  },
  {
   "cell_type": "code",
   "execution_count": 15,
   "metadata": {
    "collapsed": false
   },
   "outputs": [
    {
     "data": {
      "text/html": [
       "<div>\n",
       "<style>\n",
       "    .dataframe thead tr:only-child th {\n",
       "        text-align: right;\n",
       "    }\n",
       "\n",
       "    .dataframe thead th {\n",
       "        text-align: left;\n",
       "    }\n",
       "\n",
       "    .dataframe tbody tr th {\n",
       "        vertical-align: top;\n",
       "    }\n",
       "</style>\n",
       "<table border=\"1\" class=\"dataframe\">\n",
       "  <thead>\n",
       "    <tr style=\"text-align: right;\">\n",
       "      <th></th>\n",
       "      <th>parcelid</th>\n",
       "      <th>ann_overestimate_prob</th>\n",
       "      <th>rf2_overestimate_prob</th>\n",
       "      <th>rf3_overestimate_prob</th>\n",
       "      <th>overestimate_prob</th>\n",
       "    </tr>\n",
       "  </thead>\n",
       "  <tbody>\n",
       "    <tr>\n",
       "      <th>0</th>\n",
       "      <td>10754147</td>\n",
       "      <td>0.469632</td>\n",
       "      <td>0.466012</td>\n",
       "      <td>0.495383</td>\n",
       "      <td>0.479207</td>\n",
       "    </tr>\n",
       "    <tr>\n",
       "      <th>1</th>\n",
       "      <td>10759547</td>\n",
       "      <td>0.406392</td>\n",
       "      <td>0.555562</td>\n",
       "      <td>0.524675</td>\n",
       "      <td>0.475759</td>\n",
       "    </tr>\n",
       "    <tr>\n",
       "      <th>2</th>\n",
       "      <td>10843547</td>\n",
       "      <td>0.880731</td>\n",
       "      <td>0.548264</td>\n",
       "      <td>0.548752</td>\n",
       "      <td>0.732975</td>\n",
       "    </tr>\n",
       "    <tr>\n",
       "      <th>3</th>\n",
       "      <td>10859147</td>\n",
       "      <td>0.569588</td>\n",
       "      <td>0.663067</td>\n",
       "      <td>0.543329</td>\n",
       "      <td>0.602100</td>\n",
       "    </tr>\n",
       "    <tr>\n",
       "      <th>4</th>\n",
       "      <td>10879947</td>\n",
       "      <td>0.540791</td>\n",
       "      <td>0.519636</td>\n",
       "      <td>0.485341</td>\n",
       "      <td>0.531297</td>\n",
       "    </tr>\n",
       "  </tbody>\n",
       "</table>\n",
       "</div>"
      ],
      "text/plain": [
       "   parcelid  ann_overestimate_prob  rf2_overestimate_prob  \\\n",
       "0  10754147               0.469632               0.466012   \n",
       "1  10759547               0.406392               0.555562   \n",
       "2  10843547               0.880731               0.548264   \n",
       "3  10859147               0.569588               0.663067   \n",
       "4  10879947               0.540791               0.519636   \n",
       "\n",
       "   rf3_overestimate_prob  overestimate_prob  \n",
       "0               0.495383           0.479207  \n",
       "1               0.524675           0.475759  \n",
       "2               0.548752           0.732975  \n",
       "3               0.543329           0.602100  \n",
       "4               0.485341           0.531297  "
      ]
     },
     "execution_count": 15,
     "metadata": {},
     "output_type": "execute_result"
    }
   ],
   "source": [
    "overestimate_probabilities = pd.read_csv(\"/home/anerdi/Desktop/Zillow/twostagemodel/overestimate_probs_stacked_ann_rfs.csv.gz\",\n",
    "                                        compression='gzip')\n",
    "overestimate_probabilities.rename(columns={'stacked_pred':'overestimate_prob'},inplace=True)\n",
    "overestimate_probabilities.head()"
   ]
  },
  {
   "cell_type": "code",
   "execution_count": 9,
   "metadata": {
    "collapsed": false
   },
   "outputs": [],
   "source": [
    "# overestimate_probabilities['overestimate_prob'] = (overestimate_probabilities['overestimate_prob'] \n",
    "#                                                    + overestimate_probabilities_logistic['overestimate_prob']) / 2"
   ]
  },
  {
   "cell_type": "markdown",
   "metadata": {},
   "source": [
    "### Readin two-stage linear model predictions "
   ]
  },
  {
   "cell_type": "code",
   "execution_count": 8,
   "metadata": {
    "collapsed": false
   },
   "outputs": [
    {
     "data": {
      "text/html": [
       "<div>\n",
       "<style>\n",
       "    .dataframe thead tr:only-child th {\n",
       "        text-align: right;\n",
       "    }\n",
       "\n",
       "    .dataframe thead th {\n",
       "        text-align: left;\n",
       "    }\n",
       "\n",
       "    .dataframe tbody tr th {\n",
       "        vertical-align: top;\n",
       "    }\n",
       "</style>\n",
       "<table border=\"1\" class=\"dataframe\">\n",
       "  <thead>\n",
       "    <tr style=\"text-align: right;\">\n",
       "      <th></th>\n",
       "      <th>parcelid</th>\n",
       "      <th>rf_oct_over</th>\n",
       "      <th>rf_oct_under</th>\n",
       "      <th>rf_nov_over</th>\n",
       "      <th>rf_nov_under</th>\n",
       "      <th>rf_dec_over</th>\n",
       "      <th>rf_dec_under</th>\n",
       "    </tr>\n",
       "  </thead>\n",
       "  <tbody>\n",
       "    <tr>\n",
       "      <th>0</th>\n",
       "      <td>10754147</td>\n",
       "      <td>0.253206</td>\n",
       "      <td>-0.089342</td>\n",
       "      <td>0.279583</td>\n",
       "      <td>-0.075154</td>\n",
       "      <td>0.279143</td>\n",
       "      <td>-0.077137</td>\n",
       "    </tr>\n",
       "    <tr>\n",
       "      <th>1</th>\n",
       "      <td>10759547</td>\n",
       "      <td>0.083172</td>\n",
       "      <td>-0.079168</td>\n",
       "      <td>0.085873</td>\n",
       "      <td>-0.078729</td>\n",
       "      <td>0.085967</td>\n",
       "      <td>-0.079182</td>\n",
       "    </tr>\n",
       "    <tr>\n",
       "      <th>2</th>\n",
       "      <td>10843547</td>\n",
       "      <td>0.145410</td>\n",
       "      <td>-0.110451</td>\n",
       "      <td>0.142955</td>\n",
       "      <td>-0.105511</td>\n",
       "      <td>0.142864</td>\n",
       "      <td>-0.124257</td>\n",
       "    </tr>\n",
       "    <tr>\n",
       "      <th>3</th>\n",
       "      <td>10859147</td>\n",
       "      <td>0.116956</td>\n",
       "      <td>-0.092979</td>\n",
       "      <td>0.111848</td>\n",
       "      <td>-0.093563</td>\n",
       "      <td>0.112627</td>\n",
       "      <td>-0.093089</td>\n",
       "    </tr>\n",
       "    <tr>\n",
       "      <th>4</th>\n",
       "      <td>10879947</td>\n",
       "      <td>0.120668</td>\n",
       "      <td>-0.129706</td>\n",
       "      <td>0.117671</td>\n",
       "      <td>-0.177729</td>\n",
       "      <td>0.121505</td>\n",
       "      <td>-0.164241</td>\n",
       "    </tr>\n",
       "  </tbody>\n",
       "</table>\n",
       "</div>"
      ],
      "text/plain": [
       "   parcelid  rf_oct_over  rf_oct_under  rf_nov_over  rf_nov_under  \\\n",
       "0  10754147     0.253206     -0.089342     0.279583     -0.075154   \n",
       "1  10759547     0.083172     -0.079168     0.085873     -0.078729   \n",
       "2  10843547     0.145410     -0.110451     0.142955     -0.105511   \n",
       "3  10859147     0.116956     -0.092979     0.111848     -0.093563   \n",
       "4  10879947     0.120668     -0.129706     0.117671     -0.177729   \n",
       "\n",
       "   rf_dec_over  rf_dec_under  \n",
       "0     0.279143     -0.077137  \n",
       "1     0.085967     -0.079182  \n",
       "2     0.142864     -0.124257  \n",
       "3     0.112627     -0.093089  \n",
       "4     0.121505     -0.164241  "
      ]
     },
     "execution_count": 8,
     "metadata": {},
     "output_type": "execute_result"
    }
   ],
   "source": [
    "two_stage_linear_models = pd.read_csv(\"/home/anerdi/Desktop/Zillow/twostagemodel/RF-two-stage-preds.csv.gz\",\n",
    "                       compression='gzip')\n",
    "two_stage_linear_models.head()"
   ]
  },
  {
   "cell_type": "markdown",
   "metadata": {},
   "source": [
    "### Readin single-stage model predictions "
   ]
  },
  {
   "cell_type": "code",
   "execution_count": 9,
   "metadata": {
    "collapsed": false
   },
   "outputs": [
    {
     "data": {
      "text/plain": [
       "(0.0631669479606187,\n",
       " 0.06216046002190593,\n",
       " 0.07476497987349064,\n",
       " 0.065312947787403389)"
      ]
     },
     "execution_count": 9,
     "metadata": {},
     "output_type": "execute_result"
    }
   ],
   "source": [
    "single_stage_model = pd.read_csv(\"/home/anerdi/Desktop/Zillow/submissions/two_stage_rf.csv.gz\")\n",
    "mean_absolute_errors(single_stage_model,data)"
   ]
  },
  {
   "cell_type": "markdown",
   "metadata": {},
   "source": [
    "### Combine preds & overestimate probabilities to generate one prediction "
   ]
  },
  {
   "cell_type": "code",
   "execution_count": 16,
   "metadata": {
    "collapsed": true
   },
   "outputs": [],
   "source": [
    "test_predictions = pd.merge(two_stage_linear_models, overestimate_probabilities, on='parcelid')"
   ]
  },
  {
   "cell_type": "code",
   "execution_count": 17,
   "metadata": {
    "collapsed": false
   },
   "outputs": [],
   "source": [
    "models = [\"rf_oct\",\"rf_nov\",\"rf_dec\",]"
   ]
  },
  {
   "cell_type": "code",
   "execution_count": 18,
   "metadata": {
    "collapsed": true
   },
   "outputs": [],
   "source": [
    "for model in models:\n",
    "    # combine over and under to get prediction\n",
    "    test_predictions[model] = (test_predictions['%s_over' % model]*test_predictions['overestimate_prob'] +\n",
    "                    test_predictions['%s_under' % model]*(1 - test_predictions['overestimate_prob']))"
   ]
  },
  {
   "cell_type": "code",
   "execution_count": 19,
   "metadata": {
    "collapsed": false
   },
   "outputs": [
    {
     "data": {
      "text/html": [
       "<div>\n",
       "<style>\n",
       "    .dataframe thead tr:only-child th {\n",
       "        text-align: right;\n",
       "    }\n",
       "\n",
       "    .dataframe thead th {\n",
       "        text-align: left;\n",
       "    }\n",
       "\n",
       "    .dataframe tbody tr th {\n",
       "        vertical-align: top;\n",
       "    }\n",
       "</style>\n",
       "<table border=\"1\" class=\"dataframe\">\n",
       "  <thead>\n",
       "    <tr style=\"text-align: right;\">\n",
       "      <th></th>\n",
       "      <th>parcelid</th>\n",
       "      <th>rf_oct_over</th>\n",
       "      <th>rf_oct_under</th>\n",
       "      <th>rf_nov_over</th>\n",
       "      <th>rf_nov_under</th>\n",
       "      <th>rf_dec_over</th>\n",
       "      <th>rf_dec_under</th>\n",
       "      <th>ann_overestimate_prob</th>\n",
       "      <th>rf2_overestimate_prob</th>\n",
       "      <th>rf3_overestimate_prob</th>\n",
       "      <th>overestimate_prob</th>\n",
       "      <th>rf_oct</th>\n",
       "      <th>rf_nov</th>\n",
       "      <th>rf_dec</th>\n",
       "    </tr>\n",
       "  </thead>\n",
       "  <tbody>\n",
       "    <tr>\n",
       "      <th>0</th>\n",
       "      <td>10754147</td>\n",
       "      <td>0.253206</td>\n",
       "      <td>-0.089342</td>\n",
       "      <td>0.279583</td>\n",
       "      <td>-0.075154</td>\n",
       "      <td>0.279143</td>\n",
       "      <td>-0.077137</td>\n",
       "      <td>0.469632</td>\n",
       "      <td>0.466012</td>\n",
       "      <td>0.495383</td>\n",
       "      <td>0.479207</td>\n",
       "      <td>0.074809</td>\n",
       "      <td>0.094838</td>\n",
       "      <td>0.093595</td>\n",
       "    </tr>\n",
       "    <tr>\n",
       "      <th>1</th>\n",
       "      <td>10759547</td>\n",
       "      <td>0.083172</td>\n",
       "      <td>-0.079168</td>\n",
       "      <td>0.085873</td>\n",
       "      <td>-0.078729</td>\n",
       "      <td>0.085967</td>\n",
       "      <td>-0.079182</td>\n",
       "      <td>0.406392</td>\n",
       "      <td>0.555562</td>\n",
       "      <td>0.524675</td>\n",
       "      <td>0.475759</td>\n",
       "      <td>-0.001933</td>\n",
       "      <td>-0.000418</td>\n",
       "      <td>-0.000611</td>\n",
       "    </tr>\n",
       "    <tr>\n",
       "      <th>2</th>\n",
       "      <td>10843547</td>\n",
       "      <td>0.145410</td>\n",
       "      <td>-0.110451</td>\n",
       "      <td>0.142955</td>\n",
       "      <td>-0.105511</td>\n",
       "      <td>0.142864</td>\n",
       "      <td>-0.124257</td>\n",
       "      <td>0.880731</td>\n",
       "      <td>0.548264</td>\n",
       "      <td>0.548752</td>\n",
       "      <td>0.732975</td>\n",
       "      <td>0.077088</td>\n",
       "      <td>0.076608</td>\n",
       "      <td>0.071536</td>\n",
       "    </tr>\n",
       "    <tr>\n",
       "      <th>3</th>\n",
       "      <td>10859147</td>\n",
       "      <td>0.116956</td>\n",
       "      <td>-0.092979</td>\n",
       "      <td>0.111848</td>\n",
       "      <td>-0.093563</td>\n",
       "      <td>0.112627</td>\n",
       "      <td>-0.093089</td>\n",
       "      <td>0.569588</td>\n",
       "      <td>0.663067</td>\n",
       "      <td>0.543329</td>\n",
       "      <td>0.602100</td>\n",
       "      <td>0.033423</td>\n",
       "      <td>0.030115</td>\n",
       "      <td>0.030772</td>\n",
       "    </tr>\n",
       "    <tr>\n",
       "      <th>4</th>\n",
       "      <td>10879947</td>\n",
       "      <td>0.120668</td>\n",
       "      <td>-0.129706</td>\n",
       "      <td>0.117671</td>\n",
       "      <td>-0.177729</td>\n",
       "      <td>0.121505</td>\n",
       "      <td>-0.164241</td>\n",
       "      <td>0.540791</td>\n",
       "      <td>0.519636</td>\n",
       "      <td>0.485341</td>\n",
       "      <td>0.531297</td>\n",
       "      <td>0.003317</td>\n",
       "      <td>-0.020784</td>\n",
       "      <td>-0.012425</td>\n",
       "    </tr>\n",
       "  </tbody>\n",
       "</table>\n",
       "</div>"
      ],
      "text/plain": [
       "   parcelid  rf_oct_over  rf_oct_under  rf_nov_over  rf_nov_under  \\\n",
       "0  10754147     0.253206     -0.089342     0.279583     -0.075154   \n",
       "1  10759547     0.083172     -0.079168     0.085873     -0.078729   \n",
       "2  10843547     0.145410     -0.110451     0.142955     -0.105511   \n",
       "3  10859147     0.116956     -0.092979     0.111848     -0.093563   \n",
       "4  10879947     0.120668     -0.129706     0.117671     -0.177729   \n",
       "\n",
       "   rf_dec_over  rf_dec_under  ann_overestimate_prob  rf2_overestimate_prob  \\\n",
       "0     0.279143     -0.077137               0.469632               0.466012   \n",
       "1     0.085967     -0.079182               0.406392               0.555562   \n",
       "2     0.142864     -0.124257               0.880731               0.548264   \n",
       "3     0.112627     -0.093089               0.569588               0.663067   \n",
       "4     0.121505     -0.164241               0.540791               0.519636   \n",
       "\n",
       "   rf3_overestimate_prob  overestimate_prob    rf_oct    rf_nov    rf_dec  \n",
       "0               0.495383           0.479207  0.074809  0.094838  0.093595  \n",
       "1               0.524675           0.475759 -0.001933 -0.000418 -0.000611  \n",
       "2               0.548752           0.732975  0.077088  0.076608  0.071536  \n",
       "3               0.543329           0.602100  0.033423  0.030115  0.030772  \n",
       "4               0.485341           0.531297  0.003317 -0.020784 -0.012425  "
      ]
     },
     "execution_count": 19,
     "metadata": {},
     "output_type": "execute_result"
    }
   ],
   "source": [
    "test_predictions.head()"
   ]
  },
  {
   "cell_type": "code",
   "execution_count": 20,
   "metadata": {
    "collapsed": true
   },
   "outputs": [],
   "source": [
    "new_submission = DataFrame({'ParcelId': test_predictions['parcelid'],\n",
    "                           '201610':test_predictions['rf_oct'],\n",
    "                           '201611':test_predictions['rf_nov'],\n",
    "                           '201612':test_predictions['rf_dec']})\n",
    "new_submission['201710'] = 0\n",
    "new_submission['201711'] = 0\n",
    "new_submission['201712'] = 0"
   ]
  },
  {
   "cell_type": "code",
   "execution_count": 21,
   "metadata": {
    "collapsed": false
   },
   "outputs": [
    {
     "data": {
      "text/plain": [
       "(0.062045469158127406,\n",
       " 0.06109260679079965,\n",
       " 0.07364278320874057,\n",
       " 0.064202786232732401)"
      ]
     },
     "execution_count": 21,
     "metadata": {},
     "output_type": "execute_result"
    }
   ],
   "source": [
    "mean_absolute_errors(new_submission.round(4), data)"
   ]
  },
  {
   "cell_type": "code",
   "execution_count": 22,
   "metadata": {
    "collapsed": true
   },
   "outputs": [],
   "source": [
    "new_submission.round(4).to_csv(\"/home/anerdi/Desktop/Zillow/submissions/two_stage_stage1_stacked_annrfs_stage2_rf.csv.gz\", index=False,\n",
    "                     compression='gzip')"
   ]
  }
 ],
 "metadata": {
  "kernelspec": {
   "display_name": "Python 3",
   "language": "python",
   "name": "python3"
  },
  "language_info": {
   "codemirror_mode": {
    "name": "ipython",
    "version": 3
   },
   "file_extension": ".py",
   "mimetype": "text/x-python",
   "name": "python",
   "nbconvert_exporter": "python",
   "pygments_lexer": "ipython3",
   "version": "3.5.4"
  }
 },
 "nbformat": 4,
 "nbformat_minor": 0
}
