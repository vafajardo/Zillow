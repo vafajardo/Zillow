{
 "cells": [
  {
   "cell_type": "code",
   "execution_count": 1,
   "metadata": {
    "collapsed": true
   },
   "outputs": [],
   "source": [
    "import pandas as pd\n",
    "from pandas import DataFrame,Series\n",
    "import numpy as np\n",
    "import os\n",
    "import datetime\n",
    "\n",
    "#Plotting\n",
    "import matplotlib.pyplot as plt\n",
    "import matplotlib.gridspec as gridspec\n",
    "%matplotlib inline"
   ]
  },
  {
   "cell_type": "code",
   "execution_count": 2,
   "metadata": {
    "collapsed": true
   },
   "outputs": [],
   "source": [
    "maindir = \"C:\\\\Users\\\\jliang\\\\Desktop\\\\Zillow\\\\Zillow\""
   ]
  },
  {
   "cell_type": "markdown",
   "metadata": {},
   "source": [
    "## Reading in the Data "
   ]
  },
  {
   "cell_type": "code",
   "execution_count": 23,
   "metadata": {
    "collapsed": false
   },
   "outputs": [
    {
     "name": "stderr",
     "output_type": "stream",
     "text": [
      "C:\\Users\\Jliang\\AppData\\Local\\Continuum\\Anaconda3\\lib\\site-packages\\IPython\\core\\interactiveshell.py:2717: DtypeWarning: Columns (22,32,34,49,55) have mixed types. Specify dtype option on import or set low_memory=False.\n",
      "  interactivity=interactivity, compiler=compiler, result=result)\n"
     ]
    }
   ],
   "source": [
    "logerror = pd.read_csv(maindir + \"\\\\data\\\\train_2016_v2.csv\")\n",
    "logerror['weeknumber'] = logerror['transactiondate'].apply(lambda x: datetime.datetime.strptime(x,'%Y-%m-%d').isocalendar()[1])\n",
    "logerror['month'] = logerror['transactiondate'].apply(lambda x: datetime.datetime.strptime(x,'%Y-%m-%d').month)\n",
    "\n",
    "properties = pd.read_csv(maindir + \"\\\\data\\\\properties_2016.csv\")\n",
    "test_parcels = pd.read_csv(maindir + \"\\\\data\\\\sample_submission.csv\", usecols = ['ParcelId'])\n",
    "test_parcels.rename(columns={'ParcelId':'parcelid'}, inplace=True)\n",
    "\n",
    "# join on parcel id\n",
    "data = pd.merge(properties,logerror[['parcelid','logerror','month']], on='parcelid')"
   ]
  },
  {
   "cell_type": "code",
   "execution_count": 4,
   "metadata": {
    "collapsed": false
   },
   "outputs": [
    {
     "data": {
      "text/html": [
       "<div>\n",
       "<style>\n",
       "    .dataframe thead tr:only-child th {\n",
       "        text-align: right;\n",
       "    }\n",
       "\n",
       "    .dataframe thead th {\n",
       "        text-align: left;\n",
       "    }\n",
       "\n",
       "    .dataframe tbody tr th {\n",
       "        vertical-align: top;\n",
       "    }\n",
       "</style>\n",
       "<table border=\"1\" class=\"dataframe\">\n",
       "  <thead>\n",
       "    <tr style=\"text-align: right;\">\n",
       "      <th></th>\n",
       "      <th>parcelid</th>\n",
       "      <th>logerror</th>\n",
       "      <th>transactiondate</th>\n",
       "      <th>weeknumber</th>\n",
       "      <th>month</th>\n",
       "    </tr>\n",
       "  </thead>\n",
       "  <tbody>\n",
       "    <tr>\n",
       "      <th>0</th>\n",
       "      <td>11016594</td>\n",
       "      <td>0.0276</td>\n",
       "      <td>2016-01-01</td>\n",
       "      <td>53</td>\n",
       "      <td>1</td>\n",
       "    </tr>\n",
       "    <tr>\n",
       "      <th>1</th>\n",
       "      <td>14366692</td>\n",
       "      <td>-0.1684</td>\n",
       "      <td>2016-01-01</td>\n",
       "      <td>53</td>\n",
       "      <td>1</td>\n",
       "    </tr>\n",
       "    <tr>\n",
       "      <th>2</th>\n",
       "      <td>12098116</td>\n",
       "      <td>-0.0040</td>\n",
       "      <td>2016-01-01</td>\n",
       "      <td>53</td>\n",
       "      <td>1</td>\n",
       "    </tr>\n",
       "    <tr>\n",
       "      <th>3</th>\n",
       "      <td>12643413</td>\n",
       "      <td>0.0218</td>\n",
       "      <td>2016-01-02</td>\n",
       "      <td>53</td>\n",
       "      <td>1</td>\n",
       "    </tr>\n",
       "    <tr>\n",
       "      <th>4</th>\n",
       "      <td>14432541</td>\n",
       "      <td>-0.0050</td>\n",
       "      <td>2016-01-02</td>\n",
       "      <td>53</td>\n",
       "      <td>1</td>\n",
       "    </tr>\n",
       "  </tbody>\n",
       "</table>\n",
       "</div>"
      ],
      "text/plain": [
       "   parcelid  logerror transactiondate  weeknumber  month\n",
       "0  11016594    0.0276      2016-01-01          53      1\n",
       "1  14366692   -0.1684      2016-01-01          53      1\n",
       "2  12098116   -0.0040      2016-01-01          53      1\n",
       "3  12643413    0.0218      2016-01-02          53      1\n",
       "4  14432541   -0.0050      2016-01-02          53      1"
      ]
     },
     "execution_count": 4,
     "metadata": {},
     "output_type": "execute_result"
    }
   ],
   "source": [
    "logerror.head()"
   ]
  },
  {
   "cell_type": "code",
   "execution_count": 24,
   "metadata": {
    "collapsed": true
   },
   "outputs": [],
   "source": [
    "logerror['transactiondate'] = pd.to_datetime(logerror['transactiondate'])"
   ]
  },
  {
   "cell_type": "code",
   "execution_count": 46,
   "metadata": {
    "collapsed": false
   },
   "outputs": [
    {
     "ename": "SyntaxError",
     "evalue": "keyword can't be an expression (<ipython-input-46-00b9dbd8589f>, line 1)",
     "output_type": "error",
     "traceback": [
      "\u001b[1;36m  File \u001b[1;32m\"<ipython-input-46-00b9dbd8589f>\"\u001b[1;36m, line \u001b[1;32m1\u001b[0m\n\u001b[1;33m    logerror['yr_mon'] = np.where(logerror['transactiondate'].dt.month.astype(int) < 10,                               logerror['transactiondate'].dt.year.astype(str)+'0'+logerror['transactiondate'].dt.month.astype(str),                              logerror['yr_mon'] = logerror['transactiondate'].dt.year.astype(str)+logerror['transactiondate'].dt.month.astype(str))\u001b[0m\n\u001b[1;37m                                                                                                                                                                                                                                                         ^\u001b[0m\n\u001b[1;31mSyntaxError\u001b[0m\u001b[1;31m:\u001b[0m keyword can't be an expression\n"
     ]
    }
   ],
   "source": [
    "logerror['yr_mon'] = np.where(logerror['transactiondate'].dt.month.astype(int) < 10, \\\n",
    "                              logerror['transactiondate'].dt.year.astype(str)+'0'+logerror['transactiondate'].dt.month.astype(str),\\\n",
    "                              logerror['yr_mon'] = logerror['transactiondate'].dt.year.astype(str)+logerror['transactiondate'].dt.month.astype(str))  \n",
    "logerror['yr_mon']"
   ]
  },
  {
   "cell_type": "code",
   "execution_count": 15,
   "metadata": {
    "collapsed": false
   },
   "outputs": [
    {
     "data": {
      "text/plain": [
       "parcelid                    int64\n",
       "logerror                  float64\n",
       "transactiondate    datetime64[ns]\n",
       "weeknumber                  int64\n",
       "month                       int64\n",
       "dtype: object"
      ]
     },
     "execution_count": 15,
     "metadata": {},
     "output_type": "execute_result"
    }
   ],
   "source": [
    "logerror.dtypes"
   ]
  },
  {
   "cell_type": "code",
   "execution_count": 16,
   "metadata": {
    "collapsed": false
   },
   "outputs": [
    {
     "data": {
      "text/plain": [
       "[<matplotlib.lines.Line2D at 0x8141eaf390>]"
      ]
     },
     "execution_count": 16,
     "metadata": {},
     "output_type": "execute_result"
    },
    {
     "data": {
      "image/png": "[encoded data removed]",
      "text/plain": [
       "<matplotlib.figure.Figure at 0x8141de2978>"
      ]
     },
     "metadata": {},
     "output_type": "display_data"
    }
   ],
   "source": [
    "plt.plot(logerror['transactiondate'],logerror['logerror'],'.')"
   ]
  },
  {
   "cell_type": "code",
   "execution_count": 5,
   "metadata": {
    "collapsed": false
   },
   "outputs": [
    {
     "data": {
      "text/plain": [
       "90150"
      ]
     },
     "execution_count": 5,
     "metadata": {},
     "output_type": "execute_result"
    }
   ],
   "source": [
    "logerror.parcelid.nunique()"
   ]
  },
  {
   "cell_type": "code",
   "execution_count": 6,
   "metadata": {
    "collapsed": false
   },
   "outputs": [
    {
     "data": {
      "text/plain": [
       "2985217"
      ]
     },
     "execution_count": 6,
     "metadata": {},
     "output_type": "execute_result"
    }
   ],
   "source": [
    "properties.parcelid.nunique()"
   ]
  },
  {
   "cell_type": "code",
   "execution_count": 7,
   "metadata": {
    "collapsed": false
   },
   "outputs": [
    {
     "data": {
      "text/plain": [
       "(2985217, 58)"
      ]
     },
     "execution_count": 7,
     "metadata": {},
     "output_type": "execute_result"
    }
   ],
   "source": [
    "properties.shape"
   ]
  },
  {
   "cell_type": "code",
   "execution_count": 7,
   "metadata": {
    "collapsed": false
   },
   "outputs": [
    {
     "data": {
      "text/plain": [
       "2985217"
      ]
     },
     "execution_count": 7,
     "metadata": {},
     "output_type": "execute_result"
    }
   ],
   "source": [
    "assert test_parcels.shape[0] == test_parcels.parcelid.nunique()\n",
    "test_parcels.parcelid.nunique()"
   ]
  },
  {
   "cell_type": "code",
   "execution_count": 8,
   "metadata": {
    "collapsed": false
   },
   "outputs": [
    {
     "data": {
      "text/plain": [
       "90150"
      ]
     },
     "execution_count": 8,
     "metadata": {},
     "output_type": "execute_result"
    }
   ],
   "source": [
    "data.parcelid.nunique()"
   ]
  },
  {
   "cell_type": "code",
   "execution_count": 9,
   "metadata": {
    "collapsed": false,
    "scrolled": false
   },
   "outputs": [
    {
     "data": {
      "text/plain": [
       "'2016-12-30'"
      ]
     },
     "execution_count": 9,
     "metadata": {},
     "output_type": "execute_result"
    }
   ],
   "source": [
    "logerror['transactiondate'].max()"
   ]
  },
  {
   "cell_type": "code",
   "execution_count": 47,
   "metadata": {
    "collapsed": true,
    "scrolled": true
   },
   "outputs": [],
   "source": [
    "summary_month = logerror.groupby('month')['logerror'].agg({np.size, np.mean, np.median, np.std}).reset_index()"
   ]
  },
  {
   "cell_type": "code",
   "execution_count": 48,
   "metadata": {
    "collapsed": false,
    "scrolled": false
   },
   "outputs": [
    {
     "data": {
      "text/html": [
       "<div>\n",
       "<style>\n",
       "    .dataframe thead tr:only-child th {\n",
       "        text-align: right;\n",
       "    }\n",
       "\n",
       "    .dataframe thead th {\n",
       "        text-align: left;\n",
       "    }\n",
       "\n",
       "    .dataframe tbody tr th {\n",
       "        vertical-align: top;\n",
       "    }\n",
       "</style>\n",
       "<table border=\"1\" class=\"dataframe\">\n",
       "  <thead>\n",
       "    <tr style=\"text-align: right;\">\n",
       "      <th></th>\n",
       "      <th>month</th>\n",
       "      <th>std</th>\n",
       "      <th>mean</th>\n",
       "      <th>median</th>\n",
       "      <th>size</th>\n",
       "    </tr>\n",
       "  </thead>\n",
       "  <tbody>\n",
       "    <tr>\n",
       "      <th>0</th>\n",
       "      <td>1</td>\n",
       "      <td>0.171525</td>\n",
       "      <td>0.015870</td>\n",
       "      <td>0.0090</td>\n",
       "      <td>6556.0</td>\n",
       "    </tr>\n",
       "    <tr>\n",
       "      <th>1</th>\n",
       "      <td>2</td>\n",
       "      <td>0.198599</td>\n",
       "      <td>0.016082</td>\n",
       "      <td>0.0080</td>\n",
       "      <td>6333.0</td>\n",
       "    </tr>\n",
       "    <tr>\n",
       "      <th>2</th>\n",
       "      <td>3</td>\n",
       "      <td>0.172171</td>\n",
       "      <td>0.009867</td>\n",
       "      <td>0.0010</td>\n",
       "      <td>8652.0</td>\n",
       "    </tr>\n",
       "    <tr>\n",
       "      <th>3</th>\n",
       "      <td>4</td>\n",
       "      <td>0.166560</td>\n",
       "      <td>0.006605</td>\n",
       "      <td>0.0030</td>\n",
       "      <td>9311.0</td>\n",
       "    </tr>\n",
       "    <tr>\n",
       "      <th>4</th>\n",
       "      <td>5</td>\n",
       "      <td>0.150861</td>\n",
       "      <td>0.006926</td>\n",
       "      <td>0.0030</td>\n",
       "      <td>9961.0</td>\n",
       "    </tr>\n",
       "    <tr>\n",
       "      <th>5</th>\n",
       "      <td>6</td>\n",
       "      <td>0.151433</td>\n",
       "      <td>0.007172</td>\n",
       "      <td>0.0040</td>\n",
       "      <td>10922.0</td>\n",
       "    </tr>\n",
       "    <tr>\n",
       "      <th>6</th>\n",
       "      <td>7</td>\n",
       "      <td>0.151663</td>\n",
       "      <td>0.011687</td>\n",
       "      <td>0.0050</td>\n",
       "      <td>9947.0</td>\n",
       "    </tr>\n",
       "    <tr>\n",
       "      <th>7</th>\n",
       "      <td>8</td>\n",
       "      <td>0.161429</td>\n",
       "      <td>0.011573</td>\n",
       "      <td>0.0050</td>\n",
       "      <td>10476.0</td>\n",
       "    </tr>\n",
       "    <tr>\n",
       "      <th>8</th>\n",
       "      <td>9</td>\n",
       "      <td>0.150357</td>\n",
       "      <td>0.016255</td>\n",
       "      <td>0.0100</td>\n",
       "      <td>9575.0</td>\n",
       "    </tr>\n",
       "    <tr>\n",
       "      <th>9</th>\n",
       "      <td>10</td>\n",
       "      <td>0.134488</td>\n",
       "      <td>0.016342</td>\n",
       "      <td>0.0109</td>\n",
       "      <td>4977.0</td>\n",
       "    </tr>\n",
       "    <tr>\n",
       "      <th>10</th>\n",
       "      <td>11</td>\n",
       "      <td>0.139693</td>\n",
       "      <td>0.014510</td>\n",
       "      <td>0.0119</td>\n",
       "      <td>1826.0</td>\n",
       "    </tr>\n",
       "    <tr>\n",
       "      <th>11</th>\n",
       "      <td>12</td>\n",
       "      <td>0.189896</td>\n",
       "      <td>0.019122</td>\n",
       "      <td>0.0100</td>\n",
       "      <td>1739.0</td>\n",
       "    </tr>\n",
       "  </tbody>\n",
       "</table>\n",
       "</div>"
      ],
      "text/plain": [
       "    month       std      mean  median     size\n",
       "0       1  0.171525  0.015870  0.0090   6556.0\n",
       "1       2  0.198599  0.016082  0.0080   6333.0\n",
       "2       3  0.172171  0.009867  0.0010   8652.0\n",
       "3       4  0.166560  0.006605  0.0030   9311.0\n",
       "4       5  0.150861  0.006926  0.0030   9961.0\n",
       "5       6  0.151433  0.007172  0.0040  10922.0\n",
       "6       7  0.151663  0.011687  0.0050   9947.0\n",
       "7       8  0.161429  0.011573  0.0050  10476.0\n",
       "8       9  0.150357  0.016255  0.0100   9575.0\n",
       "9      10  0.134488  0.016342  0.0109   4977.0\n",
       "10     11  0.139693  0.014510  0.0119   1826.0\n",
       "11     12  0.189896  0.019122  0.0100   1739.0"
      ]
     },
     "execution_count": 48,
     "metadata": {},
     "output_type": "execute_result"
    }
   ],
   "source": [
    "summary_month"
   ]
  },
  {
   "cell_type": "code",
   "execution_count": 62,
   "metadata": {
    "collapsed": false
   },
   "outputs": [
    {
     "data": {
      "text/html": [
       "<div>\n",
       "<style>\n",
       "    .dataframe thead tr:only-child th {\n",
       "        text-align: right;\n",
       "    }\n",
       "\n",
       "    .dataframe thead th {\n",
       "        text-align: left;\n",
       "    }\n",
       "\n",
       "    .dataframe tbody tr th {\n",
       "        vertical-align: top;\n",
       "    }\n",
       "</style>\n",
       "<table border=\"1\" class=\"dataframe\">\n",
       "  <thead>\n",
       "    <tr style=\"text-align: right;\">\n",
       "      <th></th>\n",
       "      <th>month</th>\n",
       "      <th>std</th>\n",
       "      <th>mean</th>\n",
       "      <th>median</th>\n",
       "      <th>size</th>\n",
       "    </tr>\n",
       "  </thead>\n",
       "  <tbody>\n",
       "    <tr>\n",
       "      <th>0</th>\n",
       "      <td>5</td>\n",
       "      <td>0.150861</td>\n",
       "      <td>0.006926</td>\n",
       "      <td>0.0030</td>\n",
       "      <td>9961.0</td>\n",
       "    </tr>\n",
       "    <tr>\n",
       "      <th>1</th>\n",
       "      <td>6</td>\n",
       "      <td>0.151433</td>\n",
       "      <td>0.007172</td>\n",
       "      <td>0.0040</td>\n",
       "      <td>10922.0</td>\n",
       "    </tr>\n",
       "    <tr>\n",
       "      <th>2</th>\n",
       "      <td>7</td>\n",
       "      <td>0.151663</td>\n",
       "      <td>0.011687</td>\n",
       "      <td>0.0050</td>\n",
       "      <td>9947.0</td>\n",
       "    </tr>\n",
       "    <tr>\n",
       "      <th>3</th>\n",
       "      <td>8</td>\n",
       "      <td>0.161429</td>\n",
       "      <td>0.011573</td>\n",
       "      <td>0.0050</td>\n",
       "      <td>10476.0</td>\n",
       "    </tr>\n",
       "    <tr>\n",
       "      <th>4</th>\n",
       "      <td>9</td>\n",
       "      <td>0.150357</td>\n",
       "      <td>0.016255</td>\n",
       "      <td>0.0100</td>\n",
       "      <td>9575.0</td>\n",
       "    </tr>\n",
       "    <tr>\n",
       "      <th>5</th>\n",
       "      <td>10</td>\n",
       "      <td>0.134488</td>\n",
       "      <td>0.016342</td>\n",
       "      <td>0.0109</td>\n",
       "      <td>4977.0</td>\n",
       "    </tr>\n",
       "  </tbody>\n",
       "</table>\n",
       "</div>"
      ],
      "text/plain": [
       "   month       std      mean  median     size\n",
       "0      5  0.150861  0.006926  0.0030   9961.0\n",
       "1      6  0.151433  0.007172  0.0040  10922.0\n",
       "2      7  0.151663  0.011687  0.0050   9947.0\n",
       "3      8  0.161429  0.011573  0.0050  10476.0\n",
       "4      9  0.150357  0.016255  0.0100   9575.0\n",
       "5     10  0.134488  0.016342  0.0109   4977.0"
      ]
     },
     "execution_count": 62,
     "metadata": {},
     "output_type": "execute_result"
    }
   ],
   "source": [
    "month_list = [5,6,7,8,9,10]\n",
    "model_month_dataframe = summary_month[summary_month['month'].isin(month_list)].reset_index(drop=True)\n",
    "model_month_dataframe"
   ]
  },
  {
   "cell_type": "code",
   "execution_count": 77,
   "metadata": {
    "collapsed": false
   },
   "outputs": [
    {
     "data": {
      "text/html": [
       "<div>\n",
       "<style>\n",
       "    .dataframe thead tr:only-child th {\n",
       "        text-align: right;\n",
       "    }\n",
       "\n",
       "    .dataframe thead th {\n",
       "        text-align: left;\n",
       "    }\n",
       "\n",
       "    .dataframe tbody tr th {\n",
       "        vertical-align: top;\n",
       "    }\n",
       "</style>\n",
       "<table border=\"1\" class=\"dataframe\">\n",
       "  <thead>\n",
       "    <tr style=\"text-align: right;\">\n",
       "      <th></th>\n",
       "      <th>month</th>\n",
       "      <th>std</th>\n",
       "      <th>mean</th>\n",
       "      <th>median</th>\n",
       "      <th>size</th>\n",
       "      <th>wght</th>\n",
       "    </tr>\n",
       "  </thead>\n",
       "  <tbody>\n",
       "    <tr>\n",
       "      <th>0</th>\n",
       "      <td>5</td>\n",
       "      <td>0.150861</td>\n",
       "      <td>0.006926</td>\n",
       "      <td>0.0030</td>\n",
       "      <td>9961.0</td>\n",
       "      <td>0.009950</td>\n",
       "    </tr>\n",
       "    <tr>\n",
       "      <th>1</th>\n",
       "      <td>6</td>\n",
       "      <td>0.151433</td>\n",
       "      <td>0.007172</td>\n",
       "      <td>0.0040</td>\n",
       "      <td>10922.0</td>\n",
       "      <td>0.601481</td>\n",
       "    </tr>\n",
       "    <tr>\n",
       "      <th>2</th>\n",
       "      <td>7</td>\n",
       "      <td>0.151663</td>\n",
       "      <td>0.011687</td>\n",
       "      <td>0.0050</td>\n",
       "      <td>9947.0</td>\n",
       "      <td>0.839586</td>\n",
       "    </tr>\n",
       "    <tr>\n",
       "      <th>3</th>\n",
       "      <td>8</td>\n",
       "      <td>0.161429</td>\n",
       "      <td>0.011573</td>\n",
       "      <td>0.0050</td>\n",
       "      <td>10476.0</td>\n",
       "      <td>0.935430</td>\n",
       "    </tr>\n",
       "    <tr>\n",
       "      <th>4</th>\n",
       "      <td>9</td>\n",
       "      <td>0.150357</td>\n",
       "      <td>0.016255</td>\n",
       "      <td>0.0100</td>\n",
       "      <td>9575.0</td>\n",
       "      <td>0.974009</td>\n",
       "    </tr>\n",
       "    <tr>\n",
       "      <th>5</th>\n",
       "      <td>10</td>\n",
       "      <td>0.134488</td>\n",
       "      <td>0.016342</td>\n",
       "      <td>0.0109</td>\n",
       "      <td>4977.0</td>\n",
       "      <td>0.989538</td>\n",
       "    </tr>\n",
       "  </tbody>\n",
       "</table>\n",
       "</div>"
      ],
      "text/plain": [
       "   month       std      mean  median     size      wght\n",
       "0      5  0.150861  0.006926  0.0030   9961.0  0.009950\n",
       "1      6  0.151433  0.007172  0.0040  10922.0  0.601481\n",
       "2      7  0.151663  0.011687  0.0050   9947.0  0.839586\n",
       "3      8  0.161429  0.011573  0.0050  10476.0  0.935430\n",
       "4      9  0.150357  0.016255  0.0100   9575.0  0.974009\n",
       "5     10  0.134488  0.016342  0.0109   4977.0  0.989538"
      ]
     },
     "execution_count": 77,
     "metadata": {},
     "output_type": "execute_result"
    }
   ],
   "source": [
    "def weight_month(model_month_dataframe, decay, a=None, b=None):\n",
    "#     model_month_dataframe: aggregated monthly stats including transaction count and logerror std only for \n",
    "#     decay: decay function choices such as linear ('LNR'), concave ('CCV'), piece-wise linear ('')\n",
    "\n",
    "    if decay == 'LNR':\n",
    "        model_month_dataframe['wght'] = b + a*model_month_dataframe.index\n",
    "    elif decay == 'CCV':\n",
    "        model_month_dataframe['wght'] = 1 - np.exp(b - (b+a)*(1+model_month_dataframe.index))\n",
    "\n",
    "    return model_month_dataframe\n",
    "\n",
    "\n",
    "# test1 = weight_month(model_month_dataframe, 'LNR', a=0.2, b=0.1)\n",
    "test2 = weight_month(model_month_dataframe, 'CCV', a=0.01, b=0.9)\n",
    "test2"
   ]
  },
  {
   "cell_type": "code",
   "execution_count": 31,
   "metadata": {
    "collapsed": false,
    "scrolled": false
   },
   "outputs": [
    {
     "data": {
      "text/plain": [
       "<matplotlib.text.Text at 0xcd391cf630>"
      ]
     },
     "execution_count": 31,
     "metadata": {},
     "output_type": "execute_result"
    },
    {
     "data": {
      "image/png": "[encoded data removed]",
      "text/plain": [
       "<matplotlib.figure.Figure at 0xcd38f34908>"
      ]
     },
     "metadata": {},
     "output_type": "display_data"
    }
   ],
   "source": [
    "plt.figure(figsize=(15,10))\n",
    "plt.subplot(2,2,1)\n",
    "plt.plot(summary_month.index, summary_month['size'], 'bo--')\n",
    "plt.title('# of transaction')\n",
    "plt.subplot(2,2,2)\n",
    "plt.plot(summary_month.index, summary_month['mean'], 'ro--',summary_month.index, summary_month['median'], 'mo--')\n",
    "plt.title('mean & median price')\n",
    "plt.subplot(2,2,3)\n",
    "plt.plot(summary_month.index, summary_month['std'], 'go--')\n",
    "plt.title('standard deviation')"
   ]
  }
 ],
 "metadata": {
  "kernelspec": {
   "display_name": "Python 3",
   "language": "python",
   "name": "python3"
  },
  "language_info": {
   "codemirror_mode": {
    "name": "ipython",
    "version": 3
   },
   "file_extension": ".py",
   "mimetype": "text/x-python",
   "name": "python",
   "nbconvert_exporter": "python",
   "pygments_lexer": "ipython3",
   "version": "3.5.4"
  }
 },
 "nbformat": 4,
 "nbformat_minor": 1
}
