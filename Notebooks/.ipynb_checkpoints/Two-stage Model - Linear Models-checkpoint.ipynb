{
 "cells": [
  {
   "cell_type": "code",
   "execution_count": 1,
   "metadata": {
    "collapsed": true
   },
   "outputs": [],
   "source": [
    "import pandas as pd\n",
    "from pandas import DataFrame,Series\n",
    "import numpy as np\n",
    "import os\n",
    "import datetime\n",
    "\n",
    "#Plotting\n",
    "import matplotlib.pyplot as plt\n",
    "import matplotlib.gridspec as gridspec\n",
    "%matplotlib inline\n",
    "\n",
    "# sklearn stuff\n",
    "from sklearn.model_selection import GridSearchCV, cross_val_score\n",
    "from sklearn.metrics import confusion_matrix, mean_squared_error, precision_score\n",
    "from sklearn.preprocessing import StandardScaler, OneHotEncoder, LabelEncoder, Imputer, PolynomialFeatures\n",
    "from sklearn.pipeline import Pipeline, FeatureUnion\n",
    "from sklearn.base import BaseEstimator, TransformerMixin\n",
    "\n",
    "from scipy.stats import mode,rankdata\n",
    "\n",
    "import feature_pipelines as pipes"
   ]
  },
  {
   "cell_type": "markdown",
   "metadata": {},
   "source": [
    "### Submission Functions "
   ]
  },
  {
   "cell_type": "code",
   "execution_count": 2,
   "metadata": {
    "collapsed": true
   },
   "outputs": [],
   "source": [
    "def generate_regression_preds(reg, model_name='pred_logerror', month = -1):\n",
    "    reg_preds = None\n",
    "    # change month of properties\n",
    "    properties['month'] = month\n",
    "    for i in range(int(properties.shape[0] / 100000)):   \n",
    "        # get current test features\n",
    "        current_test_feats = feature_pipeline.transform(properties.iloc[i*100000:(i+1)*100000])\n",
    "\n",
    "        # predict on current test obs\n",
    "        current_preds = Series(reg.predict(current_test_feats), name=model_name,\n",
    "                              index = np.arange(i*100000,(i+1)*100000))\n",
    "\n",
    "        if reg_preds is not None:\n",
    "            reg_preds = pd.concat([reg_preds, current_preds])\n",
    "        else:\n",
    "            reg_preds = current_preds\n",
    "\n",
    "    #  fencepost problem\n",
    "    current_test_feats = feature_pipeline.transform(properties.iloc[2900000:])\n",
    "    current_preds = Series(reg.predict(current_test_feats), name=model_name,\n",
    "                          index = np.arange(2900000,2985217))\n",
    "    reg_preds = pd.concat([reg_preds, current_preds])\n",
    "    \n",
    "    del properties['month']\n",
    "    return reg_preds"
   ]
  },
  {
   "cell_type": "code",
   "execution_count": 3,
   "metadata": {
    "collapsed": true
   },
   "outputs": [],
   "source": [
    "def generate_submissions(oct_model,nov_model,dec_model,name='new_submission',logy=True):\n",
    "    \"\"\"\n",
    "    This function creates the submission file for the public leaderboard predictions.\n",
    "    Three already fitted models, one for each of the predicting time points, is required.\n",
    "    \"\"\"\n",
    "    submission_df = DataFrame()\n",
    "    for i in range(int(properties.shape[0] / 100000)):\n",
    "        all_feats = full_pipeline.transform(properties.iloc[i*100000:(i+1)*100000])\n",
    "        foo = properties.iloc[i*100000:(i+1)*100000][['parcelid']].reset_index(drop=True)\n",
    "        if logy:\n",
    "            foo = pd.concat([foo, DataFrame({'201610': oct_model.predict(all_feats),\n",
    "                                                            '201611': nov_model.predict(all_feats),\n",
    "                                                            '201612': dec_model.predict(all_feats)})], axis=1)\n",
    "        else:\n",
    "            foo = pd.concat([foo, DataFrame({'201610': np.log(oct_model.predict(all_feats)),\n",
    "                                                            '201611': np.log(nov_model.predict(all_feats)),\n",
    "                                                            '201612': np.log(dec_model.predict(all_feats))})], axis=1)\n",
    "        submission_df = pd.concat([submission_df, foo], ignore_index=True)\n",
    "\n",
    "    #  fencepost problem\n",
    "    all_feats = full_pipeline.transform(properties.iloc[2900000:])\n",
    "    foo = properties.iloc[2900000:][['parcelid']].reset_index(drop=True)\n",
    "    foo = pd.concat([foo, DataFrame({'201610': oct_model.predict(all_feats),\n",
    "                                                    '201611': nov_model.predict(all_feats),\n",
    "                                                    '201612': dec_model.predict(all_feats)})], axis=1)\n",
    "    submission_df = pd.concat([submission_df, foo], ignore_index=True)\n",
    "    \n",
    "    submission_df['201710'] = 0\n",
    "    submission_df['201711'] = 0\n",
    "    submission_df['201712'] = 0\n",
    "    \n",
    "    submission_df.rename(columns={'parcelid':'ParcelId'}, inplace=True)    \n",
    "#     submission_df[['201610','201611','201612','201710','201711','201712']]= submission_df[['201610','201611','201612',\n",
    "#                                                                                            '201710','201711','201712']].round(4)\n",
    "    # unit test\n",
    "    submission_df.drop_duplicates(inplace=True)\n",
    "    assert submission_df.shape[0] == properties.shape[0]\n",
    "    # write to .csv\n",
    "    submission_df[['ParcelId','201610','201611','201612',\n",
    "                  '201710','201711','201712']].to_csv(name + \".gz\", index=False, float_format='%.4g', compression='gzip')\n",
    "    return submission_df"
   ]
  },
  {
   "cell_type": "code",
   "execution_count": 4,
   "metadata": {
    "collapsed": true
   },
   "outputs": [],
   "source": [
    "def mean_absolute_errors(submission_df, comparison_df):\n",
    "    \"\"\"\n",
    "    This function takes a submission entry for public leaderboard, and returns\n",
    "    the training error for each month.\n",
    "    \"\"\"\n",
    "    # training error\n",
    "    trainresults = pd.merge(submission_df[['ParcelId','201610','201611','201612']], comparison_df[['parcelid','logerror','month']],\n",
    "                           left_on='ParcelId', right_on='parcelid')\n",
    "    oct_error = abs(trainresults[trainresults['month'] == 10]['201610'] \n",
    "                    - trainresults[trainresults['month'] == 10]['logerror']).mean()\n",
    "    nov_error = abs(trainresults[trainresults['month'] == 11]['201611'] \n",
    "                    - trainresults[trainresults['month'] == 11]['logerror']).mean()\n",
    "    dec_error = abs(trainresults[trainresults['month'] == 12]['201612'] \n",
    "                    - trainresults[trainresults['month'] == 12]['logerror']).mean()\n",
    "    overall_mae = (oct_error*(trainresults['month'] == 10).sum() + nov_error*(trainresults['month'] == 11).sum() \n",
    "                        + dec_error*(trainresults['month'] == 12).sum()) / (trainresults['month'].isin([10,11,12])).sum()\n",
    "    return (oct_error, nov_error, dec_error, overall_mae)"
   ]
  },
  {
   "cell_type": "markdown",
   "metadata": {},
   "source": [
    "### Reading in data "
   ]
  },
  {
   "cell_type": "code",
   "execution_count": 5,
   "metadata": {
    "collapsed": false
   },
   "outputs": [
    {
     "name": "stderr",
     "output_type": "stream",
     "text": [
      "/home/anerdi/anaconda3/lib/python3.5/site-packages/IPython/core/interactiveshell.py:2723: DtypeWarning: Columns (22,32,34,49,55) have mixed types. Specify dtype option on import or set low_memory=False.\n",
      "  interactivity=interactivity, compiler=compiler, result=result)\n"
     ]
    }
   ],
   "source": [
    "maindir = \"/home/anerdi/Desktop/Zillow\"\n",
    "\n",
    "logerror = pd.read_csv(maindir + \"/data/train_2016_v2.csv/train_2016_v2.csv\")\n",
    "logerror['weeknumber'] = logerror['transactiondate'].apply(lambda x: datetime.datetime.strptime(x,'%Y-%m-%d').isocalendar()[1])\n",
    "logerror['month'] = logerror['transactiondate'].apply(lambda x: datetime.datetime.strptime(x,'%Y-%m-%d').month)\n",
    "properties = pd.read_csv(maindir + \"/data/properties_2016.csv/properties_2016.csv\")"
   ]
  },
  {
   "cell_type": "code",
   "execution_count": 6,
   "metadata": {
    "collapsed": false
   },
   "outputs": [],
   "source": [
    "#proportion of living area\n",
    "properties['N-LivingAreaProp'] = properties['calculatedfinishedsquarefeet']/properties['lotsizesquarefeet']\n",
    "\n",
    "properties['N-NonLivingAreaProp'] = properties['garagetotalsqft']/properties['lotsizesquarefeet']\n",
    "\n",
    "#Ratio of the built structure value to land area\n",
    "properties['N-ValueProp'] = properties['structuretaxvaluedollarcnt']/properties['landtaxvaluedollarcnt']\n",
    "\n",
    "#Ratio of tax of property over parcel\n",
    "properties['N-ValueRatio'] = properties['taxvaluedollarcnt']/properties['taxamount']\n",
    "\n",
    "# Pool\n",
    "properties['poolsizesum'] = properties['poolsizesum'].fillna(0)\n",
    "# properties['Pool'] = (properties['poolsizesum'] > 0).astype(int)\n",
    "properties['Pool'] = (properties['pooltypeid2'].fillna(0) + properties['pooltypeid7'].fillna(0)).astype(int)\n",
    "\n",
    "properties['regionidcounty'] = properties['regionidcounty'].fillna(9999)\n",
    "properties['regionidcity'] = properties['regionidcity'].fillna(-1)\n",
    "\n",
    "# some more feature engineering\n",
    "properties['age'] = 2017 - properties['yearbuilt']\n",
    "properties['additional_rooms_count'] = np.maximum((properties['roomcnt'].values \n",
    "                                                   - properties['calculatedbathnbr'].values\n",
    "                                                   - properties['bedroomcnt'].values),0)\n",
    "\n",
    "# higher order terms\n",
    "properties['bedroomcnt2'] = properties['bedroomcnt'] ** 2\n",
    "properties['bedroomcnt3'] = properties['bedroomcnt'] ** 3"
   ]
  },
  {
   "cell_type": "markdown",
   "metadata": {},
   "source": [
    "### Read in outlier detection results by Gacia and Qishu "
   ]
  },
  {
   "cell_type": "code",
   "execution_count": 7,
   "metadata": {
    "collapsed": true
   },
   "outputs": [],
   "source": [
    "# outliers = np.loadtxt(\"exclude_index.csv\", dtype=int)\n",
    "# data = data.iloc[np.setdiff1d(np.arange(data.shape[0]), outliers),:].reset_index(drop=True)"
   ]
  },
  {
   "cell_type": "markdown",
   "metadata": {},
   "source": [
    "### Data  Preprocessing Pipeline"
   ]
  },
  {
   "cell_type": "code",
   "execution_count": 8,
   "metadata": {
    "collapsed": false
   },
   "outputs": [],
   "source": [
    "# Setup variables considered in the model\n",
    "\n",
    "# numerical variables\n",
    "num_atts = ['garagetotalsqft', \n",
    "            'calculatedbathnbr',\n",
    "            'structuretaxvaluedollarcnt',\n",
    "            'bedroomcnt',\n",
    "            'age']\n",
    "\n",
    "num_atts_to_interact = ['calculatedfinishedsquarefeet', 'lotsizesquarefeet']\n",
    "\n",
    "# categorical varaibles\n",
    "cat_atts = ['airconditioningtypeid',\n",
    "            'heatingorsystemtypeid',\n",
    "            'Pool',\n",
    "            'propertylandusetypeid',\n",
    "            'taxdelinquencyflag',\n",
    "            'architecturalstyletypeid',\n",
    "            'regionidcounty',\n",
    "            'month']\n",
    "\n",
    "# Dictionary of categorical variables and their default levels\n",
    "cat_dict = {key:value for key,value in {'airconditioningtypeid':[-1] + list(range(1,14)),\n",
    "           'architecturalstyletypeid':[-1] + list(range(1,28)),\n",
    "           'buildingclasstypeid':[-1] + list(range(1,6)),\n",
    "            'heatingorsystemtypeid':[-1] + list(range(1,26)),\n",
    "            'pooltypeid10': list(range(-1,2)),\n",
    "            'pooltypeid2': list(range(-1,2)),\n",
    "            'pooltypeid7': list(range(-1,2)),\n",
    "            'Pool': [0,1],\n",
    "            'propertylandusetypeid': [-1, 31,46,47,246,247,248,260,261,262,263,264,265,266,267,268,269,270,271,\n",
    "                                     273,274,275,276,279,290,291],\n",
    "            'regionidcounty': [-1]+ [2061,3101,1286],\n",
    "            'regionidcity':  properties.regionidcity.unique().tolist(),\n",
    "            'month': [-1] + list(range(1,13)),\n",
    "            'zestimate_type': [1,2,3],\n",
    "            'storytypeid':[-1] + list(range(1,36)),\n",
    "            'typeconstructiontypeid':[-1] + list(range(1,19)),\n",
    "            'yearbuilt': [-1] + list(range(1885,2018)),\n",
    "            'fireplaceflag': [-1] + ['True','False'],\n",
    "            'taxdelinquencyflag': [-1] + ['Y','N']\n",
    "           }.items() if key in cat_atts}\n",
    "\n",
    "# pairs to interact (x1,x2) where x1 is categorical and x2 is continuous\n",
    "interact_pairs = [\n",
    "                ('regionidcounty','calculatedbathnbr'),\n",
    "                ('regionidcounty','bedroomcnt'),\n",
    "                ('regionidcounty','structuretaxvaluedollarcnt'),\n",
    "                ('regionidcounty','age')\n",
    "    ]"
   ]
  },
  {
   "cell_type": "code",
   "execution_count": 9,
   "metadata": {
    "collapsed": false
   },
   "outputs": [],
   "source": [
    "# Categorical pipeline\n",
    "cat_pipeline = Pipeline([\n",
    "        ('select_and_dummify', pipes.DF_Selector_GetDummies(cat_dict)),\n",
    "    ])\n",
    "\n",
    "# Numerical pipeline\n",
    "num_pipeline = Pipeline([\n",
    "        ('selector', pipes.DataFrameSelector(num_atts)),\n",
    "        ('imputer', Imputer()),\n",
    "        ('scaler', StandardScaler())\n",
    "    ])\n",
    "\n",
    "# interaction pipelines\n",
    "cat_interact_pipeline = Pipeline([\n",
    "        ('dummify_and_interact',pipes.Dummify_and_Interact(interact_pairs,cat_dict)),\n",
    "    ])\n",
    "\n",
    "num_interact_pipeline = Pipeline([\n",
    "        ('selector', pipes.DataFrameSelector(num_atts_to_interact)),\n",
    "        ('imputer', Imputer()),\n",
    "        ('polynomial_features', PolynomialFeatures(2, include_bias=False)),\n",
    "        ('scaler', StandardScaler())\n",
    "    ])\n",
    "\n",
    "# Full pipeline\n",
    "feature_pipeline = FeatureUnion(transformer_list=[\n",
    "        (\"num_pipeline\", num_pipeline),\n",
    "        (\"num_interact_pipeline\", num_interact_pipeline),\n",
    "        (\"cat_pipeline\", cat_pipeline),\n",
    "        (\"cat_interact_pipeline\", cat_interact_pipeline)\n",
    "    ])"
   ]
  },
  {
   "cell_type": "code",
   "execution_count": 10,
   "metadata": {
    "collapsed": false
   },
   "outputs": [],
   "source": [
    "# impute missing num_atts per regionid\n",
    "for countyid in properties.regionidcounty.unique():\n",
    "    # setup condition\n",
    "    cond = properties['regionidcounty'] == countyid\n",
    "    indices = np.where(cond)[0]\n",
    "    # impute values based on region\n",
    "    if countyid != 9999:\n",
    "        properties.loc[indices,num_atts] = (properties.loc[indices,num_atts]\n",
    "                                .fillna(properties.loc[indices,num_atts]\n",
    "                                .apply(np.mean)))\n",
    "    else:\n",
    "        properties.loc[indices,num_atts] = (properties.loc[indices,num_atts]\n",
    "                                            .fillna(properties[num_atts]\n",
    "                                            .apply(np.mean)))"
   ]
  },
  {
   "cell_type": "code",
   "execution_count": 11,
   "metadata": {
    "collapsed": false
   },
   "outputs": [],
   "source": [
    "assert properties[num_atts].isnull().any().any() == False"
   ]
  },
  {
   "cell_type": "code",
   "execution_count": 12,
   "metadata": {
    "collapsed": true
   },
   "outputs": [],
   "source": [
    "# join on parcel id\n",
    "data = pd.merge(properties,logerror[['parcelid','logerror','month']], on='parcelid')"
   ]
  },
  {
   "cell_type": "code",
   "execution_count": 13,
   "metadata": {
    "collapsed": false
   },
   "outputs": [
    {
     "data": {
      "text/plain": [
       "FeatureUnion(n_jobs=1,\n",
       "       transformer_list=[('num_pipeline', Pipeline(memory=None,\n",
       "     steps=[('selector', DataFrameSelector(desired_cols=['garagetotalsqft', 'calculatedbathnbr', 'structuretaxvaluedollarcnt', 'bedroomcnt', 'age'])), ('imputer', Imputer(axis=0, copy=True, missing_values='NaN', strategy='mean', verbose=0)), (...', 'bedroomcnt'), ('regionidcounty', 'structuretaxvaluedollarcnt'), ('regionidcounty', 'age')]))]))],\n",
       "       transformer_weights=None)"
      ]
     },
     "execution_count": 13,
     "metadata": {},
     "output_type": "execute_result"
    }
   ],
   "source": [
    "feature_pipeline.fit(data) #fitting the pipeline to the entire properties dataframe"
   ]
  },
  {
   "cell_type": "code",
   "execution_count": 14,
   "metadata": {
    "collapsed": true
   },
   "outputs": [],
   "source": [
    "import gc"
   ]
  },
  {
   "cell_type": "code",
   "execution_count": 15,
   "metadata": {
    "collapsed": false
   },
   "outputs": [
    {
     "data": {
      "text/plain": [
       "34"
      ]
     },
     "execution_count": 15,
     "metadata": {},
     "output_type": "execute_result"
    }
   ],
   "source": [
    "gc.collect()"
   ]
  },
  {
   "cell_type": "markdown",
   "metadata": {},
   "source": [
    "## Splitting the Training Set"
   ]
  },
  {
   "cell_type": "code",
   "execution_count": 16,
   "metadata": {
    "collapsed": true
   },
   "outputs": [],
   "source": [
    "ix_overestimated = np.where(data['logerror'] >= 0)[0]\n",
    "ix_underestimated = np.where(data['logerror'] < 0)[0]\n",
    "data_indices = {\"over\": ix_overestimated, \"under\": ix_underestimated}"
   ]
  },
  {
   "cell_type": "code",
   "execution_count": 17,
   "metadata": {
    "collapsed": false
   },
   "outputs": [],
   "source": [
    "assert ix_overestimated.shape[0] + ix_underestimated.shape[0] == data.shape[0]"
   ]
  },
  {
   "cell_type": "markdown",
   "metadata": {},
   "source": [
    "## Training Elastic Net"
   ]
  },
  {
   "cell_type": "code",
   "execution_count": 18,
   "metadata": {
    "collapsed": true
   },
   "outputs": [],
   "source": [
    "from sklearn.linear_model import ElasticNet, Lars, HuberRegressor\n",
    "from sklearn.base import clone\n",
    "\n",
    "import warnings\n",
    "warnings.filterwarnings(\"ignore\")"
   ]
  },
  {
   "cell_type": "code",
   "execution_count": 19,
   "metadata": {
    "collapsed": false
   },
   "outputs": [],
   "source": [
    "models = [\n",
    "    (\"ridge\",ElasticNet(alpha=1.25, l1_ratio = 0, max_iter=1000)),\n",
    "    (\"enet\", ElasticNet(alpha=0.025, l1_ratio = 0.5, max_iter=1000)),\n",
    "    (\"lasso\", ElasticNet(alpha=0.025, l1_ratio = 1, max_iter=1000)),\n",
    "    (\"larm\", Lars(n_nonzero_coefs = 1)),\n",
    "    (\"huber\", HuberRegressor())\n",
    "]"
   ]
  },
  {
   "cell_type": "code",
   "execution_count": 20,
   "metadata": {
    "collapsed": false
   },
   "outputs": [
    {
     "name": "stdout",
     "output_type": "stream",
     "text": [
      "Current model: ridge\n",
      "Current model: enet\n",
      "Current model: lasso\n",
      "Current model: larm\n",
      "Current model: huber\n"
     ]
    }
   ],
   "source": [
    "test_predictions = pd.read_csv(maindir + \"/data/properties_2016.csv/properties_2016.csv\", usecols=['parcelid'])\n",
    "\n",
    "for pair in models:\n",
    "    current_model_name,current_model = pair\n",
    "    print(\"Current model: %s\" % current_model_name)\n",
    "    \n",
    "    for key,val in data_indices.items():\n",
    "        type_of_zestimate, ix = key, val\n",
    "\n",
    "        # preprocess current training data\n",
    "        current_traindata = data.iloc[ix,]\n",
    "\n",
    "        # get a clone of the model and fit the current training data\n",
    "        reg = clone(current_model)\n",
    "        reg.fit(feature_pipeline.transform(current_traindata), current_traindata['logerror'])\n",
    "\n",
    "        for month in [10,11,12]:\n",
    "            # obtain predictions on test set\n",
    "            reg_preds = generate_regression_preds(reg, model_name=\"%s_%d_%s\" % (current_model_name,month,type_of_zestimate),\n",
    "                                                month = month)\n",
    "            test_predictions = pd.concat([test_predictions, reg_preds], axis=1)"
   ]
  },
  {
   "cell_type": "code",
   "execution_count": 22,
   "metadata": {
    "collapsed": false
   },
   "outputs": [
    {
     "data": {
      "text/html": [
       "<div>\n",
       "<style>\n",
       "    .dataframe thead tr:only-child th {\n",
       "        text-align: right;\n",
       "    }\n",
       "\n",
       "    .dataframe thead th {\n",
       "        text-align: left;\n",
       "    }\n",
       "\n",
       "    .dataframe tbody tr th {\n",
       "        vertical-align: top;\n",
       "    }\n",
       "</style>\n",
       "<table border=\"1\" class=\"dataframe\">\n",
       "  <thead>\n",
       "    <tr style=\"text-align: right;\">\n",
       "      <th></th>\n",
       "      <th>parcelid</th>\n",
       "      <th>ridge_10_under</th>\n",
       "      <th>ridge_11_under</th>\n",
       "      <th>ridge_12_under</th>\n",
       "      <th>ridge_10_over</th>\n",
       "      <th>ridge_11_over</th>\n",
       "      <th>ridge_12_over</th>\n",
       "      <th>enet_10_under</th>\n",
       "      <th>enet_11_under</th>\n",
       "      <th>enet_12_under</th>\n",
       "      <th>...</th>\n",
       "      <th>larm_12_under</th>\n",
       "      <th>larm_10_over</th>\n",
       "      <th>larm_11_over</th>\n",
       "      <th>larm_12_over</th>\n",
       "      <th>huber_10_under</th>\n",
       "      <th>huber_11_under</th>\n",
       "      <th>huber_12_under</th>\n",
       "      <th>huber_10_over</th>\n",
       "      <th>huber_11_over</th>\n",
       "      <th>huber_12_over</th>\n",
       "    </tr>\n",
       "  </thead>\n",
       "  <tbody>\n",
       "    <tr>\n",
       "      <th>0</th>\n",
       "      <td>10754147</td>\n",
       "      <td>-0.083343</td>\n",
       "      <td>-0.083460</td>\n",
       "      <td>-0.083549</td>\n",
       "      <td>0.081872</td>\n",
       "      <td>0.081947</td>\n",
       "      <td>0.082185</td>\n",
       "      <td>-0.073147</td>\n",
       "      <td>-0.073147</td>\n",
       "      <td>-0.073147</td>\n",
       "      <td>...</td>\n",
       "      <td>-0.067742</td>\n",
       "      <td>0.073268</td>\n",
       "      <td>0.073268</td>\n",
       "      <td>0.073268</td>\n",
       "      <td>-0.030622</td>\n",
       "      <td>-0.030622</td>\n",
       "      <td>-0.030622</td>\n",
       "      <td>0.028524</td>\n",
       "      <td>0.028524</td>\n",
       "      <td>0.028524</td>\n",
       "    </tr>\n",
       "    <tr>\n",
       "      <th>1</th>\n",
       "      <td>10759547</td>\n",
       "      <td>-0.080735</td>\n",
       "      <td>-0.080853</td>\n",
       "      <td>-0.080942</td>\n",
       "      <td>0.080371</td>\n",
       "      <td>0.080446</td>\n",
       "      <td>0.080683</td>\n",
       "      <td>-0.073147</td>\n",
       "      <td>-0.073147</td>\n",
       "      <td>-0.073147</td>\n",
       "      <td>...</td>\n",
       "      <td>-0.067742</td>\n",
       "      <td>0.073268</td>\n",
       "      <td>0.073268</td>\n",
       "      <td>0.073268</td>\n",
       "      <td>-0.030622</td>\n",
       "      <td>-0.030622</td>\n",
       "      <td>-0.030622</td>\n",
       "      <td>0.028524</td>\n",
       "      <td>0.028524</td>\n",
       "      <td>0.028524</td>\n",
       "    </tr>\n",
       "    <tr>\n",
       "      <th>2</th>\n",
       "      <td>10843547</td>\n",
       "      <td>-0.820392</td>\n",
       "      <td>-0.820510</td>\n",
       "      <td>-0.820599</td>\n",
       "      <td>1.631166</td>\n",
       "      <td>1.631242</td>\n",
       "      <td>1.631479</td>\n",
       "      <td>-0.092616</td>\n",
       "      <td>-0.092616</td>\n",
       "      <td>-0.092616</td>\n",
       "      <td>...</td>\n",
       "      <td>-0.067742</td>\n",
       "      <td>0.073268</td>\n",
       "      <td>0.073268</td>\n",
       "      <td>0.073268</td>\n",
       "      <td>-0.117576</td>\n",
       "      <td>-0.117576</td>\n",
       "      <td>-0.117576</td>\n",
       "      <td>0.109521</td>\n",
       "      <td>0.109521</td>\n",
       "      <td>0.109521</td>\n",
       "    </tr>\n",
       "    <tr>\n",
       "      <th>3</th>\n",
       "      <td>10859147</td>\n",
       "      <td>-0.113977</td>\n",
       "      <td>-0.114095</td>\n",
       "      <td>-0.114183</td>\n",
       "      <td>0.109437</td>\n",
       "      <td>0.109512</td>\n",
       "      <td>0.109749</td>\n",
       "      <td>-0.098430</td>\n",
       "      <td>-0.098430</td>\n",
       "      <td>-0.098430</td>\n",
       "      <td>...</td>\n",
       "      <td>-0.071982</td>\n",
       "      <td>0.075447</td>\n",
       "      <td>0.075447</td>\n",
       "      <td>0.075447</td>\n",
       "      <td>-0.103229</td>\n",
       "      <td>-0.103229</td>\n",
       "      <td>-0.103229</td>\n",
       "      <td>0.096156</td>\n",
       "      <td>0.096156</td>\n",
       "      <td>0.096156</td>\n",
       "    </tr>\n",
       "    <tr>\n",
       "      <th>4</th>\n",
       "      <td>10879947</td>\n",
       "      <td>-0.094550</td>\n",
       "      <td>-0.094668</td>\n",
       "      <td>-0.094757</td>\n",
       "      <td>0.091331</td>\n",
       "      <td>0.091406</td>\n",
       "      <td>0.091643</td>\n",
       "      <td>-0.083955</td>\n",
       "      <td>-0.083955</td>\n",
       "      <td>-0.083955</td>\n",
       "      <td>...</td>\n",
       "      <td>-0.072357</td>\n",
       "      <td>0.075640</td>\n",
       "      <td>0.075640</td>\n",
       "      <td>0.075640</td>\n",
       "      <td>-0.035014</td>\n",
       "      <td>-0.035014</td>\n",
       "      <td>-0.035014</td>\n",
       "      <td>0.032615</td>\n",
       "      <td>0.032615</td>\n",
       "      <td>0.032615</td>\n",
       "    </tr>\n",
       "  </tbody>\n",
       "</table>\n",
       "<p>5 rows × 31 columns</p>\n",
       "</div>"
      ],
      "text/plain": [
       "   parcelid  ridge_10_under  ridge_11_under  ridge_12_under  ridge_10_over  \\\n",
       "0  10754147       -0.083343       -0.083460       -0.083549       0.081872   \n",
       "1  10759547       -0.080735       -0.080853       -0.080942       0.080371   \n",
       "2  10843547       -0.820392       -0.820510       -0.820599       1.631166   \n",
       "3  10859147       -0.113977       -0.114095       -0.114183       0.109437   \n",
       "4  10879947       -0.094550       -0.094668       -0.094757       0.091331   \n",
       "\n",
       "   ridge_11_over  ridge_12_over  enet_10_under  enet_11_under  enet_12_under  \\\n",
       "0       0.081947       0.082185      -0.073147      -0.073147      -0.073147   \n",
       "1       0.080446       0.080683      -0.073147      -0.073147      -0.073147   \n",
       "2       1.631242       1.631479      -0.092616      -0.092616      -0.092616   \n",
       "3       0.109512       0.109749      -0.098430      -0.098430      -0.098430   \n",
       "4       0.091406       0.091643      -0.083955      -0.083955      -0.083955   \n",
       "\n",
       "       ...        larm_12_under  larm_10_over  larm_11_over  larm_12_over  \\\n",
       "0      ...            -0.067742      0.073268      0.073268      0.073268   \n",
       "1      ...            -0.067742      0.073268      0.073268      0.073268   \n",
       "2      ...            -0.067742      0.073268      0.073268      0.073268   \n",
       "3      ...            -0.071982      0.075447      0.075447      0.075447   \n",
       "4      ...            -0.072357      0.075640      0.075640      0.075640   \n",
       "\n",
       "   huber_10_under  huber_11_under  huber_12_under  huber_10_over  \\\n",
       "0       -0.030622       -0.030622       -0.030622       0.028524   \n",
       "1       -0.030622       -0.030622       -0.030622       0.028524   \n",
       "2       -0.117576       -0.117576       -0.117576       0.109521   \n",
       "3       -0.103229       -0.103229       -0.103229       0.096156   \n",
       "4       -0.035014       -0.035014       -0.035014       0.032615   \n",
       "\n",
       "   huber_11_over  huber_12_over  \n",
       "0       0.028524       0.028524  \n",
       "1       0.028524       0.028524  \n",
       "2       0.109521       0.109521  \n",
       "3       0.096156       0.096156  \n",
       "4       0.032615       0.032615  \n",
       "\n",
       "[5 rows x 31 columns]"
      ]
     },
     "execution_count": 22,
     "metadata": {},
     "output_type": "execute_result"
    }
   ],
   "source": [
    "test_predictions.head()"
   ]
  },
  {
   "cell_type": "code",
   "execution_count": 23,
   "metadata": {
    "collapsed": false
   },
   "outputs": [],
   "source": [
    "# test_predictions.to_csv(\"/home/anerdi/Desktop/Zillow/twostagemodel/two_stage_preds_linear_models_age.csv.gz\",\n",
    "#                        compression='gzip', index=False)"
   ]
  },
  {
   "cell_type": "code",
   "execution_count": 24,
   "metadata": {
    "collapsed": false
   },
   "outputs": [],
   "source": [
    "overestimate_probabilities = pd.read_csv(\"/home/anerdi/Desktop/Zillow/twostagemodel/overestimate_probs_stacked_ann_rfs_xgbs.csv.gz\")\n",
    "overestimate_probabilities.rename(columns={'stacked_pred':'overestimate_prob'}, inplace=True)"
   ]
  },
  {
   "cell_type": "code",
   "execution_count": 25,
   "metadata": {
    "collapsed": false
   },
   "outputs": [
    {
     "data": {
      "text/html": [
       "<div>\n",
       "<style>\n",
       "    .dataframe thead tr:only-child th {\n",
       "        text-align: right;\n",
       "    }\n",
       "\n",
       "    .dataframe thead th {\n",
       "        text-align: left;\n",
       "    }\n",
       "\n",
       "    .dataframe tbody tr th {\n",
       "        vertical-align: top;\n",
       "    }\n",
       "</style>\n",
       "<table border=\"1\" class=\"dataframe\">\n",
       "  <thead>\n",
       "    <tr style=\"text-align: right;\">\n",
       "      <th></th>\n",
       "      <th>parcelid</th>\n",
       "      <th>ann_overestimate_prob</th>\n",
       "      <th>rf2_overestimate_prob</th>\n",
       "      <th>rf3_overestimate_prob</th>\n",
       "      <th>xgb1_overestimate_prob</th>\n",
       "      <th>xgb2_overestimate_prob</th>\n",
       "      <th>overestimate_prob</th>\n",
       "    </tr>\n",
       "  </thead>\n",
       "  <tbody>\n",
       "    <tr>\n",
       "      <th>0</th>\n",
       "      <td>10754147</td>\n",
       "      <td>0.469632</td>\n",
       "      <td>0.466012</td>\n",
       "      <td>0.495383</td>\n",
       "      <td>0.658496</td>\n",
       "      <td>0.665265</td>\n",
       "      <td>0.616614</td>\n",
       "    </tr>\n",
       "    <tr>\n",
       "      <th>1</th>\n",
       "      <td>10759547</td>\n",
       "      <td>0.406392</td>\n",
       "      <td>0.555562</td>\n",
       "      <td>0.524675</td>\n",
       "      <td>0.536781</td>\n",
       "      <td>0.519523</td>\n",
       "      <td>0.499032</td>\n",
       "    </tr>\n",
       "    <tr>\n",
       "      <th>2</th>\n",
       "      <td>10843547</td>\n",
       "      <td>0.880731</td>\n",
       "      <td>0.548264</td>\n",
       "      <td>0.548752</td>\n",
       "      <td>0.430116</td>\n",
       "      <td>0.485831</td>\n",
       "      <td>0.546513</td>\n",
       "    </tr>\n",
       "    <tr>\n",
       "      <th>3</th>\n",
       "      <td>10859147</td>\n",
       "      <td>0.569588</td>\n",
       "      <td>0.663067</td>\n",
       "      <td>0.543329</td>\n",
       "      <td>0.679050</td>\n",
       "      <td>0.547760</td>\n",
       "      <td>0.620737</td>\n",
       "    </tr>\n",
       "    <tr>\n",
       "      <th>4</th>\n",
       "      <td>10879947</td>\n",
       "      <td>0.540791</td>\n",
       "      <td>0.519636</td>\n",
       "      <td>0.485341</td>\n",
       "      <td>0.502730</td>\n",
       "      <td>0.516258</td>\n",
       "      <td>0.510328</td>\n",
       "    </tr>\n",
       "  </tbody>\n",
       "</table>\n",
       "</div>"
      ],
      "text/plain": [
       "   parcelid  ann_overestimate_prob  rf2_overestimate_prob  \\\n",
       "0  10754147               0.469632               0.466012   \n",
       "1  10759547               0.406392               0.555562   \n",
       "2  10843547               0.880731               0.548264   \n",
       "3  10859147               0.569588               0.663067   \n",
       "4  10879947               0.540791               0.519636   \n",
       "\n",
       "   rf3_overestimate_prob  xgb1_overestimate_prob  xgb2_overestimate_prob  \\\n",
       "0               0.495383                0.658496                0.665265   \n",
       "1               0.524675                0.536781                0.519523   \n",
       "2               0.548752                0.430116                0.485831   \n",
       "3               0.543329                0.679050                0.547760   \n",
       "4               0.485341                0.502730                0.516258   \n",
       "\n",
       "   overestimate_prob  \n",
       "0           0.616614  \n",
       "1           0.499032  \n",
       "2           0.546513  \n",
       "3           0.620737  \n",
       "4           0.510328  "
      ]
     },
     "execution_count": 25,
     "metadata": {},
     "output_type": "execute_result"
    }
   ],
   "source": [
    "overestimate_probabilities.head()"
   ]
  },
  {
   "cell_type": "markdown",
   "metadata": {},
   "source": [
    "#### Merging Results"
   ]
  },
  {
   "cell_type": "code",
   "execution_count": 26,
   "metadata": {
    "collapsed": false
   },
   "outputs": [],
   "source": [
    "test_predictions = pd.merge(test_predictions, overestimate_probabilities, on='parcelid')"
   ]
  },
  {
   "cell_type": "code",
   "execution_count": 27,
   "metadata": {
    "collapsed": false
   },
   "outputs": [],
   "source": [
    "for pair in models:\n",
    "    current_model_name, current_model = pair\n",
    "    # combine over and under to get prediction\n",
    "    for month in [10,11,12]:\n",
    "        test_predictions['%s_%d' % (current_model_name, month)] = (\n",
    "                test_predictions['%s_%d_over' % (current_model_name, month)]*test_predictions['overestimate_prob'] \n",
    "                + test_predictions['%s_%d_under' % (current_model_name, month)]*(1 - test_predictions['overestimate_prob']))"
   ]
  },
  {
   "cell_type": "code",
   "execution_count": 28,
   "metadata": {
    "collapsed": false
   },
   "outputs": [
    {
     "data": {
      "text/html": [
       "<div>\n",
       "<style>\n",
       "    .dataframe thead tr:only-child th {\n",
       "        text-align: right;\n",
       "    }\n",
       "\n",
       "    .dataframe thead th {\n",
       "        text-align: left;\n",
       "    }\n",
       "\n",
       "    .dataframe tbody tr th {\n",
       "        vertical-align: top;\n",
       "    }\n",
       "</style>\n",
       "<table border=\"1\" class=\"dataframe\">\n",
       "  <thead>\n",
       "    <tr style=\"text-align: right;\">\n",
       "      <th></th>\n",
       "      <th>parcelid</th>\n",
       "      <th>ridge_10_under</th>\n",
       "      <th>ridge_11_under</th>\n",
       "      <th>ridge_12_under</th>\n",
       "      <th>ridge_10_over</th>\n",
       "      <th>ridge_11_over</th>\n",
       "      <th>ridge_12_over</th>\n",
       "      <th>enet_10_under</th>\n",
       "      <th>enet_11_under</th>\n",
       "      <th>enet_12_under</th>\n",
       "      <th>...</th>\n",
       "      <th>enet_12</th>\n",
       "      <th>lasso_10</th>\n",
       "      <th>lasso_11</th>\n",
       "      <th>lasso_12</th>\n",
       "      <th>larm_10</th>\n",
       "      <th>larm_11</th>\n",
       "      <th>larm_12</th>\n",
       "      <th>huber_10</th>\n",
       "      <th>huber_11</th>\n",
       "      <th>huber_12</th>\n",
       "    </tr>\n",
       "  </thead>\n",
       "  <tbody>\n",
       "    <tr>\n",
       "      <th>0</th>\n",
       "      <td>10754147</td>\n",
       "      <td>-0.083343</td>\n",
       "      <td>-0.083460</td>\n",
       "      <td>-0.083549</td>\n",
       "      <td>0.081872</td>\n",
       "      <td>0.081947</td>\n",
       "      <td>0.082185</td>\n",
       "      <td>-0.073147</td>\n",
       "      <td>-0.073147</td>\n",
       "      <td>-0.073147</td>\n",
       "      <td>...</td>\n",
       "      <td>0.021758</td>\n",
       "      <td>0.021722</td>\n",
       "      <td>0.021722</td>\n",
       "      <td>0.021722</td>\n",
       "      <td>0.019207</td>\n",
       "      <td>0.019207</td>\n",
       "      <td>0.019207</td>\n",
       "      <td>0.005848</td>\n",
       "      <td>0.005848</td>\n",
       "      <td>0.005848</td>\n",
       "    </tr>\n",
       "    <tr>\n",
       "      <th>1</th>\n",
       "      <td>10759547</td>\n",
       "      <td>-0.080735</td>\n",
       "      <td>-0.080853</td>\n",
       "      <td>-0.080942</td>\n",
       "      <td>0.080371</td>\n",
       "      <td>0.080446</td>\n",
       "      <td>0.080683</td>\n",
       "      <td>-0.073147</td>\n",
       "      <td>-0.073147</td>\n",
       "      <td>-0.073147</td>\n",
       "      <td>...</td>\n",
       "      <td>0.003660</td>\n",
       "      <td>0.003593</td>\n",
       "      <td>0.003593</td>\n",
       "      <td>0.003593</td>\n",
       "      <td>0.002626</td>\n",
       "      <td>0.002626</td>\n",
       "      <td>0.002626</td>\n",
       "      <td>-0.001106</td>\n",
       "      <td>-0.001106</td>\n",
       "      <td>-0.001106</td>\n",
       "    </tr>\n",
       "    <tr>\n",
       "      <th>2</th>\n",
       "      <td>10843547</td>\n",
       "      <td>-0.820392</td>\n",
       "      <td>-0.820510</td>\n",
       "      <td>-0.820599</td>\n",
       "      <td>1.631166</td>\n",
       "      <td>1.631242</td>\n",
       "      <td>1.631479</td>\n",
       "      <td>-0.092616</td>\n",
       "      <td>-0.092616</td>\n",
       "      <td>-0.092616</td>\n",
       "      <td>...</td>\n",
       "      <td>0.011481</td>\n",
       "      <td>0.011274</td>\n",
       "      <td>0.011274</td>\n",
       "      <td>0.011274</td>\n",
       "      <td>0.009322</td>\n",
       "      <td>0.009322</td>\n",
       "      <td>0.009322</td>\n",
       "      <td>0.006535</td>\n",
       "      <td>0.006535</td>\n",
       "      <td>0.006535</td>\n",
       "    </tr>\n",
       "    <tr>\n",
       "      <th>3</th>\n",
       "      <td>10859147</td>\n",
       "      <td>-0.113977</td>\n",
       "      <td>-0.114095</td>\n",
       "      <td>-0.114183</td>\n",
       "      <td>0.109437</td>\n",
       "      <td>0.109512</td>\n",
       "      <td>0.109749</td>\n",
       "      <td>-0.098430</td>\n",
       "      <td>-0.098430</td>\n",
       "      <td>-0.098430</td>\n",
       "      <td>...</td>\n",
       "      <td>0.026822</td>\n",
       "      <td>0.026242</td>\n",
       "      <td>0.026242</td>\n",
       "      <td>0.026242</td>\n",
       "      <td>0.019533</td>\n",
       "      <td>0.019533</td>\n",
       "      <td>0.019533</td>\n",
       "      <td>0.020537</td>\n",
       "      <td>0.020537</td>\n",
       "      <td>0.020537</td>\n",
       "    </tr>\n",
       "    <tr>\n",
       "      <th>4</th>\n",
       "      <td>10879947</td>\n",
       "      <td>-0.094550</td>\n",
       "      <td>-0.094668</td>\n",
       "      <td>-0.094757</td>\n",
       "      <td>0.091331</td>\n",
       "      <td>0.091406</td>\n",
       "      <td>0.091643</td>\n",
       "      <td>-0.083955</td>\n",
       "      <td>-0.083955</td>\n",
       "      <td>-0.083955</td>\n",
       "      <td>...</td>\n",
       "      <td>0.005163</td>\n",
       "      <td>0.005081</td>\n",
       "      <td>0.005081</td>\n",
       "      <td>0.005081</td>\n",
       "      <td>0.003170</td>\n",
       "      <td>0.003170</td>\n",
       "      <td>0.003170</td>\n",
       "      <td>-0.000501</td>\n",
       "      <td>-0.000501</td>\n",
       "      <td>-0.000501</td>\n",
       "    </tr>\n",
       "  </tbody>\n",
       "</table>\n",
       "<p>5 rows × 52 columns</p>\n",
       "</div>"
      ],
      "text/plain": [
       "   parcelid  ridge_10_under  ridge_11_under  ridge_12_under  ridge_10_over  \\\n",
       "0  10754147       -0.083343       -0.083460       -0.083549       0.081872   \n",
       "1  10759547       -0.080735       -0.080853       -0.080942       0.080371   \n",
       "2  10843547       -0.820392       -0.820510       -0.820599       1.631166   \n",
       "3  10859147       -0.113977       -0.114095       -0.114183       0.109437   \n",
       "4  10879947       -0.094550       -0.094668       -0.094757       0.091331   \n",
       "\n",
       "   ridge_11_over  ridge_12_over  enet_10_under  enet_11_under  enet_12_under  \\\n",
       "0       0.081947       0.082185      -0.073147      -0.073147      -0.073147   \n",
       "1       0.080446       0.080683      -0.073147      -0.073147      -0.073147   \n",
       "2       1.631242       1.631479      -0.092616      -0.092616      -0.092616   \n",
       "3       0.109512       0.109749      -0.098430      -0.098430      -0.098430   \n",
       "4       0.091406       0.091643      -0.083955      -0.083955      -0.083955   \n",
       "\n",
       "     ...      enet_12  lasso_10  lasso_11  lasso_12   larm_10   larm_11  \\\n",
       "0    ...     0.021758  0.021722  0.021722  0.021722  0.019207  0.019207   \n",
       "1    ...     0.003660  0.003593  0.003593  0.003593  0.002626  0.002626   \n",
       "2    ...     0.011481  0.011274  0.011274  0.011274  0.009322  0.009322   \n",
       "3    ...     0.026822  0.026242  0.026242  0.026242  0.019533  0.019533   \n",
       "4    ...     0.005163  0.005081  0.005081  0.005081  0.003170  0.003170   \n",
       "\n",
       "    larm_12  huber_10  huber_11  huber_12  \n",
       "0  0.019207  0.005848  0.005848  0.005848  \n",
       "1  0.002626 -0.001106 -0.001106 -0.001106  \n",
       "2  0.009322  0.006535  0.006535  0.006535  \n",
       "3  0.019533  0.020537  0.020537  0.020537  \n",
       "4  0.003170 -0.000501 -0.000501 -0.000501  \n",
       "\n",
       "[5 rows x 52 columns]"
      ]
     },
     "execution_count": 28,
     "metadata": {},
     "output_type": "execute_result"
    }
   ],
   "source": [
    "test_predictions.head()"
   ]
  },
  {
   "cell_type": "code",
   "execution_count": 29,
   "metadata": {
    "collapsed": false
   },
   "outputs": [],
   "source": [
    "model_name = 'ridge' # can be any one of ridge, enet, lasso, huber, or larm\n",
    "new_submission = DataFrame({'ParcelId': test_predictions['parcelid'],\n",
    "                           '201610':test_predictions['%s_10' % model_name],\n",
    "                           '201611':test_predictions['%s_11' % model_name],\n",
    "                           '201612':test_predictions['%s_12' % model_name],\n",
    "})\n",
    "new_submission['201710'] = 0\n",
    "new_submission['201711'] = 0\n",
    "new_submission['201712'] = 0"
   ]
  },
  {
   "cell_type": "code",
   "execution_count": 30,
   "metadata": {
    "collapsed": false
   },
   "outputs": [
    {
     "data": {
      "text/html": [
       "<div>\n",
       "<style>\n",
       "    .dataframe thead tr:only-child th {\n",
       "        text-align: right;\n",
       "    }\n",
       "\n",
       "    .dataframe thead th {\n",
       "        text-align: left;\n",
       "    }\n",
       "\n",
       "    .dataframe tbody tr th {\n",
       "        vertical-align: top;\n",
       "    }\n",
       "</style>\n",
       "<table border=\"1\" class=\"dataframe\">\n",
       "  <thead>\n",
       "    <tr style=\"text-align: right;\">\n",
       "      <th></th>\n",
       "      <th>201610</th>\n",
       "      <th>201611</th>\n",
       "      <th>201612</th>\n",
       "      <th>ParcelId</th>\n",
       "      <th>201710</th>\n",
       "      <th>201711</th>\n",
       "      <th>201712</th>\n",
       "    </tr>\n",
       "  </thead>\n",
       "  <tbody>\n",
       "    <tr>\n",
       "      <th>0</th>\n",
       "      <td>0.018531</td>\n",
       "      <td>0.018532</td>\n",
       "      <td>0.018644</td>\n",
       "      <td>10754147</td>\n",
       "      <td>0</td>\n",
       "      <td>0</td>\n",
       "      <td>0</td>\n",
       "    </tr>\n",
       "    <tr>\n",
       "      <th>1</th>\n",
       "      <td>-0.000338</td>\n",
       "      <td>-0.000359</td>\n",
       "      <td>-0.000286</td>\n",
       "      <td>10759547</td>\n",
       "      <td>0</td>\n",
       "      <td>0</td>\n",
       "      <td>0</td>\n",
       "    </tr>\n",
       "    <tr>\n",
       "      <th>2</th>\n",
       "      <td>0.519415</td>\n",
       "      <td>0.519403</td>\n",
       "      <td>0.519492</td>\n",
       "      <td>10843547</td>\n",
       "      <td>0</td>\n",
       "      <td>0</td>\n",
       "      <td>0</td>\n",
       "    </tr>\n",
       "    <tr>\n",
       "      <th>3</th>\n",
       "      <td>0.024704</td>\n",
       "      <td>0.024707</td>\n",
       "      <td>0.024820</td>\n",
       "      <td>10859147</td>\n",
       "      <td>0</td>\n",
       "      <td>0</td>\n",
       "      <td>0</td>\n",
       "    </tr>\n",
       "    <tr>\n",
       "      <th>4</th>\n",
       "      <td>0.000310</td>\n",
       "      <td>0.000291</td>\n",
       "      <td>0.000368</td>\n",
       "      <td>10879947</td>\n",
       "      <td>0</td>\n",
       "      <td>0</td>\n",
       "      <td>0</td>\n",
       "    </tr>\n",
       "  </tbody>\n",
       "</table>\n",
       "</div>"
      ],
      "text/plain": [
       "     201610    201611    201612  ParcelId  201710  201711  201712\n",
       "0  0.018531  0.018532  0.018644  10754147       0       0       0\n",
       "1 -0.000338 -0.000359 -0.000286  10759547       0       0       0\n",
       "2  0.519415  0.519403  0.519492  10843547       0       0       0\n",
       "3  0.024704  0.024707  0.024820  10859147       0       0       0\n",
       "4  0.000310  0.000291  0.000368  10879947       0       0       0"
      ]
     },
     "execution_count": 30,
     "metadata": {},
     "output_type": "execute_result"
    }
   ],
   "source": [
    "new_submission.head()"
   ]
  },
  {
   "cell_type": "code",
   "execution_count": 31,
   "metadata": {
    "collapsed": false
   },
   "outputs": [
    {
     "data": {
      "text/plain": [
       "(0.06118487040385774,\n",
       " 0.06039173055859804,\n",
       " 0.07284801610120753,\n",
       " 0.063389733083586974)"
      ]
     },
     "execution_count": 31,
     "metadata": {},
     "output_type": "execute_result"
    }
   ],
   "source": [
    "mean_absolute_errors(new_submission.round(4), data)"
   ]
  },
  {
   "cell_type": "code",
   "execution_count": 99,
   "metadata": {
    "collapsed": true
   },
   "outputs": [],
   "source": [
    "new_submission.round(4).to_csv(\"/home/anerdi/Desktop/Zillow/submissions/two_stage_stage1_annrfs_stage2_ridge_city.csv.gz\", index=False,\n",
    "                     compression='gzip')"
   ]
  }
 ],
 "metadata": {
  "kernelspec": {
   "display_name": "Python 3",
   "language": "python",
   "name": "python3"
  },
  "language_info": {
   "codemirror_mode": {
    "name": "ipython",
    "version": 3
   },
   "file_extension": ".py",
   "mimetype": "text/x-python",
   "name": "python",
   "nbconvert_exporter": "python",
   "pygments_lexer": "ipython3",
   "version": "3.5.4"
  }
 },
 "nbformat": 4,
 "nbformat_minor": 0
}
