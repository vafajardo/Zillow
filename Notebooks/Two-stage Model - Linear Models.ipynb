{
 "cells": [
  {
   "cell_type": "code",
   "execution_count": 1,
   "metadata": {
    "collapsed": true
   },
   "outputs": [],
   "source": [
    "import pandas as pd\n",
    "from pandas import DataFrame,Series\n",
    "import numpy as np\n",
    "import os\n",
    "import datetime\n",
    "\n",
    "#Plotting\n",
    "import matplotlib.pyplot as plt\n",
    "import matplotlib.gridspec as gridspec\n",
    "%matplotlib inline\n",
    "\n",
    "# sklearn stuff\n",
    "from sklearn.model_selection import GridSearchCV, cross_val_score\n",
    "from sklearn.metrics import confusion_matrix, mean_squared_error, precision_score\n",
    "from sklearn.preprocessing import StandardScaler, OneHotEncoder, LabelEncoder, Imputer \n",
    "from sklearn.pipeline import Pipeline, FeatureUnion\n",
    "from sklearn.base import BaseEstimator, TransformerMixin\n",
    "\n",
    "import feature_pipelines as pipes"
   ]
  },
  {
   "cell_type": "markdown",
   "metadata": {},
   "source": [
    "### Submission Functions "
   ]
  },
  {
   "cell_type": "code",
   "execution_count": 46,
   "metadata": {
    "collapsed": true
   },
   "outputs": [],
   "source": [
    "def generate_regression_preds(reg, model_name='pred_logerror'):\n",
    "    reg_preds = None\n",
    "    for i in range(int(properties.shape[0] / 100000)):   \n",
    "        # get current test features\n",
    "        current_test_feats = feature_pipeline.transform(properties.iloc[i*100000:(i+1)*100000])\n",
    "\n",
    "        # predict on current test obs\n",
    "        current_preds = Series(reg.predict(current_test_feats), name=model_name,\n",
    "                              index = np.arange(i*100000,(i+1)*100000))\n",
    "\n",
    "        if reg_preds is not None:\n",
    "            reg_preds = pd.concat([reg_preds, current_preds])\n",
    "        else:\n",
    "            reg_preds = current_preds\n",
    "\n",
    "    #  fencepost problem\n",
    "    current_test_feats = feature_pipeline.transform(properties.iloc[2900000:])\n",
    "    current_preds = Series(reg.predict(current_test_feats), name=model_name,\n",
    "                          index = np.arange(2900000,2985217))\n",
    "    reg_preds = pd.concat([reg_preds, current_preds])\n",
    "    return reg_preds"
   ]
  },
  {
   "cell_type": "code",
   "execution_count": 3,
   "metadata": {
    "collapsed": true
   },
   "outputs": [],
   "source": [
    "def generate_submissions(oct_model,nov_model,dec_model,name='new_submission',logy=True):\n",
    "    \"\"\"\n",
    "    This function creates the submission file for the public leaderboard predictions.\n",
    "    Three already fitted models, one for each of the predicting time points, is required.\n",
    "    \"\"\"\n",
    "    submission_df = DataFrame()\n",
    "    for i in range(int(properties.shape[0] / 100000)):\n",
    "        all_feats = full_pipeline.transform(properties.iloc[i*100000:(i+1)*100000])\n",
    "        foo = properties.iloc[i*100000:(i+1)*100000][['parcelid']].reset_index(drop=True)\n",
    "        if logy:\n",
    "            foo = pd.concat([foo, DataFrame({'201610': oct_model.predict(all_feats),\n",
    "                                                            '201611': nov_model.predict(all_feats),\n",
    "                                                            '201612': dec_model.predict(all_feats)})], axis=1)\n",
    "        else:\n",
    "            foo = pd.concat([foo, DataFrame({'201610': np.log(oct_model.predict(all_feats)),\n",
    "                                                            '201611': np.log(nov_model.predict(all_feats)),\n",
    "                                                            '201612': np.log(dec_model.predict(all_feats))})], axis=1)\n",
    "        submission_df = pd.concat([submission_df, foo], ignore_index=True)\n",
    "\n",
    "    #  fencepost problem\n",
    "    all_feats = full_pipeline.transform(properties.iloc[2900000:])\n",
    "    foo = properties.iloc[2900000:][['parcelid']].reset_index(drop=True)\n",
    "    foo = pd.concat([foo, DataFrame({'201610': oct_model.predict(all_feats),\n",
    "                                                    '201611': nov_model.predict(all_feats),\n",
    "                                                    '201612': dec_model.predict(all_feats)})], axis=1)\n",
    "    submission_df = pd.concat([submission_df, foo], ignore_index=True)\n",
    "    \n",
    "    submission_df['201710'] = 0\n",
    "    submission_df['201711'] = 0\n",
    "    submission_df['201712'] = 0\n",
    "    \n",
    "    submission_df.rename(columns={'parcelid':'ParcelId'}, inplace=True)    \n",
    "#     submission_df[['201610','201611','201612','201710','201711','201712']]= submission_df[['201610','201611','201612',\n",
    "#                                                                                            '201710','201711','201712']].round(4)\n",
    "    # unit test\n",
    "    submission_df.drop_duplicates(inplace=True)\n",
    "    assert submission_df.shape[0] == properties.shape[0]\n",
    "    # write to .csv\n",
    "    submission_df[['ParcelId','201610','201611','201612',\n",
    "                  '201710','201711','201712']].to_csv(name + \".gz\", index=False, float_format='%.4g', compression='gzip')\n",
    "    return submission_df"
   ]
  },
  {
   "cell_type": "code",
   "execution_count": 4,
   "metadata": {
    "collapsed": true
   },
   "outputs": [],
   "source": [
    "def mean_absolute_errors(submission_df, comparison_df):\n",
    "    \"\"\"\n",
    "    This function takes a submission entry for public leaderboard, and returns\n",
    "    the training error for each month.\n",
    "    \"\"\"\n",
    "    # training error\n",
    "    trainresults = pd.merge(submission_df[['ParcelId','201610','201611','201612']], comparison_df[['parcelid','logerror','month']],\n",
    "                           left_on='ParcelId', right_on='parcelid')\n",
    "    oct_error = abs(trainresults[trainresults['month'] == 10]['201610'] \n",
    "                    - trainresults[trainresults['month'] == 10]['logerror']).mean()\n",
    "    nov_error = abs(trainresults[trainresults['month'] == 11]['201611'] \n",
    "                    - trainresults[trainresults['month'] == 11]['logerror']).mean()\n",
    "    dec_error = abs(trainresults[trainresults['month'] == 12]['201612'] \n",
    "                    - trainresults[trainresults['month'] == 12]['logerror']).mean()\n",
    "    overall_mae = (oct_error*(trainresults['month'] == 10).sum() + nov_error*(trainresults['month'] == 11).sum() \n",
    "                        + dec_error*(trainresults['month'] == 12).sum()) / (trainresults['month'].isin([10,11,12])).sum()\n",
    "    return (oct_error, nov_error, dec_error, overall_mae)"
   ]
  },
  {
   "cell_type": "markdown",
   "metadata": {},
   "source": [
    "### Reading in data "
   ]
  },
  {
   "cell_type": "code",
   "execution_count": 5,
   "metadata": {
    "collapsed": false
   },
   "outputs": [
    {
     "name": "stderr",
     "output_type": "stream",
     "text": [
      "/home/anerdi/anaconda3/lib/python3.5/site-packages/IPython/core/interactiveshell.py:2723: DtypeWarning: Columns (22,32,34,49,55) have mixed types. Specify dtype option on import or set low_memory=False.\n",
      "  interactivity=interactivity, compiler=compiler, result=result)\n"
     ]
    }
   ],
   "source": [
    "maindir = \"/home/anerdi/Desktop/Zillow\"\n",
    "\n",
    "logerror = pd.read_csv(maindir + \"/data/train_2016_v2.csv/train_2016_v2.csv\")\n",
    "logerror['weeknumber'] = logerror['transactiondate'].apply(lambda x: datetime.datetime.strptime(x,'%Y-%m-%d').isocalendar()[1])\n",
    "logerror['month'] = logerror['transactiondate'].apply(lambda x: datetime.datetime.strptime(x,'%Y-%m-%d').month)\n",
    "properties = pd.read_csv(maindir + \"/data/properties_2016.csv/properties_2016.csv\")"
   ]
  },
  {
   "cell_type": "code",
   "execution_count": 6,
   "metadata": {
    "collapsed": false
   },
   "outputs": [],
   "source": [
    "#proportion of living area\n",
    "properties['N-LivingAreaProp'] = properties['calculatedfinishedsquarefeet']/properties['lotsizesquarefeet']\n",
    "\n",
    "#Ratio of the built structure value to land area\n",
    "properties['N-ValueProp'] = properties['structuretaxvaluedollarcnt']/properties['landtaxvaluedollarcnt']\n",
    "\n",
    "#Ratio of tax of property over parcel\n",
    "properties['N-ValueRatio'] = properties['taxvaluedollarcnt']/properties['taxamount']\n",
    "\n",
    "# Pool\n",
    "properties['Pool'] = (properties['pooltypeid2'].fillna(0) + properties['pooltypeid7'].fillna(0)).astype(int)"
   ]
  },
  {
   "cell_type": "code",
   "execution_count": 7,
   "metadata": {
    "collapsed": true
   },
   "outputs": [],
   "source": [
    "# join on parcel id\n",
    "data = pd.merge(properties,logerror[['parcelid','logerror','month']], on='parcelid')"
   ]
  },
  {
   "cell_type": "markdown",
   "metadata": {},
   "source": [
    "### Data  Preprocessing Pipeline"
   ]
  },
  {
   "cell_type": "code",
   "execution_count": 25,
   "metadata": {
    "collapsed": false
   },
   "outputs": [],
   "source": [
    "# Setup variables considered in the model\n",
    "\n",
    "# numerical variables\n",
    "# num_atts = ['calculatedfinishedsquarefeet','bathroomcnt','structuretaxvaluedollarcnt',\n",
    "#              'bedroomcnt','calculatedbathnbr','roomcnt','longitude','threequarterbathnbr', 'yardbuildingsqft17',\n",
    "#              'numberofstories','N-ValueRatio','N-ValueProp','N-LivingAreaProp']\n",
    "\n",
    "num_atts = ['calculatedfinishedsquarefeet','bathroomcnt','structuretaxvaluedollarcnt',\n",
    "             'bedroomcnt','calculatedbathnbr','N-ValueRatio','N-ValueProp','N-LivingAreaProp']\n",
    "\n",
    "# categorical varaibles\n",
    "cat_atts = ['airconditioningtypeid','heatingorsystemtypeid','Pool','propertylandusetypeid','taxdelinquencyflag',\n",
    "           'regionidcounty']\n",
    "\n",
    "# Dictionary of categorical variables and their default levels\n",
    "cat_dict = {key:value for key,value in {'airconditioningtypeid':[-1] + list(range(1,14)),\n",
    "           'architecturalstyletypeid':[-1] + list(range(1,28)),\n",
    "           'buildingclasstypeid':[-1] + list(range(1,6)),\n",
    "            'heatingorsystemtypeid':[-1] + list(range(1,26)),\n",
    "            'pooltypeid10': list(range(-1,2)),\n",
    "            'pooltypeid2': list(range(-1,2)),\n",
    "            'pooltypeid7': list(range(-1,2)),\n",
    "            'Pool': [0,1],\n",
    "            'propertylandusetypeid': [-1, 31,46,47,246,247,248,260,261,262,263,264,265,266,267,268,269,270,271,\n",
    "                                     273,274,275,276,279,290,291],\n",
    "            'regionidcounty': [2061,3101,1286],\n",
    "            'storytypeid':[-1] + list(range(1,36)),\n",
    "            'typeconstructiontypeid':[-1] + list(range(1,19)),\n",
    "            'yearbuilt': [-1] + list(range(1885,2018)),\n",
    "            'fireplaceflag': [-1] + ['True','False'],\n",
    "            'taxdelinquencyflag': [-1] + ['Y','N']\n",
    "           }.items() if key in cat_atts}\n",
    "\n",
    "# pairs to interact (x1,x2) where x1 is categorical and x2 is continuous\n",
    "interact_pairs = [('regionidcounty','bathroomcnt'),('regionidcounty','bedroomcnt')\n",
    "                 ,('regionidcounty','structuretaxvaluedollarcnt')]"
   ]
  },
  {
   "cell_type": "code",
   "execution_count": 26,
   "metadata": {
    "collapsed": false
   },
   "outputs": [],
   "source": [
    "# Categorical pipeline\n",
    "cat_pipeline = Pipeline([\n",
    "        ('select_and_dummify', pipes.DF_Selector_GetDummies(cat_dict)),\n",
    "    ])\n",
    "\n",
    "# Numerical pipeline\n",
    "num_pipeline = Pipeline([\n",
    "        ('selector', pipes.DataFrameSelector(num_atts)),\n",
    "        ('imputer', Imputer()),\n",
    "    ])\n",
    "\n",
    "# interaction pipeline\n",
    "interact_pipeline = Pipeline([\n",
    "        ('dummify_and_interact',pipes.Dummify_and_Interact(interact_pairs,cat_dict)),\n",
    "    ])\n",
    "\n",
    "# Full pipeline\n",
    "feature_pipeline = FeatureUnion(transformer_list=[\n",
    "        (\"num_pipeline\", num_pipeline),\n",
    "        (\"cat_pipeline\", cat_pipeline),\n",
    "        (\"interact_pipeline\", interact_pipeline)\n",
    "    ])"
   ]
  },
  {
   "cell_type": "code",
   "execution_count": 27,
   "metadata": {
    "collapsed": false
   },
   "outputs": [
    {
     "data": {
      "text/plain": [
       "FeatureUnion(n_jobs=1,\n",
       "       transformer_list=[('num_pipeline', Pipeline(memory=None,\n",
       "     steps=[('selector', DataFrameSelector(desired_cols=['calculatedfinishedsquarefeet', 'bathroomcnt', 'structuretaxvaluedollarcnt', 'bedroomcnt', 'calculatedbathnbr', 'N-ValueRatio', 'N-ValueProp', 'N-LivingAreaProp'])), ('imputer', Imputer(...roomcnt'), ('regionidcounty', 'bedroomcnt'), ('regionidcounty', 'structuretaxvaluedollarcnt')]))]))],\n",
       "       transformer_weights=None)"
      ]
     },
     "execution_count": 27,
     "metadata": {},
     "output_type": "execute_result"
    }
   ],
   "source": [
    "feature_pipeline.fit(properties) #fitting the pipeline to the entire properties dataframe"
   ]
  },
  {
   "cell_type": "code",
   "execution_count": 28,
   "metadata": {
    "collapsed": true
   },
   "outputs": [],
   "source": [
    "import gc"
   ]
  },
  {
   "cell_type": "code",
   "execution_count": 29,
   "metadata": {
    "collapsed": false
   },
   "outputs": [
    {
     "data": {
      "text/plain": [
       "6"
      ]
     },
     "execution_count": 29,
     "metadata": {},
     "output_type": "execute_result"
    }
   ],
   "source": [
    "gc.collect()"
   ]
  },
  {
   "cell_type": "markdown",
   "metadata": {},
   "source": [
    "## Splitting the Training Set"
   ]
  },
  {
   "cell_type": "code",
   "execution_count": 53,
   "metadata": {
    "collapsed": true
   },
   "outputs": [],
   "source": [
    "ix_overestimated = np.where(data['logerror'] >= 0)[0]\n",
    "ix_underestimated = np.where(data['logerror'] < 0)[0]\n",
    "data_indices = {\"over\": ix_overestimated, \"under\": ix_underestimated}"
   ]
  },
  {
   "cell_type": "code",
   "execution_count": 54,
   "metadata": {
    "collapsed": false
   },
   "outputs": [],
   "source": [
    "assert ix_overestimated.shape[0] + ix_underestimated.shape[0] == data.shape[0]"
   ]
  },
  {
   "cell_type": "markdown",
   "metadata": {},
   "source": [
    "## Training Elastic Net"
   ]
  },
  {
   "cell_type": "code",
   "execution_count": 76,
   "metadata": {
    "collapsed": true
   },
   "outputs": [],
   "source": [
    "from sklearn.linear_model import ElasticNet, Lars, HuberRegressor\n",
    "from sklearn.base import clone\n",
    "\n",
    "import warnings\n",
    "warnings.filterwarnings(\"ignore\")"
   ]
  },
  {
   "cell_type": "code",
   "execution_count": 33,
   "metadata": {
    "collapsed": false
   },
   "outputs": [],
   "source": [
    "models = [\n",
    "    (\"ridge\",ElasticNet(alpha=1.25, l1_ratio = 0, max_iter=1000)),\n",
    "    (\"enet\", ElasticNet(alpha=1.25, l1_ratio = 0.5, max_iter=1000)),\n",
    "    (\"lasso\", ElasticNet(alpha=1.25, l1_ratio = 1, max_iter=1000)),\n",
    "    (\"larm\", Lars(n_nonzero_coefs = 1)),\n",
    "    (\"huber\", HuberRegressor())\n",
    "]"
   ]
  },
  {
   "cell_type": "code",
   "execution_count": 77,
   "metadata": {
    "collapsed": false
   },
   "outputs": [
    {
     "name": "stdout",
     "output_type": "stream",
     "text": [
      "Current model: ridge\n",
      "Current model: enet\n",
      "Current model: lasso\n",
      "Current model: larm\n",
      "Current model: huber\n"
     ]
    }
   ],
   "source": [
    "test_predictions = pd.read_csv(maindir + \"/data/properties_2016.csv/properties_2016.csv\", usecols=['parcelid'])\n",
    "\n",
    "for pair in models:\n",
    "    current_model_name,current_model = pair\n",
    "    print(\"Current model: %s\" % current_model_name)\n",
    "    \n",
    "    for key,val in data_indices.items():\n",
    "        type_of_zestimate, ix = key, val\n",
    "\n",
    "        # preprocess current training data\n",
    "        current_traindata = data.iloc[ix,]\n",
    "\n",
    "        # get a clone of the model and fit the current training data\n",
    "        reg = clone(current_model)\n",
    "        reg.fit(feature_pipeline.transform(current_traindata), current_traindata['logerror'])\n",
    "\n",
    "        # obtain predictions on test set\n",
    "        reg_preds = generate_regression_preds(reg, model_name=\"%s_%s\" % (current_model_name,type_of_zestimate))\n",
    "        test_predictions = pd.concat([test_predictions, reg_preds], axis=1)"
   ]
  },
  {
   "cell_type": "code",
   "execution_count": 78,
   "metadata": {
    "collapsed": false
   },
   "outputs": [
    {
     "data": {
      "text/html": [
       "<div>\n",
       "<style>\n",
       "    .dataframe thead tr:only-child th {\n",
       "        text-align: right;\n",
       "    }\n",
       "\n",
       "    .dataframe thead th {\n",
       "        text-align: left;\n",
       "    }\n",
       "\n",
       "    .dataframe tbody tr th {\n",
       "        vertical-align: top;\n",
       "    }\n",
       "</style>\n",
       "<table border=\"1\" class=\"dataframe\">\n",
       "  <thead>\n",
       "    <tr style=\"text-align: right;\">\n",
       "      <th></th>\n",
       "      <th>parcelid</th>\n",
       "      <th>ridge_over</th>\n",
       "      <th>ridge_under</th>\n",
       "      <th>enet_over</th>\n",
       "      <th>enet_under</th>\n",
       "      <th>lasso_over</th>\n",
       "      <th>lasso_under</th>\n",
       "      <th>larm_over</th>\n",
       "      <th>larm_under</th>\n",
       "      <th>huber_over</th>\n",
       "      <th>huber_under</th>\n",
       "    </tr>\n",
       "  </thead>\n",
       "  <tbody>\n",
       "    <tr>\n",
       "      <th>0</th>\n",
       "      <td>10754147</td>\n",
       "      <td>0.084871</td>\n",
       "      <td>-0.082879</td>\n",
       "      <td>0.073578</td>\n",
       "      <td>-0.068505</td>\n",
       "      <td>0.073431</td>\n",
       "      <td>-0.068225</td>\n",
       "      <td>0.071395</td>\n",
       "      <td>-0.064499</td>\n",
       "      <td>0.063218</td>\n",
       "      <td>-0.062623</td>\n",
       "    </tr>\n",
       "    <tr>\n",
       "      <th>1</th>\n",
       "      <td>10759547</td>\n",
       "      <td>0.085475</td>\n",
       "      <td>-0.082642</td>\n",
       "      <td>0.073578</td>\n",
       "      <td>-0.068505</td>\n",
       "      <td>0.073431</td>\n",
       "      <td>-0.068225</td>\n",
       "      <td>0.071395</td>\n",
       "      <td>-0.064499</td>\n",
       "      <td>0.063218</td>\n",
       "      <td>-0.062623</td>\n",
       "    </tr>\n",
       "    <tr>\n",
       "      <th>2</th>\n",
       "      <td>10843547</td>\n",
       "      <td>0.930269</td>\n",
       "      <td>-0.876458</td>\n",
       "      <td>0.558336</td>\n",
       "      <td>-0.414612</td>\n",
       "      <td>0.457031</td>\n",
       "      <td>-0.301205</td>\n",
       "      <td>0.071395</td>\n",
       "      <td>-0.064499</td>\n",
       "      <td>2.897348</td>\n",
       "      <td>-2.651653</td>\n",
       "    </tr>\n",
       "    <tr>\n",
       "      <th>3</th>\n",
       "      <td>10859147</td>\n",
       "      <td>0.121058</td>\n",
       "      <td>-0.124558</td>\n",
       "      <td>0.098928</td>\n",
       "      <td>-0.091456</td>\n",
       "      <td>0.095834</td>\n",
       "      <td>-0.087705</td>\n",
       "      <td>0.071395</td>\n",
       "      <td>-0.064499</td>\n",
       "      <td>0.169290</td>\n",
       "      <td>-0.171291</td>\n",
       "    </tr>\n",
       "    <tr>\n",
       "      <th>4</th>\n",
       "      <td>10879947</td>\n",
       "      <td>0.083832</td>\n",
       "      <td>-0.084374</td>\n",
       "      <td>0.073467</td>\n",
       "      <td>-0.068765</td>\n",
       "      <td>0.073493</td>\n",
       "      <td>-0.068667</td>\n",
       "      <td>0.071395</td>\n",
       "      <td>-0.064499</td>\n",
       "      <td>0.059819</td>\n",
       "      <td>-0.060274</td>\n",
       "    </tr>\n",
       "  </tbody>\n",
       "</table>\n",
       "</div>"
      ],
      "text/plain": [
       "   parcelid  ridge_over  ridge_under  enet_over  enet_under  lasso_over  \\\n",
       "0  10754147    0.084871    -0.082879   0.073578   -0.068505    0.073431   \n",
       "1  10759547    0.085475    -0.082642   0.073578   -0.068505    0.073431   \n",
       "2  10843547    0.930269    -0.876458   0.558336   -0.414612    0.457031   \n",
       "3  10859147    0.121058    -0.124558   0.098928   -0.091456    0.095834   \n",
       "4  10879947    0.083832    -0.084374   0.073467   -0.068765    0.073493   \n",
       "\n",
       "   lasso_under  larm_over  larm_under  huber_over  huber_under  \n",
       "0    -0.068225   0.071395   -0.064499    0.063218    -0.062623  \n",
       "1    -0.068225   0.071395   -0.064499    0.063218    -0.062623  \n",
       "2    -0.301205   0.071395   -0.064499    2.897348    -2.651653  \n",
       "3    -0.087705   0.071395   -0.064499    0.169290    -0.171291  \n",
       "4    -0.068667   0.071395   -0.064499    0.059819    -0.060274  "
      ]
     },
     "execution_count": 78,
     "metadata": {},
     "output_type": "execute_result"
    }
   ],
   "source": [
    "test_predictions.head()"
   ]
  },
  {
   "cell_type": "code",
   "execution_count": 58,
   "metadata": {
    "collapsed": true
   },
   "outputs": [],
   "source": [
    "overestimate_probabilities = pd.read_csv(\"/home/anerdi/Desktop/Zillow/twostagemodel/overestimate_probs.csv\")"
   ]
  },
  {
   "cell_type": "code",
   "execution_count": 59,
   "metadata": {
    "collapsed": false
   },
   "outputs": [
    {
     "data": {
      "text/html": [
       "<div>\n",
       "<style>\n",
       "    .dataframe thead tr:only-child th {\n",
       "        text-align: right;\n",
       "    }\n",
       "\n",
       "    .dataframe thead th {\n",
       "        text-align: left;\n",
       "    }\n",
       "\n",
       "    .dataframe tbody tr th {\n",
       "        vertical-align: top;\n",
       "    }\n",
       "</style>\n",
       "<table border=\"1\" class=\"dataframe\">\n",
       "  <thead>\n",
       "    <tr style=\"text-align: right;\">\n",
       "      <th></th>\n",
       "      <th>parcelid</th>\n",
       "      <th>overestimate_prob</th>\n",
       "    </tr>\n",
       "  </thead>\n",
       "  <tbody>\n",
       "    <tr>\n",
       "      <th>0</th>\n",
       "      <td>10754147</td>\n",
       "      <td>0.509328</td>\n",
       "    </tr>\n",
       "    <tr>\n",
       "      <th>1</th>\n",
       "      <td>10759547</td>\n",
       "      <td>0.507312</td>\n",
       "    </tr>\n",
       "    <tr>\n",
       "      <th>2</th>\n",
       "      <td>10843547</td>\n",
       "      <td>1.000000</td>\n",
       "    </tr>\n",
       "    <tr>\n",
       "      <th>3</th>\n",
       "      <td>10859147</td>\n",
       "      <td>0.689618</td>\n",
       "    </tr>\n",
       "    <tr>\n",
       "      <th>4</th>\n",
       "      <td>10879947</td>\n",
       "      <td>0.543763</td>\n",
       "    </tr>\n",
       "  </tbody>\n",
       "</table>\n",
       "</div>"
      ],
      "text/plain": [
       "   parcelid  overestimate_prob\n",
       "0  10754147           0.509328\n",
       "1  10759547           0.507312\n",
       "2  10843547           1.000000\n",
       "3  10859147           0.689618\n",
       "4  10879947           0.543763"
      ]
     },
     "execution_count": 59,
     "metadata": {},
     "output_type": "execute_result"
    }
   ],
   "source": [
    "overestimate_probabilities.head()"
   ]
  },
  {
   "cell_type": "markdown",
   "metadata": {},
   "source": [
    "#### Merging Results"
   ]
  },
  {
   "cell_type": "code",
   "execution_count": 79,
   "metadata": {
    "collapsed": false
   },
   "outputs": [],
   "source": [
    "test_predictions = pd.merge(test_predictions, overestimate_probabilities, on='parcelid')"
   ]
  },
  {
   "cell_type": "code",
   "execution_count": 82,
   "metadata": {
    "collapsed": false
   },
   "outputs": [],
   "source": [
    "for pair in models:\n",
    "    current_model_name, current_model = pair\n",
    "    # combine over and under to get prediction\n",
    "    test_predictions[current_model_name] = (test_predictions['%s_over' % current_model_name]*test_predictions['overestimate_prob'] +\n",
    "                    test_predictions['%s_under' % current_model_name]*(1 - test_predictions['overestimate_prob']))"
   ]
  },
  {
   "cell_type": "code",
   "execution_count": 83,
   "metadata": {
    "collapsed": false
   },
   "outputs": [
    {
     "data": {
      "text/html": [
       "<div>\n",
       "<style>\n",
       "    .dataframe thead tr:only-child th {\n",
       "        text-align: right;\n",
       "    }\n",
       "\n",
       "    .dataframe thead th {\n",
       "        text-align: left;\n",
       "    }\n",
       "\n",
       "    .dataframe tbody tr th {\n",
       "        vertical-align: top;\n",
       "    }\n",
       "</style>\n",
       "<table border=\"1\" class=\"dataframe\">\n",
       "  <thead>\n",
       "    <tr style=\"text-align: right;\">\n",
       "      <th></th>\n",
       "      <th>parcelid</th>\n",
       "      <th>ridge_over</th>\n",
       "      <th>ridge_under</th>\n",
       "      <th>enet_over</th>\n",
       "      <th>enet_under</th>\n",
       "      <th>lasso_over</th>\n",
       "      <th>lasso_under</th>\n",
       "      <th>larm_over</th>\n",
       "      <th>larm_under</th>\n",
       "      <th>huber_over</th>\n",
       "      <th>huber_under</th>\n",
       "      <th>overestimate_prob</th>\n",
       "      <th>ridge</th>\n",
       "      <th>enet</th>\n",
       "      <th>lasso</th>\n",
       "      <th>larm</th>\n",
       "      <th>huber</th>\n",
       "    </tr>\n",
       "  </thead>\n",
       "  <tbody>\n",
       "    <tr>\n",
       "      <th>0</th>\n",
       "      <td>10754147</td>\n",
       "      <td>0.084871</td>\n",
       "      <td>-0.082879</td>\n",
       "      <td>0.073578</td>\n",
       "      <td>-0.068505</td>\n",
       "      <td>0.073431</td>\n",
       "      <td>-0.068225</td>\n",
       "      <td>0.071395</td>\n",
       "      <td>-0.064499</td>\n",
       "      <td>0.063218</td>\n",
       "      <td>-0.062623</td>\n",
       "      <td>0.509328</td>\n",
       "      <td>0.002561</td>\n",
       "      <td>0.003862</td>\n",
       "      <td>0.003925</td>\n",
       "      <td>0.004716</td>\n",
       "      <td>0.001471</td>\n",
       "    </tr>\n",
       "    <tr>\n",
       "      <th>1</th>\n",
       "      <td>10759547</td>\n",
       "      <td>0.085475</td>\n",
       "      <td>-0.082642</td>\n",
       "      <td>0.073578</td>\n",
       "      <td>-0.068505</td>\n",
       "      <td>0.073431</td>\n",
       "      <td>-0.068225</td>\n",
       "      <td>0.071395</td>\n",
       "      <td>-0.064499</td>\n",
       "      <td>0.063218</td>\n",
       "      <td>-0.062623</td>\n",
       "      <td>0.507312</td>\n",
       "      <td>0.002646</td>\n",
       "      <td>0.003575</td>\n",
       "      <td>0.003639</td>\n",
       "      <td>0.004442</td>\n",
       "      <td>0.001217</td>\n",
       "    </tr>\n",
       "    <tr>\n",
       "      <th>2</th>\n",
       "      <td>10843547</td>\n",
       "      <td>0.930269</td>\n",
       "      <td>-0.876458</td>\n",
       "      <td>0.558336</td>\n",
       "      <td>-0.414612</td>\n",
       "      <td>0.457031</td>\n",
       "      <td>-0.301205</td>\n",
       "      <td>0.071395</td>\n",
       "      <td>-0.064499</td>\n",
       "      <td>2.897348</td>\n",
       "      <td>-2.651653</td>\n",
       "      <td>1.000000</td>\n",
       "      <td>0.930269</td>\n",
       "      <td>0.558336</td>\n",
       "      <td>0.457031</td>\n",
       "      <td>0.071395</td>\n",
       "      <td>2.897348</td>\n",
       "    </tr>\n",
       "    <tr>\n",
       "      <th>3</th>\n",
       "      <td>10859147</td>\n",
       "      <td>0.121058</td>\n",
       "      <td>-0.124558</td>\n",
       "      <td>0.098928</td>\n",
       "      <td>-0.091456</td>\n",
       "      <td>0.095834</td>\n",
       "      <td>-0.087705</td>\n",
       "      <td>0.071395</td>\n",
       "      <td>-0.064499</td>\n",
       "      <td>0.169290</td>\n",
       "      <td>-0.171291</td>\n",
       "      <td>0.689618</td>\n",
       "      <td>0.044823</td>\n",
       "      <td>0.039836</td>\n",
       "      <td>0.038867</td>\n",
       "      <td>0.029216</td>\n",
       "      <td>0.063580</td>\n",
       "    </tr>\n",
       "    <tr>\n",
       "      <th>4</th>\n",
       "      <td>10879947</td>\n",
       "      <td>0.083832</td>\n",
       "      <td>-0.084374</td>\n",
       "      <td>0.073467</td>\n",
       "      <td>-0.068765</td>\n",
       "      <td>0.073493</td>\n",
       "      <td>-0.068667</td>\n",
       "      <td>0.071395</td>\n",
       "      <td>-0.064499</td>\n",
       "      <td>0.059819</td>\n",
       "      <td>-0.060274</td>\n",
       "      <td>0.543763</td>\n",
       "      <td>0.007090</td>\n",
       "      <td>0.008575</td>\n",
       "      <td>0.008634</td>\n",
       "      <td>0.009395</td>\n",
       "      <td>0.005028</td>\n",
       "    </tr>\n",
       "  </tbody>\n",
       "</table>\n",
       "</div>"
      ],
      "text/plain": [
       "   parcelid  ridge_over  ridge_under  enet_over  enet_under  lasso_over  \\\n",
       "0  10754147    0.084871    -0.082879   0.073578   -0.068505    0.073431   \n",
       "1  10759547    0.085475    -0.082642   0.073578   -0.068505    0.073431   \n",
       "2  10843547    0.930269    -0.876458   0.558336   -0.414612    0.457031   \n",
       "3  10859147    0.121058    -0.124558   0.098928   -0.091456    0.095834   \n",
       "4  10879947    0.083832    -0.084374   0.073467   -0.068765    0.073493   \n",
       "\n",
       "   lasso_under  larm_over  larm_under  huber_over  huber_under  \\\n",
       "0    -0.068225   0.071395   -0.064499    0.063218    -0.062623   \n",
       "1    -0.068225   0.071395   -0.064499    0.063218    -0.062623   \n",
       "2    -0.301205   0.071395   -0.064499    2.897348    -2.651653   \n",
       "3    -0.087705   0.071395   -0.064499    0.169290    -0.171291   \n",
       "4    -0.068667   0.071395   -0.064499    0.059819    -0.060274   \n",
       "\n",
       "   overestimate_prob     ridge      enet     lasso      larm     huber  \n",
       "0           0.509328  0.002561  0.003862  0.003925  0.004716  0.001471  \n",
       "1           0.507312  0.002646  0.003575  0.003639  0.004442  0.001217  \n",
       "2           1.000000  0.930269  0.558336  0.457031  0.071395  2.897348  \n",
       "3           0.689618  0.044823  0.039836  0.038867  0.029216  0.063580  \n",
       "4           0.543763  0.007090  0.008575  0.008634  0.009395  0.005028  "
      ]
     },
     "execution_count": 83,
     "metadata": {},
     "output_type": "execute_result"
    }
   ],
   "source": [
    "test_predictions.head()"
   ]
  },
  {
   "cell_type": "code",
   "execution_count": 93,
   "metadata": {
    "collapsed": true
   },
   "outputs": [],
   "source": [
    "model_name = 'lasso'\n",
    "new_submission = DataFrame({'ParcelId': test_predictions['parcelid'],\n",
    "                           '201610':test_predictions[model_name],\n",
    "                           '201611':test_predictions[model_name],\n",
    "                           '201612':test_predictions[model_name],\n",
    "                           '201710':test_predictions[model_name],\n",
    "                           '201711':test_predictions[model_name],\n",
    "                           '201712':test_predictions[model_name]})"
   ]
  },
  {
   "cell_type": "code",
   "execution_count": 94,
   "metadata": {
    "collapsed": false
   },
   "outputs": [
    {
     "data": {
      "text/plain": [
       "(0.06321498894916613,\n",
       " 0.06216084337349388,\n",
       " 0.07480948821161598,\n",
       " 0.065350081948021527)"
      ]
     },
     "execution_count": 94,
     "metadata": {},
     "output_type": "execute_result"
    }
   ],
   "source": [
    "# two-stage with lasso\n",
    "mean_absolute_errors(new_submission.round(4), data)"
   ]
  },
  {
   "cell_type": "code",
   "execution_count": 91,
   "metadata": {
    "collapsed": false
   },
   "outputs": [
    {
     "data": {
      "text/plain": [
       "(0.06320811733976288,\n",
       " 0.06216155531215774,\n",
       " 0.07480471535365159,\n",
       " 0.065345258721610872)"
      ]
     },
     "execution_count": 91,
     "metadata": {},
     "output_type": "execute_result"
    }
   ],
   "source": [
    "# two-stage with enet\n",
    "mean_absolute_errors(new_submission.round(4), data)"
   ]
  },
  {
   "cell_type": "code",
   "execution_count": 88,
   "metadata": {
    "collapsed": false
   },
   "outputs": [
    {
     "data": {
      "text/plain": [
       "(0.06324942736588297,\n",
       " 0.06221018619934285,\n",
       " 0.07484307073030456,\n",
       " 0.065387532193865519)"
      ]
     },
     "execution_count": 88,
     "metadata": {},
     "output_type": "execute_result"
    }
   ],
   "source": [
    "# two-stage with larm\n",
    "mean_absolute_errors(new_submission.round(4), data)"
   ]
  },
  {
   "cell_type": "code",
   "execution_count": 85,
   "metadata": {
    "collapsed": false
   },
   "outputs": [
    {
     "data": {
      "text/plain": [
       "(0.0633122161944946,\n",
       " 0.06246286966046,\n",
       " 0.07484818861414623,\n",
       " 0.065479173495668438)"
      ]
     },
     "execution_count": 85,
     "metadata": {},
     "output_type": "execute_result"
    }
   ],
   "source": [
    "# two-stage with huber\n",
    "mean_absolute_errors(new_submission.round(4), data)"
   ]
  },
  {
   "cell_type": "code",
   "execution_count": 74,
   "metadata": {
    "collapsed": false
   },
   "outputs": [
    {
     "data": {
      "text/plain": [
       "(0.06321432589913599,\n",
       " 0.06228148959474268,\n",
       " 0.07486952271420345,\n",
       " 0.06538770779676889)"
      ]
     },
     "execution_count": 74,
     "metadata": {},
     "output_type": "execute_result"
    }
   ],
   "source": [
    "# two-stage with ridge\n",
    "mean_absolute_errors(new_submission.round(4), data)"
   ]
  },
  {
   "cell_type": "code",
   "execution_count": 95,
   "metadata": {
    "collapsed": true
   },
   "outputs": [],
   "source": [
    "new_submission.round(4).to_csv(\"/home/anerdi/Desktop/Zillow/submissions/two_stage_lasso.csv.gz\", index=False,\n",
    "                     compression='gzip')"
   ]
  }
 ],
 "metadata": {
  "kernelspec": {
   "display_name": "Python 3",
   "language": "python",
   "name": "python3"
  },
  "language_info": {
   "codemirror_mode": {
    "name": "ipython",
    "version": 3
   },
   "file_extension": ".py",
   "mimetype": "text/x-python",
   "name": "python",
   "nbconvert_exporter": "python",
   "pygments_lexer": "ipython3",
   "version": "3.5.4"
  }
 },
 "nbformat": 4,
 "nbformat_minor": 0
}
