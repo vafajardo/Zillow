{
 "cells": [
  {
   "cell_type": "code",
   "execution_count": 1,
   "metadata": {
    "collapsed": true
   },
   "outputs": [],
   "source": [
    "import pandas as pd\n",
    "from pandas import DataFrame,Series\n",
    "import numpy as np\n",
    "import os\n",
    "import datetime\n",
    "\n",
    "#Plotting\n",
    "import matplotlib.pyplot as plt\n",
    "import matplotlib.gridspec as gridspec\n",
    "%matplotlib inline\n",
    "\n",
    "# sklearn stuff\n",
    "from sklearn.model_selection import GridSearchCV, cross_val_score\n",
    "from sklearn.metrics import confusion_matrix, mean_squared_error, precision_score\n",
    "from sklearn.preprocessing import StandardScaler, OneHotEncoder, LabelEncoder, Imputer \n",
    "from sklearn.pipeline import Pipeline, FeatureUnion\n",
    "from sklearn.base import BaseEstimator, TransformerMixin"
   ]
  },
  {
   "cell_type": "code",
   "execution_count": 2,
   "metadata": {
    "collapsed": true
   },
   "outputs": [],
   "source": [
    "def mean_absolute_errors(submission_df, comparison_df):\n",
    "    \"\"\"\n",
    "    This function takes a submission entry for public leaderboard, and returns\n",
    "    the training error for each month.\n",
    "    \"\"\"\n",
    "    # training error\n",
    "    trainresults = pd.merge(submission_df[['ParcelId','201610','201611','201612']], comparison_df[['parcelid','logerror','month']],\n",
    "                           left_on='ParcelId', right_on='parcelid')\n",
    "    oct_error = abs(trainresults[trainresults['month'] == 10]['201610'] \n",
    "                    - trainresults[trainresults['month'] == 10]['logerror']).mean()\n",
    "    nov_error = abs(trainresults[trainresults['month'] == 11]['201611'] \n",
    "                    - trainresults[trainresults['month'] == 11]['logerror']).mean()\n",
    "    dec_error = abs(trainresults[trainresults['month'] == 12]['201612'] \n",
    "                    - trainresults[trainresults['month'] == 12]['logerror']).mean()\n",
    "    overall_mae = (oct_error*(trainresults['month'] == 10).sum() + nov_error*(trainresults['month'] == 11).sum() \n",
    "                        + dec_error*(trainresults['month'] == 12).sum()) / (trainresults['month'].isin([10,11,12])).sum()\n",
    "    return (oct_error, nov_error, dec_error, overall_mae)"
   ]
  },
  {
   "cell_type": "markdown",
   "metadata": {},
   "source": [
    "### Reading in data "
   ]
  },
  {
   "cell_type": "code",
   "execution_count": 3,
   "metadata": {
    "collapsed": false
   },
   "outputs": [],
   "source": [
    "maindir = \"/home/anerdi/Desktop/Zillow\"\n",
    "\n",
    "logerror = pd.read_csv(maindir + \"/data/train_2016_v2.csv/train_2016_v2.csv\")\n",
    "logerror['weeknumber'] = logerror['transactiondate'].apply(lambda x: datetime.datetime.strptime(x,'%Y-%m-%d').isocalendar()[1])\n",
    "logerror['month'] = logerror['transactiondate'].apply(lambda x: datetime.datetime.strptime(x,'%Y-%m-%d').month)\n",
    "properties = pd.read_csv(maindir + \"/data/properties_2016.csv/properties_2016.csv\", usecols=['parcelid'])"
   ]
  },
  {
   "cell_type": "code",
   "execution_count": 4,
   "metadata": {
    "collapsed": true
   },
   "outputs": [],
   "source": [
    "# join on parcel id\n",
    "data = pd.merge(properties,logerror[['parcelid','logerror','month']], on='parcelid')\n",
    "del logerror, properties"
   ]
  },
  {
   "cell_type": "markdown",
   "metadata": {},
   "source": [
    "### Loading in predictions from the models "
   ]
  },
  {
   "cell_type": "code",
   "execution_count": 5,
   "metadata": {
    "collapsed": false
   },
   "outputs": [],
   "source": [
    "os.chdir(\"/home/anerdi/Desktop/Zillow/submissions/\")"
   ]
  },
  {
   "cell_type": "code",
   "execution_count": 6,
   "metadata": {
    "collapsed": false
   },
   "outputs": [
    {
     "data": {
      "text/plain": [
       "(0.06315269012412131,\n",
       " 0.06226942536365466,\n",
       " 0.0750168754592673,\n",
       " 0.065379215158680754)"
      ]
     },
     "execution_count": 6,
     "metadata": {},
     "output_type": "execute_result"
    }
   ],
   "source": [
    "BART = pd.read_csv(\"BART_submission.csv.gz\", compression=\"gzip\")\n",
    "mean_absolute_errors(BART, data)"
   ]
  },
  {
   "cell_type": "code",
   "execution_count": 7,
   "metadata": {
    "collapsed": false
   },
   "outputs": [
    {
     "data": {
      "text/plain": [
       "(0.06218806509945767,\n",
       " 0.06125673603504926,\n",
       " 0.07380603795284651,\n",
       " 0.064354191055958895)"
      ]
     },
     "execution_count": 7,
     "metadata": {},
     "output_type": "execute_result"
    }
   ],
   "source": [
    "LME = pd.read_csv(\"two_stage_stage1_stacked_annrfs_stage_lme.csv.gz\", compression=\"gzip\")\n",
    "mean_absolute_errors(LME, data)"
   ]
  },
  {
   "cell_type": "code",
   "execution_count": 102,
   "metadata": {
    "collapsed": false
   },
   "outputs": [
    {
     "data": {
      "text/plain": [
       "(0.061984790034157,\n",
       " 0.06130268346111716,\n",
       " 0.0732554341575618,\n",
       " 0.064133481620229374)"
      ]
     },
     "execution_count": 102,
     "metadata": {},
     "output_type": "execute_result"
    }
   ],
   "source": [
    "rf_lme = pd.read_csv(\"two_stage_stage1_rf_stage2_lme.csv.gz\", compression=\"gzip\")\n",
    "mean_absolute_errors(rf_lme, data)"
   ]
  },
  {
   "cell_type": "code",
   "execution_count": 8,
   "metadata": {
    "collapsed": false
   },
   "outputs": [
    {
     "data": {
      "text/plain": [
       "(0.06328571428571401,\n",
       " 0.062285596933187234,\n",
       " 0.07491650373778051,\n",
       " 0.065439744790447077)"
      ]
     },
     "execution_count": 8,
     "metadata": {},
     "output_type": "execute_result"
    }
   ],
   "source": [
    "logistic_LME = pd.read_csv(\"two_stage_lme.csv.gz\", compression=\"gzip\")\n",
    "mean_absolute_errors(logistic_LME, data)"
   ]
  },
  {
   "cell_type": "code",
   "execution_count": 9,
   "metadata": {
    "collapsed": false
   },
   "outputs": [
    {
     "data": {
      "text/plain": [
       "(0.062045469158127406,\n",
       " 0.06109260679079965,\n",
       " 0.07364278320874057,\n",
       " 0.064202786232732401)"
      ]
     },
     "execution_count": 9,
     "metadata": {},
     "output_type": "execute_result"
    }
   ],
   "source": [
    "RF = pd.read_csv(\"two_stage_stage1_stacked_annrfs_stage2_rf.csv.gz\", compression=\"gzip\")\n",
    "mean_absolute_errors(RF, data)"
   ]
  },
  {
   "cell_type": "code",
   "execution_count": 10,
   "metadata": {
    "collapsed": false
   },
   "outputs": [
    {
     "data": {
      "text/plain": [
       "(0.0631669479606187,\n",
       " 0.06216046002190593,\n",
       " 0.07476497987349064,\n",
       " 0.065312947787403389)"
      ]
     },
     "execution_count": 10,
     "metadata": {},
     "output_type": "execute_result"
    }
   ],
   "source": [
    "logistic_RF = pd.read_csv(\"two_stage_rf.csv.gz\", compression=\"gzip\")\n",
    "mean_absolute_errors(logistic_RF, data)"
   ]
  },
  {
   "cell_type": "code",
   "execution_count": 11,
   "metadata": {
    "collapsed": false
   },
   "outputs": [
    {
     "data": {
      "text/plain": [
       "(0.0627264215390796,\n",
       " 0.06182163198247547,\n",
       " 0.07473668775158138,\n",
       " 0.064978084757667934)"
      ]
     },
     "execution_count": 11,
     "metadata": {},
     "output_type": "execute_result"
    }
   ],
   "source": [
    "RF_singlestage = pd.read_csv(\"RF_n100_maxfeat5_maxdepth8.gz\", compression=\"gzip\")\n",
    "mean_absolute_errors(RF_singlestage, data)"
   ]
  },
  {
   "cell_type": "code",
   "execution_count": 12,
   "metadata": {
    "collapsed": false
   },
   "outputs": [
    {
     "data": {
      "text/plain": [
       "(0.06195625879043588,\n",
       " 0.06436095290251921,\n",
       " 0.07321730879815982,\n",
       " 0.064762854132521586)"
      ]
     },
     "execution_count": 12,
     "metadata": {},
     "output_type": "execute_result"
    }
   ],
   "source": [
    "RF_2 = pd.read_csv(\"RF_n100_maxfeat10_maxdepth20_extreme.gz\", compression=\"gzip\")\n",
    "mean_absolute_errors(RF_2, data)"
   ]
  },
  {
   "cell_type": "code",
   "execution_count": 13,
   "metadata": {
    "collapsed": false
   },
   "outputs": [
    {
     "data": {
      "text/plain": [
       "(0.06211394414305826,\n",
       " 0.061221522453450215,\n",
       " 0.07382415181138596,\n",
       " 0.064307164598454841)"
      ]
     },
     "execution_count": 13,
     "metadata": {},
     "output_type": "execute_result"
    }
   ],
   "source": [
    "Ridge = pd.read_csv(\"two_stage_stage1_stacked_annrfs_stage2_ridge.csv.gz\", compression=\"gzip\")\n",
    "mean_absolute_errors(Ridge, data)"
   ]
  },
  {
   "cell_type": "code",
   "execution_count": 93,
   "metadata": {
    "collapsed": false
   },
   "outputs": [
    {
     "data": {
      "text/plain": [
       "(0.061900200924251476,\n",
       " 0.06124611171960577,\n",
       " 0.07323162737205288,\n",
       " 0.064067255911964383)"
      ]
     },
     "execution_count": 93,
     "metadata": {},
     "output_type": "execute_result"
    }
   ],
   "source": [
    "rf_ridge = pd.read_csv(\"two_stage_stage1_rf_stage2_ridge.csv.gz\", compression=\"gzip\")\n",
    "mean_absolute_errors(rf_ridge, data)"
   ]
  },
  {
   "cell_type": "code",
   "execution_count": 14,
   "metadata": {
    "collapsed": false
   },
   "outputs": [
    {
     "data": {
      "text/plain": [
       "(0.06321432589913599,\n",
       " 0.06228148959474268,\n",
       " 0.07486952271420345,\n",
       " 0.06538770779676889)"
      ]
     },
     "execution_count": 14,
     "metadata": {},
     "output_type": "execute_result"
    }
   ],
   "source": [
    "logistic_ridge = pd.read_csv(\"two_stage_ridge.csv.gz\", compression=\"gzip\")\n",
    "mean_absolute_errors(logistic_ridge, data)"
   ]
  },
  {
   "cell_type": "code",
   "execution_count": 15,
   "metadata": {
    "collapsed": false
   },
   "outputs": [
    {
     "data": {
      "text/plain": [
       "(0.06212993771348221,\n",
       " 0.06119145673603508,\n",
       " 0.07377395054629106,\n",
       " 0.06429983610395705)"
      ]
     },
     "execution_count": 15,
     "metadata": {},
     "output_type": "execute_result"
    }
   ],
   "source": [
    "Enet = pd.read_csv(\"two_stage_stage1_stacked_annrfs_stage2_enet.csv.gz\", compression=\"gzip\")\n",
    "mean_absolute_errors(Enet, data)"
   ]
  },
  {
   "cell_type": "code",
   "execution_count": 95,
   "metadata": {
    "collapsed": false
   },
   "outputs": [
    {
     "data": {
      "text/plain": [
       "(0.061908358448864956,\n",
       " 0.06118674698795178,\n",
       " 0.07323622771707874,\n",
       " 0.064060255209552885)"
      ]
     },
     "execution_count": 95,
     "metadata": {},
     "output_type": "execute_result"
    }
   ],
   "source": [
    "rf_enet = pd.read_csv(\"two_stage_stage1_rf_stage2_enet.csv.gz\")\n",
    "mean_absolute_errors(rf_enet, data)"
   ]
  },
  {
   "cell_type": "code",
   "execution_count": 16,
   "metadata": {
    "collapsed": false
   },
   "outputs": [
    {
     "data": {
      "text/plain": [
       "(0.06320811733976288,\n",
       " 0.06216155531215774,\n",
       " 0.07480471535365159,\n",
       " 0.065345258721610872)"
      ]
     },
     "execution_count": 16,
     "metadata": {},
     "output_type": "execute_result"
    }
   ],
   "source": [
    "logistic_enet = pd.read_csv(\"two_stage_enet.csv.gz\", compression=\"gzip\")\n",
    "mean_absolute_errors(logistic_enet, data)"
   ]
  },
  {
   "cell_type": "code",
   "execution_count": 17,
   "metadata": {
    "collapsed": false
   },
   "outputs": [
    {
     "data": {
      "text/plain": [
       "(0.062133273056057994,\n",
       " 0.06118707557502739,\n",
       " 0.07377216791259353,\n",
       " 0.064300479981269115)"
      ]
     },
     "execution_count": 17,
     "metadata": {},
     "output_type": "execute_result"
    }
   ],
   "source": [
    "Lasso = pd.read_csv(\"two_stage_stage1_stacked_annrfs_stage2_lasso.csv.gz\", compression=\"gzip\")\n",
    "mean_absolute_errors(Lasso, data)"
   ]
  },
  {
   "cell_type": "code",
   "execution_count": 96,
   "metadata": {
    "collapsed": false
   },
   "outputs": [
    {
     "data": {
      "text/plain": [
       "(0.061914707655214174,\n",
       " 0.06119074479737131,\n",
       " 0.07324531339850505,\n",
       " 0.06406665886209334)"
      ]
     },
     "execution_count": 96,
     "metadata": {},
     "output_type": "execute_result"
    }
   ],
   "source": [
    "rf_lasso = pd.read_csv(\"two_stage_stage1_rf_stage2_lasso.csv.gz\")\n",
    "mean_absolute_errors(rf_lasso, data)"
   ]
  },
  {
   "cell_type": "code",
   "execution_count": 18,
   "metadata": {
    "collapsed": false
   },
   "outputs": [
    {
     "data": {
      "text/plain": [
       "(0.06321498894916613,\n",
       " 0.06216084337349388,\n",
       " 0.07480948821161598,\n",
       " 0.065350081948021527)"
      ]
     },
     "execution_count": 18,
     "metadata": {},
     "output_type": "execute_result"
    }
   ],
   "source": [
    "logistic_lasso = pd.read_csv(\"two_stage_lasso.csv.gz\", compression=\"gzip\")\n",
    "mean_absolute_errors(logistic_lasso, data)"
   ]
  },
  {
   "cell_type": "code",
   "execution_count": 19,
   "metadata": {
    "collapsed": false
   },
   "outputs": [
    {
     "data": {
      "text/plain": [
       "(0.06357010247136825,\n",
       " 0.062275520262869734,\n",
       " 0.07545290396779751,\n",
       " 0.065712491219854813)"
      ]
     },
     "execution_count": 19,
     "metadata": {},
     "output_type": "execute_result"
    }
   ],
   "source": [
    "XGB = pd.read_csv(\"two_stage_xgb.csv.gz\", compression=\"gzip\")\n",
    "mean_absolute_errors(XGB, data)"
   ]
  },
  {
   "cell_type": "code",
   "execution_count": 20,
   "metadata": {
    "collapsed": false
   },
   "outputs": [
    {
     "data": {
      "text/plain": [
       "(0.06211727600763514,\n",
       " 0.06136520946002188,\n",
       " 0.07414289916043706,\n",
       " 0.064404712807773379)"
      ]
     },
     "execution_count": 20,
     "metadata": {},
     "output_type": "execute_result"
    }
   ],
   "source": [
    "XGB600 = pd.read_csv(\"XGB_600.gz\", compression=\"gzip\")\n",
    "mean_absolute_errors(XGB600, data)"
   ]
  },
  {
   "cell_type": "code",
   "execution_count": 21,
   "metadata": {
    "collapsed": false
   },
   "outputs": [
    {
     "data": {
      "text/plain": [
       "(0.06228837162257941,\n",
       " 0.056873301559340145,\n",
       " 0.06987688277262188,\n",
       " 0.062632190538725402)"
      ]
     },
     "execution_count": 21,
     "metadata": {},
     "output_type": "execute_result"
    }
   ],
   "source": [
    "XGB3000 = pd.read_csv(\"XGB_3000_RF.gz\", compression='gzip')\n",
    "mean_absolute_errors(XGB3000, data)"
   ]
  },
  {
   "cell_type": "code",
   "execution_count": 22,
   "metadata": {
    "collapsed": false
   },
   "outputs": [
    {
     "data": {
      "text/plain": [
       "(0.06235075346594324,\n",
       " 0.06162031763417309,\n",
       " 0.07401564117308788,\n",
       " 0.06456937485366418)"
      ]
     },
     "execution_count": 22,
     "metadata": {},
     "output_type": "execute_result"
    }
   ],
   "source": [
    "Huber = pd.read_csv(\"two_stage_stage1_stacked_annrfs_stage2_huber.csv.gz\", compression=\"gzip\")\n",
    "mean_absolute_errors(Huber, data)"
   ]
  },
  {
   "cell_type": "code",
   "execution_count": 97,
   "metadata": {
    "collapsed": false
   },
   "outputs": [
    {
     "data": {
      "text/plain": [
       "(0.062133735181836354,\n",
       " 0.061565826944140145,\n",
       " 0.0734212190914319,\n",
       " 0.064310266916412964)"
      ]
     },
     "execution_count": 97,
     "metadata": {},
     "output_type": "execute_result"
    }
   ],
   "source": [
    "rf_huber = pd.read_csv(\"two_stage_stage1_rf_stage2_huber.csv.gz\")\n",
    "mean_absolute_errors(rf_huber, data)"
   ]
  },
  {
   "cell_type": "code",
   "execution_count": 23,
   "metadata": {
    "collapsed": false
   },
   "outputs": [
    {
     "data": {
      "text/plain": [
       "(0.0633122161944946,\n",
       " 0.06246286966046,\n",
       " 0.07484818861414623,\n",
       " 0.065479173495668438)"
      ]
     },
     "execution_count": 23,
     "metadata": {},
     "output_type": "execute_result"
    }
   ],
   "source": [
    "logistic_huber = pd.read_csv(\"two_stage_huber.csv.gz\", compression=\"gzip\")\n",
    "mean_absolute_errors(logistic_huber, data)"
   ]
  },
  {
   "cell_type": "code",
   "execution_count": 24,
   "metadata": {
    "collapsed": false
   },
   "outputs": [
    {
     "data": {
      "text/plain": [
       "(0.062185292344785925,\n",
       " 0.06120224534501639,\n",
       " 0.07380408280621042,\n",
       " 0.064340529150081871)"
      ]
     },
     "execution_count": 24,
     "metadata": {},
     "output_type": "execute_result"
    }
   ],
   "source": [
    "LARM =  pd.read_csv(\"two_stage_stage1_stacked_annrfs_stage2_larm.csv.gz\", compression=\"gzip\")\n",
    "mean_absolute_errors(LARM, data)"
   ]
  },
  {
   "cell_type": "code",
   "execution_count": 98,
   "metadata": {
    "collapsed": false
   },
   "outputs": [
    {
     "data": {
      "text/plain": [
       "(0.061992927466345146,\n",
       " 0.06124435925520252,\n",
       " 0.07329637722829221,\n",
       " 0.06413409037696087)"
      ]
     },
     "execution_count": 98,
     "metadata": {},
     "output_type": "execute_result"
    }
   ],
   "source": [
    "rf_larm = pd.read_csv(\"two_stage_stage1_rf_stage2_larm.csv.gz\")\n",
    "mean_absolute_errors(rf_larm, data)"
   ]
  },
  {
   "cell_type": "code",
   "execution_count": 25,
   "metadata": {
    "collapsed": false
   },
   "outputs": [
    {
     "data": {
      "text/plain": [
       "(0.06324942736588297,\n",
       " 0.06221018619934285,\n",
       " 0.07484307073030456,\n",
       " 0.065387532193865519)"
      ]
     },
     "execution_count": 25,
     "metadata": {},
     "output_type": "execute_result"
    }
   ],
   "source": [
    "logistic_larm = pd.read_csv(\"two_stage_larm.csv.gz\", compression=\"gzip\")\n",
    "mean_absolute_errors(logistic_larm, data)"
   ]
  },
  {
   "cell_type": "code",
   "execution_count": 26,
   "metadata": {
    "collapsed": false
   },
   "outputs": [
    {
     "data": {
      "text/plain": [
       "(0.06346130419931673,\n",
       " 0.062492389375684604,\n",
       " 0.07486073950546275,\n",
       " 0.06557490517443211)"
      ]
     },
     "execution_count": 26,
     "metadata": {},
     "output_type": "execute_result"
    }
   ],
   "source": [
    "Adaptive_LASSO =  pd.read_csv(\"Adp-lasso-af.gz\", compression=\"gzip\")\n",
    "mean_absolute_errors(Adaptive_LASSO, data)"
   ]
  },
  {
   "cell_type": "code",
   "execution_count": 142,
   "metadata": {
    "collapsed": false
   },
   "outputs": [],
   "source": [
    "models = [(Ridge,0.07),(logistic_ridge,0.02),(rf_ridge,0.05),\n",
    "    (Enet,0.05),(logistic_enet,0.02),(rf_enet,0.05),\n",
    "    (Lasso,0.05),(logistic_lasso,0.02),(rf_lasso,0.05),\n",
    "    (Huber, 0.05),(logistic_huber,0.02),(rf_huber,0.05),\n",
    "    (LARM,0.05),(logistic_larm,0.02),(rf_larm,0.05),\n",
    "    (LME, 0.05),(logistic_LME,0.06),(rf_lme,0.05),\n",
    "    (XGB600,0.09),\n",
    "    (RF,0.10),\n",
    "    (XGB3000, 0.02),\n",
    "    (RF_2, 0.01)]\n",
    "\n",
    "\n",
    "# # current best ensemble\n",
    "# models = [(Ridge,0.08),(logistic_ridge,0.03),(rf_ridge,0.03),\n",
    "#     (Enet,0.06),(logistic_enet,0.03),(rf_enet,0.03),\n",
    "#     (Lasso,0.06),(logistic_lasso,0.03),(rf_lasso,0.03),\n",
    "#     (Huber, 0.06),(logistic_huber,0.03),(rf_huber,0.03),\n",
    "#     (LARM,0.06),(logistic_larm,0.03),(rf_larm,0.03),\n",
    "#     (LME, 0.05),(logistic_LME,0.08),(rf_lme,0.03),\n",
    "#     (XGB600,0.09),\n",
    "#     (RF,0.10),\n",
    "#     (XGB3000, 0.02),\n",
    "#     (RF_2, 0.01)]\n",
    "\n",
    "\n",
    "# models = [(Ridge,0.09),(logistic_ridge,0.05),\n",
    "#     (Enet,0.07),(logistic_enet,0.05),\n",
    "#     (Lasso,0.07),(logistic_lasso,0.05),\n",
    "#     (Huber, 0.07),(logistic_huber,0.05),\n",
    "#     (LARM,0.07),(logistic_larm,0.05),\n",
    "#     (LME, 0.02),(logistic_LME,0.11),\n",
    "#     (XGB600,0.11),\n",
    "#     (RF,0.10),\n",
    "#     (XGB3000, 0.03),\n",
    "#     (RF_2, 0.01)]\n",
    "\n",
    "# scale = 0.90\n",
    "\n",
    "# models = [(Ridge,0.82279736 / 3 * scale),\n",
    "#          (LME, 0.82279736 / 3 * scale),\n",
    "#          (LARM,0.82279736 / 3 * scale),\n",
    "#          (Enet,0.15298894 * scale),\n",
    "#          (Huber, 0.02112733 * scale),\n",
    "#          (RF, 1.09076218 * (1-scale)),\n",
    "#          (XGB3000, 0.05),\n",
    "#           (RF_2, 0.05)\n",
    "# ]"
   ]
  },
  {
   "cell_type": "code",
   "execution_count": 143,
   "metadata": {
    "collapsed": false
   },
   "outputs": [
    {
     "data": {
      "text/plain": [
       "1.0000000000000002"
      ]
     },
     "execution_count": 143,
     "metadata": {},
     "output_type": "execute_result"
    }
   ],
   "source": [
    "sum([y for x,y in models])"
   ]
  },
  {
   "cell_type": "code",
   "execution_count": 144,
   "metadata": {
    "collapsed": true
   },
   "outputs": [],
   "source": [
    "ensemble = Ridge[['ParcelId']].copy()\n",
    "cols = ['201610','201611','201612','201710','201711','201712']\n",
    "foo = models[0][0][cols]*models[0][1]\n",
    "for pair in models[1:]:\n",
    "    model,wt = pair\n",
    "    foo = foo + model[cols]*wt "
   ]
  },
  {
   "cell_type": "code",
   "execution_count": 145,
   "metadata": {
    "collapsed": false
   },
   "outputs": [
    {
     "data": {
      "text/plain": [
       "(0.061930239099859404,\n",
       " 0.061154709748083215,\n",
       " 0.07352139160437032,\n",
       " 0.064124209786935157)"
      ]
     },
     "execution_count": 145,
     "metadata": {},
     "output_type": "execute_result"
    }
   ],
   "source": [
    "ensemble = pd.concat([ensemble,foo.round(4)], axis=1)\n",
    "ensemble['ParcelId'] = ensemble['ParcelId'].astype(int)\n",
    "assert all(ensemble.ParcelId.unique() == Ridge.ParcelId.unique())\n",
    "mean_absolute_errors(ensemble, data)"
   ]
  },
  {
   "cell_type": "code",
   "execution_count": 134,
   "metadata": {
    "collapsed": false
   },
   "outputs": [
    {
     "data": {
      "text/plain": [
       "(0.062031906771147276,\n",
       " 0.061217579408543304,\n",
       " 0.07365583668775155,\n",
       " 0.06422425661437603)"
      ]
     },
     "execution_count": 134,
     "metadata": {},
     "output_type": "execute_result"
    }
   ],
   "source": [
    "# current best\n",
    "ensemble = pd.concat([ensemble,foo.round(4)], axis=1)\n",
    "ensemble['ParcelId'] = ensemble['ParcelId'].astype(int)\n",
    "assert all(ensemble.ParcelId.unique() == Ridge.ParcelId.unique())\n",
    "mean_absolute_errors(ensemble, data)"
   ]
  },
  {
   "cell_type": "code",
   "execution_count": 146,
   "metadata": {
    "collapsed": false
   },
   "outputs": [],
   "source": [
    "ensemble.to_csv(\"new_ensemble.gz\", index=False, float_format='%.4g', compression='gzip')"
   ]
  },
  {
   "cell_type": "code",
   "execution_count": null,
   "metadata": {
    "collapsed": true
   },
   "outputs": [],
   "source": []
  }
 ],
 "metadata": {
  "kernelspec": {
   "display_name": "Python 3",
   "language": "python",
   "name": "python3"
  },
  "language_info": {
   "codemirror_mode": {
    "name": "ipython",
    "version": 3
   },
   "file_extension": ".py",
   "mimetype": "text/x-python",
   "name": "python",
   "nbconvert_exporter": "python",
   "pygments_lexer": "ipython3",
   "version": "3.5.4"
  }
 },
 "nbformat": 4,
 "nbformat_minor": 0
}
