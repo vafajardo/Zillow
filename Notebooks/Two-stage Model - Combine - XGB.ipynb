{
 "cells": [
  {
   "cell_type": "code",
   "execution_count": 1,
   "metadata": {
    "collapsed": true
   },
   "outputs": [],
   "source": [
    "import pandas as pd\n",
    "from pandas import DataFrame,Series\n",
    "import numpy as np\n",
    "import os\n",
    "import datetime\n",
    "\n",
    "#Plotting\n",
    "import matplotlib.pyplot as plt\n",
    "import matplotlib.gridspec as gridspec\n",
    "%matplotlib inline\n",
    "\n",
    "# sklearn stuff\n",
    "from sklearn.model_selection import GridSearchCV, cross_val_score\n",
    "from sklearn.metrics import confusion_matrix, mean_squared_error, precision_score\n",
    "from sklearn.preprocessing import StandardScaler, OneHotEncoder, LabelEncoder, Imputer \n",
    "from sklearn.pipeline import Pipeline, FeatureUnion\n",
    "from sklearn.base import BaseEstimator, TransformerMixin\n",
    "\n",
    "import feature_pipelines as pipes"
   ]
  },
  {
   "cell_type": "markdown",
   "metadata": {},
   "source": [
    "### Reading in data"
   ]
  },
  {
   "cell_type": "code",
   "execution_count": 2,
   "metadata": {
    "collapsed": false
   },
   "outputs": [],
   "source": [
    "maindir = \"/home/anerdi/Desktop/Zillow\"\n",
    "\n",
    "logerror = pd.read_csv(maindir + \"/data/train_2016_v2.csv/train_2016_v2.csv\")\n",
    "logerror['weeknumber'] = logerror['transactiondate'].apply(lambda x: datetime.datetime.strptime(x,'%Y-%m-%d').isocalendar()[1])\n",
    "logerror['month'] = logerror['transactiondate'].apply(lambda x: datetime.datetime.strptime(x,'%Y-%m-%d').month)\n",
    "properties = pd.read_csv(maindir + \"/data/properties_2016.csv/properties_2016.csv\", usecols=['parcelid'])"
   ]
  },
  {
   "cell_type": "code",
   "execution_count": 3,
   "metadata": {
    "collapsed": true
   },
   "outputs": [],
   "source": [
    "# join on parcel id\n",
    "data = pd.merge(properties,logerror[['parcelid','logerror','month']], on='parcelid')"
   ]
  },
  {
   "cell_type": "code",
   "execution_count": 4,
   "metadata": {
    "collapsed": true
   },
   "outputs": [],
   "source": [
    "def mean_absolute_errors(submission_df, comparison_df):\n",
    "    \"\"\"\n",
    "    This function takes a submission entry for public leaderboard, and returns\n",
    "    the training error for each month.\n",
    "    \"\"\"\n",
    "    # training error\n",
    "    trainresults = pd.merge(submission_df[['ParcelId','201610','201611','201612']], comparison_df[['parcelid','logerror','month']],\n",
    "                           left_on='ParcelId', right_on='parcelid')\n",
    "    oct_error = abs(trainresults[trainresults['month'] == 10]['201610'] \n",
    "                    - trainresults[trainresults['month'] == 10]['logerror']).mean()\n",
    "    nov_error = abs(trainresults[trainresults['month'] == 11]['201611'] \n",
    "                    - trainresults[trainresults['month'] == 11]['logerror']).mean()\n",
    "    dec_error = abs(trainresults[trainresults['month'] == 12]['201612'] \n",
    "                    - trainresults[trainresults['month'] == 12]['logerror']).mean()\n",
    "    overall_mae = (oct_error*(trainresults['month'] == 10).sum() + nov_error*(trainresults['month'] == 11).sum() \n",
    "                        + dec_error*(trainresults['month'] == 12).sum()) / (trainresults['month'].isin([10,11,12])).sum()\n",
    "    return (oct_error, nov_error, dec_error, overall_mae)"
   ]
  },
  {
   "cell_type": "markdown",
   "metadata": {},
   "source": [
    "### Readin stage 1 classification results "
   ]
  },
  {
   "cell_type": "code",
   "execution_count": 5,
   "metadata": {
    "collapsed": false
   },
   "outputs": [
    {
     "data": {
      "text/html": [
       "<div>\n",
       "<style>\n",
       "    .dataframe thead tr:only-child th {\n",
       "        text-align: right;\n",
       "    }\n",
       "\n",
       "    .dataframe thead th {\n",
       "        text-align: left;\n",
       "    }\n",
       "\n",
       "    .dataframe tbody tr th {\n",
       "        vertical-align: top;\n",
       "    }\n",
       "</style>\n",
       "<table border=\"1\" class=\"dataframe\">\n",
       "  <thead>\n",
       "    <tr style=\"text-align: right;\">\n",
       "      <th></th>\n",
       "      <th>parcelid</th>\n",
       "      <th>ann_overestimate_prob</th>\n",
       "      <th>rf2_overestimate_prob</th>\n",
       "      <th>rf3_overestimate_prob</th>\n",
       "      <th>overestimate_prob</th>\n",
       "    </tr>\n",
       "  </thead>\n",
       "  <tbody>\n",
       "    <tr>\n",
       "      <th>0</th>\n",
       "      <td>10754147</td>\n",
       "      <td>0.469632</td>\n",
       "      <td>0.466012</td>\n",
       "      <td>0.495383</td>\n",
       "      <td>0.479207</td>\n",
       "    </tr>\n",
       "    <tr>\n",
       "      <th>1</th>\n",
       "      <td>10759547</td>\n",
       "      <td>0.406392</td>\n",
       "      <td>0.555562</td>\n",
       "      <td>0.524675</td>\n",
       "      <td>0.475759</td>\n",
       "    </tr>\n",
       "    <tr>\n",
       "      <th>2</th>\n",
       "      <td>10843547</td>\n",
       "      <td>0.880731</td>\n",
       "      <td>0.548264</td>\n",
       "      <td>0.548752</td>\n",
       "      <td>0.732975</td>\n",
       "    </tr>\n",
       "    <tr>\n",
       "      <th>3</th>\n",
       "      <td>10859147</td>\n",
       "      <td>0.569588</td>\n",
       "      <td>0.663067</td>\n",
       "      <td>0.543329</td>\n",
       "      <td>0.602100</td>\n",
       "    </tr>\n",
       "    <tr>\n",
       "      <th>4</th>\n",
       "      <td>10879947</td>\n",
       "      <td>0.540791</td>\n",
       "      <td>0.519636</td>\n",
       "      <td>0.485341</td>\n",
       "      <td>0.531297</td>\n",
       "    </tr>\n",
       "  </tbody>\n",
       "</table>\n",
       "</div>"
      ],
      "text/plain": [
       "   parcelid  ann_overestimate_prob  rf2_overestimate_prob  \\\n",
       "0  10754147               0.469632               0.466012   \n",
       "1  10759547               0.406392               0.555562   \n",
       "2  10843547               0.880731               0.548264   \n",
       "3  10859147               0.569588               0.663067   \n",
       "4  10879947               0.540791               0.519636   \n",
       "\n",
       "   rf3_overestimate_prob  overestimate_prob  \n",
       "0               0.495383           0.479207  \n",
       "1               0.524675           0.475759  \n",
       "2               0.548752           0.732975  \n",
       "3               0.543329           0.602100  \n",
       "4               0.485341           0.531297  "
      ]
     },
     "execution_count": 5,
     "metadata": {},
     "output_type": "execute_result"
    }
   ],
   "source": [
    "overestimate_probabilities = pd.read_csv(\"/home/anerdi/Desktop/Zillow/twostagemodel/overestimate_probs_stacked_ann_rfs.csv.gz\",\n",
    "                                        compression='gzip')\n",
    "overestimate_probabilities.rename(columns={'stacked_pred':'overestimate_prob'},inplace=True)\n",
    "overestimate_probabilities.head()"
   ]
  },
  {
   "cell_type": "markdown",
   "metadata": {},
   "source": [
    "### Readin two-stage linear model predictions "
   ]
  },
  {
   "cell_type": "code",
   "execution_count": 6,
   "metadata": {
    "collapsed": false
   },
   "outputs": [
    {
     "data": {
      "text/html": [
       "<div>\n",
       "<style>\n",
       "    .dataframe thead tr:only-child th {\n",
       "        text-align: right;\n",
       "    }\n",
       "\n",
       "    .dataframe thead th {\n",
       "        text-align: left;\n",
       "    }\n",
       "\n",
       "    .dataframe tbody tr th {\n",
       "        vertical-align: top;\n",
       "    }\n",
       "</style>\n",
       "<table border=\"1\" class=\"dataframe\">\n",
       "  <thead>\n",
       "    <tr style=\"text-align: right;\">\n",
       "      <th></th>\n",
       "      <th>Unnamed: 0</th>\n",
       "      <th>parcelid</th>\n",
       "      <th>xgb_oct_under</th>\n",
       "      <th>xgb_oct_over</th>\n",
       "      <th>xgb_nov_under</th>\n",
       "      <th>xgb_nov_over</th>\n",
       "      <th>xgb_dec_under</th>\n",
       "      <th>xgb_dec_over</th>\n",
       "    </tr>\n",
       "  </thead>\n",
       "  <tbody>\n",
       "    <tr>\n",
       "      <th>0</th>\n",
       "      <td>0</td>\n",
       "      <td>10754147</td>\n",
       "      <td>-0.198943</td>\n",
       "      <td>0.087975</td>\n",
       "      <td>-0.209733</td>\n",
       "      <td>0.085679</td>\n",
       "      <td>-0.193651</td>\n",
       "      <td>0.087517</td>\n",
       "    </tr>\n",
       "    <tr>\n",
       "      <th>1</th>\n",
       "      <td>1</td>\n",
       "      <td>10759547</td>\n",
       "      <td>-0.110940</td>\n",
       "      <td>0.081205</td>\n",
       "      <td>-0.114238</td>\n",
       "      <td>0.079867</td>\n",
       "      <td>-0.110725</td>\n",
       "      <td>0.081849</td>\n",
       "    </tr>\n",
       "    <tr>\n",
       "      <th>2</th>\n",
       "      <td>2</td>\n",
       "      <td>10843547</td>\n",
       "      <td>-0.269981</td>\n",
       "      <td>0.624938</td>\n",
       "      <td>-0.287432</td>\n",
       "      <td>0.675193</td>\n",
       "      <td>-0.259808</td>\n",
       "      <td>0.618806</td>\n",
       "    </tr>\n",
       "    <tr>\n",
       "      <th>3</th>\n",
       "      <td>3</td>\n",
       "      <td>10859147</td>\n",
       "      <td>-0.224659</td>\n",
       "      <td>0.487692</td>\n",
       "      <td>-0.223898</td>\n",
       "      <td>0.511500</td>\n",
       "      <td>-0.199660</td>\n",
       "      <td>0.479048</td>\n",
       "    </tr>\n",
       "    <tr>\n",
       "      <th>4</th>\n",
       "      <td>4</td>\n",
       "      <td>10879947</td>\n",
       "      <td>-0.282351</td>\n",
       "      <td>0.271146</td>\n",
       "      <td>-0.286560</td>\n",
       "      <td>0.225149</td>\n",
       "      <td>-0.333289</td>\n",
       "      <td>0.256966</td>\n",
       "    </tr>\n",
       "  </tbody>\n",
       "</table>\n",
       "</div>"
      ],
      "text/plain": [
       "   Unnamed: 0  parcelid  xgb_oct_under  xgb_oct_over  xgb_nov_under  \\\n",
       "0           0  10754147      -0.198943      0.087975      -0.209733   \n",
       "1           1  10759547      -0.110940      0.081205      -0.114238   \n",
       "2           2  10843547      -0.269981      0.624938      -0.287432   \n",
       "3           3  10859147      -0.224659      0.487692      -0.223898   \n",
       "4           4  10879947      -0.282351      0.271146      -0.286560   \n",
       "\n",
       "   xgb_nov_over  xgb_dec_under  xgb_dec_over  \n",
       "0      0.085679      -0.193651      0.087517  \n",
       "1      0.079867      -0.110725      0.081849  \n",
       "2      0.675193      -0.259808      0.618806  \n",
       "3      0.511500      -0.199660      0.479048  \n",
       "4      0.225149      -0.333289      0.256966  "
      ]
     },
     "execution_count": 6,
     "metadata": {},
     "output_type": "execute_result"
    }
   ],
   "source": [
    "two_stage_linear_models = pd.read_csv(\"/home/anerdi/Desktop/Zillow/twostagemodel/XGB-two-stage-preds.csv.gz\",\n",
    "                       compression='gzip')\n",
    "two_stage_linear_models.head()"
   ]
  },
  {
   "cell_type": "markdown",
   "metadata": {},
   "source": [
    "### Readin single-stage model predictions "
   ]
  },
  {
   "cell_type": "code",
   "execution_count": 7,
   "metadata": {
    "collapsed": false
   },
   "outputs": [
    {
     "data": {
      "text/plain": [
       "(0.06211727600763514,\n",
       " 0.06136520946002188,\n",
       " 0.07414289916043706,\n",
       " 0.064404712807773379)"
      ]
     },
     "execution_count": 7,
     "metadata": {},
     "output_type": "execute_result"
    }
   ],
   "source": [
    "single_stage_model = pd.read_csv(\"/home/anerdi/Desktop/Zillow/submissions/XGB_600.gz\")\n",
    "mean_absolute_errors(single_stage_model,data)"
   ]
  },
  {
   "cell_type": "markdown",
   "metadata": {},
   "source": [
    "### Combine preds & overestimate probabilities to generate one prediction "
   ]
  },
  {
   "cell_type": "code",
   "execution_count": 8,
   "metadata": {
    "collapsed": true
   },
   "outputs": [],
   "source": [
    "test_predictions = pd.merge(two_stage_linear_models, overestimate_probabilities, on='parcelid')"
   ]
  },
  {
   "cell_type": "code",
   "execution_count": 11,
   "metadata": {
    "collapsed": false
   },
   "outputs": [],
   "source": [
    "models = [\"xgb_oct\",\"xgb_nov\",\"xgb_dec\",]"
   ]
  },
  {
   "cell_type": "code",
   "execution_count": 12,
   "metadata": {
    "collapsed": false
   },
   "outputs": [],
   "source": [
    "for model in models:\n",
    "    # combine over and under to get prediction\n",
    "    test_predictions[model] = (test_predictions['%s_over' % model]*test_predictions['overestimate_prob'] +\n",
    "                    test_predictions['%s_under' % model]*(1 - test_predictions['overestimate_prob']))"
   ]
  },
  {
   "cell_type": "code",
   "execution_count": 13,
   "metadata": {
    "collapsed": false
   },
   "outputs": [
    {
     "data": {
      "text/html": [
       "<div>\n",
       "<style>\n",
       "    .dataframe thead tr:only-child th {\n",
       "        text-align: right;\n",
       "    }\n",
       "\n",
       "    .dataframe thead th {\n",
       "        text-align: left;\n",
       "    }\n",
       "\n",
       "    .dataframe tbody tr th {\n",
       "        vertical-align: top;\n",
       "    }\n",
       "</style>\n",
       "<table border=\"1\" class=\"dataframe\">\n",
       "  <thead>\n",
       "    <tr style=\"text-align: right;\">\n",
       "      <th></th>\n",
       "      <th>Unnamed: 0</th>\n",
       "      <th>parcelid</th>\n",
       "      <th>xgb_oct_under</th>\n",
       "      <th>xgb_oct_over</th>\n",
       "      <th>xgb_nov_under</th>\n",
       "      <th>xgb_nov_over</th>\n",
       "      <th>xgb_dec_under</th>\n",
       "      <th>xgb_dec_over</th>\n",
       "      <th>ann_overestimate_prob</th>\n",
       "      <th>rf2_overestimate_prob</th>\n",
       "      <th>rf3_overestimate_prob</th>\n",
       "      <th>overestimate_prob</th>\n",
       "      <th>xgb_oct</th>\n",
       "      <th>xgb_nov</th>\n",
       "      <th>xgb_dec</th>\n",
       "    </tr>\n",
       "  </thead>\n",
       "  <tbody>\n",
       "    <tr>\n",
       "      <th>0</th>\n",
       "      <td>0</td>\n",
       "      <td>10754147</td>\n",
       "      <td>-0.198943</td>\n",
       "      <td>0.087975</td>\n",
       "      <td>-0.209733</td>\n",
       "      <td>0.085679</td>\n",
       "      <td>-0.193651</td>\n",
       "      <td>0.087517</td>\n",
       "      <td>0.469632</td>\n",
       "      <td>0.466012</td>\n",
       "      <td>0.495383</td>\n",
       "      <td>0.479207</td>\n",
       "      <td>-0.061450</td>\n",
       "      <td>-0.068170</td>\n",
       "      <td>-0.058914</td>\n",
       "    </tr>\n",
       "    <tr>\n",
       "      <th>1</th>\n",
       "      <td>1</td>\n",
       "      <td>10759547</td>\n",
       "      <td>-0.110940</td>\n",
       "      <td>0.081205</td>\n",
       "      <td>-0.114238</td>\n",
       "      <td>0.079867</td>\n",
       "      <td>-0.110725</td>\n",
       "      <td>0.081849</td>\n",
       "      <td>0.406392</td>\n",
       "      <td>0.555562</td>\n",
       "      <td>0.524675</td>\n",
       "      <td>0.475759</td>\n",
       "      <td>-0.019525</td>\n",
       "      <td>-0.021891</td>\n",
       "      <td>-0.019106</td>\n",
       "    </tr>\n",
       "    <tr>\n",
       "      <th>2</th>\n",
       "      <td>2</td>\n",
       "      <td>10843547</td>\n",
       "      <td>-0.269981</td>\n",
       "      <td>0.624938</td>\n",
       "      <td>-0.287432</td>\n",
       "      <td>0.675193</td>\n",
       "      <td>-0.259808</td>\n",
       "      <td>0.618806</td>\n",
       "      <td>0.880731</td>\n",
       "      <td>0.548264</td>\n",
       "      <td>0.548752</td>\n",
       "      <td>0.732975</td>\n",
       "      <td>0.385972</td>\n",
       "      <td>0.418148</td>\n",
       "      <td>0.384194</td>\n",
       "    </tr>\n",
       "    <tr>\n",
       "      <th>3</th>\n",
       "      <td>3</td>\n",
       "      <td>10859147</td>\n",
       "      <td>-0.224659</td>\n",
       "      <td>0.487692</td>\n",
       "      <td>-0.223898</td>\n",
       "      <td>0.511500</td>\n",
       "      <td>-0.199660</td>\n",
       "      <td>0.479048</td>\n",
       "      <td>0.569588</td>\n",
       "      <td>0.663067</td>\n",
       "      <td>0.543329</td>\n",
       "      <td>0.602100</td>\n",
       "      <td>0.204247</td>\n",
       "      <td>0.218885</td>\n",
       "      <td>0.208990</td>\n",
       "    </tr>\n",
       "    <tr>\n",
       "      <th>4</th>\n",
       "      <td>4</td>\n",
       "      <td>10879947</td>\n",
       "      <td>-0.282351</td>\n",
       "      <td>0.271146</td>\n",
       "      <td>-0.286560</td>\n",
       "      <td>0.225149</td>\n",
       "      <td>-0.333289</td>\n",
       "      <td>0.256966</td>\n",
       "      <td>0.540791</td>\n",
       "      <td>0.519636</td>\n",
       "      <td>0.485341</td>\n",
       "      <td>0.531297</td>\n",
       "      <td>0.011720</td>\n",
       "      <td>-0.014691</td>\n",
       "      <td>-0.019689</td>\n",
       "    </tr>\n",
       "  </tbody>\n",
       "</table>\n",
       "</div>"
      ],
      "text/plain": [
       "   Unnamed: 0  parcelid  xgb_oct_under  xgb_oct_over  xgb_nov_under  \\\n",
       "0           0  10754147      -0.198943      0.087975      -0.209733   \n",
       "1           1  10759547      -0.110940      0.081205      -0.114238   \n",
       "2           2  10843547      -0.269981      0.624938      -0.287432   \n",
       "3           3  10859147      -0.224659      0.487692      -0.223898   \n",
       "4           4  10879947      -0.282351      0.271146      -0.286560   \n",
       "\n",
       "   xgb_nov_over  xgb_dec_under  xgb_dec_over  ann_overestimate_prob  \\\n",
       "0      0.085679      -0.193651      0.087517               0.469632   \n",
       "1      0.079867      -0.110725      0.081849               0.406392   \n",
       "2      0.675193      -0.259808      0.618806               0.880731   \n",
       "3      0.511500      -0.199660      0.479048               0.569588   \n",
       "4      0.225149      -0.333289      0.256966               0.540791   \n",
       "\n",
       "   rf2_overestimate_prob  rf3_overestimate_prob  overestimate_prob   xgb_oct  \\\n",
       "0               0.466012               0.495383           0.479207 -0.061450   \n",
       "1               0.555562               0.524675           0.475759 -0.019525   \n",
       "2               0.548264               0.548752           0.732975  0.385972   \n",
       "3               0.663067               0.543329           0.602100  0.204247   \n",
       "4               0.519636               0.485341           0.531297  0.011720   \n",
       "\n",
       "    xgb_nov   xgb_dec  \n",
       "0 -0.068170 -0.058914  \n",
       "1 -0.021891 -0.019106  \n",
       "2  0.418148  0.384194  \n",
       "3  0.218885  0.208990  \n",
       "4 -0.014691 -0.019689  "
      ]
     },
     "execution_count": 13,
     "metadata": {},
     "output_type": "execute_result"
    }
   ],
   "source": [
    "test_predictions.head()"
   ]
  },
  {
   "cell_type": "code",
   "execution_count": 14,
   "metadata": {
    "collapsed": true
   },
   "outputs": [],
   "source": [
    "new_submission = DataFrame({'ParcelId': test_predictions['parcelid'],\n",
    "                           '201610':test_predictions['xgb_oct'],\n",
    "                           '201611':test_predictions['xgb_nov'],\n",
    "                           '201612':test_predictions['xgb_dec']})\n",
    "new_submission['201710'] = 0\n",
    "new_submission['201711'] = 0\n",
    "new_submission['201712'] = 0"
   ]
  },
  {
   "cell_type": "code",
   "execution_count": 15,
   "metadata": {
    "collapsed": false
   },
   "outputs": [
    {
     "data": {
      "text/plain": [
       "(0.06253124372111714,\n",
       " 0.06132256297918948,\n",
       " 0.07422489936745252,\n",
       " 0.064653488644345586)"
      ]
     },
     "execution_count": 15,
     "metadata": {},
     "output_type": "execute_result"
    }
   ],
   "source": [
    "mean_absolute_errors(new_submission.round(4), data)"
   ]
  },
  {
   "cell_type": "code",
   "execution_count": 16,
   "metadata": {
    "collapsed": true
   },
   "outputs": [],
   "source": [
    "new_submission.round(4).to_csv(\"/home/anerdi/Desktop/Zillow/submissions/two_stage_stage1_stacked_annrfs_stage2_xgb.csv.gz\", index=False,\n",
    "                     compression='gzip')"
   ]
  },
  {
   "cell_type": "code",
   "execution_count": null,
   "metadata": {
    "collapsed": true
   },
   "outputs": [],
   "source": []
  }
 ],
 "metadata": {
  "kernelspec": {
   "display_name": "Python 3",
   "language": "python",
   "name": "python3"
  },
  "language_info": {
   "codemirror_mode": {
    "name": "ipython",
    "version": 3
   },
   "file_extension": ".py",
   "mimetype": "text/x-python",
   "name": "python",
   "nbconvert_exporter": "python",
   "pygments_lexer": "ipython3",
   "version": "3.5.4"
  }
 },
 "nbformat": 4,
 "nbformat_minor": 0
}
