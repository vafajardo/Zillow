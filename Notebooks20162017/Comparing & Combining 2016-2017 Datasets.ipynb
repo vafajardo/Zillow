{
 "cells": [
  {
   "cell_type": "code",
   "execution_count": 1,
   "metadata": {
    "collapsed": true
   },
   "outputs": [],
   "source": [
    "import pandas as pd\n",
    "from pandas import DataFrame,Series\n",
    "import numpy as np\n",
    "import os\n",
    "import datetime\n",
    "import warnings\n",
    "warnings.filterwarnings(\"ignore\")\n",
    "\n",
    "#Plotting\n",
    "import matplotlib.pyplot as plt\n",
    "import matplotlib.gridspec as gridspec\n",
    "%matplotlib inline\n"
   ]
  },
  {
   "cell_type": "code",
   "execution_count": 2,
   "metadata": {
    "collapsed": true
   },
   "outputs": [],
   "source": [
    "# numerical variables\n",
    "num_atts = ['bedroomcnt','calculatedbathnbr','age','additional_rooms_count',\n",
    "           'calculatedfinishedsquarefeet','fullbathcnt','garagecarcnt','garagetotalsqft',\n",
    "            'latitude','longitude','lotsizesquarefeet', 'roomcnt',\n",
    "           'numberofstories','structuretaxvaluedollarcnt','taxvaluedollarcnt','landtaxvaluedollarcnt','taxamount',\n",
    "           'N-ValueRatio', 'N-LivingAreaProp', 'N-NonLivingAreaProp','N-ValueProp']"
   ]
  },
  {
   "cell_type": "code",
   "execution_count": 3,
   "metadata": {
    "collapsed": true
   },
   "outputs": [],
   "source": [
    "maindir = \"/home/anerdi/Desktop/Zillow\""
   ]
  },
  {
   "cell_type": "code",
   "execution_count": 4,
   "metadata": {
    "collapsed": false
   },
   "outputs": [],
   "source": [
    "# properties2016 = pd.read_csv(maindir + \"/data/properties_2016.csv/properties_2016.csv\",usecols =['parcelid',\n",
    "#                                  'structuretaxvaluedollarcnt','taxvaluedollarcnt','landtaxvaluedollarcnt'])\n",
    "# properties2017 = pd.read_csv(maindir + \"/data/properties_2017.csv\")\n",
    "\n",
    "# new_properties = pd.merge(properties2017, \n",
    "#         properties2016[['parcelid','structuretaxvaluedollarcnt','taxvaluedollarcnt','landtaxvaluedollarcnt']],\n",
    "#                          how ='left', on ='parcelid', suffixes=['2017',''])\n",
    "\n",
    "# assert properties2017.shape[0] == new_properties.shape[0]\n",
    "# assert (properties2017.parcelid == new_properties.parcelid).all()\n",
    "\n",
    "# new_properties['structuretaxvaluedollarcnt_diff'] = (-new_properties['structuretaxvaluedollarcnt'] \n",
    "#                                                 + new_properties['structuretaxvaluedollarcnt2017'])\n",
    "# new_properties['taxvaluedollarcnt_diff'] = (-new_properties['taxvaluedollarcnt'] \n",
    "#                                                 + new_properties['taxvaluedollarcnt2017'])\n",
    "# new_properties['landtaxvaluedollarcnt_diff'] = (-new_properties['landtaxvaluedollarcnt'] \n",
    "#                                                 + new_properties['landtaxvaluedollarcnt2017'])\n",
    "\n",
    "# new_properties.to_csv(maindir + \"/data/properties_2016_with_2017_tax.csv\", index=False)"
   ]
  },
  {
   "cell_type": "code",
   "execution_count": 5,
   "metadata": {
    "collapsed": true
   },
   "outputs": [],
   "source": [
    "properties = pd.read_csv(maindir + \"/data/properties_2016_with_2017_tax.csv\")\n",
    "\n",
    "#proportion of living area\n",
    "properties['N-LivingAreaProp'] = properties['calculatedfinishedsquarefeet']/properties['lotsizesquarefeet']\n",
    "\n",
    "properties['N-NonLivingAreaProp'] = properties['garagetotalsqft']/properties['lotsizesquarefeet']\n",
    "\n",
    "#Ratio of the built structure value to land area\n",
    "properties['N-ValueProp'] = properties['structuretaxvaluedollarcnt']/properties['landtaxvaluedollarcnt']\n",
    "\n",
    "#Ratio of tax of property over parcel\n",
    "properties['N-ValueRatio'] = properties['taxvaluedollarcnt']/properties['taxamount']\n",
    "\n",
    "# Pool\n",
    "properties['poolsizesum'] = properties['poolsizesum'].fillna(0)\n",
    "# properties['Pool'] = (properties['poolsizesum'] > 0).astype(int)\n",
    "properties['Pool'] = (properties['pooltypeid2'].fillna(0) + properties['pooltypeid7'].fillna(0)).astype(int)\n",
    "\n",
    "properties['regionidcounty'] = properties['regionidcounty'].fillna(9999)\n",
    "properties['regionidcity'] = properties['regionidcity'].fillna(9999)\n",
    "properties['regionidneighborhood'] = properties['regionidneighborhood'].fillna(9999)\n",
    "properties['regionidzip'] = properties['regionidzip'].fillna(9999)\n",
    "properties['typeconstructiontypeid'] = properties['typeconstructiontypeid'].fillna(9999)\n",
    "properties['airconditioningtypeid'] = properties['airconditioningtypeid'].fillna(9999)\n",
    "properties['buildingqualitytypeid'] = properties['buildingqualitytypeid'].fillna(9999)\n",
    "properties['heatingorsystemtypeid'] = properties['heatingorsystemtypeid'].fillna(9999)\n",
    "properties['propertylandusetypeid'] = properties['propertylandusetypeid'].fillna(9999)\n",
    "properties['fips'] = properties['fips'].fillna(9999)\n",
    "\n",
    "# some more feature engineering\n",
    "properties['age'] = 2017 - properties['yearbuilt']\n",
    "properties['additional_rooms_count'] = np.maximum((properties['roomcnt'].values \n",
    "                                                   - properties['calculatedbathnbr'].values\n",
    "                                                   - properties['bedroomcnt'].values),0)\n",
    "\n",
    "# impute missing num_atts per regionid\n",
    "for countyid in properties.regionidcounty.unique():\n",
    "    # setup condition\n",
    "    cond = properties['regionidcounty'] == countyid\n",
    "    indices = np.where(cond)[0]\n",
    "    # impute values based on region\n",
    "    if countyid != 9999:\n",
    "        properties.loc[indices,num_atts] = (properties.loc[indices,num_atts]\n",
    "                                .fillna(properties.loc[indices,num_atts]\n",
    "                                .apply(np.mean)))\n",
    "    else:\n",
    "        properties.loc[indices,num_atts] = (properties.loc[indices,num_atts]\n",
    "                                            .fillna(properties[num_atts]\n",
    "                                            .apply(np.mean)))"
   ]
  },
  {
   "cell_type": "markdown",
   "metadata": {},
   "source": [
    "### 2016 data"
   ]
  },
  {
   "cell_type": "code",
   "execution_count": 6,
   "metadata": {
    "collapsed": true
   },
   "outputs": [],
   "source": [
    "logerror = pd.read_csv(maindir + \"/data/train_2016_v2.csv/train_2016_v2.csv\")\n",
    "logerror['weeknumber'] = logerror['transactiondate'].apply(lambda x: datetime.datetime.strptime(x,'%Y-%m-%d').isocalendar()[1])\n",
    "logerror['month'] = logerror['transactiondate'].apply(lambda x: datetime.datetime.strptime(x,'%Y-%m-%d').month)\n",
    "logerror['year'] = logerror['transactiondate'].apply(lambda x: datetime.datetime.strptime(x,'%Y-%m-%d').year)"
   ]
  },
  {
   "cell_type": "code",
   "execution_count": 7,
   "metadata": {
    "collapsed": true
   },
   "outputs": [],
   "source": [
    "data2016 = pd.merge(properties,logerror[['parcelid','logerror','month','year','transactiondate']], on='parcelid')\n",
    "del logerror"
   ]
  },
  {
   "cell_type": "code",
   "execution_count": 8,
   "metadata": {
    "collapsed": false
   },
   "outputs": [
    {
     "data": {
      "text/html": [
       "<div>\n",
       "<style>\n",
       "    .dataframe thead tr:only-child th {\n",
       "        text-align: right;\n",
       "    }\n",
       "\n",
       "    .dataframe thead th {\n",
       "        text-align: left;\n",
       "    }\n",
       "\n",
       "    .dataframe tbody tr th {\n",
       "        vertical-align: top;\n",
       "    }\n",
       "</style>\n",
       "<table border=\"1\" class=\"dataframe\">\n",
       "  <thead>\n",
       "    <tr style=\"text-align: right;\">\n",
       "      <th></th>\n",
       "      <th>parcelid</th>\n",
       "      <th>airconditioningtypeid</th>\n",
       "      <th>architecturalstyletypeid</th>\n",
       "      <th>basementsqft</th>\n",
       "      <th>bathroomcnt</th>\n",
       "      <th>bedroomcnt</th>\n",
       "      <th>buildingclasstypeid</th>\n",
       "      <th>buildingqualitytypeid</th>\n",
       "      <th>calculatedbathnbr</th>\n",
       "      <th>decktypeid</th>\n",
       "      <th>...</th>\n",
       "      <th>N-NonLivingAreaProp</th>\n",
       "      <th>N-ValueProp</th>\n",
       "      <th>N-ValueRatio</th>\n",
       "      <th>Pool</th>\n",
       "      <th>age</th>\n",
       "      <th>additional_rooms_count</th>\n",
       "      <th>logerror</th>\n",
       "      <th>month</th>\n",
       "      <th>year</th>\n",
       "      <th>transactiondate</th>\n",
       "    </tr>\n",
       "  </thead>\n",
       "  <tbody>\n",
       "    <tr>\n",
       "      <th>0</th>\n",
       "      <td>17073783</td>\n",
       "      <td>9999.0</td>\n",
       "      <td>NaN</td>\n",
       "      <td>NaN</td>\n",
       "      <td>2.5</td>\n",
       "      <td>3.0</td>\n",
       "      <td>NaN</td>\n",
       "      <td>9999.0</td>\n",
       "      <td>2.5</td>\n",
       "      <td>NaN</td>\n",
       "      <td>...</td>\n",
       "      <td>0.000000</td>\n",
       "      <td>1.500013</td>\n",
       "      <td>94.148686</td>\n",
       "      <td>0</td>\n",
       "      <td>31.0</td>\n",
       "      <td>0.0</td>\n",
       "      <td>0.0953</td>\n",
       "      <td>1</td>\n",
       "      <td>2016</td>\n",
       "      <td>2016-01-27</td>\n",
       "    </tr>\n",
       "    <tr>\n",
       "      <th>1</th>\n",
       "      <td>17088994</td>\n",
       "      <td>9999.0</td>\n",
       "      <td>NaN</td>\n",
       "      <td>NaN</td>\n",
       "      <td>1.0</td>\n",
       "      <td>2.0</td>\n",
       "      <td>NaN</td>\n",
       "      <td>9999.0</td>\n",
       "      <td>1.0</td>\n",
       "      <td>NaN</td>\n",
       "      <td>...</td>\n",
       "      <td>0.056807</td>\n",
       "      <td>1.500042</td>\n",
       "      <td>91.384267</td>\n",
       "      <td>0</td>\n",
       "      <td>27.0</td>\n",
       "      <td>1.0</td>\n",
       "      <td>0.0198</td>\n",
       "      <td>3</td>\n",
       "      <td>2016</td>\n",
       "      <td>2016-03-30</td>\n",
       "    </tr>\n",
       "    <tr>\n",
       "      <th>2</th>\n",
       "      <td>17100444</td>\n",
       "      <td>9999.0</td>\n",
       "      <td>NaN</td>\n",
       "      <td>NaN</td>\n",
       "      <td>2.0</td>\n",
       "      <td>3.0</td>\n",
       "      <td>NaN</td>\n",
       "      <td>9999.0</td>\n",
       "      <td>2.0</td>\n",
       "      <td>NaN</td>\n",
       "      <td>...</td>\n",
       "      <td>0.067134</td>\n",
       "      <td>2.361880</td>\n",
       "      <td>77.696055</td>\n",
       "      <td>0</td>\n",
       "      <td>61.0</td>\n",
       "      <td>0.0</td>\n",
       "      <td>0.0060</td>\n",
       "      <td>5</td>\n",
       "      <td>2016</td>\n",
       "      <td>2016-05-27</td>\n",
       "    </tr>\n",
       "    <tr>\n",
       "      <th>3</th>\n",
       "      <td>17102429</td>\n",
       "      <td>9999.0</td>\n",
       "      <td>NaN</td>\n",
       "      <td>NaN</td>\n",
       "      <td>1.5</td>\n",
       "      <td>2.0</td>\n",
       "      <td>NaN</td>\n",
       "      <td>9999.0</td>\n",
       "      <td>1.5</td>\n",
       "      <td>NaN</td>\n",
       "      <td>...</td>\n",
       "      <td>0.062162</td>\n",
       "      <td>2.635597</td>\n",
       "      <td>88.095105</td>\n",
       "      <td>0</td>\n",
       "      <td>52.0</td>\n",
       "      <td>1.5</td>\n",
       "      <td>-0.0566</td>\n",
       "      <td>6</td>\n",
       "      <td>2016</td>\n",
       "      <td>2016-06-07</td>\n",
       "    </tr>\n",
       "    <tr>\n",
       "      <th>4</th>\n",
       "      <td>17109604</td>\n",
       "      <td>9999.0</td>\n",
       "      <td>NaN</td>\n",
       "      <td>NaN</td>\n",
       "      <td>2.5</td>\n",
       "      <td>4.0</td>\n",
       "      <td>NaN</td>\n",
       "      <td>9999.0</td>\n",
       "      <td>2.5</td>\n",
       "      <td>NaN</td>\n",
       "      <td>...</td>\n",
       "      <td>0.105122</td>\n",
       "      <td>1.000000</td>\n",
       "      <td>90.005784</td>\n",
       "      <td>0</td>\n",
       "      <td>33.0</td>\n",
       "      <td>1.5</td>\n",
       "      <td>0.0573</td>\n",
       "      <td>8</td>\n",
       "      <td>2016</td>\n",
       "      <td>2016-08-08</td>\n",
       "    </tr>\n",
       "  </tbody>\n",
       "</table>\n",
       "<p>5 rows × 75 columns</p>\n",
       "</div>"
      ],
      "text/plain": [
       "   parcelid  airconditioningtypeid  architecturalstyletypeid  basementsqft  \\\n",
       "0  17073783                 9999.0                       NaN           NaN   \n",
       "1  17088994                 9999.0                       NaN           NaN   \n",
       "2  17100444                 9999.0                       NaN           NaN   \n",
       "3  17102429                 9999.0                       NaN           NaN   \n",
       "4  17109604                 9999.0                       NaN           NaN   \n",
       "\n",
       "   bathroomcnt  bedroomcnt  buildingclasstypeid  buildingqualitytypeid  \\\n",
       "0          2.5         3.0                  NaN                 9999.0   \n",
       "1          1.0         2.0                  NaN                 9999.0   \n",
       "2          2.0         3.0                  NaN                 9999.0   \n",
       "3          1.5         2.0                  NaN                 9999.0   \n",
       "4          2.5         4.0                  NaN                 9999.0   \n",
       "\n",
       "   calculatedbathnbr  decktypeid       ...         N-NonLivingAreaProp  \\\n",
       "0                2.5         NaN       ...                    0.000000   \n",
       "1                1.0         NaN       ...                    0.056807   \n",
       "2                2.0         NaN       ...                    0.067134   \n",
       "3                1.5         NaN       ...                    0.062162   \n",
       "4                2.5         NaN       ...                    0.105122   \n",
       "\n",
       "   N-ValueProp  N-ValueRatio  Pool   age  additional_rooms_count  logerror  \\\n",
       "0     1.500013     94.148686     0  31.0                     0.0    0.0953   \n",
       "1     1.500042     91.384267     0  27.0                     1.0    0.0198   \n",
       "2     2.361880     77.696055     0  61.0                     0.0    0.0060   \n",
       "3     2.635597     88.095105     0  52.0                     1.5   -0.0566   \n",
       "4     1.000000     90.005784     0  33.0                     1.5    0.0573   \n",
       "\n",
       "   month  year  transactiondate  \n",
       "0      1  2016       2016-01-27  \n",
       "1      3  2016       2016-03-30  \n",
       "2      5  2016       2016-05-27  \n",
       "3      6  2016       2016-06-07  \n",
       "4      8  2016       2016-08-08  \n",
       "\n",
       "[5 rows x 75 columns]"
      ]
     },
     "execution_count": 8,
     "metadata": {},
     "output_type": "execute_result"
    }
   ],
   "source": [
    "data2016.head()"
   ]
  },
  {
   "cell_type": "code",
   "execution_count": 5,
   "metadata": {
    "collapsed": true
   },
   "outputs": [],
   "source": [
    "# data2016.to_csv(\"/home/anerdi/Desktop/Zillow/data/traindata2016.csv.gz\", compression='gzip')"
   ]
  },
  {
   "cell_type": "markdown",
   "metadata": {},
   "source": [
    "### 2017 data"
   ]
  },
  {
   "cell_type": "code",
   "execution_count": 9,
   "metadata": {
    "collapsed": false
   },
   "outputs": [],
   "source": [
    "logerror = pd.read_csv(maindir + \"/data/train_2017.csv\")\n",
    "logerror['weeknumber'] = logerror['transactiondate'].apply(lambda x: datetime.datetime.strptime(x,'%Y-%m-%d').isocalendar()[1])\n",
    "logerror['month'] = logerror['transactiondate'].apply(lambda x: datetime.datetime.strptime(x,'%Y-%m-%d').month)\n",
    "logerror['year'] = logerror['transactiondate'].apply(lambda x: datetime.datetime.strptime(x,'%Y-%m-%d').year)"
   ]
  },
  {
   "cell_type": "code",
   "execution_count": 10,
   "metadata": {
    "collapsed": true
   },
   "outputs": [],
   "source": [
    "data2017 = pd.merge(properties,logerror[['parcelid','logerror','month','year','transactiondate']], on='parcelid')"
   ]
  },
  {
   "cell_type": "code",
   "execution_count": 11,
   "metadata": {
    "collapsed": true
   },
   "outputs": [],
   "source": [
    "del logerror"
   ]
  },
  {
   "cell_type": "code",
   "execution_count": 12,
   "metadata": {
    "collapsed": false
   },
   "outputs": [
    {
     "data": {
      "text/html": [
       "<div>\n",
       "<style>\n",
       "    .dataframe thead tr:only-child th {\n",
       "        text-align: right;\n",
       "    }\n",
       "\n",
       "    .dataframe thead th {\n",
       "        text-align: left;\n",
       "    }\n",
       "\n",
       "    .dataframe tbody tr th {\n",
       "        vertical-align: top;\n",
       "    }\n",
       "</style>\n",
       "<table border=\"1\" class=\"dataframe\">\n",
       "  <thead>\n",
       "    <tr style=\"text-align: right;\">\n",
       "      <th></th>\n",
       "      <th>parcelid</th>\n",
       "      <th>airconditioningtypeid</th>\n",
       "      <th>architecturalstyletypeid</th>\n",
       "      <th>basementsqft</th>\n",
       "      <th>bathroomcnt</th>\n",
       "      <th>bedroomcnt</th>\n",
       "      <th>buildingclasstypeid</th>\n",
       "      <th>buildingqualitytypeid</th>\n",
       "      <th>calculatedbathnbr</th>\n",
       "      <th>decktypeid</th>\n",
       "      <th>...</th>\n",
       "      <th>N-NonLivingAreaProp</th>\n",
       "      <th>N-ValueProp</th>\n",
       "      <th>N-ValueRatio</th>\n",
       "      <th>Pool</th>\n",
       "      <th>age</th>\n",
       "      <th>additional_rooms_count</th>\n",
       "      <th>logerror</th>\n",
       "      <th>month</th>\n",
       "      <th>year</th>\n",
       "      <th>transactiondate</th>\n",
       "    </tr>\n",
       "  </thead>\n",
       "  <tbody>\n",
       "    <tr>\n",
       "      <th>0</th>\n",
       "      <td>17054981</td>\n",
       "      <td>9999.0</td>\n",
       "      <td>NaN</td>\n",
       "      <td>NaN</td>\n",
       "      <td>5.0</td>\n",
       "      <td>4.0</td>\n",
       "      <td>NaN</td>\n",
       "      <td>9999.0</td>\n",
       "      <td>5.0</td>\n",
       "      <td>NaN</td>\n",
       "      <td>...</td>\n",
       "      <td>0.018366</td>\n",
       "      <td>1.353192</td>\n",
       "      <td>88.876266</td>\n",
       "      <td>1</td>\n",
       "      <td>35.0</td>\n",
       "      <td>2.0</td>\n",
       "      <td>-0.013099</td>\n",
       "      <td>6</td>\n",
       "      <td>2017</td>\n",
       "      <td>2017-06-15</td>\n",
       "    </tr>\n",
       "    <tr>\n",
       "      <th>1</th>\n",
       "      <td>17055743</td>\n",
       "      <td>9999.0</td>\n",
       "      <td>NaN</td>\n",
       "      <td>NaN</td>\n",
       "      <td>2.0</td>\n",
       "      <td>3.0</td>\n",
       "      <td>NaN</td>\n",
       "      <td>9999.0</td>\n",
       "      <td>2.0</td>\n",
       "      <td>66.0</td>\n",
       "      <td>...</td>\n",
       "      <td>0.000000</td>\n",
       "      <td>0.428565</td>\n",
       "      <td>77.563371</td>\n",
       "      <td>0</td>\n",
       "      <td>66.0</td>\n",
       "      <td>1.0</td>\n",
       "      <td>0.073985</td>\n",
       "      <td>7</td>\n",
       "      <td>2017</td>\n",
       "      <td>2017-07-26</td>\n",
       "    </tr>\n",
       "    <tr>\n",
       "      <th>2</th>\n",
       "      <td>17068109</td>\n",
       "      <td>9999.0</td>\n",
       "      <td>NaN</td>\n",
       "      <td>NaN</td>\n",
       "      <td>1.5</td>\n",
       "      <td>3.0</td>\n",
       "      <td>NaN</td>\n",
       "      <td>9999.0</td>\n",
       "      <td>1.5</td>\n",
       "      <td>66.0</td>\n",
       "      <td>...</td>\n",
       "      <td>0.000000</td>\n",
       "      <td>2.075364</td>\n",
       "      <td>94.499156</td>\n",
       "      <td>0</td>\n",
       "      <td>38.0</td>\n",
       "      <td>1.5</td>\n",
       "      <td>0.071886</td>\n",
       "      <td>7</td>\n",
       "      <td>2017</td>\n",
       "      <td>2017-07-28</td>\n",
       "    </tr>\n",
       "    <tr>\n",
       "      <th>3</th>\n",
       "      <td>17073952</td>\n",
       "      <td>9999.0</td>\n",
       "      <td>NaN</td>\n",
       "      <td>NaN</td>\n",
       "      <td>2.0</td>\n",
       "      <td>2.0</td>\n",
       "      <td>NaN</td>\n",
       "      <td>9999.0</td>\n",
       "      <td>2.0</td>\n",
       "      <td>NaN</td>\n",
       "      <td>...</td>\n",
       "      <td>0.056807</td>\n",
       "      <td>0.536145</td>\n",
       "      <td>94.226676</td>\n",
       "      <td>0</td>\n",
       "      <td>28.0</td>\n",
       "      <td>0.0</td>\n",
       "      <td>0.305680</td>\n",
       "      <td>6</td>\n",
       "      <td>2017</td>\n",
       "      <td>2017-06-02</td>\n",
       "    </tr>\n",
       "    <tr>\n",
       "      <th>4</th>\n",
       "      <td>17078502</td>\n",
       "      <td>9999.0</td>\n",
       "      <td>NaN</td>\n",
       "      <td>NaN</td>\n",
       "      <td>1.0</td>\n",
       "      <td>2.0</td>\n",
       "      <td>NaN</td>\n",
       "      <td>9999.0</td>\n",
       "      <td>1.0</td>\n",
       "      <td>NaN</td>\n",
       "      <td>...</td>\n",
       "      <td>0.110048</td>\n",
       "      <td>0.334893</td>\n",
       "      <td>93.884129</td>\n",
       "      <td>0</td>\n",
       "      <td>69.0</td>\n",
       "      <td>2.0</td>\n",
       "      <td>-0.073787</td>\n",
       "      <td>7</td>\n",
       "      <td>2017</td>\n",
       "      <td>2017-07-07</td>\n",
       "    </tr>\n",
       "  </tbody>\n",
       "</table>\n",
       "<p>5 rows × 75 columns</p>\n",
       "</div>"
      ],
      "text/plain": [
       "   parcelid  airconditioningtypeid  architecturalstyletypeid  basementsqft  \\\n",
       "0  17054981                 9999.0                       NaN           NaN   \n",
       "1  17055743                 9999.0                       NaN           NaN   \n",
       "2  17068109                 9999.0                       NaN           NaN   \n",
       "3  17073952                 9999.0                       NaN           NaN   \n",
       "4  17078502                 9999.0                       NaN           NaN   \n",
       "\n",
       "   bathroomcnt  bedroomcnt  buildingclasstypeid  buildingqualitytypeid  \\\n",
       "0          5.0         4.0                  NaN                 9999.0   \n",
       "1          2.0         3.0                  NaN                 9999.0   \n",
       "2          1.5         3.0                  NaN                 9999.0   \n",
       "3          2.0         2.0                  NaN                 9999.0   \n",
       "4          1.0         2.0                  NaN                 9999.0   \n",
       "\n",
       "   calculatedbathnbr  decktypeid       ...         N-NonLivingAreaProp  \\\n",
       "0                5.0         NaN       ...                    0.018366   \n",
       "1                2.0        66.0       ...                    0.000000   \n",
       "2                1.5        66.0       ...                    0.000000   \n",
       "3                2.0         NaN       ...                    0.056807   \n",
       "4                1.0         NaN       ...                    0.110048   \n",
       "\n",
       "   N-ValueProp  N-ValueRatio  Pool   age  additional_rooms_count  logerror  \\\n",
       "0     1.353192     88.876266     1  35.0                     2.0 -0.013099   \n",
       "1     0.428565     77.563371     0  66.0                     1.0  0.073985   \n",
       "2     2.075364     94.499156     0  38.0                     1.5  0.071886   \n",
       "3     0.536145     94.226676     0  28.0                     0.0  0.305680   \n",
       "4     0.334893     93.884129     0  69.0                     2.0 -0.073787   \n",
       "\n",
       "   month  year  transactiondate  \n",
       "0      6  2017       2017-06-15  \n",
       "1      7  2017       2017-07-26  \n",
       "2      7  2017       2017-07-28  \n",
       "3      6  2017       2017-06-02  \n",
       "4      7  2017       2017-07-07  \n",
       "\n",
       "[5 rows x 75 columns]"
      ]
     },
     "execution_count": 12,
     "metadata": {},
     "output_type": "execute_result"
    }
   ],
   "source": [
    "data2017.head()"
   ]
  },
  {
   "cell_type": "code",
   "execution_count": 13,
   "metadata": {
    "collapsed": false
   },
   "outputs": [
    {
     "data": {
      "text/plain": [
       "array([ True,  True,  True,  True,  True,  True,  True,  True,  True,\n",
       "        True,  True,  True,  True,  True,  True,  True,  True,  True,\n",
       "        True,  True,  True,  True,  True,  True,  True,  True,  True,\n",
       "        True,  True,  True,  True,  True,  True,  True,  True,  True,\n",
       "        True,  True,  True,  True,  True,  True,  True,  True,  True,\n",
       "        True,  True,  True,  True,  True,  True,  True,  True,  True,\n",
       "        True,  True,  True,  True,  True,  True,  True,  True,  True,\n",
       "        True,  True,  True,  True,  True,  True,  True,  True,  True,\n",
       "        True,  True,  True], dtype=bool)"
      ]
     },
     "execution_count": 13,
     "metadata": {},
     "output_type": "execute_result"
    }
   ],
   "source": [
    "data2016.columns == data2017.columns"
   ]
  },
  {
   "cell_type": "code",
   "execution_count": 14,
   "metadata": {
    "collapsed": false
   },
   "outputs": [],
   "source": [
    "data = data2016.append(data2017)"
   ]
  },
  {
   "cell_type": "code",
   "execution_count": 15,
   "metadata": {
    "collapsed": false
   },
   "outputs": [],
   "source": [
    "assert data2016.shape[0] + data2017.shape[0] == data.shape[0]"
   ]
  },
  {
   "cell_type": "code",
   "execution_count": 16,
   "metadata": {
    "collapsed": false
   },
   "outputs": [
    {
     "data": {
      "text/plain": [
       "(167888, 75)"
      ]
     },
     "execution_count": 16,
     "metadata": {},
     "output_type": "execute_result"
    }
   ],
   "source": [
    "data.shape"
   ]
  },
  {
   "cell_type": "code",
   "execution_count": 17,
   "metadata": {
    "collapsed": true
   },
   "outputs": [],
   "source": [
    "data.to_csv(\"/home/anerdi/Desktop/Zillow/data/traindata20162017_addfeatures.csv.gz\", compression='gzip', index=False)"
   ]
  },
  {
   "cell_type": "code",
   "execution_count": null,
   "metadata": {
    "collapsed": true
   },
   "outputs": [],
   "source": []
  }
 ],
 "metadata": {
  "kernelspec": {
   "display_name": "Python 3",
   "language": "python",
   "name": "python3"
  },
  "language_info": {
   "codemirror_mode": {
    "name": "ipython",
    "version": 3
   },
   "file_extension": ".py",
   "mimetype": "text/x-python",
   "name": "python",
   "nbconvert_exporter": "python",
   "pygments_lexer": "ipython3",
   "version": "3.5.4"
  }
 },
 "nbformat": 4,
 "nbformat_minor": 0
}
