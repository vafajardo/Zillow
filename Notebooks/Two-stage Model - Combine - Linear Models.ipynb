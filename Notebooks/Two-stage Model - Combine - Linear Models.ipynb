{
 "cells": [
  {
   "cell_type": "code",
   "execution_count": 1,
   "metadata": {
    "collapsed": true
   },
   "outputs": [],
   "source": [
    "import pandas as pd\n",
    "from pandas import DataFrame,Series\n",
    "import numpy as np\n",
    "import os\n",
    "import datetime\n",
    "\n",
    "#Plotting\n",
    "import matplotlib.pyplot as plt\n",
    "import matplotlib.gridspec as gridspec\n",
    "%matplotlib inline\n",
    "\n",
    "# sklearn stuff\n",
    "from sklearn.model_selection import GridSearchCV, cross_val_score\n",
    "from sklearn.metrics import confusion_matrix, mean_squared_error, precision_score\n",
    "from sklearn.preprocessing import StandardScaler, OneHotEncoder, LabelEncoder, Imputer \n",
    "from sklearn.pipeline import Pipeline, FeatureUnion\n",
    "from sklearn.base import BaseEstimator, TransformerMixin\n",
    "\n",
    "import feature_pipelines as pipes"
   ]
  },
  {
   "cell_type": "markdown",
   "metadata": {},
   "source": [
    "### Reading in data"
   ]
  },
  {
   "cell_type": "code",
   "execution_count": 2,
   "metadata": {
    "collapsed": false
   },
   "outputs": [],
   "source": [
    "maindir = \"/home/anerdi/Desktop/Zillow\"\n",
    "\n",
    "logerror = pd.read_csv(maindir + \"/data/train_2016_v2.csv/train_2016_v2.csv\")\n",
    "logerror['weeknumber'] = logerror['transactiondate'].apply(lambda x: datetime.datetime.strptime(x,'%Y-%m-%d').isocalendar()[1])\n",
    "logerror['month'] = logerror['transactiondate'].apply(lambda x: datetime.datetime.strptime(x,'%Y-%m-%d').month)\n",
    "properties = pd.read_csv(maindir + \"/data/properties_2016.csv/properties_2016.csv\", usecols=['parcelid'])"
   ]
  },
  {
   "cell_type": "code",
   "execution_count": 3,
   "metadata": {
    "collapsed": true
   },
   "outputs": [],
   "source": [
    "# join on parcel id\n",
    "data = pd.merge(properties,logerror[['parcelid','logerror','month']], on='parcelid')"
   ]
  },
  {
   "cell_type": "code",
   "execution_count": 4,
   "metadata": {
    "collapsed": true
   },
   "outputs": [],
   "source": [
    "def mean_absolute_errors(submission_df, comparison_df):\n",
    "    \"\"\"\n",
    "    This function takes a submission entry for public leaderboard, and returns\n",
    "    the training error for each month.\n",
    "    \"\"\"\n",
    "    # training error\n",
    "    trainresults = pd.merge(submission_df[['ParcelId','201610','201611','201612']], comparison_df[['parcelid','logerror','month']],\n",
    "                           left_on='ParcelId', right_on='parcelid')\n",
    "    oct_error = abs(trainresults[trainresults['month'] == 10]['201610'] \n",
    "                    - trainresults[trainresults['month'] == 10]['logerror']).mean()\n",
    "    nov_error = abs(trainresults[trainresults['month'] == 11]['201611'] \n",
    "                    - trainresults[trainresults['month'] == 11]['logerror']).mean()\n",
    "    dec_error = abs(trainresults[trainresults['month'] == 12]['201612'] \n",
    "                    - trainresults[trainresults['month'] == 12]['logerror']).mean()\n",
    "    overall_mae = (oct_error*(trainresults['month'] == 10).sum() + nov_error*(trainresults['month'] == 11).sum() \n",
    "                        + dec_error*(trainresults['month'] == 12).sum()) / (trainresults['month'].isin([10,11,12])).sum()\n",
    "    return (oct_error, nov_error, dec_error, overall_mae)"
   ]
  },
  {
   "cell_type": "markdown",
   "metadata": {},
   "source": [
    "### Readin stage 1 classification results "
   ]
  },
  {
   "cell_type": "code",
   "execution_count": 5,
   "metadata": {
    "collapsed": false
   },
   "outputs": [
    {
     "data": {
      "text/html": [
       "<div>\n",
       "<style>\n",
       "    .dataframe thead tr:only-child th {\n",
       "        text-align: right;\n",
       "    }\n",
       "\n",
       "    .dataframe thead th {\n",
       "        text-align: left;\n",
       "    }\n",
       "\n",
       "    .dataframe tbody tr th {\n",
       "        vertical-align: top;\n",
       "    }\n",
       "</style>\n",
       "<table border=\"1\" class=\"dataframe\">\n",
       "  <thead>\n",
       "    <tr style=\"text-align: right;\">\n",
       "      <th></th>\n",
       "      <th>parcelid</th>\n",
       "      <th>ann_overestimate_prob</th>\n",
       "      <th>rf2_overestimate_prob</th>\n",
       "      <th>rf3_overestimate_prob</th>\n",
       "      <th>overestimate_prob</th>\n",
       "    </tr>\n",
       "  </thead>\n",
       "  <tbody>\n",
       "    <tr>\n",
       "      <th>0</th>\n",
       "      <td>10754147</td>\n",
       "      <td>0.469632</td>\n",
       "      <td>0.466012</td>\n",
       "      <td>0.495383</td>\n",
       "      <td>0.479207</td>\n",
       "    </tr>\n",
       "    <tr>\n",
       "      <th>1</th>\n",
       "      <td>10759547</td>\n",
       "      <td>0.406392</td>\n",
       "      <td>0.555562</td>\n",
       "      <td>0.524675</td>\n",
       "      <td>0.475759</td>\n",
       "    </tr>\n",
       "    <tr>\n",
       "      <th>2</th>\n",
       "      <td>10843547</td>\n",
       "      <td>0.880731</td>\n",
       "      <td>0.548264</td>\n",
       "      <td>0.548752</td>\n",
       "      <td>0.732975</td>\n",
       "    </tr>\n",
       "    <tr>\n",
       "      <th>3</th>\n",
       "      <td>10859147</td>\n",
       "      <td>0.569588</td>\n",
       "      <td>0.663067</td>\n",
       "      <td>0.543329</td>\n",
       "      <td>0.602100</td>\n",
       "    </tr>\n",
       "    <tr>\n",
       "      <th>4</th>\n",
       "      <td>10879947</td>\n",
       "      <td>0.540791</td>\n",
       "      <td>0.519636</td>\n",
       "      <td>0.485341</td>\n",
       "      <td>0.531297</td>\n",
       "    </tr>\n",
       "  </tbody>\n",
       "</table>\n",
       "</div>"
      ],
      "text/plain": [
       "   parcelid  ann_overestimate_prob  rf2_overestimate_prob  \\\n",
       "0  10754147               0.469632               0.466012   \n",
       "1  10759547               0.406392               0.555562   \n",
       "2  10843547               0.880731               0.548264   \n",
       "3  10859147               0.569588               0.663067   \n",
       "4  10879947               0.540791               0.519636   \n",
       "\n",
       "   rf3_overestimate_prob  overestimate_prob  \n",
       "0               0.495383           0.479207  \n",
       "1               0.524675           0.475759  \n",
       "2               0.548752           0.732975  \n",
       "3               0.543329           0.602100  \n",
       "4               0.485341           0.531297  "
      ]
     },
     "execution_count": 5,
     "metadata": {},
     "output_type": "execute_result"
    }
   ],
   "source": [
    "overestimate_probabilities = pd.read_csv(\"/home/anerdi/Desktop/Zillow/twostagemodel/overestimate_probs_stacked_ann_rfs.csv.gz\",\n",
    "                                        compression='gzip')\n",
    "overestimate_probabilities.rename(columns={'stacked_pred':'overestimate_prob'},inplace=True)\n",
    "overestimate_probabilities.head()"
   ]
  },
  {
   "cell_type": "markdown",
   "metadata": {},
   "source": [
    "### Readin two-stage linear model predictions "
   ]
  },
  {
   "cell_type": "code",
   "execution_count": 6,
   "metadata": {
    "collapsed": false
   },
   "outputs": [
    {
     "data": {
      "text/html": [
       "<div>\n",
       "<style>\n",
       "    .dataframe thead tr:only-child th {\n",
       "        text-align: right;\n",
       "    }\n",
       "\n",
       "    .dataframe thead th {\n",
       "        text-align: left;\n",
       "    }\n",
       "\n",
       "    .dataframe tbody tr th {\n",
       "        vertical-align: top;\n",
       "    }\n",
       "</style>\n",
       "<table border=\"1\" class=\"dataframe\">\n",
       "  <thead>\n",
       "    <tr style=\"text-align: right;\">\n",
       "      <th></th>\n",
       "      <th>parcelid</th>\n",
       "      <th>ridge_under</th>\n",
       "      <th>ridge_over</th>\n",
       "      <th>enet_under</th>\n",
       "      <th>enet_over</th>\n",
       "      <th>lasso_under</th>\n",
       "      <th>lasso_over</th>\n",
       "      <th>larm_under</th>\n",
       "      <th>larm_over</th>\n",
       "      <th>huber_under</th>\n",
       "      <th>huber_over</th>\n",
       "    </tr>\n",
       "  </thead>\n",
       "  <tbody>\n",
       "    <tr>\n",
       "      <th>0</th>\n",
       "      <td>10754147</td>\n",
       "      <td>-0.082879</td>\n",
       "      <td>0.084871</td>\n",
       "      <td>-0.068505</td>\n",
       "      <td>0.073578</td>\n",
       "      <td>-0.068225</td>\n",
       "      <td>0.073431</td>\n",
       "      <td>-0.064499</td>\n",
       "      <td>0.071395</td>\n",
       "      <td>-0.062623</td>\n",
       "      <td>0.063218</td>\n",
       "    </tr>\n",
       "    <tr>\n",
       "      <th>1</th>\n",
       "      <td>10759547</td>\n",
       "      <td>-0.082642</td>\n",
       "      <td>0.085475</td>\n",
       "      <td>-0.068505</td>\n",
       "      <td>0.073578</td>\n",
       "      <td>-0.068225</td>\n",
       "      <td>0.073431</td>\n",
       "      <td>-0.064499</td>\n",
       "      <td>0.071395</td>\n",
       "      <td>-0.062623</td>\n",
       "      <td>0.063218</td>\n",
       "    </tr>\n",
       "    <tr>\n",
       "      <th>2</th>\n",
       "      <td>10843547</td>\n",
       "      <td>-0.876458</td>\n",
       "      <td>0.930269</td>\n",
       "      <td>-0.414612</td>\n",
       "      <td>0.558336</td>\n",
       "      <td>-0.301205</td>\n",
       "      <td>0.457031</td>\n",
       "      <td>-0.064499</td>\n",
       "      <td>0.071395</td>\n",
       "      <td>-2.651653</td>\n",
       "      <td>2.897348</td>\n",
       "    </tr>\n",
       "    <tr>\n",
       "      <th>3</th>\n",
       "      <td>10859147</td>\n",
       "      <td>-0.124558</td>\n",
       "      <td>0.121058</td>\n",
       "      <td>-0.091456</td>\n",
       "      <td>0.098928</td>\n",
       "      <td>-0.087705</td>\n",
       "      <td>0.095834</td>\n",
       "      <td>-0.064499</td>\n",
       "      <td>0.071395</td>\n",
       "      <td>-0.171291</td>\n",
       "      <td>0.169290</td>\n",
       "    </tr>\n",
       "    <tr>\n",
       "      <th>4</th>\n",
       "      <td>10879947</td>\n",
       "      <td>-0.084374</td>\n",
       "      <td>0.083832</td>\n",
       "      <td>-0.068765</td>\n",
       "      <td>0.073467</td>\n",
       "      <td>-0.068667</td>\n",
       "      <td>0.073493</td>\n",
       "      <td>-0.064499</td>\n",
       "      <td>0.071395</td>\n",
       "      <td>-0.060274</td>\n",
       "      <td>0.059819</td>\n",
       "    </tr>\n",
       "  </tbody>\n",
       "</table>\n",
       "</div>"
      ],
      "text/plain": [
       "   parcelid  ridge_under  ridge_over  enet_under  enet_over  lasso_under  \\\n",
       "0  10754147    -0.082879    0.084871   -0.068505   0.073578    -0.068225   \n",
       "1  10759547    -0.082642    0.085475   -0.068505   0.073578    -0.068225   \n",
       "2  10843547    -0.876458    0.930269   -0.414612   0.558336    -0.301205   \n",
       "3  10859147    -0.124558    0.121058   -0.091456   0.098928    -0.087705   \n",
       "4  10879947    -0.084374    0.083832   -0.068765   0.073467    -0.068667   \n",
       "\n",
       "   lasso_over  larm_under  larm_over  huber_under  huber_over  \n",
       "0    0.073431   -0.064499   0.071395    -0.062623    0.063218  \n",
       "1    0.073431   -0.064499   0.071395    -0.062623    0.063218  \n",
       "2    0.457031   -0.064499   0.071395    -2.651653    2.897348  \n",
       "3    0.095834   -0.064499   0.071395    -0.171291    0.169290  \n",
       "4    0.073493   -0.064499   0.071395    -0.060274    0.059819  "
      ]
     },
     "execution_count": 6,
     "metadata": {},
     "output_type": "execute_result"
    }
   ],
   "source": [
    "two_stage_linear_models = pd.read_csv(\"/home/anerdi/Desktop/Zillow/twostagemodel/two_stage_preds_linear_models.csv.gz\",\n",
    "                       compression='gzip')\n",
    "two_stage_linear_models.head()"
   ]
  },
  {
   "cell_type": "markdown",
   "metadata": {},
   "source": [
    "### Readin original linear models (i.e., one stage models) "
   ]
  },
  {
   "cell_type": "code",
   "execution_count": 7,
   "metadata": {
    "collapsed": false
   },
   "outputs": [],
   "source": [
    "ridge = pd.read_csv(\"/home/anerdi/Desktop/Zillow/submissions/Ridge.gz\")\n",
    "lasso = pd.read_csv(\"/home/anerdi/Desktop/Zillow/submissions/Lasso.gz\")\n",
    "enet = pd.read_csv(\"/home/anerdi/Desktop/Zillow/submissions/ElasticNet.gz\")\n",
    "larm = pd.read_csv(\"/home/anerdi/Desktop/Zillow/submissions/LARM.gz\")\n",
    "huber = pd.read_csv(\"/home/anerdi/Desktop/Zillow/submissions/Huber_noweight.gz\")"
   ]
  },
  {
   "cell_type": "code",
   "execution_count": 8,
   "metadata": {
    "collapsed": true
   },
   "outputs": [],
   "source": [
    "models = [\n",
    "    ('ridge', ridge),\n",
    "    ('lasso', lasso),\n",
    "    ('enet', enet),\n",
    "    ('larm', larm),\n",
    "    ('huber', huber)\n",
    "         ]"
   ]
  },
  {
   "cell_type": "markdown",
   "metadata": {},
   "source": [
    "### Combine preds & overestimate probabilities to generate one prediction "
   ]
  },
  {
   "cell_type": "code",
   "execution_count": 9,
   "metadata": {
    "collapsed": false
   },
   "outputs": [
    {
     "data": {
      "text/plain": [
       "count    2.985217e+06\n",
       "mean     5.628201e-01\n",
       "std      6.665927e-02\n",
       "min      2.171894e-01\n",
       "25%      5.216461e-01\n",
       "50%      5.640104e-01\n",
       "75%      6.057195e-01\n",
       "max      8.389546e-01\n",
       "Name: overestimate_prob, dtype: float64"
      ]
     },
     "execution_count": 9,
     "metadata": {},
     "output_type": "execute_result"
    }
   ],
   "source": [
    "overestimate_probabilities.overestimate_prob.describe()"
   ]
  },
  {
   "cell_type": "code",
   "execution_count": 10,
   "metadata": {
    "collapsed": true
   },
   "outputs": [],
   "source": [
    "# set cutoffs for when to use over/under estimate models\n",
    "underestimate_cutoff = 0.20\n",
    "overestimate_cutoff = 0.80"
   ]
  },
  {
   "cell_type": "code",
   "execution_count": 11,
   "metadata": {
    "collapsed": true
   },
   "outputs": [],
   "source": [
    "test_predictions = pd.merge(two_stage_linear_models, overestimate_probabilities, on='parcelid')"
   ]
  },
  {
   "cell_type": "code",
   "execution_count": 12,
   "metadata": {
    "collapsed": false
   },
   "outputs": [],
   "source": [
    "for model_pair in models:\n",
    "    model_name, single_stage_model_results = model_pair\n",
    "    \n",
    "    # combine over and under to get prediction (method 1 (M1): use only under/over models and estimated probs)\n",
    "    test_predictions[\"m1_%s\" % model_name] = (test_predictions['%s_over' % model_name]*test_predictions['overestimate_prob'] +\n",
    "                    test_predictions['%s_under' % model_name]*(1 - test_predictions['overestimate_prob']))\n",
    "    \n",
    "    # combine over and under to get prediction (method 2 (M2): use only under/over models and estimated probs)\n",
    "    test_predictions[\"m2_%s\" % model_name] = np.where(((test_predictions['overestimate_prob'] < underestimate_cutoff) | \n",
    "                                                      (test_predictions['overestimate_prob'] > overestimate_cutoff)),\n",
    "        test_predictions['m1_%s' % model_name],single_stage_model_results['201610'])\n",
    "    \n",
    "    \n",
    "#     # combine over and under to get prediction (method 2 (M2): use under/over models, estimated probs, and single-stage models)\n",
    "#     test_predictions[\"m2_%s\" % model_name] = ((test_predictions['overestimate_prob'] < underestimate_cutoff)*test_predictions['%s_under' % model_name] \n",
    "#         + (test_predictions['overestimate_prob'] > overestimate_cutoff)*test_predictions['%s_over' % model_name]\n",
    "#         + ((test_predictions['overestimate_prob'] >= underestimate_cutoff) | (test_predictions['overestimate_prob'] <= overestimate_cutoff))*single_stage_model_results['201610']\n",
    "#     )"
   ]
  },
  {
   "cell_type": "code",
   "execution_count": 13,
   "metadata": {
    "collapsed": false
   },
   "outputs": [
    {
     "data": {
      "text/html": [
       "<div>\n",
       "<style>\n",
       "    .dataframe thead tr:only-child th {\n",
       "        text-align: right;\n",
       "    }\n",
       "\n",
       "    .dataframe thead th {\n",
       "        text-align: left;\n",
       "    }\n",
       "\n",
       "    .dataframe tbody tr th {\n",
       "        vertical-align: top;\n",
       "    }\n",
       "</style>\n",
       "<table border=\"1\" class=\"dataframe\">\n",
       "  <thead>\n",
       "    <tr style=\"text-align: right;\">\n",
       "      <th></th>\n",
       "      <th>parcelid</th>\n",
       "      <th>ridge_under</th>\n",
       "      <th>ridge_over</th>\n",
       "      <th>enet_under</th>\n",
       "      <th>enet_over</th>\n",
       "      <th>lasso_under</th>\n",
       "      <th>lasso_over</th>\n",
       "      <th>larm_under</th>\n",
       "      <th>larm_over</th>\n",
       "      <th>huber_under</th>\n",
       "      <th>...</th>\n",
       "      <th>m1_ridge</th>\n",
       "      <th>m2_ridge</th>\n",
       "      <th>m1_lasso</th>\n",
       "      <th>m2_lasso</th>\n",
       "      <th>m1_enet</th>\n",
       "      <th>m2_enet</th>\n",
       "      <th>m1_larm</th>\n",
       "      <th>m2_larm</th>\n",
       "      <th>m1_huber</th>\n",
       "      <th>m2_huber</th>\n",
       "    </tr>\n",
       "  </thead>\n",
       "  <tbody>\n",
       "    <tr>\n",
       "      <th>0</th>\n",
       "      <td>10754147</td>\n",
       "      <td>-0.082879</td>\n",
       "      <td>0.084871</td>\n",
       "      <td>-0.068505</td>\n",
       "      <td>0.073578</td>\n",
       "      <td>-0.068225</td>\n",
       "      <td>0.073431</td>\n",
       "      <td>-0.064499</td>\n",
       "      <td>0.071395</td>\n",
       "      <td>-0.062623</td>\n",
       "      <td>...</td>\n",
       "      <td>-0.002492</td>\n",
       "      <td>0.01341</td>\n",
       "      <td>-0.000342</td>\n",
       "      <td>0.01227</td>\n",
       "      <td>-0.000418</td>\n",
       "      <td>0.01243</td>\n",
       "      <td>0.000622</td>\n",
       "      <td>0.01146</td>\n",
       "      <td>-0.002319</td>\n",
       "      <td>0.01112</td>\n",
       "    </tr>\n",
       "    <tr>\n",
       "      <th>1</th>\n",
       "      <td>10759547</td>\n",
       "      <td>-0.082642</td>\n",
       "      <td>0.085475</td>\n",
       "      <td>-0.068505</td>\n",
       "      <td>0.073578</td>\n",
       "      <td>-0.068225</td>\n",
       "      <td>0.073431</td>\n",
       "      <td>-0.064499</td>\n",
       "      <td>0.071395</td>\n",
       "      <td>-0.062623</td>\n",
       "      <td>...</td>\n",
       "      <td>-0.002658</td>\n",
       "      <td>0.01338</td>\n",
       "      <td>-0.000831</td>\n",
       "      <td>0.01223</td>\n",
       "      <td>-0.000908</td>\n",
       "      <td>0.01240</td>\n",
       "      <td>0.000154</td>\n",
       "      <td>0.01146</td>\n",
       "      <td>-0.002753</td>\n",
       "      <td>0.01112</td>\n",
       "    </tr>\n",
       "    <tr>\n",
       "      <th>2</th>\n",
       "      <td>10843547</td>\n",
       "      <td>-0.876458</td>\n",
       "      <td>0.930269</td>\n",
       "      <td>-0.414612</td>\n",
       "      <td>0.558336</td>\n",
       "      <td>-0.301205</td>\n",
       "      <td>0.457031</td>\n",
       "      <td>-0.064499</td>\n",
       "      <td>0.071395</td>\n",
       "      <td>-2.651653</td>\n",
       "      <td>...</td>\n",
       "      <td>0.447828</td>\n",
       "      <td>0.60960</td>\n",
       "      <td>0.254563</td>\n",
       "      <td>0.37170</td>\n",
       "      <td>0.298535</td>\n",
       "      <td>0.48170</td>\n",
       "      <td>0.035108</td>\n",
       "      <td>0.01146</td>\n",
       "      <td>1.415627</td>\n",
       "      <td>0.01105</td>\n",
       "    </tr>\n",
       "    <tr>\n",
       "      <th>3</th>\n",
       "      <td>10859147</td>\n",
       "      <td>-0.124558</td>\n",
       "      <td>0.121058</td>\n",
       "      <td>-0.091456</td>\n",
       "      <td>0.098928</td>\n",
       "      <td>-0.087705</td>\n",
       "      <td>0.095834</td>\n",
       "      <td>-0.064499</td>\n",
       "      <td>0.071395</td>\n",
       "      <td>-0.171291</td>\n",
       "      <td>...</td>\n",
       "      <td>0.023327</td>\n",
       "      <td>0.03578</td>\n",
       "      <td>0.022804</td>\n",
       "      <td>0.02874</td>\n",
       "      <td>0.023174</td>\n",
       "      <td>0.03203</td>\n",
       "      <td>0.017323</td>\n",
       "      <td>0.01146</td>\n",
       "      <td>0.033773</td>\n",
       "      <td>0.01111</td>\n",
       "    </tr>\n",
       "    <tr>\n",
       "      <th>4</th>\n",
       "      <td>10879947</td>\n",
       "      <td>-0.084374</td>\n",
       "      <td>0.083832</td>\n",
       "      <td>-0.068765</td>\n",
       "      <td>0.073467</td>\n",
       "      <td>-0.068667</td>\n",
       "      <td>0.073493</td>\n",
       "      <td>-0.064499</td>\n",
       "      <td>0.071395</td>\n",
       "      <td>-0.060274</td>\n",
       "      <td>...</td>\n",
       "      <td>0.004993</td>\n",
       "      <td>0.01138</td>\n",
       "      <td>0.006862</td>\n",
       "      <td>0.01171</td>\n",
       "      <td>0.006802</td>\n",
       "      <td>0.01166</td>\n",
       "      <td>0.007701</td>\n",
       "      <td>0.01146</td>\n",
       "      <td>0.003531</td>\n",
       "      <td>0.01111</td>\n",
       "    </tr>\n",
       "  </tbody>\n",
       "</table>\n",
       "<p>5 rows × 25 columns</p>\n",
       "</div>"
      ],
      "text/plain": [
       "   parcelid  ridge_under  ridge_over  enet_under  enet_over  lasso_under  \\\n",
       "0  10754147    -0.082879    0.084871   -0.068505   0.073578    -0.068225   \n",
       "1  10759547    -0.082642    0.085475   -0.068505   0.073578    -0.068225   \n",
       "2  10843547    -0.876458    0.930269   -0.414612   0.558336    -0.301205   \n",
       "3  10859147    -0.124558    0.121058   -0.091456   0.098928    -0.087705   \n",
       "4  10879947    -0.084374    0.083832   -0.068765   0.073467    -0.068667   \n",
       "\n",
       "   lasso_over  larm_under  larm_over  huber_under    ...     m1_ridge  \\\n",
       "0    0.073431   -0.064499   0.071395    -0.062623    ...    -0.002492   \n",
       "1    0.073431   -0.064499   0.071395    -0.062623    ...    -0.002658   \n",
       "2    0.457031   -0.064499   0.071395    -2.651653    ...     0.447828   \n",
       "3    0.095834   -0.064499   0.071395    -0.171291    ...     0.023327   \n",
       "4    0.073493   -0.064499   0.071395    -0.060274    ...     0.004993   \n",
       "\n",
       "   m2_ridge  m1_lasso  m2_lasso   m1_enet  m2_enet   m1_larm  m2_larm  \\\n",
       "0   0.01341 -0.000342   0.01227 -0.000418  0.01243  0.000622  0.01146   \n",
       "1   0.01338 -0.000831   0.01223 -0.000908  0.01240  0.000154  0.01146   \n",
       "2   0.60960  0.254563   0.37170  0.298535  0.48170  0.035108  0.01146   \n",
       "3   0.03578  0.022804   0.02874  0.023174  0.03203  0.017323  0.01146   \n",
       "4   0.01138  0.006862   0.01171  0.006802  0.01166  0.007701  0.01146   \n",
       "\n",
       "   m1_huber  m2_huber  \n",
       "0 -0.002319   0.01112  \n",
       "1 -0.002753   0.01112  \n",
       "2  1.415627   0.01105  \n",
       "3  0.033773   0.01111  \n",
       "4  0.003531   0.01111  \n",
       "\n",
       "[5 rows x 25 columns]"
      ]
     },
     "execution_count": 13,
     "metadata": {},
     "output_type": "execute_result"
    }
   ],
   "source": [
    "test_predictions.head()"
   ]
  },
  {
   "cell_type": "code",
   "execution_count": 18,
   "metadata": {
    "collapsed": false
   },
   "outputs": [
    {
     "name": "stdout",
     "output_type": "stream",
     "text": [
      "ridge using m1:\n",
      "(0.06211399558542294, 0.06122071392359969, 0.07382398381835442, 0.064306987533746349)\n",
      "\n",
      "ridge using single-stage model:\n",
      "(0.06332056539983931, 0.06250535370657166, 0.07484831374353078, 0.065493145336361525)\n",
      "\n",
      "lasso using m1:\n",
      "(0.06213346767380986, 0.0611854643155412, 0.07377276216939664, 0.064300369921015066)\n",
      "\n",
      "lasso using single-stage model:\n",
      "(0.06333524733775354, 0.06244184118291356, 0.07476208625646924, 0.065470568485132233)\n",
      "\n",
      "enet using m1:\n",
      "(0.062129846787910566, 0.06118977201656746, 0.07377336814846552, 0.06429930442236767)\n",
      "\n",
      "enet using single-stage model:\n",
      "(0.06332380630902144, 0.06246366413472067, 0.07474843300747566, 0.0654657878377429)\n",
      "\n",
      "larm using m1:\n",
      "(0.06218541582658408, 0.061202278146372975, 0.07380443048359252, 0.064340678889622277)\n",
      "\n",
      "larm using single-stage model:\n",
      "(0.06345773598553339, 0.06251769879518071, 0.07483130304772855, 0.065572243736829725)\n",
      "\n",
      "huber using m1:\n",
      "(0.0623502486865228, 0.06161960194877311, 0.07401535038017781, 0.064568868553314548)\n",
      "\n",
      "huber using single-stage model:\n",
      "(0.06360898332328704, 0.06264495071193858, 0.07490205865439907, 0.065701974947319067)\n",
      "\n"
     ]
    }
   ],
   "source": [
    "for model_pair in models:\n",
    "    model_name, single_stage_model = model_pair\n",
    "    \n",
    "    for method in ['m1']:\n",
    "        new_submission = DataFrame({'ParcelId': test_predictions['parcelid'],\n",
    "                                   '201610':test_predictions[\"%s_%s\" % (method,model_name)],\n",
    "                                   '201611':test_predictions[\"%s_%s\" % (method,model_name)],\n",
    "                                   '201612':test_predictions[\"%s_%s\" % (method,model_name)],\n",
    "                                   '201710':test_predictions[\"%s_%s\" % (method,model_name)],\n",
    "                                   '201711':test_predictions[\"%s_%s\" % (method,model_name)],\n",
    "                                   '201712':test_predictions[\"%s_%s\" % (method,model_name)]})\n",
    "\n",
    "        print(\"%s using %s:\" % (model_name, method))\n",
    "        print(mean_absolute_errors(new_submission, data))\n",
    "        print(\"\")\n",
    "        new_submission.round(4).to_csv(\"/home/anerdi/Desktop/Zillow/submissions/two_stage_stage1_stacked_annrfs_stage2_%s.csv.gz\" % model_name, index=False,\n",
    "                     compression='gzip')\n",
    "        \n",
    "    print(\"%s using single-stage model:\" % (model_name))\n",
    "    print(mean_absolute_errors(single_stage_model, data))\n",
    "    print(\"\")"
   ]
  },
  {
   "cell_type": "code",
   "execution_count": 15,
   "metadata": {
    "collapsed": false
   },
   "outputs": [],
   "source": [
    "method, model_name = 'm1', 'ridge'\n",
    "new_submission = DataFrame({'ParcelId': test_predictions['parcelid'],\n",
    "                                   '201610':test_predictions[\"%s_%s\" % (method,model_name)],\n",
    "                                   '201611':test_predictions[\"%s_%s\" % (method,model_name)],\n",
    "                                   '201612':test_predictions[\"%s_%s\" % (method,model_name)],\n",
    "                                   '201710':test_predictions[\"%s_%s\" % (method,model_name)],\n",
    "                                   '201711':test_predictions[\"%s_%s\" % (method,model_name)],\n",
    "                                   '201712':test_predictions[\"%s_%s\" % (method,model_name)]})"
   ]
  },
  {
   "cell_type": "code",
   "execution_count": 16,
   "metadata": {
    "collapsed": false
   },
   "outputs": [
    {
     "data": {
      "text/plain": [
       "(0.06211394414305826,\n",
       " 0.061221522453450215,\n",
       " 0.07382415181138596,\n",
       " 0.064307164598454841)"
      ]
     },
     "execution_count": 16,
     "metadata": {},
     "output_type": "execute_result"
    }
   ],
   "source": [
    "mean_absolute_errors(new_submission.round(4), data)"
   ]
  },
  {
   "cell_type": "code",
   "execution_count": 17,
   "metadata": {
    "collapsed": true
   },
   "outputs": [],
   "source": [
    "new_submission.round(4).to_csv(\"/home/anerdi/Desktop/Zillow/submissions/two_stage_stage1_stacked_annrfs_stage2_ridge.csv.gz\", index=False,\n",
    "                     compression='gzip')"
   ]
  },
  {
   "cell_type": "code",
   "execution_count": null,
   "metadata": {
    "collapsed": true
   },
   "outputs": [],
   "source": []
  }
 ],
 "metadata": {
  "kernelspec": {
   "display_name": "Python 3",
   "language": "python",
   "name": "python3"
  },
  "language_info": {
   "codemirror_mode": {
    "name": "ipython",
    "version": 3
   },
   "file_extension": ".py",
   "mimetype": "text/x-python",
   "name": "python",
   "nbconvert_exporter": "python",
   "pygments_lexer": "ipython3",
   "version": "3.5.4"
  }
 },
 "nbformat": 4,
 "nbformat_minor": 0
}
