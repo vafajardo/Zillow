{
 "cells": [
  {
   "cell_type": "code",
   "execution_count": 1,
   "metadata": {
    "collapsed": true
   },
   "outputs": [],
   "source": [
    "import pandas as pd\n",
    "from pandas import DataFrame,Series\n",
    "import numpy as np\n",
    "import os\n",
    "import datetime\n",
    "\n",
    "# scipy optimization\n",
    "from scipy.optimize import nnls"
   ]
  },
  {
   "cell_type": "markdown",
   "metadata": {},
   "source": [
    "### Reading in data"
   ]
  },
  {
   "cell_type": "code",
   "execution_count": 2,
   "metadata": {
    "collapsed": false
   },
   "outputs": [],
   "source": [
    "# create data DataFrame\n",
    "logerror = pd.read_csv(maindir + \"/data/train_2016_v2.csv/train_2016_v2.csv\")\n",
    "logerror['weeknumber'] = logerror['transactiondate'].apply(lambda x: datetime.datetime.strptime(x,'%Y-%m-%d').isocalendar()[1])\n",
    "logerror['month'] = logerror['transactiondate'].apply(lambda x: datetime.datetime.strptime(x,'%Y-%m-%d').month)\n",
    "properties = pd.read_csv(maindir + \"/data/properties_2016.csv/properties_2016.csv\", usecols=['parcelid'])"
   ]
  },
  {
   "cell_type": "code",
   "execution_count": 3,
   "metadata": {
    "collapsed": true
   },
   "outputs": [],
   "source": [
    "data = pd.merge(properties,logerror[['parcelid','logerror','month']], on='parcelid')"
   ]
  },
  {
   "cell_type": "code",
   "execution_count": 4,
   "metadata": {
    "collapsed": false
   },
   "outputs": [
    {
     "data": {
      "text/html": [
       "<div>\n",
       "<style>\n",
       "    .dataframe thead tr:only-child th {\n",
       "        text-align: right;\n",
       "    }\n",
       "\n",
       "    .dataframe thead th {\n",
       "        text-align: left;\n",
       "    }\n",
       "\n",
       "    .dataframe tbody tr th {\n",
       "        vertical-align: top;\n",
       "    }\n",
       "</style>\n",
       "<table border=\"1\" class=\"dataframe\">\n",
       "  <thead>\n",
       "    <tr style=\"text-align: right;\">\n",
       "      <th></th>\n",
       "      <th>parcelid</th>\n",
       "      <th>logerror</th>\n",
       "      <th>month</th>\n",
       "    </tr>\n",
       "  </thead>\n",
       "  <tbody>\n",
       "    <tr>\n",
       "      <th>0</th>\n",
       "      <td>17073783</td>\n",
       "      <td>0.0953</td>\n",
       "      <td>1</td>\n",
       "    </tr>\n",
       "    <tr>\n",
       "      <th>1</th>\n",
       "      <td>17088994</td>\n",
       "      <td>0.0198</td>\n",
       "      <td>3</td>\n",
       "    </tr>\n",
       "    <tr>\n",
       "      <th>2</th>\n",
       "      <td>17100444</td>\n",
       "      <td>0.0060</td>\n",
       "      <td>5</td>\n",
       "    </tr>\n",
       "    <tr>\n",
       "      <th>3</th>\n",
       "      <td>17102429</td>\n",
       "      <td>-0.0566</td>\n",
       "      <td>6</td>\n",
       "    </tr>\n",
       "    <tr>\n",
       "      <th>4</th>\n",
       "      <td>17109604</td>\n",
       "      <td>0.0573</td>\n",
       "      <td>8</td>\n",
       "    </tr>\n",
       "  </tbody>\n",
       "</table>\n",
       "</div>"
      ],
      "text/plain": [
       "   parcelid  logerror  month\n",
       "0  17073783    0.0953      1\n",
       "1  17088994    0.0198      3\n",
       "2  17100444    0.0060      5\n",
       "3  17102429   -0.0566      6\n",
       "4  17109604    0.0573      8"
      ]
     },
     "execution_count": 4,
     "metadata": {},
     "output_type": "execute_result"
    }
   ],
   "source": [
    "data.head()"
   ]
  },
  {
   "cell_type": "markdown",
   "metadata": {},
   "source": [
    "### Reading in level-one data"
   ]
  },
  {
   "cell_type": "code",
   "execution_count": 86,
   "metadata": {
    "collapsed": true
   },
   "outputs": [],
   "source": [
    "l1data_linear_models = pd.read_csv(\"/home/anerdi/Desktop/Zillow/levelonedata/l1data_twostage_linear_models.csv.gz\")\n",
    "l1data_rfs = pd.read_csv(\"/home/anerdi/Desktop/Zillow/levelonedata/l1data_twostage_random_forests.csv.gz\")"
   ]
  },
  {
   "cell_type": "code",
   "execution_count": 87,
   "metadata": {
    "collapsed": false
   },
   "outputs": [],
   "source": [
    "l1data = pd.merge(l1data_linear_models, l1data_rfs, on = 'parcelid')\n",
    "l1data = pd.merge(l1data, data[['parcelid','logerror']], on = 'parcelid')"
   ]
  },
  {
   "cell_type": "code",
   "execution_count": 88,
   "metadata": {
    "collapsed": false
   },
   "outputs": [
    {
     "data": {
      "text/html": [
       "<div>\n",
       "<style>\n",
       "    .dataframe thead tr:only-child th {\n",
       "        text-align: right;\n",
       "    }\n",
       "\n",
       "    .dataframe thead th {\n",
       "        text-align: left;\n",
       "    }\n",
       "\n",
       "    .dataframe tbody tr th {\n",
       "        vertical-align: top;\n",
       "    }\n",
       "</style>\n",
       "<table border=\"1\" class=\"dataframe\">\n",
       "  <thead>\n",
       "    <tr style=\"text-align: right;\">\n",
       "      <th></th>\n",
       "      <th>parcelid</th>\n",
       "      <th>stacked_rfs_ridge</th>\n",
       "      <th>stacked_rfs_enet</th>\n",
       "      <th>stacked_rfs_lasso</th>\n",
       "      <th>stacked_rfs_larm</th>\n",
       "      <th>stacked_rfs_huber</th>\n",
       "      <th>stacked_annrfs_ridge</th>\n",
       "      <th>stacked_annrfs_enet</th>\n",
       "      <th>stacked_annrfs_lasso</th>\n",
       "      <th>stacked_annrfs_larm</th>\n",
       "      <th>...</th>\n",
       "      <th>logistic_lasso</th>\n",
       "      <th>logistic_larm</th>\n",
       "      <th>logistic_huber</th>\n",
       "      <th>stacked_rfs_rf</th>\n",
       "      <th>stacked_rfs_rf_overfit</th>\n",
       "      <th>stacked_annrfs_rf</th>\n",
       "      <th>stacked_annrfs_rf_overfit</th>\n",
       "      <th>logistic_rf</th>\n",
       "      <th>logistic_rf_overfit</th>\n",
       "      <th>logerror</th>\n",
       "    </tr>\n",
       "  </thead>\n",
       "  <tbody>\n",
       "    <tr>\n",
       "      <th>0</th>\n",
       "      <td>17073783</td>\n",
       "      <td>0.024176</td>\n",
       "      <td>0.025774</td>\n",
       "      <td>0.026020</td>\n",
       "      <td>0.027547</td>\n",
       "      <td>0.014576</td>\n",
       "      <td>0.018770</td>\n",
       "      <td>0.019923</td>\n",
       "      <td>0.020110</td>\n",
       "      <td>0.021019</td>\n",
       "      <td>...</td>\n",
       "      <td>0.019298</td>\n",
       "      <td>0.020122</td>\n",
       "      <td>0.010649</td>\n",
       "      <td>0.027348</td>\n",
       "      <td>0.020810</td>\n",
       "      <td>0.021123</td>\n",
       "      <td>0.014382</td>\n",
       "      <td>0.020268</td>\n",
       "      <td>0.013499</td>\n",
       "      <td>0.0953</td>\n",
       "    </tr>\n",
       "    <tr>\n",
       "      <th>1</th>\n",
       "      <td>17088994</td>\n",
       "      <td>0.004663</td>\n",
       "      <td>0.003873</td>\n",
       "      <td>0.003904</td>\n",
       "      <td>0.004764</td>\n",
       "      <td>0.000855</td>\n",
       "      <td>0.006679</td>\n",
       "      <td>0.005929</td>\n",
       "      <td>0.006016</td>\n",
       "      <td>0.007209</td>\n",
       "      <td>...</td>\n",
       "      <td>0.008818</td>\n",
       "      <td>0.010454</td>\n",
       "      <td>0.002048</td>\n",
       "      <td>0.004381</td>\n",
       "      <td>0.010182</td>\n",
       "      <td>0.006600</td>\n",
       "      <td>0.012431</td>\n",
       "      <td>0.009545</td>\n",
       "      <td>0.015414</td>\n",
       "      <td>0.0198</td>\n",
       "    </tr>\n",
       "    <tr>\n",
       "      <th>2</th>\n",
       "      <td>17100444</td>\n",
       "      <td>0.012671</td>\n",
       "      <td>0.011883</td>\n",
       "      <td>0.011940</td>\n",
       "      <td>0.012623</td>\n",
       "      <td>0.007172</td>\n",
       "      <td>0.016844</td>\n",
       "      <td>0.016133</td>\n",
       "      <td>0.016214</td>\n",
       "      <td>0.017172</td>\n",
       "      <td>...</td>\n",
       "      <td>0.004321</td>\n",
       "      <td>0.004514</td>\n",
       "      <td>0.002524</td>\n",
       "      <td>0.023879</td>\n",
       "      <td>0.015154</td>\n",
       "      <td>0.028744</td>\n",
       "      <td>0.019880</td>\n",
       "      <td>0.015207</td>\n",
       "      <td>0.006728</td>\n",
       "      <td>0.0060</td>\n",
       "    </tr>\n",
       "    <tr>\n",
       "      <th>3</th>\n",
       "      <td>17102429</td>\n",
       "      <td>0.012099</td>\n",
       "      <td>0.010563</td>\n",
       "      <td>0.010574</td>\n",
       "      <td>0.010785</td>\n",
       "      <td>0.008539</td>\n",
       "      <td>0.020774</td>\n",
       "      <td>0.018797</td>\n",
       "      <td>0.018773</td>\n",
       "      <td>0.019321</td>\n",
       "      <td>...</td>\n",
       "      <td>0.010865</td>\n",
       "      <td>0.011089</td>\n",
       "      <td>0.008784</td>\n",
       "      <td>0.013072</td>\n",
       "      <td>0.013386</td>\n",
       "      <td>0.021420</td>\n",
       "      <td>0.021441</td>\n",
       "      <td>0.013370</td>\n",
       "      <td>0.013672</td>\n",
       "      <td>-0.0566</td>\n",
       "    </tr>\n",
       "    <tr>\n",
       "      <th>4</th>\n",
       "      <td>17109604</td>\n",
       "      <td>0.018363</td>\n",
       "      <td>0.017627</td>\n",
       "      <td>0.017683</td>\n",
       "      <td>0.015224</td>\n",
       "      <td>0.014375</td>\n",
       "      <td>0.016069</td>\n",
       "      <td>0.015316</td>\n",
       "      <td>0.015377</td>\n",
       "      <td>0.012670</td>\n",
       "      <td>...</td>\n",
       "      <td>0.020294</td>\n",
       "      <td>0.018116</td>\n",
       "      <td>0.017030</td>\n",
       "      <td>0.017354</td>\n",
       "      <td>0.012509</td>\n",
       "      <td>0.015158</td>\n",
       "      <td>0.010770</td>\n",
       "      <td>0.019841</td>\n",
       "      <td>0.014478</td>\n",
       "      <td>0.0573</td>\n",
       "    </tr>\n",
       "  </tbody>\n",
       "</table>\n",
       "<p>5 rows × 23 columns</p>\n",
       "</div>"
      ],
      "text/plain": [
       "   parcelid  stacked_rfs_ridge  stacked_rfs_enet  stacked_rfs_lasso  \\\n",
       "0  17073783           0.024176          0.025774           0.026020   \n",
       "1  17088994           0.004663          0.003873           0.003904   \n",
       "2  17100444           0.012671          0.011883           0.011940   \n",
       "3  17102429           0.012099          0.010563           0.010574   \n",
       "4  17109604           0.018363          0.017627           0.017683   \n",
       "\n",
       "   stacked_rfs_larm  stacked_rfs_huber  stacked_annrfs_ridge  \\\n",
       "0          0.027547           0.014576              0.018770   \n",
       "1          0.004764           0.000855              0.006679   \n",
       "2          0.012623           0.007172              0.016844   \n",
       "3          0.010785           0.008539              0.020774   \n",
       "4          0.015224           0.014375              0.016069   \n",
       "\n",
       "   stacked_annrfs_enet  stacked_annrfs_lasso  stacked_annrfs_larm    ...     \\\n",
       "0             0.019923              0.020110             0.021019    ...      \n",
       "1             0.005929              0.006016             0.007209    ...      \n",
       "2             0.016133              0.016214             0.017172    ...      \n",
       "3             0.018797              0.018773             0.019321    ...      \n",
       "4             0.015316              0.015377             0.012670    ...      \n",
       "\n",
       "   logistic_lasso  logistic_larm  logistic_huber  stacked_rfs_rf  \\\n",
       "0        0.019298       0.020122        0.010649        0.027348   \n",
       "1        0.008818       0.010454        0.002048        0.004381   \n",
       "2        0.004321       0.004514        0.002524        0.023879   \n",
       "3        0.010865       0.011089        0.008784        0.013072   \n",
       "4        0.020294       0.018116        0.017030        0.017354   \n",
       "\n",
       "   stacked_rfs_rf_overfit  stacked_annrfs_rf  stacked_annrfs_rf_overfit  \\\n",
       "0                0.020810           0.021123                   0.014382   \n",
       "1                0.010182           0.006600                   0.012431   \n",
       "2                0.015154           0.028744                   0.019880   \n",
       "3                0.013386           0.021420                   0.021441   \n",
       "4                0.012509           0.015158                   0.010770   \n",
       "\n",
       "   logistic_rf  logistic_rf_overfit  logerror  \n",
       "0     0.020268             0.013499    0.0953  \n",
       "1     0.009545             0.015414    0.0198  \n",
       "2     0.015207             0.006728    0.0060  \n",
       "3     0.013370             0.013672   -0.0566  \n",
       "4     0.019841             0.014478    0.0573  \n",
       "\n",
       "[5 rows x 23 columns]"
      ]
     },
     "execution_count": 88,
     "metadata": {},
     "output_type": "execute_result"
    }
   ],
   "source": [
    "l1data.head()"
   ]
  },
  {
   "cell_type": "markdown",
   "metadata": {},
   "source": [
    "### Finding optimal weights using nnls"
   ]
  },
  {
   "cell_type": "code",
   "execution_count": 89,
   "metadata": {
    "collapsed": false
   },
   "outputs": [
    {
     "data": {
      "text/plain": [
       "Index(['parcelid', 'stacked_rfs_ridge', 'stacked_rfs_enet',\n",
       "       'stacked_rfs_lasso', 'stacked_rfs_larm', 'stacked_rfs_huber',\n",
       "       'stacked_annrfs_ridge', 'stacked_annrfs_enet', 'stacked_annrfs_lasso',\n",
       "       'stacked_annrfs_larm', 'stacked_annrfs_huber', 'logistic_ridge',\n",
       "       'logistic_enet', 'logistic_lasso', 'logistic_larm', 'logistic_huber',\n",
       "       'stacked_rfs_rf', 'stacked_rfs_rf_overfit', 'stacked_annrfs_rf',\n",
       "       'stacked_annrfs_rf_overfit', 'logistic_rf', 'logistic_rf_overfit',\n",
       "       'logerror'],\n",
       "      dtype='object')"
      ]
     },
     "execution_count": 89,
     "metadata": {},
     "output_type": "execute_result"
    }
   ],
   "source": [
    "l1data.columns"
   ]
  },
  {
   "cell_type": "code",
   "execution_count": null,
   "metadata": {
    "collapsed": true
   },
   "outputs": [],
   "source": [
    "models = ['']"
   ]
  },
  {
   "cell_type": "code",
   "execution_count": 19,
   "metadata": {
    "collapsed": true
   },
   "outputs": [],
   "source": [
    "# Set up quadratic objective function\n",
    "# V = l1_data.iloc[:,1:].values\n",
    "X = l1data.iloc[:,1:-1].values\n",
    "y = l1data.logerror.values"
   ]
  },
  {
   "cell_type": "code",
   "execution_count": 14,
   "metadata": {
    "collapsed": false
   },
   "outputs": [],
   "source": [
    "alpha, norm = nnls(A=V,b=y)"
   ]
  },
  {
   "cell_type": "code",
   "execution_count": 15,
   "metadata": {
    "collapsed": false
   },
   "outputs": [
    {
     "data": {
      "text/plain": [
       "48.150167385871036"
      ]
     },
     "execution_count": 15,
     "metadata": {},
     "output_type": "execute_result"
    }
   ],
   "source": [
    "norm"
   ]
  },
  {
   "cell_type": "code",
   "execution_count": 16,
   "metadata": {
    "collapsed": false
   },
   "outputs": [
    {
     "data": {
      "text/plain": [
       "array([ 1.33773319,  0.        ,  0.        ,  0.        ,  0.        ,\n",
       "        0.        ,  0.        ,  0.        ,  0.        ,  0.        ,\n",
       "        0.        ,  0.        ,  0.        ,  0.        ,  0.        ,\n",
       "        0.        ,  0.5384619 ])"
      ]
     },
     "execution_count": 16,
     "metadata": {},
     "output_type": "execute_result"
    }
   ],
   "source": [
    "alpha"
   ]
  },
  {
   "cell_type": "markdown",
   "metadata": {},
   "source": [
    "### Finding optimal weights using Ridge Regression"
   ]
  },
  {
   "cell_type": "code",
   "execution_count": 92,
   "metadata": {
    "collapsed": false
   },
   "outputs": [],
   "source": [
    "X = l1data[['stacked_rfs_huber',\n",
    "             'stacked_rfs_lasso',\n",
    "             'stacked_annrfs_rf',\n",
    "             'logistic_lasso',\n",
    "             'stacked_annrfs_huber',\n",
    "             'logistic_rf',\n",
    "             'logistic_huber',\n",
    "             'stacked_rfs_enet',\n",
    "             'stacked_rfs_larm',\n",
    "             'stacked_annrfs_enet',\n",
    "             'logistic_ridge',\n",
    "             'stacked_annrfs_larm',\n",
    "             'stacked_annrfs_lasso',\n",
    "             'stacked_rfs_ridge',\n",
    "             'logistic_enet',\n",
    "             'stacked_annrfs_ridge',\n",
    "             'logistic_larm']].values\n",
    "\n",
    "y = l1data.logerror.values"
   ]
  },
  {
   "cell_type": "code",
   "execution_count": 94,
   "metadata": {
    "collapsed": true
   },
   "outputs": [],
   "source": [
    "from sklearn.neural_network import MLPRegressor"
   ]
  },
  {
   "cell_type": "code",
   "execution_count": 102,
   "metadata": {
    "collapsed": true
   },
   "outputs": [],
   "source": [
    "stack = MLPRegressor(hidden_layer_sizes=(100,100),random_state=19, early_stopping=True)"
   ]
  },
  {
   "cell_type": "code",
   "execution_count": 103,
   "metadata": {
    "collapsed": false
   },
   "outputs": [
    {
     "data": {
      "text/plain": [
       "MLPRegressor(activation='relu', alpha=0.0001, batch_size='auto', beta_1=0.9,\n",
       "       beta_2=0.999, early_stopping=True, epsilon=1e-08,\n",
       "       hidden_layer_sizes=(100, 100), learning_rate='constant',\n",
       "       learning_rate_init=0.001, max_iter=200, momentum=0.9,\n",
       "       nesterovs_momentum=True, power_t=0.5, random_state=19, shuffle=True,\n",
       "       solver='adam', tol=0.0001, validation_fraction=0.1, verbose=False,\n",
       "       warm_start=False)"
      ]
     },
     "execution_count": 103,
     "metadata": {},
     "output_type": "execute_result"
    }
   ],
   "source": [
    "stack.fit(X,y)"
   ]
  },
  {
   "cell_type": "code",
   "execution_count": 104,
   "metadata": {
    "collapsed": false
   },
   "outputs": [
    {
     "data": {
      "text/plain": [
       "0.038529007695594752"
      ]
     },
     "execution_count": 104,
     "metadata": {},
     "output_type": "execute_result"
    }
   ],
   "source": [
    "stack.score(X,y)"
   ]
  },
  {
   "cell_type": "code",
   "execution_count": 105,
   "metadata": {
    "collapsed": false
   },
   "outputs": [
    {
     "data": {
      "text/plain": [
       "0.066797194441360772"
      ]
     },
     "execution_count": 105,
     "metadata": {},
     "output_type": "execute_result"
    }
   ],
   "source": [
    "(abs(stack.predict(X) - y)).mean()"
   ]
  },
  {
   "cell_type": "markdown",
   "metadata": {},
   "source": [
    "### Pickle the NN"
   ]
  },
  {
   "cell_type": "code",
   "execution_count": 106,
   "metadata": {
    "collapsed": true
   },
   "outputs": [],
   "source": [
    "from sklearn.externals import joblib"
   ]
  },
  {
   "cell_type": "code",
   "execution_count": 107,
   "metadata": {
    "collapsed": false
   },
   "outputs": [
    {
     "data": {
      "text/plain": [
       "['/home/anerdi/Desktop/Zillow/submissions/stage2_stacked_NN.pkl']"
      ]
     },
     "execution_count": 107,
     "metadata": {},
     "output_type": "execute_result"
    }
   ],
   "source": [
    "joblib.dump(stack, '/home/anerdi/Desktop/Zillow/submissions/stage2_stacked_NN.pkl') "
   ]
  },
  {
   "cell_type": "code",
   "execution_count": null,
   "metadata": {
    "collapsed": true
   },
   "outputs": [],
   "source": []
  }
 ],
 "metadata": {
  "kernelspec": {
   "display_name": "Python 3",
   "language": "python",
   "name": "python3"
  },
  "language_info": {
   "codemirror_mode": {
    "name": "ipython",
    "version": 3
   },
   "file_extension": ".py",
   "mimetype": "text/x-python",
   "name": "python",
   "nbconvert_exporter": "python",
   "pygments_lexer": "ipython3",
   "version": "3.5.4"
  }
 },
 "nbformat": 4,
 "nbformat_minor": 0
}
