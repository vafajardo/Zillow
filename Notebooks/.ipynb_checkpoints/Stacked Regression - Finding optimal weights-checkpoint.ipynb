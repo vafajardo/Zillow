{
 "cells": [
  {
   "cell_type": "code",
   "execution_count": 1,
   "metadata": {
    "collapsed": true
   },
   "outputs": [],
   "source": [
    "import pandas as pd\n",
    "from pandas import DataFrame,Series\n",
    "import numpy as np\n",
    "import os\n",
    "import datetime\n",
    "import gc\n",
    "\n",
    "#Plotting\n",
    "import matplotlib.pyplot as plt\n",
    "import matplotlib.gridspec as gridspec\n",
    "%matplotlib inline\n",
    "\n",
    "# sklearn stuff\n",
    "from sklearn.model_selection import GridSearchCV, cross_val_score\n",
    "from sklearn.metrics import confusion_matrix, mean_squared_error, precision_score, recall_score, f1_score\n",
    "from sklearn.preprocessing import StandardScaler, OneHotEncoder, LabelEncoder, Imputer \n",
    "from sklearn.pipeline import Pipeline, FeatureUnion\n",
    "from sklearn.base import BaseEstimator, TransformerMixin\n",
    "\n",
    "import feature_pipelines as pipes"
   ]
  },
  {
   "cell_type": "code",
   "execution_count": 2,
   "metadata": {
    "collapsed": true
   },
   "outputs": [],
   "source": [
    "def generate_test_probs(model, col_names=None, type = None):\n",
    "    model_preds = None\n",
    "    for i in range(int(properties.shape[0] / 100000)):   \n",
    "        # get current test features\n",
    "        current_test_feats = feature_pipeline.transform(properties.iloc[i*100000:(i+1)*100000])\n",
    "\n",
    "        # predict on current test obs\n",
    "        current_preds = DataFrame(model.predict_proba(current_test_feats), columns=col_names,\n",
    "                              index = np.arange(i*100000,(i+1)*100000))\n",
    "\n",
    "        if model_preds is not None:\n",
    "            model_preds = pd.concat([model_preds, current_preds])\n",
    "        else:\n",
    "            model_preds = current_preds\n",
    "\n",
    "    #  fencepost problem\n",
    "    current_test_feats = feature_pipeline.transform(properties.iloc[2900000:])\n",
    "    # predict on current test obs\n",
    "    current_preds = DataFrame(model.predict_proba(current_test_feats), columns=col_names,\n",
    "                             index = np.arange(2900000,2985217))\n",
    "    model_preds = pd.concat([model_preds, current_preds])\n",
    "    return model_preds"
   ]
  },
  {
   "cell_type": "code",
   "execution_count": 3,
   "metadata": {
    "collapsed": true
   },
   "outputs": [],
   "source": [
    "def mean_absolute_errors(submission_df, comparison_df):\n",
    "    \"\"\"\n",
    "    This function takes a submission entry for public leaderboard, and returns\n",
    "    the training error for each month.\n",
    "    \"\"\"\n",
    "    # training error\n",
    "    trainresults = pd.merge(submission_df[['ParcelId','201610','201611','201612']], comparison_df[['parcelid','logerror','month']],\n",
    "                           left_on='ParcelId', right_on='parcelid')\n",
    "    oct_error = abs(trainresults[trainresults['month'] == 10]['201610'] \n",
    "                    - trainresults[trainresults['month'] == 10]['logerror']).mean()\n",
    "    nov_error = abs(trainresults[trainresults['month'] == 11]['201611'] \n",
    "                    - trainresults[trainresults['month'] == 11]['logerror']).mean()\n",
    "    dec_error = abs(trainresults[trainresults['month'] == 12]['201612'] \n",
    "                    - trainresults[trainresults['month'] == 12]['logerror']).mean()\n",
    "    overall_mae = (oct_error*(trainresults['month'] == 10).sum() + nov_error*(trainresults['month'] == 11).sum() \n",
    "                        + dec_error*(trainresults['month'] == 12).sum()) / (trainresults['month'].isin([10,11,12])).sum()\n",
    "    return (oct_error, nov_error, dec_error, overall_mae)"
   ]
  },
  {
   "cell_type": "markdown",
   "metadata": {},
   "source": [
    "### Reading in data"
   ]
  },
  {
   "cell_type": "code",
   "execution_count": 4,
   "metadata": {
    "collapsed": false
   },
   "outputs": [
    {
     "name": "stderr",
     "output_type": "stream",
     "text": [
      "/home/anerdi/anaconda3/lib/python3.5/site-packages/IPython/core/interactiveshell.py:2723: DtypeWarning: Columns (22,32,34,49,55) have mixed types. Specify dtype option on import or set low_memory=False.\n",
      "  interactivity=interactivity, compiler=compiler, result=result)\n"
     ]
    }
   ],
   "source": [
    "maindir = \"/home/anerdi/Desktop/Zillow\"\n",
    "# create data DataFrame\n",
    "logerror = pd.read_csv(maindir + \"/data/train_2016_v2.csv/train_2016_v2.csv\")\n",
    "logerror['weeknumber'] = logerror['transactiondate'].apply(lambda x: datetime.datetime.strptime(x,'%Y-%m-%d').isocalendar()[1])\n",
    "logerror['month'] = logerror['transactiondate'].apply(lambda x: datetime.datetime.strptime(x,'%Y-%m-%d').month)\n",
    "properties = pd.read_csv(maindir + \"/data/properties_2016.csv/properties_2016.csv\")"
   ]
  },
  {
   "cell_type": "code",
   "execution_count": 5,
   "metadata": {
    "collapsed": true
   },
   "outputs": [],
   "source": [
    "#proportion of living area\n",
    "properties['N-LivingAreaProp'] = properties['calculatedfinishedsquarefeet']/properties['lotsizesquarefeet']\n",
    "\n",
    "#Ratio of the built structure value to land area\n",
    "properties['N-ValueProp'] = properties['structuretaxvaluedollarcnt']/properties['landtaxvaluedollarcnt']\n",
    "\n",
    "#Ratio of tax of property over parcel\n",
    "properties['N-ValueRatio'] = properties['taxvaluedollarcnt']/properties['taxamount']\n",
    "\n",
    "# Pool\n",
    "properties['Pool'] = (properties['pooltypeid2'].fillna(0) + properties['pooltypeid7'].fillna(0)).astype(int)"
   ]
  },
  {
   "cell_type": "code",
   "execution_count": 6,
   "metadata": {
    "collapsed": true
   },
   "outputs": [],
   "source": [
    "data = pd.merge(properties,logerror[['parcelid','logerror','month']], on='parcelid')"
   ]
  },
  {
   "cell_type": "code",
   "execution_count": 7,
   "metadata": {
    "collapsed": false
   },
   "outputs": [
    {
     "data": {
      "text/html": [
       "<div>\n",
       "<style>\n",
       "    .dataframe thead tr:only-child th {\n",
       "        text-align: right;\n",
       "    }\n",
       "\n",
       "    .dataframe thead th {\n",
       "        text-align: left;\n",
       "    }\n",
       "\n",
       "    .dataframe tbody tr th {\n",
       "        vertical-align: top;\n",
       "    }\n",
       "</style>\n",
       "<table border=\"1\" class=\"dataframe\">\n",
       "  <thead>\n",
       "    <tr style=\"text-align: right;\">\n",
       "      <th></th>\n",
       "      <th>parcelid</th>\n",
       "      <th>airconditioningtypeid</th>\n",
       "      <th>architecturalstyletypeid</th>\n",
       "      <th>basementsqft</th>\n",
       "      <th>bathroomcnt</th>\n",
       "      <th>bedroomcnt</th>\n",
       "      <th>buildingclasstypeid</th>\n",
       "      <th>buildingqualitytypeid</th>\n",
       "      <th>calculatedbathnbr</th>\n",
       "      <th>decktypeid</th>\n",
       "      <th>...</th>\n",
       "      <th>taxamount</th>\n",
       "      <th>taxdelinquencyflag</th>\n",
       "      <th>taxdelinquencyyear</th>\n",
       "      <th>censustractandblock</th>\n",
       "      <th>N-LivingAreaProp</th>\n",
       "      <th>N-ValueProp</th>\n",
       "      <th>N-ValueRatio</th>\n",
       "      <th>Pool</th>\n",
       "      <th>logerror</th>\n",
       "      <th>month</th>\n",
       "    </tr>\n",
       "  </thead>\n",
       "  <tbody>\n",
       "    <tr>\n",
       "      <th>0</th>\n",
       "      <td>17073783</td>\n",
       "      <td>NaN</td>\n",
       "      <td>NaN</td>\n",
       "      <td>NaN</td>\n",
       "      <td>2.5</td>\n",
       "      <td>3.0</td>\n",
       "      <td>NaN</td>\n",
       "      <td>NaN</td>\n",
       "      <td>2.5</td>\n",
       "      <td>NaN</td>\n",
       "      <td>...</td>\n",
       "      <td>2015.06</td>\n",
       "      <td>NaN</td>\n",
       "      <td>NaN</td>\n",
       "      <td>6.111002e+13</td>\n",
       "      <td>0.728530</td>\n",
       "      <td>1.500013</td>\n",
       "      <td>95.188729</td>\n",
       "      <td>0</td>\n",
       "      <td>0.0953</td>\n",
       "      <td>1</td>\n",
       "    </tr>\n",
       "    <tr>\n",
       "      <th>1</th>\n",
       "      <td>17088994</td>\n",
       "      <td>NaN</td>\n",
       "      <td>NaN</td>\n",
       "      <td>NaN</td>\n",
       "      <td>1.0</td>\n",
       "      <td>2.0</td>\n",
       "      <td>NaN</td>\n",
       "      <td>NaN</td>\n",
       "      <td>1.0</td>\n",
       "      <td>NaN</td>\n",
       "      <td>...</td>\n",
       "      <td>2581.30</td>\n",
       "      <td>NaN</td>\n",
       "      <td>NaN</td>\n",
       "      <td>6.111002e+13</td>\n",
       "      <td>NaN</td>\n",
       "      <td>1.500042</td>\n",
       "      <td>92.852051</td>\n",
       "      <td>0</td>\n",
       "      <td>0.0198</td>\n",
       "      <td>3</td>\n",
       "    </tr>\n",
       "    <tr>\n",
       "      <th>2</th>\n",
       "      <td>17100444</td>\n",
       "      <td>NaN</td>\n",
       "      <td>NaN</td>\n",
       "      <td>NaN</td>\n",
       "      <td>2.0</td>\n",
       "      <td>3.0</td>\n",
       "      <td>NaN</td>\n",
       "      <td>NaN</td>\n",
       "      <td>2.0</td>\n",
       "      <td>NaN</td>\n",
       "      <td>...</td>\n",
       "      <td>591.64</td>\n",
       "      <td>NaN</td>\n",
       "      <td>NaN</td>\n",
       "      <td>6.111001e+13</td>\n",
       "      <td>0.167605</td>\n",
       "      <td>2.361880</td>\n",
       "      <td>80.881955</td>\n",
       "      <td>0</td>\n",
       "      <td>0.0060</td>\n",
       "      <td>5</td>\n",
       "    </tr>\n",
       "    <tr>\n",
       "      <th>3</th>\n",
       "      <td>17102429</td>\n",
       "      <td>NaN</td>\n",
       "      <td>NaN</td>\n",
       "      <td>NaN</td>\n",
       "      <td>1.5</td>\n",
       "      <td>2.0</td>\n",
       "      <td>NaN</td>\n",
       "      <td>NaN</td>\n",
       "      <td>1.5</td>\n",
       "      <td>NaN</td>\n",
       "      <td>...</td>\n",
       "      <td>682.78</td>\n",
       "      <td>NaN</td>\n",
       "      <td>NaN</td>\n",
       "      <td>6.111001e+13</td>\n",
       "      <td>0.210000</td>\n",
       "      <td>2.635597</td>\n",
       "      <td>92.143882</td>\n",
       "      <td>0</td>\n",
       "      <td>-0.0566</td>\n",
       "      <td>6</td>\n",
       "    </tr>\n",
       "    <tr>\n",
       "      <th>4</th>\n",
       "      <td>17109604</td>\n",
       "      <td>NaN</td>\n",
       "      <td>NaN</td>\n",
       "      <td>NaN</td>\n",
       "      <td>2.5</td>\n",
       "      <td>4.0</td>\n",
       "      <td>NaN</td>\n",
       "      <td>NaN</td>\n",
       "      <td>2.5</td>\n",
       "      <td>NaN</td>\n",
       "      <td>...</td>\n",
       "      <td>5886.92</td>\n",
       "      <td>NaN</td>\n",
       "      <td>NaN</td>\n",
       "      <td>6.111001e+13</td>\n",
       "      <td>0.381758</td>\n",
       "      <td>1.000000</td>\n",
       "      <td>94.106935</td>\n",
       "      <td>0</td>\n",
       "      <td>0.0573</td>\n",
       "      <td>8</td>\n",
       "    </tr>\n",
       "  </tbody>\n",
       "</table>\n",
       "<p>5 rows × 64 columns</p>\n",
       "</div>"
      ],
      "text/plain": [
       "   parcelid  airconditioningtypeid  architecturalstyletypeid  basementsqft  \\\n",
       "0  17073783                    NaN                       NaN           NaN   \n",
       "1  17088994                    NaN                       NaN           NaN   \n",
       "2  17100444                    NaN                       NaN           NaN   \n",
       "3  17102429                    NaN                       NaN           NaN   \n",
       "4  17109604                    NaN                       NaN           NaN   \n",
       "\n",
       "   bathroomcnt  bedroomcnt  buildingclasstypeid  buildingqualitytypeid  \\\n",
       "0          2.5         3.0                  NaN                    NaN   \n",
       "1          1.0         2.0                  NaN                    NaN   \n",
       "2          2.0         3.0                  NaN                    NaN   \n",
       "3          1.5         2.0                  NaN                    NaN   \n",
       "4          2.5         4.0                  NaN                    NaN   \n",
       "\n",
       "   calculatedbathnbr  decktypeid  ...    taxamount  taxdelinquencyflag  \\\n",
       "0                2.5         NaN  ...      2015.06                 NaN   \n",
       "1                1.0         NaN  ...      2581.30                 NaN   \n",
       "2                2.0         NaN  ...       591.64                 NaN   \n",
       "3                1.5         NaN  ...       682.78                 NaN   \n",
       "4                2.5         NaN  ...      5886.92                 NaN   \n",
       "\n",
       "   taxdelinquencyyear  censustractandblock  N-LivingAreaProp  N-ValueProp  \\\n",
       "0                 NaN         6.111002e+13          0.728530     1.500013   \n",
       "1                 NaN         6.111002e+13               NaN     1.500042   \n",
       "2                 NaN         6.111001e+13          0.167605     2.361880   \n",
       "3                 NaN         6.111001e+13          0.210000     2.635597   \n",
       "4                 NaN         6.111001e+13          0.381758     1.000000   \n",
       "\n",
       "   N-ValueRatio  Pool  logerror  month  \n",
       "0     95.188729     0    0.0953      1  \n",
       "1     92.852051     0    0.0198      3  \n",
       "2     80.881955     0    0.0060      5  \n",
       "3     92.143882     0   -0.0566      6  \n",
       "4     94.106935     0    0.0573      8  \n",
       "\n",
       "[5 rows x 64 columns]"
      ]
     },
     "execution_count": 7,
     "metadata": {},
     "output_type": "execute_result"
    }
   ],
   "source": [
    "data.head()"
   ]
  },
  {
   "cell_type": "markdown",
   "metadata": {},
   "source": [
    "### Feature pipeline "
   ]
  },
  {
   "cell_type": "code",
   "execution_count": 8,
   "metadata": {
    "collapsed": true
   },
   "outputs": [],
   "source": [
    "# Setup variables considered in the model\n",
    "\n",
    "\n",
    "# numerical variables\n",
    "num_atts = ['bathroomcnt','bedroomcnt','buildingqualitytypeid','calculatedbathnbr','finishedfloor1squarefeet',\n",
    "           'calculatedfinishedsquarefeet','finishedsquarefeet12','finishedsquarefeet13',\n",
    "           'finishedsquarefeet15','finishedsquarefeet50','finishedsquarefeet6','fireplacecnt',\n",
    "           'fullbathcnt','garagecarcnt','garagetotalsqft','latitude','longitude','lotsizesquarefeet',\n",
    "           'poolcnt','poolsizesum','censustractandblock','roomcnt','threequarterbathnbr','unitcnt',\n",
    "           'yardbuildingsqft17','yardbuildingsqft26','numberofstories',\n",
    "            'structuretaxvaluedollarcnt','taxvaluedollarcnt','landtaxvaluedollarcnt','taxamount',\n",
    "           'N-ValueRatio', 'N-LivingAreaProp', 'N-ValueProp']\n",
    "\n",
    "# categorical varaibles\n",
    "cat_atts = ['airconditioningtypeid','architecturalstyletypeid',\n",
    "           'buildingclasstypeid','heatingorsystemtypeid','pooltypeid10','pooltypeid2',\n",
    "            'pooltypeid7','propertylandusetypeid','regionidcounty',\n",
    "           'storytypeid','typeconstructiontypeid','yearbuilt','fireplaceflag',\n",
    "           'taxdelinquencyflag']\n",
    "\n",
    "# Dictionary of categorical variables and their default levels\n",
    "cat_dict = {key:value for key,value in {'airconditioningtypeid':[-1] + list(range(1,14)),\n",
    "           'architecturalstyletypeid':[-1] + list(range(1,28)),\n",
    "           'buildingclasstypeid':[-1] + list(range(1,6)),\n",
    "            'heatingorsystemtypeid':[-1] + list(range(1,26)),\n",
    "            'pooltypeid10': list(range(-1,2)),\n",
    "            'pooltypeid2': list(range(-1,2)),\n",
    "            'pooltypeid7': list(range(-1,2)),\n",
    "            'Pool': [0,1],\n",
    "            'propertylandusetypeid': [-1, 31,46,47,246,247,248,260,261,262,263,264,265,266,267,268,269,270,271,\n",
    "                                     273,274,275,276,279,290,291],\n",
    "            'regionidcounty': [2061,3101,1286],\n",
    "            'storytypeid':[-1] + list(range(1,36)),\n",
    "            'typeconstructiontypeid':[-1] + list(range(1,19)),\n",
    "            'yearbuilt': [-1] + list(range(1885,2018)),\n",
    "            'fireplaceflag': [-1] + ['True','False'],\n",
    "            'taxdelinquencyflag': [-1] + ['Y','N']\n",
    "           }.items() if key in cat_atts}"
   ]
  },
  {
   "cell_type": "code",
   "execution_count": 9,
   "metadata": {
    "collapsed": false
   },
   "outputs": [],
   "source": [
    "# Categorical pipeline\n",
    "cat_pipeline = Pipeline([\n",
    "        ('select_and_dummify', pipes.DF_Selector_GetDummies(cat_dict)),\n",
    "    ])\n",
    "\n",
    "# Numerical pipeline\n",
    "num_pipeline = Pipeline([\n",
    "        ('selector', pipes.DataFrameSelector(num_atts)),\n",
    "        ('imputer', Imputer()),\n",
    "        ('scaler', StandardScaler())\n",
    "    ])\n",
    "\n",
    "# Full pipeline\n",
    "feature_pipeline = FeatureUnion(transformer_list=[\n",
    "        (\"num_pipeline\", num_pipeline),\n",
    "        (\"cat_pipeline\", cat_pipeline)\n",
    "    ])"
   ]
  },
  {
   "cell_type": "code",
   "execution_count": 10,
   "metadata": {
    "collapsed": false
   },
   "outputs": [
    {
     "data": {
      "text/plain": [
       "FeatureUnion(n_jobs=1,\n",
       "       transformer_list=[('num_pipeline', Pipeline(memory=None,\n",
       "     steps=[('selector', DataFrameSelector(desired_cols=['bathroomcnt', 'bedroomcnt', 'buildingqualitytypeid', 'calculatedbathnbr', 'finishedfloor1squarefeet', 'calculatedfinishedsquarefeet', 'finishedsquarefeet12', 'finishedsquarefeet13', 'fi... 3, 4, 5, 6, 7, 8, 9, 10, 11, 12, 13, 14, 15, 16, 17, 18, 19, 20, 21, 22, 23, 24, 25, 26, 27]}))]))],\n",
       "       transformer_weights=None)"
      ]
     },
     "execution_count": 10,
     "metadata": {},
     "output_type": "execute_result"
    }
   ],
   "source": [
    "feature_pipeline.fit(data)"
   ]
  },
  {
   "cell_type": "markdown",
   "metadata": {},
   "source": [
    "### Reading in level-one data"
   ]
  },
  {
   "cell_type": "code",
   "execution_count": 10,
   "metadata": {
    "collapsed": false
   },
   "outputs": [],
   "source": [
    "l1data_rfs = pd.read_csv(\"/home/anerdi/Desktop/Zillow/levelonedata/l1data_twostage_rfs.csv.gz\")\n",
    "l1data_rfs_last_fold = pd.read_csv(\"/home/anerdi/Desktop/Zillow/levelonedata/l1data_twostage_rfs_last_fold.csv.gz\")\n",
    "l1data_rfs[~l1data_rfs_last_fold.isnull().any(axis=1)] = l1data_rfs_last_fold[~l1data_rfs_last_fold.isnull().any(axis=1)]"
   ]
  },
  {
   "cell_type": "code",
   "execution_count": 11,
   "metadata": {
    "collapsed": true
   },
   "outputs": [],
   "source": [
    "l1data_linear_models = pd.read_csv(\"/home/anerdi/Desktop/Zillow/levelonedata/l1data_twostage_linear_models.csv.gz\")\n",
    "l1data_linear_models_last_fold = pd.read_csv(\"/home/anerdi/Desktop/Zillow/levelonedata/l1data_twostage_linear_models_last_fold.csv.gz\")\n",
    "l1data_linear_models[~l1data_linear_models_last_fold.isnull().any(axis=1)] = l1data_linear_models_last_fold[~l1data_linear_models_last_fold.isnull().any(axis=1)]"
   ]
  },
  {
   "cell_type": "code",
   "execution_count": 12,
   "metadata": {
    "collapsed": true
   },
   "outputs": [],
   "source": [
    "assert l1data_rfs.isnull().any().any() == False\n",
    "assert l1data_linear_models.isnull().any().any() == False"
   ]
  },
  {
   "cell_type": "code",
   "execution_count": 13,
   "metadata": {
    "collapsed": false
   },
   "outputs": [],
   "source": [
    "l1data = pd.concat([l1data_linear_models, l1data_rfs.iloc[:,1:], data[['logerror']]], axis=1)\n",
    "# l1data = pd.merge(l1data, data[['parcelid','logerror']], on = 'parcelid')"
   ]
  },
  {
   "cell_type": "code",
   "execution_count": 14,
   "metadata": {
    "collapsed": false
   },
   "outputs": [
    {
     "data": {
      "text/html": [
       "<div>\n",
       "<style>\n",
       "    .dataframe thead tr:only-child th {\n",
       "        text-align: right;\n",
       "    }\n",
       "\n",
       "    .dataframe thead th {\n",
       "        text-align: left;\n",
       "    }\n",
       "\n",
       "    .dataframe tbody tr th {\n",
       "        vertical-align: top;\n",
       "    }\n",
       "</style>\n",
       "<table border=\"1\" class=\"dataframe\">\n",
       "  <thead>\n",
       "    <tr style=\"text-align: right;\">\n",
       "      <th></th>\n",
       "      <th>parcelid</th>\n",
       "      <th>stacked_rfs_ridge</th>\n",
       "      <th>stacked_rfs_enet</th>\n",
       "      <th>stacked_rfs_lasso</th>\n",
       "      <th>stacked_rfs_larm</th>\n",
       "      <th>stacked_rfs_huber</th>\n",
       "      <th>stacked_annrfs_ridge</th>\n",
       "      <th>stacked_annrfs_enet</th>\n",
       "      <th>stacked_annrfs_lasso</th>\n",
       "      <th>stacked_annrfs_larm</th>\n",
       "      <th>...</th>\n",
       "      <th>logistic_lasso</th>\n",
       "      <th>logistic_larm</th>\n",
       "      <th>logistic_huber</th>\n",
       "      <th>stacked_rfs_rf</th>\n",
       "      <th>stacked_rfs_rf_overfit</th>\n",
       "      <th>stacked_annrfs_rf</th>\n",
       "      <th>stacked_annrfs_rf_overfit</th>\n",
       "      <th>logistic_rf</th>\n",
       "      <th>logistic_rf_overfit</th>\n",
       "      <th>logerror</th>\n",
       "    </tr>\n",
       "  </thead>\n",
       "  <tbody>\n",
       "    <tr>\n",
       "      <th>0</th>\n",
       "      <td>17073783</td>\n",
       "      <td>0.025002</td>\n",
       "      <td>0.025769</td>\n",
       "      <td>0.025975</td>\n",
       "      <td>0.027605</td>\n",
       "      <td>0.014742</td>\n",
       "      <td>0.019534</td>\n",
       "      <td>0.019900</td>\n",
       "      <td>0.020049</td>\n",
       "      <td>0.021077</td>\n",
       "      <td>...</td>\n",
       "      <td>0.019235</td>\n",
       "      <td>0.020180</td>\n",
       "      <td>0.010799</td>\n",
       "      <td>0.027581</td>\n",
       "      <td>0.010398</td>\n",
       "      <td>0.021530</td>\n",
       "      <td>0.001875</td>\n",
       "      <td>0.020700</td>\n",
       "      <td>0.000704</td>\n",
       "      <td>0.0953</td>\n",
       "    </tr>\n",
       "    <tr>\n",
       "      <th>1</th>\n",
       "      <td>17088994</td>\n",
       "      <td>0.006159</td>\n",
       "      <td>0.005356</td>\n",
       "      <td>0.005382</td>\n",
       "      <td>0.005274</td>\n",
       "      <td>0.001147</td>\n",
       "      <td>0.008189</td>\n",
       "      <td>0.007427</td>\n",
       "      <td>0.007508</td>\n",
       "      <td>0.007728</td>\n",
       "      <td>...</td>\n",
       "      <td>0.010329</td>\n",
       "      <td>0.010983</td>\n",
       "      <td>0.002344</td>\n",
       "      <td>0.003360</td>\n",
       "      <td>0.002142</td>\n",
       "      <td>0.005626</td>\n",
       "      <td>0.004083</td>\n",
       "      <td>0.008633</td>\n",
       "      <td>0.006657</td>\n",
       "      <td>0.0198</td>\n",
       "    </tr>\n",
       "    <tr>\n",
       "      <th>2</th>\n",
       "      <td>17100444</td>\n",
       "      <td>0.012560</td>\n",
       "      <td>0.011415</td>\n",
       "      <td>0.011473</td>\n",
       "      <td>0.012517</td>\n",
       "      <td>0.006989</td>\n",
       "      <td>0.016708</td>\n",
       "      <td>0.015655</td>\n",
       "      <td>0.015737</td>\n",
       "      <td>0.017069</td>\n",
       "      <td>...</td>\n",
       "      <td>0.003872</td>\n",
       "      <td>0.004402</td>\n",
       "      <td>0.002371</td>\n",
       "      <td>0.017957</td>\n",
       "      <td>0.021037</td>\n",
       "      <td>0.022626</td>\n",
       "      <td>0.027900</td>\n",
       "      <td>0.009633</td>\n",
       "      <td>0.008801</td>\n",
       "      <td>0.0060</td>\n",
       "    </tr>\n",
       "    <tr>\n",
       "      <th>3</th>\n",
       "      <td>17102429</td>\n",
       "      <td>0.012187</td>\n",
       "      <td>0.010573</td>\n",
       "      <td>0.010593</td>\n",
       "      <td>0.010734</td>\n",
       "      <td>0.008559</td>\n",
       "      <td>0.020839</td>\n",
       "      <td>0.018793</td>\n",
       "      <td>0.018779</td>\n",
       "      <td>0.019272</td>\n",
       "      <td>...</td>\n",
       "      <td>0.010884</td>\n",
       "      <td>0.011038</td>\n",
       "      <td>0.008804</td>\n",
       "      <td>0.016854</td>\n",
       "      <td>0.023223</td>\n",
       "      <td>0.025292</td>\n",
       "      <td>0.032122</td>\n",
       "      <td>0.017155</td>\n",
       "      <td>0.023540</td>\n",
       "      <td>-0.0566</td>\n",
       "    </tr>\n",
       "    <tr>\n",
       "      <th>4</th>\n",
       "      <td>17109604</td>\n",
       "      <td>0.018297</td>\n",
       "      <td>0.017662</td>\n",
       "      <td>0.017683</td>\n",
       "      <td>0.015205</td>\n",
       "      <td>0.014209</td>\n",
       "      <td>0.015999</td>\n",
       "      <td>0.015345</td>\n",
       "      <td>0.015373</td>\n",
       "      <td>0.012650</td>\n",
       "      <td>...</td>\n",
       "      <td>0.020298</td>\n",
       "      <td>0.018098</td>\n",
       "      <td>0.016877</td>\n",
       "      <td>0.015216</td>\n",
       "      <td>0.023369</td>\n",
       "      <td>0.013065</td>\n",
       "      <td>0.021301</td>\n",
       "      <td>0.017652</td>\n",
       "      <td>0.025711</td>\n",
       "      <td>0.0573</td>\n",
       "    </tr>\n",
       "  </tbody>\n",
       "</table>\n",
       "<p>5 rows × 23 columns</p>\n",
       "</div>"
      ],
      "text/plain": [
       "   parcelid  stacked_rfs_ridge  stacked_rfs_enet  stacked_rfs_lasso  \\\n",
       "0  17073783           0.025002          0.025769           0.025975   \n",
       "1  17088994           0.006159          0.005356           0.005382   \n",
       "2  17100444           0.012560          0.011415           0.011473   \n",
       "3  17102429           0.012187          0.010573           0.010593   \n",
       "4  17109604           0.018297          0.017662           0.017683   \n",
       "\n",
       "   stacked_rfs_larm  stacked_rfs_huber  stacked_annrfs_ridge  \\\n",
       "0          0.027605           0.014742              0.019534   \n",
       "1          0.005274           0.001147              0.008189   \n",
       "2          0.012517           0.006989              0.016708   \n",
       "3          0.010734           0.008559              0.020839   \n",
       "4          0.015205           0.014209              0.015999   \n",
       "\n",
       "   stacked_annrfs_enet  stacked_annrfs_lasso  stacked_annrfs_larm    ...     \\\n",
       "0             0.019900              0.020049             0.021077    ...      \n",
       "1             0.007427              0.007508             0.007728    ...      \n",
       "2             0.015655              0.015737             0.017069    ...      \n",
       "3             0.018793              0.018779             0.019272    ...      \n",
       "4             0.015345              0.015373             0.012650    ...      \n",
       "\n",
       "   logistic_lasso  logistic_larm  logistic_huber  stacked_rfs_rf  \\\n",
       "0        0.019235       0.020180        0.010799        0.027581   \n",
       "1        0.010329       0.010983        0.002344        0.003360   \n",
       "2        0.003872       0.004402        0.002371        0.017957   \n",
       "3        0.010884       0.011038        0.008804        0.016854   \n",
       "4        0.020298       0.018098        0.016877        0.015216   \n",
       "\n",
       "   stacked_rfs_rf_overfit  stacked_annrfs_rf  stacked_annrfs_rf_overfit  \\\n",
       "0                0.010398           0.021530                   0.001875   \n",
       "1                0.002142           0.005626                   0.004083   \n",
       "2                0.021037           0.022626                   0.027900   \n",
       "3                0.023223           0.025292                   0.032122   \n",
       "4                0.023369           0.013065                   0.021301   \n",
       "\n",
       "   logistic_rf  logistic_rf_overfit  logerror  \n",
       "0     0.020700             0.000704    0.0953  \n",
       "1     0.008633             0.006657    0.0198  \n",
       "2     0.009633             0.008801    0.0060  \n",
       "3     0.017155             0.023540   -0.0566  \n",
       "4     0.017652             0.025711    0.0573  \n",
       "\n",
       "[5 rows x 23 columns]"
      ]
     },
     "execution_count": 14,
     "metadata": {},
     "output_type": "execute_result"
    }
   ],
   "source": [
    "l1data.head()"
   ]
  },
  {
   "cell_type": "code",
   "execution_count": 15,
   "metadata": {
    "collapsed": false
   },
   "outputs": [
    {
     "data": {
      "text/plain": [
       "True"
      ]
     },
     "execution_count": 15,
     "metadata": {},
     "output_type": "execute_result"
    }
   ],
   "source": [
    "(l1data.parcelid == data.parcelid).all()"
   ]
  },
  {
   "cell_type": "code",
   "execution_count": 16,
   "metadata": {
    "collapsed": false
   },
   "outputs": [
    {
     "data": {
      "text/plain": [
       "(90275, 23)"
      ]
     },
     "execution_count": 16,
     "metadata": {},
     "output_type": "execute_result"
    }
   ],
   "source": [
    "l1data.shape"
   ]
  },
  {
   "cell_type": "markdown",
   "metadata": {},
   "source": [
    "### Heuristic for finding weights "
   ]
  },
  {
   "cell_type": "markdown",
   "metadata": {},
   "source": [
    "#### Stand Alones"
   ]
  },
  {
   "cell_type": "code",
   "execution_count": 18,
   "metadata": {
    "collapsed": true
   },
   "outputs": [],
   "source": [
    "# Set up quadratic objective function\n",
    "X = l1data[['logistic_lasso', 'stacked_rfs_lasso', 'stacked_annrfs_lasso']].values\n",
    "y = l1data.logerror.values"
   ]
  },
  {
   "cell_type": "code",
   "execution_count": 19,
   "metadata": {
    "collapsed": true
   },
   "outputs": [],
   "source": [
    "abserror = abs(X-np.tile(l1data.logerror.values[:,np.newaxis],X.shape[1]))"
   ]
  },
  {
   "cell_type": "code",
   "execution_count": 20,
   "metadata": {
    "collapsed": false
   },
   "outputs": [],
   "source": [
    "wins = np.array([(abserror[:,i] == np.min(abserror, axis=1)).sum() for i in range(X.shape[1])])"
   ]
  },
  {
   "cell_type": "code",
   "execution_count": 21,
   "metadata": {
    "collapsed": false
   },
   "outputs": [
    {
     "data": {
      "text/plain": [
       "array([ 0.332473  ,  0.36443091,  0.3030961 ])"
      ]
     },
     "execution_count": 21,
     "metadata": {},
     "output_type": "execute_result"
    }
   ],
   "source": [
    "wins / wins.sum()"
   ]
  },
  {
   "cell_type": "markdown",
   "metadata": {},
   "source": [
    "#### All models"
   ]
  },
  {
   "cell_type": "code",
   "execution_count": 18,
   "metadata": {
    "collapsed": false
   },
   "outputs": [],
   "source": [
    "X = l1data[[\n",
    "        'logistic_ridge', 'stacked_rfs_ridge', 'stacked_annrfs_ridge',\n",
    "        'logistic_enet', 'stacked_rfs_enet', 'stacked_annrfs_enet',\n",
    "        'logistic_lasso', 'stacked_rfs_lasso', 'stacked_annrfs_lasso',\n",
    "        'logistic_larm', 'stacked_rfs_larm', 'stacked_annrfs_larm',\n",
    "        'logistic_huber', 'stacked_rfs_huber', 'stacked_annrfs_huber',\n",
    "        'logistic_rf', 'stacked_annrfs_rf',\n",
    "    ]]"
   ]
  },
  {
   "cell_type": "code",
   "execution_count": 19,
   "metadata": {
    "collapsed": true
   },
   "outputs": [],
   "source": [
    "abserror = abs(X.values-np.tile(l1data.logerror.values[:,np.newaxis],X.shape[1]))"
   ]
  },
  {
   "cell_type": "code",
   "execution_count": 20,
   "metadata": {
    "collapsed": false
   },
   "outputs": [
    {
     "data": {
      "text/plain": [
       "array([ 0.0548103 ,  0.07566879,  0.05380227,  0.00758793,  0.01014677,\n",
       "        0.01029078,  0.00775408,  0.01422321,  0.01433398,  0.06360565,\n",
       "        0.08515093,  0.04684575,  0.11919136,  0.15139297,  0.10489061,\n",
       "        0.08592634,  0.09437829])"
      ]
     },
     "execution_count": 20,
     "metadata": {},
     "output_type": "execute_result"
    }
   ],
   "source": [
    "wins = np.array([(abserror[:,i] == np.min(abserror, axis=1)).sum() for i in range(X.shape[1])])\n",
    "wins/wins.sum()"
   ]
  },
  {
   "cell_type": "code",
   "execution_count": 21,
   "metadata": {
    "collapsed": false
   },
   "outputs": [],
   "source": [
    "ridge_wins = wins[:3].sum()\n",
    "enet_wins = wins[3:6].sum()\n",
    "lasso_wins = wins[6:9].sum()\n",
    "larm_wins = wins[9:12].sum()\n",
    "huber_wins = wins[12:15].sum()\n",
    "rf_wins = wins[15:].sum()"
   ]
  },
  {
   "cell_type": "code",
   "execution_count": 22,
   "metadata": {
    "collapsed": false
   },
   "outputs": [
    {
     "data": {
      "text/plain": [
       "array([ 0.18428136,  0.02802548,  0.03631127,  0.19560233,  0.37547494,\n",
       "        0.18030462])"
      ]
     },
     "execution_count": 22,
     "metadata": {},
     "output_type": "execute_result"
    }
   ],
   "source": [
    "np.array([ridge_wins, enet_wins, lasso_wins, larm_wins, huber_wins, rf_wins]) / wins.sum() "
   ]
  },
  {
   "cell_type": "markdown",
   "metadata": {},
   "source": [
    "### Finding weights via classification "
   ]
  },
  {
   "cell_type": "code",
   "execution_count": 23,
   "metadata": {
    "collapsed": false
   },
   "outputs": [],
   "source": [
    "newy = np.argmin(abserror, axis =1)"
   ]
  },
  {
   "cell_type": "code",
   "execution_count": 24,
   "metadata": {
    "collapsed": false
   },
   "outputs": [],
   "source": [
    "from sklearn.ensemble import RandomForestClassifier"
   ]
  },
  {
   "cell_type": "code",
   "execution_count": 25,
   "metadata": {
    "collapsed": false
   },
   "outputs": [],
   "source": [
    "clf = RandomForestClassifier(max_depth=15, random_state=9)"
   ]
  },
  {
   "cell_type": "code",
   "execution_count": 26,
   "metadata": {
    "collapsed": false
   },
   "outputs": [],
   "source": [
    "assert (l1data.parcelid == data.parcelid).all()"
   ]
  },
  {
   "cell_type": "code",
   "execution_count": 28,
   "metadata": {
    "collapsed": false
   },
   "outputs": [
    {
     "data": {
      "text/plain": [
       "RandomForestClassifier(bootstrap=True, class_weight=None, criterion='gini',\n",
       "            max_depth=15, max_features='auto', max_leaf_nodes=None,\n",
       "            min_impurity_decrease=0.0, min_impurity_split=None,\n",
       "            min_samples_leaf=1, min_samples_split=2,\n",
       "            min_weight_fraction_leaf=0.0, n_estimators=10, n_jobs=1,\n",
       "            oob_score=False, random_state=9, verbose=0, warm_start=False)"
      ]
     },
     "execution_count": 28,
     "metadata": {},
     "output_type": "execute_result"
    }
   ],
   "source": [
    "clf.fit(feature_pipeline.transform(data),newy)"
   ]
  },
  {
   "cell_type": "code",
   "execution_count": 29,
   "metadata": {
    "collapsed": false
   },
   "outputs": [
    {
     "data": {
      "text/plain": [
       "0.49331487122680701"
      ]
     },
     "execution_count": 29,
     "metadata": {},
     "output_type": "execute_result"
    }
   ],
   "source": [
    "clf.score(feature_pipeline.transform(data), newy)"
   ]
  },
  {
   "cell_type": "code",
   "execution_count": 30,
   "metadata": {
    "collapsed": false
   },
   "outputs": [
    {
     "data": {
      "text/plain": [
       "(90275, 17)"
      ]
     },
     "execution_count": 30,
     "metadata": {},
     "output_type": "execute_result"
    }
   ],
   "source": [
    "clf.predict_proba(feature_pipeline.transform(data)).shape"
   ]
  },
  {
   "cell_type": "markdown",
   "metadata": {},
   "source": [
    "### Using classifier to find weights for test set"
   ]
  },
  {
   "cell_type": "code",
   "execution_count": 31,
   "metadata": {
    "collapsed": false
   },
   "outputs": [],
   "source": [
    "test_probs = generate_test_probs(clf, col_names= X.columns)"
   ]
  },
  {
   "cell_type": "code",
   "execution_count": 32,
   "metadata": {
    "collapsed": false
   },
   "outputs": [
    {
     "data": {
      "text/html": [
       "<div>\n",
       "<style>\n",
       "    .dataframe thead tr:only-child th {\n",
       "        text-align: right;\n",
       "    }\n",
       "\n",
       "    .dataframe thead th {\n",
       "        text-align: left;\n",
       "    }\n",
       "\n",
       "    .dataframe tbody tr th {\n",
       "        vertical-align: top;\n",
       "    }\n",
       "</style>\n",
       "<table border=\"1\" class=\"dataframe\">\n",
       "  <thead>\n",
       "    <tr style=\"text-align: right;\">\n",
       "      <th></th>\n",
       "      <th>logistic_ridge</th>\n",
       "      <th>stacked_rfs_ridge</th>\n",
       "      <th>stacked_annrfs_ridge</th>\n",
       "      <th>logistic_enet</th>\n",
       "      <th>stacked_rfs_enet</th>\n",
       "      <th>stacked_annrfs_enet</th>\n",
       "      <th>logistic_lasso</th>\n",
       "      <th>stacked_rfs_lasso</th>\n",
       "      <th>stacked_annrfs_lasso</th>\n",
       "      <th>logistic_larm</th>\n",
       "      <th>stacked_rfs_larm</th>\n",
       "      <th>stacked_annrfs_larm</th>\n",
       "      <th>logistic_huber</th>\n",
       "      <th>stacked_rfs_huber</th>\n",
       "      <th>stacked_annrfs_huber</th>\n",
       "      <th>logistic_rf</th>\n",
       "      <th>stacked_annrfs_rf</th>\n",
       "    </tr>\n",
       "  </thead>\n",
       "  <tbody>\n",
       "    <tr>\n",
       "      <th>0</th>\n",
       "      <td>0.007355</td>\n",
       "      <td>0.100739</td>\n",
       "      <td>0.158308</td>\n",
       "      <td>0.001051</td>\n",
       "      <td>0.000631</td>\n",
       "      <td>0.007289</td>\n",
       "      <td>0.000420</td>\n",
       "      <td>0.001051</td>\n",
       "      <td>0.010492</td>\n",
       "      <td>0.217057</td>\n",
       "      <td>0.139652</td>\n",
       "      <td>0.025602</td>\n",
       "      <td>0.040900</td>\n",
       "      <td>0.093722</td>\n",
       "      <td>0.010023</td>\n",
       "      <td>0.030267</td>\n",
       "      <td>0.155442</td>\n",
       "    </tr>\n",
       "    <tr>\n",
       "      <th>1</th>\n",
       "      <td>0.004067</td>\n",
       "      <td>0.184438</td>\n",
       "      <td>0.259696</td>\n",
       "      <td>0.000631</td>\n",
       "      <td>0.002805</td>\n",
       "      <td>0.009463</td>\n",
       "      <td>0.000000</td>\n",
       "      <td>0.000631</td>\n",
       "      <td>0.015891</td>\n",
       "      <td>0.115598</td>\n",
       "      <td>0.015985</td>\n",
       "      <td>0.017721</td>\n",
       "      <td>0.054912</td>\n",
       "      <td>0.066187</td>\n",
       "      <td>0.012354</td>\n",
       "      <td>0.031405</td>\n",
       "      <td>0.208218</td>\n",
       "    </tr>\n",
       "    <tr>\n",
       "      <th>2</th>\n",
       "      <td>0.029282</td>\n",
       "      <td>0.154869</td>\n",
       "      <td>0.118130</td>\n",
       "      <td>0.005509</td>\n",
       "      <td>0.012550</td>\n",
       "      <td>0.010865</td>\n",
       "      <td>0.000977</td>\n",
       "      <td>0.007131</td>\n",
       "      <td>0.021389</td>\n",
       "      <td>0.061594</td>\n",
       "      <td>0.047243</td>\n",
       "      <td>0.108395</td>\n",
       "      <td>0.068472</td>\n",
       "      <td>0.109226</td>\n",
       "      <td>0.048469</td>\n",
       "      <td>0.121715</td>\n",
       "      <td>0.074182</td>\n",
       "    </tr>\n",
       "    <tr>\n",
       "      <th>3</th>\n",
       "      <td>0.034645</td>\n",
       "      <td>0.389110</td>\n",
       "      <td>0.120437</td>\n",
       "      <td>0.000000</td>\n",
       "      <td>0.003903</td>\n",
       "      <td>0.005722</td>\n",
       "      <td>0.000897</td>\n",
       "      <td>0.009448</td>\n",
       "      <td>0.004376</td>\n",
       "      <td>0.038493</td>\n",
       "      <td>0.049261</td>\n",
       "      <td>0.046813</td>\n",
       "      <td>0.054961</td>\n",
       "      <td>0.127891</td>\n",
       "      <td>0.030066</td>\n",
       "      <td>0.045489</td>\n",
       "      <td>0.038490</td>\n",
       "    </tr>\n",
       "    <tr>\n",
       "      <th>4</th>\n",
       "      <td>0.065170</td>\n",
       "      <td>0.096882</td>\n",
       "      <td>0.070753</td>\n",
       "      <td>0.010120</td>\n",
       "      <td>0.002928</td>\n",
       "      <td>0.005813</td>\n",
       "      <td>0.001720</td>\n",
       "      <td>0.017875</td>\n",
       "      <td>0.012238</td>\n",
       "      <td>0.104917</td>\n",
       "      <td>0.058063</td>\n",
       "      <td>0.023602</td>\n",
       "      <td>0.139482</td>\n",
       "      <td>0.186229</td>\n",
       "      <td>0.085185</td>\n",
       "      <td>0.054248</td>\n",
       "      <td>0.064776</td>\n",
       "    </tr>\n",
       "  </tbody>\n",
       "</table>\n",
       "</div>"
      ],
      "text/plain": [
       "   logistic_ridge  stacked_rfs_ridge  stacked_annrfs_ridge  logistic_enet  \\\n",
       "0        0.007355           0.100739              0.158308       0.001051   \n",
       "1        0.004067           0.184438              0.259696       0.000631   \n",
       "2        0.029282           0.154869              0.118130       0.005509   \n",
       "3        0.034645           0.389110              0.120437       0.000000   \n",
       "4        0.065170           0.096882              0.070753       0.010120   \n",
       "\n",
       "   stacked_rfs_enet  stacked_annrfs_enet  logistic_lasso  stacked_rfs_lasso  \\\n",
       "0          0.000631             0.007289        0.000420           0.001051   \n",
       "1          0.002805             0.009463        0.000000           0.000631   \n",
       "2          0.012550             0.010865        0.000977           0.007131   \n",
       "3          0.003903             0.005722        0.000897           0.009448   \n",
       "4          0.002928             0.005813        0.001720           0.017875   \n",
       "\n",
       "   stacked_annrfs_lasso  logistic_larm  stacked_rfs_larm  stacked_annrfs_larm  \\\n",
       "0              0.010492       0.217057          0.139652             0.025602   \n",
       "1              0.015891       0.115598          0.015985             0.017721   \n",
       "2              0.021389       0.061594          0.047243             0.108395   \n",
       "3              0.004376       0.038493          0.049261             0.046813   \n",
       "4              0.012238       0.104917          0.058063             0.023602   \n",
       "\n",
       "   logistic_huber  stacked_rfs_huber  stacked_annrfs_huber  logistic_rf  \\\n",
       "0        0.040900           0.093722              0.010023     0.030267   \n",
       "1        0.054912           0.066187              0.012354     0.031405   \n",
       "2        0.068472           0.109226              0.048469     0.121715   \n",
       "3        0.054961           0.127891              0.030066     0.045489   \n",
       "4        0.139482           0.186229              0.085185     0.054248   \n",
       "\n",
       "   stacked_annrfs_rf  \n",
       "0           0.155442  \n",
       "1           0.208218  \n",
       "2           0.074182  \n",
       "3           0.038490  \n",
       "4           0.064776  "
      ]
     },
     "execution_count": 32,
     "metadata": {},
     "output_type": "execute_result"
    }
   ],
   "source": [
    "test_probs.head()"
   ]
  },
  {
   "cell_type": "code",
   "execution_count": 33,
   "metadata": {
    "collapsed": false
   },
   "outputs": [
    {
     "data": {
      "text/html": [
       "<div>\n",
       "<style>\n",
       "    .dataframe thead tr:only-child th {\n",
       "        text-align: right;\n",
       "    }\n",
       "\n",
       "    .dataframe thead th {\n",
       "        text-align: left;\n",
       "    }\n",
       "\n",
       "    .dataframe tbody tr th {\n",
       "        vertical-align: top;\n",
       "    }\n",
       "</style>\n",
       "<table border=\"1\" class=\"dataframe\">\n",
       "  <thead>\n",
       "    <tr style=\"text-align: right;\">\n",
       "      <th></th>\n",
       "      <th>logistic_ridge</th>\n",
       "      <th>stacked_rfs_ridge</th>\n",
       "      <th>stacked_annrfs_ridge</th>\n",
       "      <th>logistic_enet</th>\n",
       "      <th>stacked_rfs_enet</th>\n",
       "      <th>stacked_annrfs_enet</th>\n",
       "      <th>logistic_lasso</th>\n",
       "      <th>stacked_rfs_lasso</th>\n",
       "      <th>stacked_annrfs_lasso</th>\n",
       "      <th>logistic_larm</th>\n",
       "      <th>stacked_rfs_larm</th>\n",
       "      <th>stacked_annrfs_larm</th>\n",
       "      <th>logistic_huber</th>\n",
       "      <th>stacked_rfs_huber</th>\n",
       "      <th>stacked_annrfs_huber</th>\n",
       "      <th>logistic_rf</th>\n",
       "      <th>stacked_annrfs_rf</th>\n",
       "    </tr>\n",
       "  </thead>\n",
       "  <tbody>\n",
       "    <tr>\n",
       "      <th>count</th>\n",
       "      <td>2.985217e+06</td>\n",
       "      <td>2.985217e+06</td>\n",
       "      <td>2.985217e+06</td>\n",
       "      <td>2.985217e+06</td>\n",
       "      <td>2.985217e+06</td>\n",
       "      <td>2.985217e+06</td>\n",
       "      <td>2.985217e+06</td>\n",
       "      <td>2.985217e+06</td>\n",
       "      <td>2.985217e+06</td>\n",
       "      <td>2.985217e+06</td>\n",
       "      <td>2.985217e+06</td>\n",
       "      <td>2.985217e+06</td>\n",
       "      <td>2.985217e+06</td>\n",
       "      <td>2.985217e+06</td>\n",
       "      <td>2.985217e+06</td>\n",
       "      <td>2.985217e+06</td>\n",
       "      <td>2.985217e+06</td>\n",
       "    </tr>\n",
       "    <tr>\n",
       "      <th>mean</th>\n",
       "      <td>5.775269e-02</td>\n",
       "      <td>8.331603e-02</td>\n",
       "      <td>5.766916e-02</td>\n",
       "      <td>7.339208e-03</td>\n",
       "      <td>9.988314e-03</td>\n",
       "      <td>9.923883e-03</td>\n",
       "      <td>7.431505e-03</td>\n",
       "      <td>1.360287e-02</td>\n",
       "      <td>1.417965e-02</td>\n",
       "      <td>5.537879e-02</td>\n",
       "      <td>7.836422e-02</td>\n",
       "      <td>4.342092e-02</td>\n",
       "      <td>1.161741e-01</td>\n",
       "      <td>1.535175e-01</td>\n",
       "      <td>9.665806e-02</td>\n",
       "      <td>8.788004e-02</td>\n",
       "      <td>1.074031e-01</td>\n",
       "    </tr>\n",
       "    <tr>\n",
       "      <th>std</th>\n",
       "      <td>6.131835e-02</td>\n",
       "      <td>6.437139e-02</td>\n",
       "      <td>4.374424e-02</td>\n",
       "      <td>1.041509e-02</td>\n",
       "      <td>1.322385e-02</td>\n",
       "      <td>1.263183e-02</td>\n",
       "      <td>1.110726e-02</td>\n",
       "      <td>2.026178e-02</td>\n",
       "      <td>2.135837e-02</td>\n",
       "      <td>5.504736e-02</td>\n",
       "      <td>6.546399e-02</td>\n",
       "      <td>5.006003e-02</td>\n",
       "      <td>8.966077e-02</td>\n",
       "      <td>8.974504e-02</td>\n",
       "      <td>6.242869e-02</td>\n",
       "      <td>5.980993e-02</td>\n",
       "      <td>9.739627e-02</td>\n",
       "    </tr>\n",
       "    <tr>\n",
       "      <th>min</th>\n",
       "      <td>0.000000e+00</td>\n",
       "      <td>0.000000e+00</td>\n",
       "      <td>0.000000e+00</td>\n",
       "      <td>0.000000e+00</td>\n",
       "      <td>0.000000e+00</td>\n",
       "      <td>0.000000e+00</td>\n",
       "      <td>0.000000e+00</td>\n",
       "      <td>0.000000e+00</td>\n",
       "      <td>0.000000e+00</td>\n",
       "      <td>0.000000e+00</td>\n",
       "      <td>0.000000e+00</td>\n",
       "      <td>0.000000e+00</td>\n",
       "      <td>0.000000e+00</td>\n",
       "      <td>0.000000e+00</td>\n",
       "      <td>0.000000e+00</td>\n",
       "      <td>0.000000e+00</td>\n",
       "      <td>0.000000e+00</td>\n",
       "    </tr>\n",
       "    <tr>\n",
       "      <th>25%</th>\n",
       "      <td>1.882056e-02</td>\n",
       "      <td>3.765338e-02</td>\n",
       "      <td>2.772986e-02</td>\n",
       "      <td>3.151278e-03</td>\n",
       "      <td>4.022800e-03</td>\n",
       "      <td>4.030665e-03</td>\n",
       "      <td>3.274133e-03</td>\n",
       "      <td>5.091901e-03</td>\n",
       "      <td>4.074169e-03</td>\n",
       "      <td>1.956505e-02</td>\n",
       "      <td>3.322622e-02</td>\n",
       "      <td>1.260307e-02</td>\n",
       "      <td>4.899401e-02</td>\n",
       "      <td>8.224593e-02</td>\n",
       "      <td>4.606598e-02</td>\n",
       "      <td>4.546019e-02</td>\n",
       "      <td>4.068885e-02</td>\n",
       "    </tr>\n",
       "    <tr>\n",
       "      <th>50%</th>\n",
       "      <td>3.710211e-02</td>\n",
       "      <td>6.231460e-02</td>\n",
       "      <td>4.671575e-02</td>\n",
       "      <td>5.080467e-03</td>\n",
       "      <td>6.759626e-03</td>\n",
       "      <td>6.651474e-03</td>\n",
       "      <td>5.115391e-03</td>\n",
       "      <td>8.281845e-03</td>\n",
       "      <td>7.321175e-03</td>\n",
       "      <td>3.553183e-02</td>\n",
       "      <td>6.101468e-02</td>\n",
       "      <td>2.337199e-02</td>\n",
       "      <td>8.714901e-02</td>\n",
       "      <td>1.325674e-01</td>\n",
       "      <td>9.046875e-02</td>\n",
       "      <td>7.097932e-02</td>\n",
       "      <td>6.593021e-02</td>\n",
       "    </tr>\n",
       "    <tr>\n",
       "      <th>75%</th>\n",
       "      <td>7.337125e-02</td>\n",
       "      <td>1.090162e-01</td>\n",
       "      <td>7.343286e-02</td>\n",
       "      <td>7.808747e-03</td>\n",
       "      <td>1.126530e-02</td>\n",
       "      <td>1.088747e-02</td>\n",
       "      <td>7.814584e-03</td>\n",
       "      <td>1.426276e-02</td>\n",
       "      <td>1.499253e-02</td>\n",
       "      <td>6.856758e-02</td>\n",
       "      <td>9.807472e-02</td>\n",
       "      <td>5.500596e-02</td>\n",
       "      <td>1.563572e-01</td>\n",
       "      <td>2.178830e-01</td>\n",
       "      <td>1.352005e-01</td>\n",
       "      <td>1.147402e-01</td>\n",
       "      <td>1.411197e-01</td>\n",
       "    </tr>\n",
       "    <tr>\n",
       "      <th>max</th>\n",
       "      <td>6.637873e-01</td>\n",
       "      <td>7.425046e-01</td>\n",
       "      <td>6.887326e-01</td>\n",
       "      <td>3.693994e-01</td>\n",
       "      <td>6.266189e-01</td>\n",
       "      <td>5.149061e-01</td>\n",
       "      <td>5.053965e-01</td>\n",
       "      <td>6.773827e-01</td>\n",
       "      <td>5.902781e-01</td>\n",
       "      <td>6.683476e-01</td>\n",
       "      <td>7.776557e-01</td>\n",
       "      <td>8.123815e-01</td>\n",
       "      <td>7.601706e-01</td>\n",
       "      <td>7.876841e-01</td>\n",
       "      <td>5.949216e-01</td>\n",
       "      <td>8.579327e-01</td>\n",
       "      <td>8.378932e-01</td>\n",
       "    </tr>\n",
       "  </tbody>\n",
       "</table>\n",
       "</div>"
      ],
      "text/plain": [
       "       logistic_ridge  stacked_rfs_ridge  stacked_annrfs_ridge  logistic_enet  \\\n",
       "count    2.985217e+06       2.985217e+06          2.985217e+06   2.985217e+06   \n",
       "mean     5.775269e-02       8.331603e-02          5.766916e-02   7.339208e-03   \n",
       "std      6.131835e-02       6.437139e-02          4.374424e-02   1.041509e-02   \n",
       "min      0.000000e+00       0.000000e+00          0.000000e+00   0.000000e+00   \n",
       "25%      1.882056e-02       3.765338e-02          2.772986e-02   3.151278e-03   \n",
       "50%      3.710211e-02       6.231460e-02          4.671575e-02   5.080467e-03   \n",
       "75%      7.337125e-02       1.090162e-01          7.343286e-02   7.808747e-03   \n",
       "max      6.637873e-01       7.425046e-01          6.887326e-01   3.693994e-01   \n",
       "\n",
       "       stacked_rfs_enet  stacked_annrfs_enet  logistic_lasso  \\\n",
       "count      2.985217e+06         2.985217e+06    2.985217e+06   \n",
       "mean       9.988314e-03         9.923883e-03    7.431505e-03   \n",
       "std        1.322385e-02         1.263183e-02    1.110726e-02   \n",
       "min        0.000000e+00         0.000000e+00    0.000000e+00   \n",
       "25%        4.022800e-03         4.030665e-03    3.274133e-03   \n",
       "50%        6.759626e-03         6.651474e-03    5.115391e-03   \n",
       "75%        1.126530e-02         1.088747e-02    7.814584e-03   \n",
       "max        6.266189e-01         5.149061e-01    5.053965e-01   \n",
       "\n",
       "       stacked_rfs_lasso  stacked_annrfs_lasso  logistic_larm  \\\n",
       "count       2.985217e+06          2.985217e+06   2.985217e+06   \n",
       "mean        1.360287e-02          1.417965e-02   5.537879e-02   \n",
       "std         2.026178e-02          2.135837e-02   5.504736e-02   \n",
       "min         0.000000e+00          0.000000e+00   0.000000e+00   \n",
       "25%         5.091901e-03          4.074169e-03   1.956505e-02   \n",
       "50%         8.281845e-03          7.321175e-03   3.553183e-02   \n",
       "75%         1.426276e-02          1.499253e-02   6.856758e-02   \n",
       "max         6.773827e-01          5.902781e-01   6.683476e-01   \n",
       "\n",
       "       stacked_rfs_larm  stacked_annrfs_larm  logistic_huber  \\\n",
       "count      2.985217e+06         2.985217e+06    2.985217e+06   \n",
       "mean       7.836422e-02         4.342092e-02    1.161741e-01   \n",
       "std        6.546399e-02         5.006003e-02    8.966077e-02   \n",
       "min        0.000000e+00         0.000000e+00    0.000000e+00   \n",
       "25%        3.322622e-02         1.260307e-02    4.899401e-02   \n",
       "50%        6.101468e-02         2.337199e-02    8.714901e-02   \n",
       "75%        9.807472e-02         5.500596e-02    1.563572e-01   \n",
       "max        7.776557e-01         8.123815e-01    7.601706e-01   \n",
       "\n",
       "       stacked_rfs_huber  stacked_annrfs_huber   logistic_rf  \\\n",
       "count       2.985217e+06          2.985217e+06  2.985217e+06   \n",
       "mean        1.535175e-01          9.665806e-02  8.788004e-02   \n",
       "std         8.974504e-02          6.242869e-02  5.980993e-02   \n",
       "min         0.000000e+00          0.000000e+00  0.000000e+00   \n",
       "25%         8.224593e-02          4.606598e-02  4.546019e-02   \n",
       "50%         1.325674e-01          9.046875e-02  7.097932e-02   \n",
       "75%         2.178830e-01          1.352005e-01  1.147402e-01   \n",
       "max         7.876841e-01          5.949216e-01  8.579327e-01   \n",
       "\n",
       "       stacked_annrfs_rf  \n",
       "count       2.985217e+06  \n",
       "mean        1.074031e-01  \n",
       "std         9.739627e-02  \n",
       "min         0.000000e+00  \n",
       "25%         4.068885e-02  \n",
       "50%         6.593021e-02  \n",
       "75%         1.411197e-01  \n",
       "max         8.378932e-01  "
      ]
     },
     "execution_count": 33,
     "metadata": {},
     "output_type": "execute_result"
    }
   ],
   "source": [
    "test_probs.describe()"
   ]
  },
  {
   "cell_type": "code",
   "execution_count": 34,
   "metadata": {
    "collapsed": true
   },
   "outputs": [],
   "source": [
    "test_probs.to_csv(\"/home/anerdi/Desktop/Zillow/levelonedata/super_learner_weights_2.csv.gz\", compression='gzip',\n",
    "                 index=False)"
   ]
  },
  {
   "cell_type": "markdown",
   "metadata": {},
   "source": [
    "### Assessing performance of models with extreme points"
   ]
  },
  {
   "cell_type": "code",
   "execution_count": 146,
   "metadata": {
    "collapsed": false
   },
   "outputs": [],
   "source": [
    "Xextreme = X[np.where((l1data.logerror <= -2) | (l1data.logerror >= 2))[0],:]"
   ]
  },
  {
   "cell_type": "code",
   "execution_count": 140,
   "metadata": {
    "collapsed": false
   },
   "outputs": [],
   "source": [
    "extreme_logerrors = l1data.iloc[np.where((l1data.logerror <= -2) | (l1data.logerror >= 2))[0],:].logerror.values[:,np.newaxis]"
   ]
  },
  {
   "cell_type": "code",
   "execution_count": 148,
   "metadata": {
    "collapsed": false
   },
   "outputs": [],
   "source": [
    "extreme_abserror = abs(Xextreme-np.tile(extreme_logerrors,Xextreme.shape[1]))"
   ]
  },
  {
   "cell_type": "code",
   "execution_count": 151,
   "metadata": {
    "collapsed": false
   },
   "outputs": [
    {
     "data": {
      "text/plain": [
       "array([ 2.55365065,  2.54774629,  2.54912892,  2.5542268 ,  2.54937705,\n",
       "        2.55064732,  2.55432623,  2.54927759,  2.55057871,  2.55465447,\n",
       "        2.54918357,  2.55058782,  2.55315009,  2.55187126,  2.55255297,\n",
       "        2.55306334,  2.54588748])"
      ]
     },
     "execution_count": 151,
     "metadata": {},
     "output_type": "execute_result"
    }
   ],
   "source": [
    "extreme_abserror.mean(axis=0)"
   ]
  },
  {
   "cell_type": "markdown",
   "metadata": {},
   "source": [
    "### Finding optimal weights using NNs"
   ]
  },
  {
   "cell_type": "code",
   "execution_count": 13,
   "metadata": {
    "collapsed": false
   },
   "outputs": [
    {
     "data": {
      "text/plain": [
       "Index(['parcelid', 'stacked_rfs_ridge', 'stacked_rfs_enet',\n",
       "       'stacked_rfs_lasso', 'stacked_rfs_larm', 'stacked_rfs_huber',\n",
       "       'stacked_annrfs_ridge', 'stacked_annrfs_enet', 'stacked_annrfs_lasso',\n",
       "       'stacked_annrfs_larm', 'stacked_annrfs_huber', 'logistic_ridge',\n",
       "       'logistic_enet', 'logistic_lasso', 'logistic_larm', 'logistic_huber',\n",
       "       'stacked_rfs_rf', 'stacked_rfs_rf_overfit', 'stacked_annrfs_rf',\n",
       "       'stacked_annrfs_rf_overfit', 'logistic_rf', 'logistic_rf_overfit',\n",
       "       'logerror'],\n",
       "      dtype='object')"
      ]
     },
     "execution_count": 13,
     "metadata": {},
     "output_type": "execute_result"
    }
   ],
   "source": [
    "l1data.columns"
   ]
  },
  {
   "cell_type": "code",
   "execution_count": 23,
   "metadata": {
    "collapsed": false
   },
   "outputs": [],
   "source": [
    "X = l1data[[\n",
    "    'logistic_ridge',\n",
    " 'stacked_rfs_ridge',\n",
    " 'stacked_annrfs_ridge']].values\n",
    "\n",
    "y = l1data.logerror.values"
   ]
  },
  {
   "cell_type": "code",
   "execution_count": 24,
   "metadata": {
    "collapsed": true
   },
   "outputs": [],
   "source": [
    "from sklearn.neural_network import MLPRegressor"
   ]
  },
  {
   "cell_type": "code",
   "execution_count": 40,
   "metadata": {
    "collapsed": true
   },
   "outputs": [],
   "source": [
    "stack = MLPRegressor(hidden_layer_sizes=(10,10),random_state=9, max_iter=300, early_stopping=True)"
   ]
  },
  {
   "cell_type": "code",
   "execution_count": 41,
   "metadata": {
    "collapsed": false
   },
   "outputs": [
    {
     "data": {
      "text/plain": [
       "MLPRegressor(activation='relu', alpha=0.0001, batch_size='auto', beta_1=0.9,\n",
       "       beta_2=0.999, early_stopping=True, epsilon=1e-08,\n",
       "       hidden_layer_sizes=(10, 10), learning_rate='constant',\n",
       "       learning_rate_init=0.001, max_iter=300, momentum=0.9,\n",
       "       nesterovs_momentum=True, power_t=0.5, random_state=9, shuffle=True,\n",
       "       solver='adam', tol=0.0001, validation_fraction=0.1, verbose=False,\n",
       "       warm_start=False)"
      ]
     },
     "execution_count": 41,
     "metadata": {},
     "output_type": "execute_result"
    }
   ],
   "source": [
    "stack.fit(X,y)"
   ]
  },
  {
   "cell_type": "code",
   "execution_count": 42,
   "metadata": {
    "collapsed": true
   },
   "outputs": [],
   "source": [
    "preds = stack.predict(X)"
   ]
  },
  {
   "cell_type": "code",
   "execution_count": 43,
   "metadata": {
    "collapsed": false
   },
   "outputs": [],
   "source": [
    "new_submission = DataFrame({'ParcelId': l1data['parcelid'],\n",
    "                           '201610':preds,\n",
    "                           '201611':preds,\n",
    "                           '201612':preds,\n",
    "})\n",
    "new_submission['201710'] = 0\n",
    "new_submission['201711'] = 0\n",
    "new_submission['201712'] = 0"
   ]
  },
  {
   "cell_type": "code",
   "execution_count": 44,
   "metadata": {
    "collapsed": false
   },
   "outputs": [
    {
     "data": {
      "text/plain": [
       "(0.06241616765085067,\n",
       " 0.062246095856333956,\n",
       " 0.07335353272780508,\n",
       " 0.064614821512161927)"
      ]
     },
     "execution_count": 44,
     "metadata": {},
     "output_type": "execute_result"
    }
   ],
   "source": [
    "mean_absolute_errors(new_submission,data)"
   ]
  },
  {
   "cell_type": "markdown",
   "metadata": {},
   "source": [
    "### Pickle the NN"
   ]
  },
  {
   "cell_type": "code",
   "execution_count": 21,
   "metadata": {
    "collapsed": true
   },
   "outputs": [],
   "source": [
    "from sklearn.externals import joblib"
   ]
  },
  {
   "cell_type": "code",
   "execution_count": 45,
   "metadata": {
    "collapsed": false
   },
   "outputs": [
    {
     "data": {
      "text/plain": [
       "['/home/anerdi/Desktop/Zillow/submissions/stage2_stacked_NN_ridge.pkl']"
      ]
     },
     "execution_count": 45,
     "metadata": {},
     "output_type": "execute_result"
    }
   ],
   "source": [
    "joblib.dump(stack, '/home/anerdi/Desktop/Zillow/submissions/stage2_stacked_NN_ridge.pkl') "
   ]
  },
  {
   "cell_type": "code",
   "execution_count": null,
   "metadata": {
    "collapsed": true
   },
   "outputs": [],
   "source": []
  }
 ],
 "metadata": {
  "kernelspec": {
   "display_name": "Python 3",
   "language": "python",
   "name": "python3"
  },
  "language_info": {
   "codemirror_mode": {
    "name": "ipython",
    "version": 3
   },
   "file_extension": ".py",
   "mimetype": "text/x-python",
   "name": "python",
   "nbconvert_exporter": "python",
   "pygments_lexer": "ipython3",
   "version": "3.5.4"
  }
 },
 "nbformat": 4,
 "nbformat_minor": 0
}
