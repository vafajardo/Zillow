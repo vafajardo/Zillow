{
 "cells": [
  {
   "cell_type": "code",
   "execution_count": 1,
   "metadata": {
    "collapsed": true
   },
   "outputs": [],
   "source": [
    "import pandas as pd\n",
    "from pandas import DataFrame,Series\n",
    "import numpy as np\n",
    "import os\n",
    "import datetime\n",
    "\n",
    "#Plotting\n",
    "import matplotlib.pyplot as plt\n",
    "import matplotlib.gridspec as gridspec\n",
    "%matplotlib inline\n",
    "\n",
    "# sklearn stuff\n",
    "from sklearn.model_selection import GridSearchCV, cross_val_score\n",
    "from sklearn.metrics import confusion_matrix, mean_squared_error, precision_score\n",
    "from sklearn.preprocessing import StandardScaler, OneHotEncoder, LabelEncoder, Imputer \n",
    "from sklearn.pipeline import Pipeline, FeatureUnion\n",
    "from sklearn.base import BaseEstimator, TransformerMixin\n",
    "\n",
    "import feature_pipelines as pipes"
   ]
  },
  {
   "cell_type": "markdown",
   "metadata": {},
   "source": [
    "### Reading in data"
   ]
  },
  {
   "cell_type": "code",
   "execution_count": 2,
   "metadata": {
    "collapsed": false
   },
   "outputs": [],
   "source": [
    "maindir = \"/home/anerdi/Desktop/Zillow\"\n",
    "\n",
    "logerror = pd.read_csv(maindir + \"/data/train_2016_v2.csv/train_2016_v2.csv\")\n",
    "logerror['weeknumber'] = logerror['transactiondate'].apply(lambda x: datetime.datetime.strptime(x,'%Y-%m-%d').isocalendar()[1])\n",
    "logerror['month'] = logerror['transactiondate'].apply(lambda x: datetime.datetime.strptime(x,'%Y-%m-%d').month)\n",
    "properties = pd.read_csv(maindir + \"/data/properties_2016.csv/properties_2016.csv\", usecols=['parcelid'])"
   ]
  },
  {
   "cell_type": "code",
   "execution_count": 3,
   "metadata": {
    "collapsed": true
   },
   "outputs": [],
   "source": [
    "# join on parcel id\n",
    "data = pd.merge(properties,logerror[['parcelid','logerror','month']], on='parcelid')"
   ]
  },
  {
   "cell_type": "code",
   "execution_count": 4,
   "metadata": {
    "collapsed": true
   },
   "outputs": [],
   "source": [
    "def mean_absolute_errors(submission_df, comparison_df):\n",
    "    \"\"\"\n",
    "    This function takes a submission entry for public leaderboard, and returns\n",
    "    the training error for each month.\n",
    "    \"\"\"\n",
    "    # training error\n",
    "    trainresults = pd.merge(submission_df[['ParcelId','201610','201611','201612']], comparison_df[['parcelid','logerror','month']],\n",
    "                           left_on='ParcelId', right_on='parcelid')\n",
    "    oct_error = abs(trainresults[trainresults['month'] == 10]['201610'] \n",
    "                    - trainresults[trainresults['month'] == 10]['logerror']).mean()\n",
    "    nov_error = abs(trainresults[trainresults['month'] == 11]['201611'] \n",
    "                    - trainresults[trainresults['month'] == 11]['logerror']).mean()\n",
    "    dec_error = abs(trainresults[trainresults['month'] == 12]['201612'] \n",
    "                    - trainresults[trainresults['month'] == 12]['logerror']).mean()\n",
    "    overall_mae = (oct_error*(trainresults['month'] == 10).sum() + nov_error*(trainresults['month'] == 11).sum() \n",
    "                        + dec_error*(trainresults['month'] == 12).sum()) / (trainresults['month'].isin([10,11,12])).sum()\n",
    "    return (oct_error, nov_error, dec_error, overall_mae)"
   ]
  },
  {
   "cell_type": "markdown",
   "metadata": {},
   "source": [
    "### Readin stage 1 classification results "
   ]
  },
  {
   "cell_type": "code",
   "execution_count": 7,
   "metadata": {
    "collapsed": false
   },
   "outputs": [
    {
     "data": {
      "text/html": [
       "<div>\n",
       "<style>\n",
       "    .dataframe thead tr:only-child th {\n",
       "        text-align: right;\n",
       "    }\n",
       "\n",
       "    .dataframe thead th {\n",
       "        text-align: left;\n",
       "    }\n",
       "\n",
       "    .dataframe tbody tr th {\n",
       "        vertical-align: top;\n",
       "    }\n",
       "</style>\n",
       "<table border=\"1\" class=\"dataframe\">\n",
       "  <thead>\n",
       "    <tr style=\"text-align: right;\">\n",
       "      <th></th>\n",
       "      <th>parcelid</th>\n",
       "      <th>overestimate_prob</th>\n",
       "    </tr>\n",
       "  </thead>\n",
       "  <tbody>\n",
       "    <tr>\n",
       "      <th>0</th>\n",
       "      <td>10754147</td>\n",
       "      <td>0.509328</td>\n",
       "    </tr>\n",
       "    <tr>\n",
       "      <th>1</th>\n",
       "      <td>10759547</td>\n",
       "      <td>0.507312</td>\n",
       "    </tr>\n",
       "    <tr>\n",
       "      <th>2</th>\n",
       "      <td>10843547</td>\n",
       "      <td>1.000000</td>\n",
       "    </tr>\n",
       "    <tr>\n",
       "      <th>3</th>\n",
       "      <td>10859147</td>\n",
       "      <td>0.689618</td>\n",
       "    </tr>\n",
       "    <tr>\n",
       "      <th>4</th>\n",
       "      <td>10879947</td>\n",
       "      <td>0.543763</td>\n",
       "    </tr>\n",
       "  </tbody>\n",
       "</table>\n",
       "</div>"
      ],
      "text/plain": [
       "   parcelid  overestimate_prob\n",
       "0  10754147           0.509328\n",
       "1  10759547           0.507312\n",
       "2  10843547           1.000000\n",
       "3  10859147           0.689618\n",
       "4  10879947           0.543763"
      ]
     },
     "execution_count": 7,
     "metadata": {},
     "output_type": "execute_result"
    }
   ],
   "source": [
    "overestimate_probabilities = pd.read_csv(\"/home/anerdi/Desktop/Zillow/twostagemodel/overestimate_probs.csv.gz\",\n",
    "                                        compression='gzip')\n",
    "overestimate_probabilities.head()"
   ]
  },
  {
   "cell_type": "markdown",
   "metadata": {},
   "source": [
    "### Readin two-stage linear model predictions "
   ]
  },
  {
   "cell_type": "code",
   "execution_count": 9,
   "metadata": {
    "collapsed": false
   },
   "outputs": [
    {
     "data": {
      "text/html": [
       "<div>\n",
       "<style>\n",
       "    .dataframe thead tr:only-child th {\n",
       "        text-align: right;\n",
       "    }\n",
       "\n",
       "    .dataframe thead th {\n",
       "        text-align: left;\n",
       "    }\n",
       "\n",
       "    .dataframe tbody tr th {\n",
       "        vertical-align: top;\n",
       "    }\n",
       "</style>\n",
       "<table border=\"1\" class=\"dataframe\">\n",
       "  <thead>\n",
       "    <tr style=\"text-align: right;\">\n",
       "      <th></th>\n",
       "      <th>Unnamed: 0</th>\n",
       "      <th>parcelid</th>\n",
       "      <th>ridge_under</th>\n",
       "      <th>ridge_over</th>\n",
       "      <th>enet_under</th>\n",
       "      <th>enet_over</th>\n",
       "      <th>lasso_under</th>\n",
       "      <th>lasso_over</th>\n",
       "      <th>larm_under</th>\n",
       "      <th>larm_over</th>\n",
       "      <th>huber_under</th>\n",
       "      <th>huber_over</th>\n",
       "    </tr>\n",
       "  </thead>\n",
       "  <tbody>\n",
       "    <tr>\n",
       "      <th>0</th>\n",
       "      <td>0</td>\n",
       "      <td>10754147</td>\n",
       "      <td>-0.082879</td>\n",
       "      <td>0.084871</td>\n",
       "      <td>-0.068505</td>\n",
       "      <td>0.073578</td>\n",
       "      <td>-0.068225</td>\n",
       "      <td>0.073431</td>\n",
       "      <td>-0.064499</td>\n",
       "      <td>0.071395</td>\n",
       "      <td>-0.062623</td>\n",
       "      <td>0.063218</td>\n",
       "    </tr>\n",
       "    <tr>\n",
       "      <th>1</th>\n",
       "      <td>1</td>\n",
       "      <td>10759547</td>\n",
       "      <td>-0.082642</td>\n",
       "      <td>0.085475</td>\n",
       "      <td>-0.068505</td>\n",
       "      <td>0.073578</td>\n",
       "      <td>-0.068225</td>\n",
       "      <td>0.073431</td>\n",
       "      <td>-0.064499</td>\n",
       "      <td>0.071395</td>\n",
       "      <td>-0.062623</td>\n",
       "      <td>0.063218</td>\n",
       "    </tr>\n",
       "    <tr>\n",
       "      <th>2</th>\n",
       "      <td>2</td>\n",
       "      <td>10843547</td>\n",
       "      <td>-0.876458</td>\n",
       "      <td>0.930269</td>\n",
       "      <td>-0.414612</td>\n",
       "      <td>0.558336</td>\n",
       "      <td>-0.301205</td>\n",
       "      <td>0.457031</td>\n",
       "      <td>-0.064499</td>\n",
       "      <td>0.071395</td>\n",
       "      <td>-2.651653</td>\n",
       "      <td>2.897348</td>\n",
       "    </tr>\n",
       "    <tr>\n",
       "      <th>3</th>\n",
       "      <td>3</td>\n",
       "      <td>10859147</td>\n",
       "      <td>-0.124558</td>\n",
       "      <td>0.121058</td>\n",
       "      <td>-0.091456</td>\n",
       "      <td>0.098928</td>\n",
       "      <td>-0.087705</td>\n",
       "      <td>0.095834</td>\n",
       "      <td>-0.064499</td>\n",
       "      <td>0.071395</td>\n",
       "      <td>-0.171291</td>\n",
       "      <td>0.169290</td>\n",
       "    </tr>\n",
       "    <tr>\n",
       "      <th>4</th>\n",
       "      <td>4</td>\n",
       "      <td>10879947</td>\n",
       "      <td>-0.084374</td>\n",
       "      <td>0.083832</td>\n",
       "      <td>-0.068765</td>\n",
       "      <td>0.073467</td>\n",
       "      <td>-0.068667</td>\n",
       "      <td>0.073493</td>\n",
       "      <td>-0.064499</td>\n",
       "      <td>0.071395</td>\n",
       "      <td>-0.060274</td>\n",
       "      <td>0.059819</td>\n",
       "    </tr>\n",
       "  </tbody>\n",
       "</table>\n",
       "</div>"
      ],
      "text/plain": [
       "   Unnamed: 0  parcelid  ridge_under  ridge_over  enet_under  enet_over  \\\n",
       "0           0  10754147    -0.082879    0.084871   -0.068505   0.073578   \n",
       "1           1  10759547    -0.082642    0.085475   -0.068505   0.073578   \n",
       "2           2  10843547    -0.876458    0.930269   -0.414612   0.558336   \n",
       "3           3  10859147    -0.124558    0.121058   -0.091456   0.098928   \n",
       "4           4  10879947    -0.084374    0.083832   -0.068765   0.073467   \n",
       "\n",
       "   lasso_under  lasso_over  larm_under  larm_over  huber_under  huber_over  \n",
       "0    -0.068225    0.073431   -0.064499   0.071395    -0.062623    0.063218  \n",
       "1    -0.068225    0.073431   -0.064499   0.071395    -0.062623    0.063218  \n",
       "2    -0.301205    0.457031   -0.064499   0.071395    -2.651653    2.897348  \n",
       "3    -0.087705    0.095834   -0.064499   0.071395    -0.171291    0.169290  \n",
       "4    -0.068667    0.073493   -0.064499   0.071395    -0.060274    0.059819  "
      ]
     },
     "execution_count": 9,
     "metadata": {},
     "output_type": "execute_result"
    }
   ],
   "source": [
    "two_stage_linear_models = pd.read_csv(\"/home/anerdi/Desktop/Zillow/twostagemodel/two_stage_preds_linear_models.csv.gz\",\n",
    "                       compression='gzip')\n",
    "two_stage_linear_models.head()"
   ]
  },
  {
   "cell_type": "markdown",
   "metadata": {},
   "source": [
    "### Readin original linear models (i.e., one stage models) "
   ]
  },
  {
   "cell_type": "code",
   "execution_count": 13,
   "metadata": {
    "collapsed": false
   },
   "outputs": [],
   "source": [
    "ridge = pd.read_csv(\"/home/anerdi/Desktop/Zillow/submissions/Ridge.gz\")\n",
    "lasso = pd.read_csv(\"/home/anerdi/Desktop/Zillow/submissions/Lasso.gz\")\n",
    "enet = pd.read_csv(\"/home/anerdi/Desktop/Zillow/submissions/ElasticNet.gz\")\n",
    "larm = pd.read_csv(\"/home/anerdi/Desktop/Zillow/submissions/LARM.gz\")\n",
    "huber = pd.read_csv(\"/home/anerdi/Desktop/Zillow/submissions/Huber_noweight.gz\")"
   ]
  },
  {
   "cell_type": "code",
   "execution_count": 16,
   "metadata": {
    "collapsed": true
   },
   "outputs": [],
   "source": [
    "models = [\n",
    "    ('ridge', ridge),\n",
    "    ('lasso', lasso),\n",
    "    ('enet', enet),\n",
    "    ('larm', larm),\n",
    "    ('huber', huber)\n",
    "         ]"
   ]
  },
  {
   "cell_type": "markdown",
   "metadata": {},
   "source": [
    "### Combine preds & overestimate probabilities to generate one prediction "
   ]
  },
  {
   "cell_type": "code",
   "execution_count": 17,
   "metadata": {
    "collapsed": false
   },
   "outputs": [
    {
     "data": {
      "text/plain": [
       "count    2.985217e+06\n",
       "mean     5.605187e-01\n",
       "std      5.892519e-02\n",
       "min      6.101577e-42\n",
       "25%      5.224003e-01\n",
       "50%      5.547780e-01\n",
       "75%      5.938315e-01\n",
       "max      1.000000e+00\n",
       "Name: overestimate_prob, dtype: float64"
      ]
     },
     "execution_count": 17,
     "metadata": {},
     "output_type": "execute_result"
    }
   ],
   "source": [
    "overestimate_probabilities.overestimate_prob.describe()"
   ]
  },
  {
   "cell_type": "code",
   "execution_count": 76,
   "metadata": {
    "collapsed": true
   },
   "outputs": [],
   "source": [
    "# set cutoffs for when to use over/under estimate models\n",
    "underestimate_cutoff = 0.45\n",
    "overestimate_cutoff = 0.55"
   ]
  },
  {
   "cell_type": "code",
   "execution_count": 77,
   "metadata": {
    "collapsed": true
   },
   "outputs": [],
   "source": [
    "test_predictions = pd.merge(two_stage_linear_models, overestimate_probabilities, on='parcelid')"
   ]
  },
  {
   "cell_type": "code",
   "execution_count": 78,
   "metadata": {
    "collapsed": false
   },
   "outputs": [],
   "source": [
    "for model_pair in models:\n",
    "    model_name, single_stage_model_results = model_pair\n",
    "    \n",
    "    # combine over and under to get prediction (method 1 (M1): use only under/over models and estimated probs)\n",
    "    test_predictions[\"m1_%s\" % model_name] = (test_predictions['%s_over' % model_name]*test_predictions['overestimate_prob'] +\n",
    "                    test_predictions['%s_under' % model_name]*(1 - test_predictions['overestimate_prob']))\n",
    "    \n",
    "    # combine over and under to get prediction (method 2 (M2): use only under/over models and estimated probs)\n",
    "    test_predictions[\"m2_%s\" % model_name] = np.where(((test_predictions['overestimate_prob'] < underestimate_cutoff) | \n",
    "                                                      (test_predictions['overestimate_prob'] > overestimate_cutoff)),\n",
    "        test_predictions['m1_%s' % model_name],single_stage_model_results['201610'])\n",
    "    \n",
    "    \n",
    "#     # combine over and under to get prediction (method 2 (M2): use under/over models, estimated probs, and single-stage models)\n",
    "#     test_predictions[\"m2_%s\" % model_name] = ((test_predictions['overestimate_prob'] < underestimate_cutoff)*test_predictions['%s_under' % model_name] \n",
    "#         + (test_predictions['overestimate_prob'] > overestimate_cutoff)*test_predictions['%s_over' % model_name]\n",
    "#         + ((test_predictions['overestimate_prob'] >= underestimate_cutoff) | (test_predictions['overestimate_prob'] <= overestimate_cutoff))*single_stage_model_results['201610']\n",
    "#     )"
   ]
  },
  {
   "cell_type": "code",
   "execution_count": 79,
   "metadata": {
    "collapsed": false
   },
   "outputs": [
    {
     "data": {
      "text/html": [
       "<div>\n",
       "<style>\n",
       "    .dataframe thead tr:only-child th {\n",
       "        text-align: right;\n",
       "    }\n",
       "\n",
       "    .dataframe thead th {\n",
       "        text-align: left;\n",
       "    }\n",
       "\n",
       "    .dataframe tbody tr th {\n",
       "        vertical-align: top;\n",
       "    }\n",
       "</style>\n",
       "<table border=\"1\" class=\"dataframe\">\n",
       "  <thead>\n",
       "    <tr style=\"text-align: right;\">\n",
       "      <th></th>\n",
       "      <th>Unnamed: 0</th>\n",
       "      <th>parcelid</th>\n",
       "      <th>ridge_under</th>\n",
       "      <th>ridge_over</th>\n",
       "      <th>enet_under</th>\n",
       "      <th>enet_over</th>\n",
       "      <th>lasso_under</th>\n",
       "      <th>lasso_over</th>\n",
       "      <th>larm_under</th>\n",
       "      <th>larm_over</th>\n",
       "      <th>...</th>\n",
       "      <th>m1_ridge</th>\n",
       "      <th>m2_ridge</th>\n",
       "      <th>m1_lasso</th>\n",
       "      <th>m2_lasso</th>\n",
       "      <th>m1_enet</th>\n",
       "      <th>m2_enet</th>\n",
       "      <th>m1_larm</th>\n",
       "      <th>m2_larm</th>\n",
       "      <th>m1_huber</th>\n",
       "      <th>m2_huber</th>\n",
       "    </tr>\n",
       "  </thead>\n",
       "  <tbody>\n",
       "    <tr>\n",
       "      <th>0</th>\n",
       "      <td>0</td>\n",
       "      <td>10754147</td>\n",
       "      <td>-0.082879</td>\n",
       "      <td>0.084871</td>\n",
       "      <td>-0.068505</td>\n",
       "      <td>0.073578</td>\n",
       "      <td>-0.068225</td>\n",
       "      <td>0.073431</td>\n",
       "      <td>-0.064499</td>\n",
       "      <td>0.071395</td>\n",
       "      <td>...</td>\n",
       "      <td>0.002561</td>\n",
       "      <td>0.013410</td>\n",
       "      <td>0.003925</td>\n",
       "      <td>0.012270</td>\n",
       "      <td>0.003862</td>\n",
       "      <td>0.012430</td>\n",
       "      <td>0.004716</td>\n",
       "      <td>0.011460</td>\n",
       "      <td>0.001471</td>\n",
       "      <td>0.011120</td>\n",
       "    </tr>\n",
       "    <tr>\n",
       "      <th>1</th>\n",
       "      <td>1</td>\n",
       "      <td>10759547</td>\n",
       "      <td>-0.082642</td>\n",
       "      <td>0.085475</td>\n",
       "      <td>-0.068505</td>\n",
       "      <td>0.073578</td>\n",
       "      <td>-0.068225</td>\n",
       "      <td>0.073431</td>\n",
       "      <td>-0.064499</td>\n",
       "      <td>0.071395</td>\n",
       "      <td>...</td>\n",
       "      <td>0.002646</td>\n",
       "      <td>0.013380</td>\n",
       "      <td>0.003639</td>\n",
       "      <td>0.012230</td>\n",
       "      <td>0.003575</td>\n",
       "      <td>0.012400</td>\n",
       "      <td>0.004442</td>\n",
       "      <td>0.011460</td>\n",
       "      <td>0.001217</td>\n",
       "      <td>0.011120</td>\n",
       "    </tr>\n",
       "    <tr>\n",
       "      <th>2</th>\n",
       "      <td>2</td>\n",
       "      <td>10843547</td>\n",
       "      <td>-0.876458</td>\n",
       "      <td>0.930269</td>\n",
       "      <td>-0.414612</td>\n",
       "      <td>0.558336</td>\n",
       "      <td>-0.301205</td>\n",
       "      <td>0.457031</td>\n",
       "      <td>-0.064499</td>\n",
       "      <td>0.071395</td>\n",
       "      <td>...</td>\n",
       "      <td>0.930269</td>\n",
       "      <td>0.930269</td>\n",
       "      <td>0.457031</td>\n",
       "      <td>0.457031</td>\n",
       "      <td>0.558336</td>\n",
       "      <td>0.558336</td>\n",
       "      <td>0.071395</td>\n",
       "      <td>0.071395</td>\n",
       "      <td>2.897348</td>\n",
       "      <td>2.897348</td>\n",
       "    </tr>\n",
       "    <tr>\n",
       "      <th>3</th>\n",
       "      <td>3</td>\n",
       "      <td>10859147</td>\n",
       "      <td>-0.124558</td>\n",
       "      <td>0.121058</td>\n",
       "      <td>-0.091456</td>\n",
       "      <td>0.098928</td>\n",
       "      <td>-0.087705</td>\n",
       "      <td>0.095834</td>\n",
       "      <td>-0.064499</td>\n",
       "      <td>0.071395</td>\n",
       "      <td>...</td>\n",
       "      <td>0.044823</td>\n",
       "      <td>0.044823</td>\n",
       "      <td>0.038867</td>\n",
       "      <td>0.038867</td>\n",
       "      <td>0.039836</td>\n",
       "      <td>0.039836</td>\n",
       "      <td>0.029216</td>\n",
       "      <td>0.029216</td>\n",
       "      <td>0.063580</td>\n",
       "      <td>0.063580</td>\n",
       "    </tr>\n",
       "    <tr>\n",
       "      <th>4</th>\n",
       "      <td>4</td>\n",
       "      <td>10879947</td>\n",
       "      <td>-0.084374</td>\n",
       "      <td>0.083832</td>\n",
       "      <td>-0.068765</td>\n",
       "      <td>0.073467</td>\n",
       "      <td>-0.068667</td>\n",
       "      <td>0.073493</td>\n",
       "      <td>-0.064499</td>\n",
       "      <td>0.071395</td>\n",
       "      <td>...</td>\n",
       "      <td>0.007090</td>\n",
       "      <td>0.011380</td>\n",
       "      <td>0.008634</td>\n",
       "      <td>0.011710</td>\n",
       "      <td>0.008575</td>\n",
       "      <td>0.011660</td>\n",
       "      <td>0.009395</td>\n",
       "      <td>0.011460</td>\n",
       "      <td>0.005028</td>\n",
       "      <td>0.011110</td>\n",
       "    </tr>\n",
       "  </tbody>\n",
       "</table>\n",
       "<p>5 rows × 23 columns</p>\n",
       "</div>"
      ],
      "text/plain": [
       "   Unnamed: 0  parcelid  ridge_under  ridge_over  enet_under  enet_over  \\\n",
       "0           0  10754147    -0.082879    0.084871   -0.068505   0.073578   \n",
       "1           1  10759547    -0.082642    0.085475   -0.068505   0.073578   \n",
       "2           2  10843547    -0.876458    0.930269   -0.414612   0.558336   \n",
       "3           3  10859147    -0.124558    0.121058   -0.091456   0.098928   \n",
       "4           4  10879947    -0.084374    0.083832   -0.068765   0.073467   \n",
       "\n",
       "   lasso_under  lasso_over  larm_under  larm_over    ...     m1_ridge  \\\n",
       "0    -0.068225    0.073431   -0.064499   0.071395    ...     0.002561   \n",
       "1    -0.068225    0.073431   -0.064499   0.071395    ...     0.002646   \n",
       "2    -0.301205    0.457031   -0.064499   0.071395    ...     0.930269   \n",
       "3    -0.087705    0.095834   -0.064499   0.071395    ...     0.044823   \n",
       "4    -0.068667    0.073493   -0.064499   0.071395    ...     0.007090   \n",
       "\n",
       "   m2_ridge  m1_lasso  m2_lasso   m1_enet   m2_enet   m1_larm   m2_larm  \\\n",
       "0  0.013410  0.003925  0.012270  0.003862  0.012430  0.004716  0.011460   \n",
       "1  0.013380  0.003639  0.012230  0.003575  0.012400  0.004442  0.011460   \n",
       "2  0.930269  0.457031  0.457031  0.558336  0.558336  0.071395  0.071395   \n",
       "3  0.044823  0.038867  0.038867  0.039836  0.039836  0.029216  0.029216   \n",
       "4  0.011380  0.008634  0.011710  0.008575  0.011660  0.009395  0.011460   \n",
       "\n",
       "   m1_huber  m2_huber  \n",
       "0  0.001471  0.011120  \n",
       "1  0.001217  0.011120  \n",
       "2  2.897348  2.897348  \n",
       "3  0.063580  0.063580  \n",
       "4  0.005028  0.011110  \n",
       "\n",
       "[5 rows x 23 columns]"
      ]
     },
     "execution_count": 79,
     "metadata": {},
     "output_type": "execute_result"
    }
   ],
   "source": [
    "test_predictions.head()"
   ]
  },
  {
   "cell_type": "code",
   "execution_count": 80,
   "metadata": {
    "collapsed": false
   },
   "outputs": [
    {
     "name": "stdout",
     "output_type": "stream",
     "text": [
      "ridge using m1:\n",
      "(0.06321414914041831, 0.06228283305293353, 0.07486968327968478, 0.065387924683901949)\n",
      "\n",
      "ridge using m2:\n",
      "(0.06331441537626807, 0.06240150496898414, 0.0748224191314452, 0.065462090876918094)\n",
      "\n",
      "ridge using single-stage model:\n",
      "(0.06332056539983931, 0.06250535370657166, 0.07484831374353078, 0.065493145336361525)\n",
      "\n",
      "lasso using m1:\n",
      "(0.0632147075835896, 0.062161583884227004, 0.07480863987082337, 0.065349903600033454)\n",
      "\n",
      "lasso using m2:\n",
      "(0.06335959311236088, 0.062336798787411746, 0.07481908942573882, 0.065473903771645262)\n",
      "\n",
      "lasso using single-stage model:\n",
      "(0.06333524733775354, 0.06244184118291356, 0.07476208625646924, 0.065470568485132233)\n",
      "\n",
      "enet using m1:\n",
      "(0.06320760532770525, 0.06216216112227742, 0.07480489632595513, 0.065345126742695339)\n",
      "\n",
      "enet using m2:\n",
      "(0.06335601699098352, 0.06233357852848602, 0.0748064604284509, 0.065468560716719332)\n",
      "\n",
      "enet using single-stage model:\n",
      "(0.06332380630902144, 0.06246366413472067, 0.07474843300747566, 0.0654657878377429)\n",
      "\n",
      "larm using m1:\n",
      "(0.06324922187610137, 0.06221015016989878, 0.07484247083303468, 0.065387282634773947)\n",
      "\n",
      "larm using m2:\n",
      "(0.06341340883716222, 0.062412919830120255, 0.07484562828999022, 0.065526934557322516)\n",
      "\n",
      "larm using single-stage model:\n",
      "(0.06345773598553339, 0.06251769879518071, 0.07483130304772855, 0.065572243736829725)\n",
      "\n",
      "huber using m1:\n",
      "(0.06331228034161869, 0.06246400437485946, 0.0748494927188077, 0.065479718928440192)\n",
      "\n",
      "huber using m2:\n",
      "(0.06344090697702755, 0.06262838671039127, 0.07486409571054546, 0.0655927757666213)\n",
      "\n",
      "huber using single-stage model:\n",
      "(0.06360898332328704, 0.06264495071193858, 0.07490205865439907, 0.065701974947319067)\n",
      "\n"
     ]
    }
   ],
   "source": [
    "for model_pair in models:\n",
    "    model_name, single_stage_model = model_pair\n",
    "    \n",
    "    for method in ['m1','m2']:\n",
    "        new_submission = DataFrame({'ParcelId': test_predictions['parcelid'],\n",
    "                                   '201610':test_predictions[\"%s_%s\" % (method,model_name)],\n",
    "                                   '201611':test_predictions[\"%s_%s\" % (method,model_name)],\n",
    "                                   '201612':test_predictions[\"%s_%s\" % (method,model_name)],\n",
    "                                   '201710':test_predictions[\"%s_%s\" % (method,model_name)],\n",
    "                                   '201711':test_predictions[\"%s_%s\" % (method,model_name)],\n",
    "                                   '201712':test_predictions[\"%s_%s\" % (method,model_name)]})\n",
    "\n",
    "        print(\"%s using %s:\" % (model_name, method))\n",
    "        print(mean_absolute_errors(new_submission, data))\n",
    "        print(\"\")\n",
    "    print(\"%s using single-stage model:\" % (model_name))\n",
    "    print(mean_absolute_errors(single_stage_model, data))\n",
    "    print(\"\")"
   ]
  },
  {
   "cell_type": "code",
   "execution_count": null,
   "metadata": {
    "collapsed": true
   },
   "outputs": [],
   "source": []
  }
 ],
 "metadata": {
  "kernelspec": {
   "display_name": "Python 3",
   "language": "python",
   "name": "python3"
  },
  "language_info": {
   "codemirror_mode": {
    "name": "ipython",
    "version": 3
   },
   "file_extension": ".py",
   "mimetype": "text/x-python",
   "name": "python",
   "nbconvert_exporter": "python",
   "pygments_lexer": "ipython3",
   "version": "3.5.4"
  }
 },
 "nbformat": 4,
 "nbformat_minor": 0
}
